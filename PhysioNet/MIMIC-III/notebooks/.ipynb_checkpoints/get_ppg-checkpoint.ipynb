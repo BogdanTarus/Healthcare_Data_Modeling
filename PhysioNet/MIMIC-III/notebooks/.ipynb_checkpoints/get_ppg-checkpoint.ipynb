{
 "cells": [
  {
   "cell_type": "code",
   "execution_count": 2,
   "id": "8a34dc76",
   "metadata": {},
   "outputs": [],
   "source": [
    "import numpy as np\n",
    "import urllib3"
   ]
  },
  {
   "cell_type": "code",
   "execution_count": 3,
   "id": "cca6762c",
   "metadata": {},
   "outputs": [],
   "source": [
    "target_url = 'https://archive.physionet.org/physiobank/database/mimic3wdb/RECORDS'\n",
    "http     = urllib3.PoolManager()\n",
    "response = http.request('GET', target_url)\n",
    "data     = response.data.decode('utf-8')"
   ]
  },
  {
   "cell_type": "code",
   "execution_count": 13,
   "id": "57f89c16",
   "metadata": {},
   "outputs": [
    {
     "name": "stdout",
     "output_type": "stream",
     "text": [
      "<class 'numpy.ndarray'>\n",
      "67830\n",
      "(67830,)\n",
      "['30/3000003/' '30/3000031/' '30/3000051/' '30/3000060/' '30/3000063/']\n",
      "['39/3999944/' '39/3999953/' '39/3999968/' '39/3999986/' '39/3999988/']\n"
     ]
    }
   ],
   "source": [
    "records = np.array(data.splitlines())\n",
    "print(type(records))\n",
    "print(len(records))\n",
    "print(records.shape)\n",
    "print(records[:5])\n",
    "print(records[-5:])"
   ]
  },
  {
   "cell_type": "code",
   "execution_count": null,
   "id": "ad39b456",
   "metadata": {},
   "outputs": [],
   "source": []
  }
 ],
 "metadata": {
  "kernelspec": {
   "display_name": "Python 3 (ipykernel)",
   "language": "python",
   "name": "python3"
  },
  "language_info": {
   "codemirror_mode": {
    "name": "ipython",
    "version": 3
   },
   "file_extension": ".py",
   "mimetype": "text/x-python",
   "name": "python",
   "nbconvert_exporter": "python",
   "pygments_lexer": "ipython3",
   "version": "3.9.7"
  }
 },
 "nbformat": 4,
 "nbformat_minor": 5
}

{
 "cells": [
  {
   "cell_type": "code",
   "execution_count": 50,
   "id": "b30cb4f3",
   "metadata": {},
   "outputs": [],
   "source": [
    "import numpy as np\n",
    "import pandas as pd\n",
    "import os.path\n",
    "import urllib3"
   ]
  },
  {
   "cell_type": "code",
   "execution_count": 51,
   "id": "99833b7f",
   "metadata": {},
   "outputs": [
    {
     "name": "stdout",
     "output_type": "stream",
     "text": [
      "total 1592\r\n",
      "-rw-r--r--  1 tarus  staff  813960 Jan 12 23:29 records_mimic3.csv\r\n"
     ]
    }
   ],
   "source": [
    "!ls -l ../../../2_data/"
   ]
  },
  {
   "cell_type": "code",
   "execution_count": 52,
   "id": "892332cb",
   "metadata": {},
   "outputs": [],
   "source": [
    "records_local_path = '../../../2_data/records_mimic3.csv'\n",
    "records_url_root = 'https://archive.physionet.org/physiobank/database/mimic3wdb'\n",
    "records_url_path = records_url_root + '/RECORDS'\n",
    "\n",
    "if os.path.exists(records_local_path):\n",
    "    records = pd.read_csv(records_local_path, header=None)\n",
    "else:\n",
    "    target_url = records_url_path\n",
    "    http       = urllib3.PoolManager()\n",
    "    response   = http.request('GET', target_url)\n",
    "    data       = response.data.decode('utf-8')\n",
    "    records    = pd.DataFrame(data.splitlines())\n",
    "    records.to_csv(records_local_path, header=None, index=None)"
   ]
  },
  {
   "cell_type": "code",
   "execution_count": 53,
   "id": "6782fcd5",
   "metadata": {},
   "outputs": [
    {
     "name": "stdout",
     "output_type": "stream",
     "text": [
      "<class 'pandas.core.frame.DataFrame'>\n",
      "(67830, 1)\n",
      "             0\n",
      "0  30/3000003/\n",
      "1  30/3000031/\n",
      "2  30/3000051/\n",
      "3  30/3000060/\n",
      "4  30/3000063/\n",
      "                 0\n",
      "67825  39/3999944/\n",
      "67826  39/3999953/\n",
      "67827  39/3999968/\n",
      "67828  39/3999986/\n",
      "67829  39/3999988/\n"
     ]
    }
   ],
   "source": [
    "print(type(records))\n",
    "print(records.shape)\n",
    "print(records.head())\n",
    "print(records.tail())\n",
    "#print(records.iloc[:5,:])\n",
    "#print(records.iloc[-5:,:])"
   ]
  },
  {
   "cell_type": "code",
   "execution_count": 54,
   "id": "4a4a75c1",
   "metadata": {},
   "outputs": [
    {
     "name": "stdout",
     "output_type": "stream",
     "text": [
      "0    30/3000003/\n",
      "Name: 0, dtype: object\n"
     ]
    }
   ],
   "source": [
    "print(records.iloc[0,:])"
   ]
  },
  {
   "cell_type": "code",
   "execution_count": 55,
   "id": "92a1d752",
   "metadata": {},
   "outputs": [
    {
     "name": "stdout",
     "output_type": "stream",
     "text": [
      "0    39/3999988/\n",
      "Name: 67829, dtype: object\n"
     ]
    }
   ],
   "source": [
    "print(records.iloc[-1,:])"
   ]
  },
  {
   "cell_type": "markdown",
   "id": "3c38ca9b",
   "metadata": {},
   "source": [
    "**Find records containing PPG signal with length larger than 10 seconds**\n",
    "\n",
    "**Once such a record found, extract a valid PPG signal of 10s length**"
   ]
  },
  {
   "cell_type": "code",
   "execution_count": 90,
   "id": "6abc7149",
   "metadata": {},
   "outputs": [
    {
     "data": {
      "text/plain": [
       "'30/3000031/'"
      ]
     },
     "execution_count": 90,
     "metadata": {},
     "output_type": "execute_result"
    }
   ],
   "source": [
    "records.iloc[1,0]"
   ]
  },
  {
   "cell_type": "code",
   "execution_count": null,
   "id": "4d0d5df1",
   "metadata": {},
   "outputs": [],
   "source": []
  },
  {
   "cell_type": "code",
   "execution_count": null,
   "id": "528606b2",
   "metadata": {},
   "outputs": [],
   "source": []
  },
  {
   "cell_type": "code",
   "execution_count": 96,
   "id": "3f350bed",
   "metadata": {},
   "outputs": [
    {
     "name": "stdout",
     "output_type": "stream",
     "text": [
      "0\n",
      ".................\n",
      "                                         0\n",
      "0   3000003/23 5 125 18892500 19:44:07.664\n",
      "1                         3000003_layout 0\n",
      "2                       3000003_0001 16878\n",
      "3                         3000003_0002 384\n",
      "4                        3000003_0003 1028\n",
      "5                         3000003_0004 384\n",
      "6                      3000003_0005 438826\n",
      "7                        3000003_0006 4826\n",
      "8                     3000003_0007 2155174\n",
      "9                                   ~ 4077\n",
      "10                     3000003_0008 217500\n",
      "11                                ~ 450089\n",
      "12                     3000003_0009 877500\n",
      "13                                   ~ 365\n",
      "14                    3000003_0010 1343738\n",
      "15                          3000003_0011 4\n",
      "16                        3000003_0012 380\n",
      "17                     3000003_0013 523378\n",
      "18                    3000003_0014 2400000\n",
      "19                    3000003_0015 5212500\n",
      "20                                   ~ 300\n",
      "21                    3000003_0016 5145000\n",
      "22                      3000003_0017 97500\n",
      "23                                  ~ 2669\n",
      ".................\n",
      "                                     0\n",
      "0  3000003_layout 5 125 0 19:44:07.664\n",
      "1           ~ 0 50/mV 11 0 -1024 0 0 I\n",
      "2          ~ 0 72/mV 10 0 -2048 0 0 II\n",
      "3            ~ 0 24/mV 9 0 -2048 0 0 V\n",
      "4       ~ 0 1.25/mmHg 9 0 -256 0 0 ABP\n",
      "5           ~ 0 39/mV 10 0 -512 0 0 V+\n",
      ".................\n",
      "30/3000003/\n",
      "30\n",
      "3000003\n",
      "https://archive.physionet.org/physiobank/database/mimic3wdb/30/3000003/3000003.hea\n",
      "https://archive.physionet.org/physiobank/database/mimic3wdb/30/3000003/3000003_layout.hea\n",
      "-----------------\n",
      "1\n",
      ".................\n",
      "                                           0\n",
      "0                                     <html>\n",
      "1  <head><title>404 Not Found</title></head>\n",
      "2                     <body bgcolor=\"white\">\n",
      "3    <center><h1>404 Not Found</h1></center>\n",
      "4          <hr><center>nginx/1.10.3</center>\n",
      "5                                    </body>\n",
      "6                                    </html>\n",
      ".................\n",
      "                                           0\n",
      "0                                     <html>\n",
      "1  <head><title>404 Not Found</title></head>\n",
      "2                     <body bgcolor=\"white\">\n",
      "3    <center><h1>404 Not Found</h1></center>\n",
      "4          <hr><center>nginx/1.10.3</center>\n",
      "5                                    </body>\n",
      "6                                    </html>\n",
      ".................\n",
      "30/3000031/\n",
      "30\n",
      "3000031\n",
      "https://archive.physionet.org/physiobank/database/mimic3wdb/30/3000031/3000031.hea\n",
      "https://archive.physionet.org/physiobank/database/mimic3wdb/30/3000031/3000031_layout.hea\n",
      "-----------------\n",
      "2\n",
      ".................\n",
      "                                   0\n",
      "0  3000051/4 6 125 3500 02:44:42.144\n",
      "1                   3000051_layout 0\n",
      "2                  3000051_0001 2000\n",
      "3                   3000051_0002 250\n",
      "4                  3000051_0003 1250\n",
      "5                   # Location: nicu\n",
      ".................\n",
      "                                     0\n",
      "0  3000051_layout 6 125 0  2:44:42.144\n",
      "1       ~ 0 510(-256)/mV 10 0 0 0 0 II\n",
      "2   ~ 0 510(-257)/mV 11 0 -512 0 0 III\n",
      "3      ~ 0 510(-256)/mV 10 0 0 0 0 AVR\n",
      "4        ~ 0 510(-256)/mV 10 0 0 0 0 V\n",
      "5      ~ 0 177(-89)/pm 10 0 0 0 0 RESP\n",
      "6   ~ 0 1023(-512)/NU 10 0 0 0 0 PLETH\n",
      ".................\n",
      "30/3000051/\n",
      "30\n",
      "3000051\n",
      "https://archive.physionet.org/physiobank/database/mimic3wdb/30/3000051/3000051.hea\n",
      "https://archive.physionet.org/physiobank/database/mimic3wdb/30/3000051/3000051_layout.hea\n",
      "-----------------\n",
      "3\n",
      ".................\n",
      "                                         0\n",
      "0   3000060/21 2 125 24817500 08:42:47.000\n",
      "1                         3000060_layout 0\n",
      "2                       3000060_0001 37875\n",
      "3                      3000060_0002 347625\n",
      "4                         3000060_0003 125\n",
      "5                     3000060_0004 2354250\n",
      "6                         3000060_0005 125\n",
      "7                     3000060_0006 4137750\n",
      "8                         3000060_0007 125\n",
      "9                      3000060_0008 394750\n",
      "10                        3000060_0009 125\n",
      "11                   3000060_0010 10161125\n",
      "12                        3000060_0011 125\n",
      "13                     3000060_0012 688375\n",
      "14                        3000060_0013 125\n",
      "15                     3000060_0014 253125\n",
      "16                        3000060_0015 125\n",
      "17                     3000060_0016 252250\n",
      "18                        3000060_0017 125\n",
      "19                    3000060_0018 5892000\n",
      "20                        3000060_0019 125\n",
      "21                     3000060_0020 297250\n",
      "22                       # Location: tsicu\n",
      ".................\n",
      "                                     0\n",
      "0      3000060_layout 2 125 0  8:42:47\n",
      "1      ~ 0 128(-65)/mV 8 0 -128 0 0 II\n",
      "2  ~ 0 255(-128)/NU 8 0 -128 0 0 PLETH\n",
      ".................\n",
      "30/3000060/\n",
      "30\n",
      "3000060\n",
      "https://archive.physionet.org/physiobank/database/mimic3wdb/30/3000060/3000060.hea\n",
      "https://archive.physionet.org/physiobank/database/mimic3wdb/30/3000060/3000060_layout.hea\n",
      "-----------------\n",
      "4\n",
      ".................\n",
      "                                         0\n",
      "0   3000063/38 4 125 29783455 19:57:04.360\n",
      "1                         3000063_layout 0\n",
      "2                        3000063_0001 7830\n",
      "3                                    ~ 250\n",
      "4                         3000063_0002 750\n",
      "5                                    ~ 125\n",
      "6                        3000063_0003 1875\n",
      "7                                    ~ 250\n",
      "8                        3000063_0004 6375\n",
      "9                      3000063_0005 589375\n",
      "10                     3000063_0006 742015\n",
      "11                     3000063_0007 382110\n",
      "12                       3000063_0008 1750\n",
      "13                      3000063_0009 34568\n",
      "14                      3000063_0010 89344\n",
      "15                     3000063_0011 357504\n",
      "16                      3000063_0012 74624\n",
      "17                     3000063_0013 120448\n",
      "18                     3000063_0014 276224\n",
      "19                     3000063_0015 277376\n",
      "20                    3000063_0016 1001537\n",
      "21                       3000063_0017 2750\n",
      "22                     3000063_0018 604033\n",
      "23                     3000063_0019 112000\n",
      "24                    3000063_0020 4773842\n",
      "25                      3000063_0021 10000\n",
      "26                    3000063_0022 5847070\n",
      "27                    3000063_0023 1417305\n",
      "28                      3000063_0024 66375\n",
      "29                    3000063_0025 2395875\n",
      "30                       3000063_0026 7875\n",
      "31                       3000063_0027 6875\n",
      "32                      3000063_0028 12663\n",
      "33                    3000063_0029 8849712\n",
      "34                      3000063_0030 43125\n",
      "35                      3000063_0031 46299\n",
      "36                       3000063_0032 7576\n",
      "37                    3000063_0033 1373750\n",
      "38                     3000063_0034 242000\n",
      "39                       # Location: tsicu\n",
      ".................\n",
      "                                       0\n",
      "0    3000063_layout 4 125 0 19:57:04.360\n",
      "1    ~ 0 255(-128)/NU 8 0 -128 0 0 PLETH\n",
      "2       ~ 0 127(-64)/mV 8 0 -128 0 0 III\n",
      "3             ~ 0 128/mV 9 0 -256 0 0 II\n",
      "4  ~ 0 3.88(-395)/mmHg 10 0 -512 0 0 ABP\n",
      ".................\n",
      "30/3000063/\n",
      "30\n",
      "3000063\n",
      "https://archive.physionet.org/physiobank/database/mimic3wdb/30/3000063/3000063.hea\n",
      "https://archive.physionet.org/physiobank/database/mimic3wdb/30/3000063/3000063_layout.hea\n",
      "-----------------\n",
      "5\n",
      ".................\n",
      "                                    0\n",
      "0  3000065/4 3 125 15000 11:29:05.656\n",
      "1                    3000065_layout 0\n",
      "2                              ~ 7286\n",
      "3                   3000065_0001 7500\n",
      "4                               ~ 214\n",
      ".................\n",
      "                                      0\n",
      "0   3000065_layout 3 125 0 11:29:05.656\n",
      "1            ~ 0 67/mV 8 0 -1024 0 0 II\n",
      "2         ~ 0 69/mV 11 0 -1024 0 0 MCL1\n",
      "3  ~ 0 1.25(-100)/mmHg 9 0 -256 0 0 ABP\n",
      ".................\n",
      "30/3000065/\n",
      "30\n",
      "3000065\n",
      "https://archive.physionet.org/physiobank/database/mimic3wdb/30/3000065/3000065.hea\n",
      "https://archive.physionet.org/physiobank/database/mimic3wdb/30/3000065/3000065_layout.hea\n",
      "-----------------\n",
      "6\n",
      ".................\n",
      "                                      0\n",
      "0   3000086/9 6 125 761250 23:20:27.072\n",
      "1                      3000086_layout 0\n",
      "2                     3000086_0001 3500\n",
      "3                      3000086_0002 250\n",
      "4                   3000086_0003 406375\n",
      "5                                ~ 2875\n",
      "6                      3000086_0004 125\n",
      "7                      3000086_0005 125\n",
      "8                   3000086_0006 345125\n",
      "9                     3000086_0007 2875\n",
      "10                     # Location: micu\n",
      ".................\n"
     ]
    },
    {
     "name": "stdout",
     "output_type": "stream",
     "text": [
      "                                     0\n",
      "0  3000086_layout 6 125 0 23:20:27.072\n",
      "1        ~ 0 2046/mV 14 0 -6144 0 0 II\n",
      "2    ~ 0 2046(-1024)/mV 12 0 0 0 0 III\n",
      "3    ~ 0 2048(-1025)/mV 12 0 0 0 0 AVR\n",
      "4         ~ 0 4094/mV 14 0 -6144 0 0 V\n",
      "5   ~ 0 4093(-2046)/pm 12 0 0 0 0 RESP\n",
      "6  ~ 0 1023(-2048)/NU 12 0 0 0 0 PLETH\n",
      ".................\n",
      "30/3000086/\n",
      "30\n",
      "3000086\n",
      "https://archive.physionet.org/physiobank/database/mimic3wdb/30/3000086/3000086.hea\n",
      "https://archive.physionet.org/physiobank/database/mimic3wdb/30/3000086/3000086_layout.hea\n",
      "-----------------\n",
      "7\n",
      ".................\n",
      "                                     0\n",
      "0  3000100/5 5 125 723375 22:53:35.242\n",
      "1                     3000100_layout 0\n",
      "2                    3000100_0001 3500\n",
      "3                     3000100_0002 125\n",
      "4                    3000100_0003 3875\n",
      "5                  3000100_0004 715875\n",
      "6                      # Location: ccu\n",
      ".................\n",
      "                                     0\n",
      "0  3000100_layout 5 125 0 22:53:35.242\n",
      "1       ~ 0 512(-257)/mV 10 0 0 0 0 II\n",
      "2      ~ 0 510(-256)/mV 10 0 0 0 0 AVR\n",
      "3       ~ 0 510(-256)/mV 10 0 -2 0 0 V\n",
      "4    ~ 0 1023(-512)/pm 10 0 0 0 0 RESP\n",
      "5   ~ 0 1023(-512)/NU 10 0 0 0 0 PLETH\n",
      ".................\n",
      "30/3000100/\n",
      "30\n",
      "3000100\n",
      "https://archive.physionet.org/physiobank/database/mimic3wdb/30/3000100/3000100.hea\n",
      "https://archive.physionet.org/physiobank/database/mimic3wdb/30/3000100/3000100_layout.hea\n",
      "-----------------\n",
      "8\n",
      ".................\n",
      "                                      0\n",
      "0  3000103/5 1 125 7597500 23:58:29.000\n",
      "1                      3000103_layout 0\n",
      "2                                ~ 6125\n",
      "3                  3000103_0001 3893875\n",
      "4                              ~ 183875\n",
      "5                  3000103_0002 3513625\n",
      "6                      # Location: sicu\n",
      ".................\n",
      "                                 0\n",
      "0  3000103_layout 1 125 0 23:58:29\n",
      "1   ~ 0 128(-65)/mV 8 0 -128 0 0 V\n",
      ".................\n",
      "30/3000103/\n",
      "30\n",
      "3000103\n",
      "https://archive.physionet.org/physiobank/database/mimic3wdb/30/3000103/3000103.hea\n",
      "https://archive.physionet.org/physiobank/database/mimic3wdb/30/3000103/3000103_layout.hea\n",
      "-----------------\n",
      "9\n",
      ".................\n",
      "                                        0\n",
      "0   3000105/17 4 125 2602500 11:06:53.345\n",
      "1                        3000105_layout 0\n",
      "2                                   ~ 124\n",
      "3                      3000105_0001 15680\n",
      "4                        3000105_0002 384\n",
      "5                       3000105_0003 6404\n",
      "6                        3000105_0004 384\n",
      "7                      3000105_0005 22148\n",
      "8                       3000105_0006 1664\n",
      "9                       3000105_0007 2180\n",
      "10                   3000105_0008 1653656\n",
      "11                                 ~ 2526\n",
      "12                    3000105_0009 597724\n",
      "13                       3000105_0010 128\n",
      "14                    3000105_0011 249648\n",
      "15                     3000105_0012 22500\n",
      "16                     3000105_0013 22500\n",
      "17                                 ~ 4850\n",
      ".................\n",
      "                                     0\n",
      "0  3000105_layout 4 125 0 11:06:53.345\n",
      "1           ~ 0 64/mV 10 0 -512 0 0 II\n",
      "2       ~ 0 125/mV 12 0 -2048 0 0 MCL1\n",
      "3       ~ 0 1.25/mmHg 9 0 -256 0 0 ABP\n",
      "4      ~ 0 2.5/mmHg 10 0 -1024 0 0 PAP\n",
      ".................\n",
      "30/3000105/\n",
      "30\n",
      "3000105\n",
      "https://archive.physionet.org/physiobank/database/mimic3wdb/30/3000105/3000105.hea\n",
      "https://archive.physionet.org/physiobank/database/mimic3wdb/30/3000105/3000105_layout.hea\n",
      "-----------------\n",
      "9\n"
     ]
    }
   ],
   "source": [
    "last_record = -1\n",
    "for i in range(last_record + 1, 10):\n",
    "    print(i)\n",
    "    record_path = records.iloc[i,0]\n",
    "    intermediate_directory = str(record_path.split(\"/\")[0])\n",
    "    record_directory = str(record_path.split(\"/\")[1])\n",
    "    \n",
    "    print('.................')\n",
    "    target_url = records_url_root + '/' + record_path + record_directory + '.hea'\n",
    "    http       = urllib3.PoolManager()\n",
    "    response   = http.request('GET', target_url)\n",
    "    data       = response.data.decode('utf-8')\n",
    "    content    = pd.DataFrame(data.splitlines())\n",
    "    print(content)\n",
    "    print('.................')\n",
    "    target_url = records_url_root + '/' + record_path + record_directory + '_layout.hea'\n",
    "    http       = urllib3.PoolManager()\n",
    "    response   = http.request('GET', target_url)\n",
    "    data       = response.data.decode('utf-8')\n",
    "    content    = pd.DataFrame(data.splitlines())\n",
    "    print(content)\n",
    "    print('.................')\n",
    "   \n",
    "    \n",
    "    #record_directory_heat = \n",
    "    \n",
    "    \n",
    "    print(record_path)\n",
    "    print(intermediate_directory)\n",
    "    print(record_directory)\n",
    "    \n",
    "    print(records_url_root + '/' + record_path + record_directory + '.hea')\n",
    "    print(records_url_root + '/' + record_path + record_directory + '_layout.hea')\n",
    "    \n",
    "    \n",
    "    \n",
    "    \n",
    "    \n",
    "    #print(i)\n",
    "    \n",
    "    #print(records.iloc[i,0])\n",
    "    #print('index: {}, record: {}'.format(i, records.iloc[i,:]))\n",
    "    if True: \n",
    "        last_record = i\n",
    "    print('-----------------')\n",
    "print(last_record)"
   ]
  },
  {
   "cell_type": "code",
   "execution_count": 99,
   "id": "55987659",
   "metadata": {},
   "outputs": [
    {
     "name": "stdout",
     "output_type": "stream",
     "text": [
      "                                     0\n",
      "0  3000105_layout 4 125 0 11:06:53.345\n",
      "1           ~ 0 64/mV 10 0 -512 0 0 II\n",
      "2       ~ 0 125/mV 12 0 -2048 0 0 MCL1\n",
      "3       ~ 0 1.25/mmHg 9 0 -256 0 0 ABP\n",
      "4      ~ 0 2.5/mmHg 10 0 -1024 0 0 PAP\n"
     ]
    }
   ],
   "source": [
    "print(content)"
   ]
  },
  {
   "cell_type": "code",
   "execution_count": 110,
   "id": "35c6ebbd",
   "metadata": {},
   "outputs": [
    {
     "data": {
      "text/plain": [
       "['1',\n",
       " '',\n",
       " '',\n",
       " '',\n",
       " '~',\n",
       " '0',\n",
       " '64/mV',\n",
       " '10',\n",
       " '0',\n",
       " '-512',\n",
       " '0',\n",
       " '0',\n",
       " 'II\\nName:',\n",
       " '0,',\n",
       " 'dtype:',\n",
       " 'object']"
      ]
     },
     "execution_count": 110,
     "metadata": {},
     "output_type": "execute_result"
    }
   ],
   "source": [
    "str(content.iloc[1:2,0]).split(' ')"
   ]
  },
  {
   "cell_type": "code",
   "execution_count": 102,
   "id": "8817f3a2",
   "metadata": {},
   "outputs": [
    {
     "ename": "AttributeError",
     "evalue": "'DataFrame' object has no attribute 'split'",
     "output_type": "error",
     "traceback": [
      "\u001b[0;31m---------------------------------------------------------------------------\u001b[0m",
      "\u001b[0;31mAttributeError\u001b[0m                            Traceback (most recent call last)",
      "\u001b[0;32m/var/folders/nz/sb00j4qn77zgd_s3v803w9ym0000gn/T/ipykernel_34777/1203448530.py\u001b[0m in \u001b[0;36m<module>\u001b[0;34m\u001b[0m\n\u001b[0;32m----> 1\u001b[0;31m \u001b[0mcontent\u001b[0m\u001b[0;34m.\u001b[0m\u001b[0miloc\u001b[0m\u001b[0;34m[\u001b[0m\u001b[0;36m1\u001b[0m\u001b[0;34m:\u001b[0m\u001b[0;36m2\u001b[0m\u001b[0;34m,\u001b[0m\u001b[0;34m:\u001b[0m\u001b[0;34m]\u001b[0m\u001b[0;34m.\u001b[0m\u001b[0msplit\u001b[0m\u001b[0;34m(\u001b[0m\u001b[0;34m' '\u001b[0m\u001b[0;34m)\u001b[0m\u001b[0;34m\u001b[0m\u001b[0;34m\u001b[0m\u001b[0m\n\u001b[0m",
      "\u001b[0;32m~/opt/anaconda3/envs/machineLearning/lib/python3.9/site-packages/pandas/core/generic.py\u001b[0m in \u001b[0;36m__getattr__\u001b[0;34m(self, name)\u001b[0m\n\u001b[1;32m   5485\u001b[0m         ):\n\u001b[1;32m   5486\u001b[0m             \u001b[0;32mreturn\u001b[0m \u001b[0mself\u001b[0m\u001b[0;34m[\u001b[0m\u001b[0mname\u001b[0m\u001b[0;34m]\u001b[0m\u001b[0;34m\u001b[0m\u001b[0;34m\u001b[0m\u001b[0m\n\u001b[0;32m-> 5487\u001b[0;31m         \u001b[0;32mreturn\u001b[0m \u001b[0mobject\u001b[0m\u001b[0;34m.\u001b[0m\u001b[0m__getattribute__\u001b[0m\u001b[0;34m(\u001b[0m\u001b[0mself\u001b[0m\u001b[0;34m,\u001b[0m \u001b[0mname\u001b[0m\u001b[0;34m)\u001b[0m\u001b[0;34m\u001b[0m\u001b[0;34m\u001b[0m\u001b[0m\n\u001b[0m\u001b[1;32m   5488\u001b[0m \u001b[0;34m\u001b[0m\u001b[0m\n\u001b[1;32m   5489\u001b[0m     \u001b[0;32mdef\u001b[0m \u001b[0m__setattr__\u001b[0m\u001b[0;34m(\u001b[0m\u001b[0mself\u001b[0m\u001b[0;34m,\u001b[0m \u001b[0mname\u001b[0m\u001b[0;34m:\u001b[0m \u001b[0mstr\u001b[0m\u001b[0;34m,\u001b[0m \u001b[0mvalue\u001b[0m\u001b[0;34m)\u001b[0m \u001b[0;34m->\u001b[0m \u001b[0;32mNone\u001b[0m\u001b[0;34m:\u001b[0m\u001b[0;34m\u001b[0m\u001b[0;34m\u001b[0m\u001b[0m\n",
      "\u001b[0;31mAttributeError\u001b[0m: 'DataFrame' object has no attribute 'split'"
     ]
    }
   ],
   "source": [
    "content.iloc[1:2,:].split(' ')"
   ]
  },
  {
   "cell_type": "code",
   "execution_count": null,
   "id": "b80f00d3",
   "metadata": {},
   "outputs": [],
   "source": []
  },
  {
   "cell_type": "code",
   "execution_count": null,
   "id": "699bd5af",
   "metadata": {},
   "outputs": [],
   "source": []
  },
  {
   "cell_type": "code",
   "execution_count": 71,
   "id": "c73e0ba2",
   "metadata": {},
   "outputs": [],
   "source": [
    "record = records.iloc[i,0]\n",
    "record"
   ]
  },
  {
   "cell_type": "code",
   "execution_count": 75,
   "id": "4fac807d",
   "metadata": {},
   "outputs": [
    {
     "name": "stdout",
     "output_type": "stream",
     "text": [
      "<class 'str'>\n"
     ]
    },
    {
     "data": {
      "text/plain": [
       "['30', '3000105', '']"
      ]
     },
     "execution_count": 75,
     "metadata": {},
     "output_type": "execute_result"
    }
   ],
   "source": [
    "print(type(record))\n",
    "record.split(\"/\")"
   ]
  },
  {
   "cell_type": "code",
   "execution_count": null,
   "id": "24db7e5b",
   "metadata": {},
   "outputs": [],
   "source": [
    "'''\n",
    "Intermediate directory 31\n",
    "Record directory 3141595\n",
    "Segment record 31/3141595/3141595_0001\n",
    "'''"
   ]
  },
  {
   "cell_type": "code",
   "execution_count": 80,
   "id": "4b460b45",
   "metadata": {},
   "outputs": [
    {
     "data": {
      "text/plain": [
       "'30'"
      ]
     },
     "execution_count": 80,
     "metadata": {},
     "output_type": "execute_result"
    }
   ],
   "source": [
    "str(record.split(\"/\")[0])"
   ]
  },
  {
   "cell_type": "code",
   "execution_count": 81,
   "id": "958bf15d",
   "metadata": {},
   "outputs": [
    {
     "data": {
      "text/plain": [
       "'3000105'"
      ]
     },
     "execution_count": 81,
     "metadata": {},
     "output_type": "execute_result"
    }
   ],
   "source": [
    "str(record.split(\"/\")[1])"
   ]
  },
  {
   "cell_type": "code",
   "execution_count": null,
   "id": "2439a9ad",
   "metadata": {},
   "outputs": [],
   "source": []
  }
 ],
 "metadata": {
  "kernelspec": {
   "display_name": "Python 3 (ipykernel)",
   "language": "python",
   "name": "python3"
  },
  "language_info": {
   "codemirror_mode": {
    "name": "ipython",
    "version": 3
   },
   "file_extension": ".py",
   "mimetype": "text/x-python",
   "name": "python",
   "nbconvert_exporter": "python",
   "pygments_lexer": "ipython3",
   "version": "3.9.7"
  }
 },
 "nbformat": 4,
 "nbformat_minor": 5
}

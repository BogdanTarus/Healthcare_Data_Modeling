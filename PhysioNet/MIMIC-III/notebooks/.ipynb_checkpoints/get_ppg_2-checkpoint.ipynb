{
 "cells": [
  {
   "cell_type": "code",
   "execution_count": 2,
   "id": "cc96e4c9",
   "metadata": {},
   "outputs": [],
   "source": [
    "import numpy as np\n",
    "import pandas as pd\n",
    "import os.path\n",
    "import urllib3"
   ]
  },
  {
   "cell_type": "code",
   "execution_count": 13,
   "id": "f73ed3c4",
   "metadata": {},
   "outputs": [
    {
     "name": "stdout",
     "output_type": "stream",
     "text": [
      "['3000003_layout 5 125 0 19:44:07.664', '~ 0 50/mV 11 0 -1024 0 0 I', '~ 0 72/mV 10 0 -2048 0 0 II', '~ 0 24/mV 9 0 -2048 0 0 V', '~ 0 1.25/mmHg 9 0 -256 0 0 ABP', '~ 0 39/mV 10 0 -512 0 0 V+']\n",
      "<class 'list'>\n"
     ]
    }
   ],
   "source": [
    "#target_url = records_url_root + '/' + record_path + record_directory + '.hea'\n",
    "target_url = 'https://archive.physionet.org/physiobank/database/mimic3wdb/30/3000003/3000003_layout.hea'\n",
    "http       = urllib3.PoolManager()\n",
    "response   = http.request('GET', target_url)\n",
    "data       = response.data.decode('utf-8')\n",
    "content    = data.splitlines()\n",
    "#content    = pd.DataFrame(data.splitlines())\n",
    "#content = pd.Series(content, index=False)\n",
    "print(content)\n",
    "print(type(content))\n"
   ]
  },
  {
   "cell_type": "code",
   "execution_count": 19,
   "id": "6773490e",
   "metadata": {},
   "outputs": [
    {
     "data": {
      "text/plain": [
       "'I'"
      ]
     },
     "execution_count": 19,
     "metadata": {},
     "output_type": "execute_result"
    }
   ],
   "source": [
    "str(content[1]).split(' ')[-1]"
   ]
  },
  {
   "cell_type": "code",
   "execution_count": 9,
   "id": "295e4d46",
   "metadata": {},
   "outputs": [
    {
     "ename": "TypeError",
     "evalue": "'index' is an invalid keyword argument for print()",
     "output_type": "error",
     "traceback": [
      "\u001b[0;31m---------------------------------------------------------------------------\u001b[0m",
      "\u001b[0;31mTypeError\u001b[0m                                 Traceback (most recent call last)",
      "\u001b[0;32m/var/folders/nz/sb00j4qn77zgd_s3v803w9ym0000gn/T/ipykernel_38736/3750124519.py\u001b[0m in \u001b[0;36m<module>\u001b[0;34m\u001b[0m\n\u001b[0;32m----> 1\u001b[0;31m \u001b[0mprint\u001b[0m\u001b[0;34m(\u001b[0m\u001b[0mcontent\u001b[0m\u001b[0;34m.\u001b[0m\u001b[0miloc\u001b[0m\u001b[0;34m[\u001b[0m\u001b[0;36m1\u001b[0m\u001b[0;34m:\u001b[0m\u001b[0;36m2\u001b[0m\u001b[0;34m,\u001b[0m\u001b[0;36m0\u001b[0m\u001b[0;34m]\u001b[0m\u001b[0;34m,\u001b[0m \u001b[0mindex\u001b[0m\u001b[0;34m=\u001b[0m\u001b[0;32mFalse\u001b[0m\u001b[0;34m)\u001b[0m\u001b[0;34m\u001b[0m\u001b[0;34m\u001b[0m\u001b[0m\n\u001b[0m",
      "\u001b[0;31mTypeError\u001b[0m: 'index' is an invalid keyword argument for print()"
     ]
    }
   ],
   "source": [
    "print(content.iloc[1:2,0], index=False)"
   ]
  },
  {
   "cell_type": "code",
   "execution_count": null,
   "id": "612f306f",
   "metadata": {},
   "outputs": [],
   "source": []
  },
  {
   "cell_type": "code",
   "execution_count": null,
   "id": "94cadc44",
   "metadata": {},
   "outputs": [],
   "source": [
    "target_url = 'https://archive.physionet.org/physiobank/database/mimic3wdb/RECORDS'\n",
    "http       = urllib3.PoolManager()\n",
    "response   = http.request('GET', target_url)\n",
    "data       = response.data.decode('utf-8')\n",
    "content    = data.splitlines()\n",
    "#content    = pd.DataFrame(data.splitlines())\n",
    "#content = pd.Series(content, index=False)\n",
    "print(content)\n",
    "print(type(content))"
   ]
  },
  {
   "cell_type": "code",
   "execution_count": null,
   "id": "cf87fc34",
   "metadata": {},
   "outputs": [],
   "source": []
  },
  {
   "cell_type": "code",
   "execution_count": null,
   "id": "de13b456",
   "metadata": {},
   "outputs": [],
   "source": []
  }
 ],
 "metadata": {
  "kernelspec": {
   "display_name": "Python 3 (ipykernel)",
   "language": "python",
   "name": "python3"
  },
  "language_info": {
   "codemirror_mode": {
    "name": "ipython",
    "version": 3
   },
   "file_extension": ".py",
   "mimetype": "text/x-python",
   "name": "python",
   "nbconvert_exporter": "python",
   "pygments_lexer": "ipython3",
   "version": "3.9.7"
  }
 },
 "nbformat": 4,
 "nbformat_minor": 5
}

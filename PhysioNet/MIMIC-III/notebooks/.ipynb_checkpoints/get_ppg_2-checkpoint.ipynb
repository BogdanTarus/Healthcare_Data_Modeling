{
 "cells": [
  {
   "cell_type": "code",
   "execution_count": 2,
   "id": "ca78651b",
   "metadata": {},
   "outputs": [],
   "source": [
    "import numpy as np\n",
    "import pandas as pd\n",
    "import os.path\n",
    "import urllib3"
   ]
  },
  {
   "cell_type": "code",
   "execution_count": 31,
   "id": "f67b2a9c",
   "metadata": {},
   "outputs": [],
   "source": [
    "records_local_path = '../../../2_data/records_mimic3.csv'\n",
    "records_url_root = 'https://archive.physionet.org/physiobank/database/mimic3wdb'\n",
    "records_url_path = records_url_root + '/RECORDS'"
   ]
  },
  {
   "cell_type": "code",
   "execution_count": 13,
   "id": "0a52bb92",
   "metadata": {},
   "outputs": [
    {
     "name": "stdout",
     "output_type": "stream",
     "text": [
      "['3000003_layout 5 125 0 19:44:07.664', '~ 0 50/mV 11 0 -1024 0 0 I', '~ 0 72/mV 10 0 -2048 0 0 II', '~ 0 24/mV 9 0 -2048 0 0 V', '~ 0 1.25/mmHg 9 0 -256 0 0 ABP', '~ 0 39/mV 10 0 -512 0 0 V+']\n",
      "<class 'list'>\n"
     ]
    }
   ],
   "source": [
    "#target_url = records_url_root + '/' + record_path + record_directory + '.hea'\n",
    "target_url = 'https://archive.physionet.org/physiobank/database/mimic3wdb/30/3000003/3000003_layout.hea'\n",
    "http       = urllib3.PoolManager()\n",
    "response   = http.request('GET', target_url)\n",
    "data       = response.data.decode('utf-8')\n",
    "content    = data.splitlines()\n",
    "#content    = pd.DataFrame(data.splitlines())\n",
    "#content = pd.Series(content, index=False)\n",
    "print(content)\n",
    "print(type(content))\n"
   ]
  },
  {
   "cell_type": "code",
   "execution_count": 19,
   "id": "b2d6365f",
   "metadata": {},
   "outputs": [
    {
     "data": {
      "text/plain": [
       "'I'"
      ]
     },
     "execution_count": 19,
     "metadata": {},
     "output_type": "execute_result"
    }
   ],
   "source": [
    "str(content[1]).split(' ')[-1]"
   ]
  },
  {
   "cell_type": "code",
   "execution_count": 9,
   "id": "10133149",
   "metadata": {},
   "outputs": [
    {
     "ename": "TypeError",
     "evalue": "'index' is an invalid keyword argument for print()",
     "output_type": "error",
     "traceback": [
      "\u001b[0;31m---------------------------------------------------------------------------\u001b[0m",
      "\u001b[0;31mTypeError\u001b[0m                                 Traceback (most recent call last)",
      "\u001b[0;32m/var/folders/nz/sb00j4qn77zgd_s3v803w9ym0000gn/T/ipykernel_38736/3750124519.py\u001b[0m in \u001b[0;36m<module>\u001b[0;34m\u001b[0m\n\u001b[0;32m----> 1\u001b[0;31m \u001b[0mprint\u001b[0m\u001b[0;34m(\u001b[0m\u001b[0mcontent\u001b[0m\u001b[0;34m.\u001b[0m\u001b[0miloc\u001b[0m\u001b[0;34m[\u001b[0m\u001b[0;36m1\u001b[0m\u001b[0;34m:\u001b[0m\u001b[0;36m2\u001b[0m\u001b[0;34m,\u001b[0m\u001b[0;36m0\u001b[0m\u001b[0;34m]\u001b[0m\u001b[0;34m,\u001b[0m \u001b[0mindex\u001b[0m\u001b[0;34m=\u001b[0m\u001b[0;32mFalse\u001b[0m\u001b[0;34m)\u001b[0m\u001b[0;34m\u001b[0m\u001b[0;34m\u001b[0m\u001b[0m\n\u001b[0m",
      "\u001b[0;31mTypeError\u001b[0m: 'index' is an invalid keyword argument for print()"
     ]
    }
   ],
   "source": [
    "print(content.iloc[1:2,0], index=False)"
   ]
  },
  {
   "cell_type": "code",
   "execution_count": null,
   "id": "ed70e344",
   "metadata": {},
   "outputs": [],
   "source": []
  },
  {
   "cell_type": "code",
   "execution_count": 32,
   "id": "d97cc5e2",
   "metadata": {},
   "outputs": [
    {
     "name": "stdout",
     "output_type": "stream",
     "text": [
      "<class 'list'>\n"
     ]
    }
   ],
   "source": [
    "target_url = 'https://archive.physionet.org/physiobank/database/mimic3wdb/RECORDS'\n",
    "http       = urllib3.PoolManager()\n",
    "response   = http.request('GET', target_url)\n",
    "data       = response.data.decode('utf-8')\n",
    "content    = data.splitlines()\n",
    "#content    = pd.DataFrame(data.splitlines())\n",
    "#content = pd.Series(content, index=False)\n",
    "#print(content)\n",
    "print(type(content))"
   ]
  },
  {
   "cell_type": "code",
   "execution_count": 21,
   "id": "15c8f5a1",
   "metadata": {},
   "outputs": [
    {
     "data": {
      "text/plain": [
       "'30/3000003/'"
      ]
     },
     "execution_count": 21,
     "metadata": {},
     "output_type": "execute_result"
    }
   ],
   "source": [
    "content[0]"
   ]
  },
  {
   "cell_type": "code",
   "execution_count": 22,
   "id": "83ee81d7",
   "metadata": {},
   "outputs": [
    {
     "data": {
      "text/plain": [
       "'39/3999988/'"
      ]
     },
     "execution_count": 22,
     "metadata": {},
     "output_type": "execute_result"
    }
   ],
   "source": [
    "content[-1]"
   ]
  },
  {
   "cell_type": "code",
   "execution_count": 23,
   "id": "9a036e4f",
   "metadata": {},
   "outputs": [],
   "source": [
    "def get_info(target_url):\n",
    "    http       = urllib3.PoolManager()\n",
    "    response   = http.request('GET', target_url)\n",
    "    data       = response.data.decode('utf-8')\n",
    "    return data.splitlines()"
   ]
  },
  {
   "cell_type": "code",
   "execution_count": 24,
   "id": "858e6919",
   "metadata": {},
   "outputs": [],
   "source": [
    "target_url = 'https://archive.physionet.org/physiobank/database/mimic3wdb/RECORDS'\n",
    "record_path = get_info(target_url)"
   ]
  },
  {
   "cell_type": "code",
   "execution_count": 29,
   "id": "0b620aa0",
   "metadata": {},
   "outputs": [
    {
     "data": {
      "text/plain": [
       "['30/3000003/',\n",
       " '30/3000031/',\n",
       " '30/3000051/',\n",
       " '30/3000060/',\n",
       " '30/3000063/',\n",
       " '30/3000065/',\n",
       " '30/3000086/',\n",
       " '30/3000100/',\n",
       " '30/3000103/',\n",
       " '30/3000105/']"
      ]
     },
     "execution_count": 29,
     "metadata": {},
     "output_type": "execute_result"
    }
   ],
   "source": [
    "record_path[:10]"
   ]
  },
  {
   "cell_type": "code",
   "execution_count": 30,
   "id": "b0ee2ee3",
   "metadata": {},
   "outputs": [
    {
     "data": {
      "text/plain": [
       "['39/3999903/',\n",
       " '39/3999907/',\n",
       " '39/3999913/',\n",
       " '39/3999922/',\n",
       " '39/3999938/',\n",
       " '39/3999944/',\n",
       " '39/3999953/',\n",
       " '39/3999968/',\n",
       " '39/3999986/',\n",
       " '39/3999988/']"
      ]
     },
     "execution_count": 30,
     "metadata": {},
     "output_type": "execute_result"
    }
   ],
   "source": [
    "record_path[-10:]"
   ]
  },
  {
   "cell_type": "code",
   "execution_count": 50,
   "id": "d7c43bf3",
   "metadata": {},
   "outputs": [
    {
     "data": {
      "text/plain": [
       "['3000003/23 5 125 18892500 19:44:07.664',\n",
       " '3000003_layout 0',\n",
       " '3000003_0001 16878',\n",
       " '3000003_0002 384',\n",
       " '3000003_0003 1028',\n",
       " '3000003_0004 384',\n",
       " '3000003_0005 438826',\n",
       " '3000003_0006 4826',\n",
       " '3000003_0007 2155174',\n",
       " '~ 4077',\n",
       " '3000003_0008 217500',\n",
       " '~ 450089',\n",
       " '3000003_0009 877500',\n",
       " '~ 365',\n",
       " '3000003_0010 1343738',\n",
       " '3000003_0011 4',\n",
       " '3000003_0012 380',\n",
       " '3000003_0013 523378',\n",
       " '3000003_0014 2400000',\n",
       " '3000003_0015 5212500',\n",
       " '~ 300',\n",
       " '3000003_0016 5145000',\n",
       " '3000003_0017 97500',\n",
       " '~ 2669']"
      ]
     },
     "execution_count": 50,
     "metadata": {},
     "output_type": "execute_result"
    }
   ],
   "source": [
    "target_url = 'https://archive.physionet.org/physiobank/database/mimic3wdb/30/3000003/3000003.hea'\n",
    "content = get_info(target_url)\n",
    "content"
   ]
  },
  {
   "cell_type": "code",
   "execution_count": 49,
   "id": "00396988",
   "metadata": {},
   "outputs": [
    {
     "name": "stdout",
     "output_type": "stream",
     "text": [
      "['3000003/23', '5', '125', '18892500', '19:44:07.664']\n",
      "record length (s): 151140.0\n"
     ]
    }
   ],
   "source": [
    "first_line = content[0].split(' ')\n",
    "print(first_line)\n",
    "record_length = int(first_line[3]) / int(first_line[2])\n",
    "print('record length (s): {}'.format(record_length))"
   ]
  },
  {
   "cell_type": "code",
   "execution_count": null,
   "id": "177ae9d4",
   "metadata": {},
   "outputs": [],
   "source": [
    "target_url = 'https://archive.physionet.org/physiobank/database/mimic3wdb/30/3000003/3000003_layout.hea'\n",
    "content = get_info(target_url)\n",
    "content"
   ]
  }
 ],
 "metadata": {
  "kernelspec": {
   "display_name": "Python 3 (ipykernel)",
   "language": "python",
   "name": "python3"
  },
  "language_info": {
   "codemirror_mode": {
    "name": "ipython",
    "version": 3
   },
   "file_extension": ".py",
   "mimetype": "text/x-python",
   "name": "python",
   "nbconvert_exporter": "python",
   "pygments_lexer": "ipython3",
   "version": "3.9.7"
  }
 },
 "nbformat": 4,
 "nbformat_minor": 5
}

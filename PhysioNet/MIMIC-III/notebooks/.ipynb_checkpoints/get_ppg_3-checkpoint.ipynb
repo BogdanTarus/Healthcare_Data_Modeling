{
 "cells": [
  {
   "cell_type": "code",
   "execution_count": 57,
   "id": "fd14768e",
   "metadata": {},
   "outputs": [],
   "source": [
    "import numpy as np\n",
    "import pandas as pd\n",
    "import os.path\n",
    "import urllib3"
   ]
  },
  {
   "cell_type": "code",
   "execution_count": 62,
   "id": "5db8cd90",
   "metadata": {},
   "outputs": [],
   "source": [
    "record_path_local = '../../../2_data/record_path_mimic3.csv'\n",
    "record_root_url = 'https://archive.physionet.org/physiobank/database/mimic3wdb'\n",
    "record_path_url = record_root_url + '/RECORDS'"
   ]
  },
  {
   "cell_type": "code",
   "execution_count": 63,
   "id": "274a6e95",
   "metadata": {},
   "outputs": [],
   "source": [
    "def get_info(target_url):\n",
    "    http       = urllib3.PoolManager()\n",
    "    response   = http.request('GET', target_url)\n",
    "    data       = response.data.decode('utf-8')\n",
    "    return data.splitlines()"
   ]
  },
  {
   "cell_type": "code",
   "execution_count": 81,
   "id": "cb1fb563",
   "metadata": {},
   "outputs": [
    {
     "name": "stdout",
     "output_type": "stream",
     "text": [
      "baubau_1\n"
     ]
    }
   ],
   "source": [
    "if os.path.exists(record_path_local):\n",
    "    record_path_list = pd.read_csv(record_path_local, header=None)\n",
    "    record_path_list = list(record_path_list.iloc[:,0])\n",
    "    print('baubau_1')\n",
    "else:\n",
    "    target_url = record_path_url\n",
    "    record_path_list = get_info(target_url)\n",
    "    pd.DataFrame(record_path_list).to_csv(record_path_local, header=None, index=None)\n",
    "    print('baubau_2')"
   ]
  },
  {
   "cell_type": "code",
   "execution_count": 157,
   "id": "e569f981",
   "metadata": {},
   "outputs": [
    {
     "name": "stdout",
     "output_type": "stream",
     "text": [
      "0\n",
      "30/3000003/\n",
      "30\n",
      "3000003\n",
      "1111111111111111\n",
      "https://archive.physionet.org/physiobank/database/mimic3wdb/30/3000003/\n",
      "22222222222222222\n",
      "https://archive.physionet.org/physiobank/database/mimic3wdb/30/3000003/3000003.hea\n",
      "record length (s): 151140.0\n",
      "333333333333333333\n",
      "https://archive.physionet.org/physiobank/database/mimic3wdb/30/3000003/3000003_layout.hea\n",
      "['I', 'II', 'V', 'ABP']\n",
      "444444444444444444\n",
      "---------------------\n",
      "1\n",
      "30/3000031/\n",
      "30\n",
      "3000031\n",
      "1111111111111111\n",
      "https://archive.physionet.org/physiobank/database/mimic3wdb/30/3000031/\n",
      "22222222222222222\n",
      "https://archive.physionet.org/physiobank/database/mimic3wdb/30/3000031/3000031.hea\n",
      "https://archive.physionet.org/physiobank/database/mimic3wdb/30/3000031/3000031.hea is missing\n",
      "333333333333333333\n",
      "https://archive.physionet.org/physiobank/database/mimic3wdb/30/3000031/3000031_layout.hea\n",
      "https://archive.physionet.org/physiobank/database/mimic3wdb/30/3000031/3000031_layout.hea is missing\n",
      "444444444444444444\n",
      "---------------------\n",
      "2\n",
      "30/3000051/\n",
      "30\n",
      "3000051\n",
      "1111111111111111\n",
      "https://archive.physionet.org/physiobank/database/mimic3wdb/30/3000051/\n",
      "22222222222222222\n",
      "https://archive.physionet.org/physiobank/database/mimic3wdb/30/3000051/3000051.hea\n",
      "record length (s): 28.0\n",
      "333333333333333333\n",
      "https://archive.physionet.org/physiobank/database/mimic3wdb/30/3000051/3000051_layout.hea\n",
      "['II', 'III', 'AVR', 'V', 'RESP']\n",
      "444444444444444444\n",
      "---------------------\n",
      "3\n",
      "30/3000060/\n",
      "30\n",
      "3000060\n",
      "1111111111111111\n",
      "https://archive.physionet.org/physiobank/database/mimic3wdb/30/3000060/\n",
      "22222222222222222\n",
      "https://archive.physionet.org/physiobank/database/mimic3wdb/30/3000060/3000060.hea\n",
      "record length (s): 198540.0\n",
      "333333333333333333\n",
      "https://archive.physionet.org/physiobank/database/mimic3wdb/30/3000060/3000060_layout.hea\n",
      "['II']\n",
      "444444444444444444\n",
      "---------------------\n",
      "4\n",
      "30/3000063/\n",
      "30\n",
      "3000063\n",
      "1111111111111111\n",
      "https://archive.physionet.org/physiobank/database/mimic3wdb/30/3000063/\n",
      "22222222222222222\n",
      "https://archive.physionet.org/physiobank/database/mimic3wdb/30/3000063/3000063.hea\n",
      "record length (s): 238267.64\n",
      "333333333333333333\n",
      "https://archive.physionet.org/physiobank/database/mimic3wdb/30/3000063/3000063_layout.hea\n",
      "['PLETH', 'III', 'II']\n",
      "444444444444444444\n",
      "---------------------\n",
      "5\n",
      "30/3000065/\n",
      "30\n",
      "3000065\n",
      "1111111111111111\n",
      "https://archive.physionet.org/physiobank/database/mimic3wdb/30/3000065/\n",
      "22222222222222222\n",
      "https://archive.physionet.org/physiobank/database/mimic3wdb/30/3000065/3000065.hea\n",
      "record length (s): 120.0\n",
      "333333333333333333\n",
      "https://archive.physionet.org/physiobank/database/mimic3wdb/30/3000065/3000065_layout.hea\n",
      "['II', 'MCL1']\n",
      "444444444444444444\n",
      "---------------------\n",
      "6\n",
      "30/3000086/\n",
      "30\n",
      "3000086\n",
      "1111111111111111\n",
      "https://archive.physionet.org/physiobank/database/mimic3wdb/30/3000086/\n",
      "22222222222222222\n",
      "https://archive.physionet.org/physiobank/database/mimic3wdb/30/3000086/3000086.hea\n",
      "record length (s): 6090.0\n",
      "333333333333333333\n",
      "https://archive.physionet.org/physiobank/database/mimic3wdb/30/3000086/3000086_layout.hea\n",
      "['II', 'III', 'AVR', 'V', 'RESP']\n",
      "444444444444444444\n",
      "---------------------\n",
      "7\n",
      "30/3000100/\n",
      "30\n",
      "3000100\n",
      "1111111111111111\n",
      "https://archive.physionet.org/physiobank/database/mimic3wdb/30/3000100/\n",
      "22222222222222222\n",
      "https://archive.physionet.org/physiobank/database/mimic3wdb/30/3000100/3000100.hea\n",
      "record length (s): 5787.0\n",
      "333333333333333333\n",
      "https://archive.physionet.org/physiobank/database/mimic3wdb/30/3000100/3000100_layout.hea\n",
      "['II', 'AVR', 'V', 'RESP']\n",
      "444444444444444444\n",
      "---------------------\n",
      "8\n",
      "30/3000103/\n",
      "30\n",
      "3000103\n",
      "1111111111111111\n",
      "https://archive.physionet.org/physiobank/database/mimic3wdb/30/3000103/\n",
      "22222222222222222\n",
      "https://archive.physionet.org/physiobank/database/mimic3wdb/30/3000103/3000103.hea\n",
      "record length (s): 60780.0\n",
      "333333333333333333\n",
      "https://archive.physionet.org/physiobank/database/mimic3wdb/30/3000103/3000103_layout.hea\n",
      "[]\n",
      "444444444444444444\n",
      "---------------------\n",
      "9\n",
      "30/3000105/\n",
      "30\n",
      "3000105\n",
      "1111111111111111\n",
      "https://archive.physionet.org/physiobank/database/mimic3wdb/30/3000105/\n",
      "22222222222222222\n",
      "https://archive.physionet.org/physiobank/database/mimic3wdb/30/3000105/3000105.hea\n",
      "record length (s): 20820.0\n",
      "333333333333333333\n",
      "https://archive.physionet.org/physiobank/database/mimic3wdb/30/3000105/3000105_layout.hea\n",
      "['II', 'MCL1', 'ABP']\n",
      "444444444444444444\n",
      "---------------------\n"
     ]
    }
   ],
   "source": [
    "last_record = -1\n",
    "for i in range(last_record + 1, 10):\n",
    "    print(i)\n",
    "    record_path = record_path_list[i]\n",
    "    print(record_path)\n",
    "        \n",
    "    intermediate_directory = str(record_path.split(\"/\")[0])\n",
    "    print(intermediate_directory)\n",
    "    record_directory = str(record_path.split(\"/\")[1])\n",
    "    print(record_directory)\n",
    "    print('1111111111111111')\n",
    "    \n",
    "    target_url = record_root_url + '/' + record_path\n",
    "    print(target_url)\n",
    "    record_folder = get_info(target_url)\n",
    "    print('22222222222222222')\n",
    "    \n",
    "    target_url = record_root_url + '/' + record_path + record_directory + '.hea'\n",
    "    print(target_url)\n",
    "    if record_directory + '.hea' in str(record_folder):\n",
    "        content = get_info(target_url)\n",
    "        first_line = content[0].split(' ')\n",
    "        record_length = int(first_line[3]) / int(first_line[2])\n",
    "        print('record length (s): {}'.format(record_length))\n",
    "    else:\n",
    "        print('{} is missing'.format(target_url))\n",
    "    print('333333333333333333')\n",
    "    \n",
    "    target_url = record_root_url + '/' + record_path + record_directory + '_layout.hea'\n",
    "    print(target_url)\n",
    "    if record_directory + '_layout.hea' in str(record_folder):\n",
    "        content = get_info(target_url)\n",
    "        signal_names = [x.split(' ')[-1] for x in content[1:-1]]\n",
    "        print(signal_names)\n",
    "    else:\n",
    "        print('{} is missing'.format(target_url))\n",
    "    print('444444444444444444')\n",
    "    \n",
    "    \n",
    "    if record_length > 60 and 'PLETH' in signal_names:\n",
    "        \n",
    "    \n",
    "    print('---------------------')\n"
   ]
  },
  {
   "cell_type": "code",
   "execution_count": 121,
   "id": "c089829e",
   "metadata": {},
   "outputs": [
    {
     "data": {
      "text/plain": [
       "'3000003.hea'"
      ]
     },
     "execution_count": 121,
     "metadata": {},
     "output_type": "execute_result"
    }
   ],
   "source": [
    "record_directory + '.hea'"
   ]
  },
  {
   "cell_type": "code",
   "execution_count": 106,
   "id": "78c91924",
   "metadata": {},
   "outputs": [
    {
     "data": {
      "text/plain": [
       "['<html>',\n",
       " '<head><title>404 Not Found</title></head>',\n",
       " '<body bgcolor=\"white\">',\n",
       " '<center><h1>404 Not Found</h1></center>',\n",
       " '<hr><center>nginx/1.10.3</center>',\n",
       " '</body>',\n",
       " '</html>']"
      ]
     },
     "execution_count": 106,
     "metadata": {},
     "output_type": "execute_result"
    }
   ],
   "source": [
    "content_record_path"
   ]
  },
  {
   "cell_type": "code",
   "execution_count": null,
   "id": "140a62b2",
   "metadata": {},
   "outputs": [],
   "source": []
  },
  {
   "cell_type": "code",
   "execution_count": null,
   "id": "5f5f3ffa",
   "metadata": {},
   "outputs": [],
   "source": []
  },
  {
   "cell_type": "code",
   "execution_count": null,
   "id": "dedd7fc2",
   "metadata": {},
   "outputs": [],
   "source": []
  },
  {
   "cell_type": "code",
   "execution_count": null,
   "id": "ab4ca4d1",
   "metadata": {},
   "outputs": [],
   "source": []
  },
  {
   "cell_type": "code",
   "execution_count": 36,
   "id": "e028d7eb",
   "metadata": {},
   "outputs": [
    {
     "data": {
      "text/plain": [
       "pandas.core.frame.DataFrame"
      ]
     },
     "execution_count": 36,
     "metadata": {},
     "output_type": "execute_result"
    }
   ],
   "source": [
    "type(record_path_list)"
   ]
  },
  {
   "cell_type": "code",
   "execution_count": 43,
   "id": "0b68055d",
   "metadata": {},
   "outputs": [],
   "source": [
    "target_url = record_path_url"
   ]
  },
  {
   "cell_type": "code",
   "execution_count": 44,
   "id": "12de39ef",
   "metadata": {},
   "outputs": [],
   "source": [
    "record_path_list = get_info(target_url)"
   ]
  },
  {
   "cell_type": "code",
   "execution_count": 49,
   "id": "75f18e81",
   "metadata": {},
   "outputs": [],
   "source": [
    "np.savetxt(\"file_name.csv\", record_path_list, delimiter=\", \", fmt='%s') #, header=header)"
   ]
  },
  {
   "cell_type": "code",
   "execution_count": null,
   "id": "8efb4173",
   "metadata": {},
   "outputs": [],
   "source": []
  },
  {
   "cell_type": "code",
   "execution_count": null,
   "id": "3b46b9ef",
   "metadata": {},
   "outputs": [],
   "source": []
  },
  {
   "cell_type": "code",
   "execution_count": 50,
   "id": "cf5a4051",
   "metadata": {},
   "outputs": [],
   "source": [
    "file = open('items.txt','w')\n",
    "file.writelines(record_path_list)\n",
    "file.close()"
   ]
  },
  {
   "cell_type": "code",
   "execution_count": 51,
   "id": "4dd9b64b",
   "metadata": {},
   "outputs": [],
   "source": [
    "with open('items_2.txt', 'w') as f:\n",
    "    f.writelines(s + ',' for s in record_path_list)\n"
   ]
  },
  {
   "cell_type": "code",
   "execution_count": 52,
   "id": "e5ab69ec",
   "metadata": {},
   "outputs": [],
   "source": [
    "new_list = open('items_2.txt','rb')\n",
    "new_list = new_list.readlines()\n"
   ]
  },
  {
   "cell_type": "code",
   "execution_count": 54,
   "id": "33cf9afb",
   "metadata": {},
   "outputs": [
    {
     "data": {
      "text/plain": [
       "list"
      ]
     },
     "execution_count": 54,
     "metadata": {},
     "output_type": "execute_result"
    }
   ],
   "source": [
    "type(new_list)"
   ]
  },
  {
   "cell_type": "code",
   "execution_count": null,
   "id": "e9e8a046",
   "metadata": {},
   "outputs": [],
   "source": [
    "f = open(\"demofile.txt\", \"r\")\n",
    "print(f.readlines()) "
   ]
  },
  {
   "cell_type": "code",
   "execution_count": null,
   "id": "0920726a",
   "metadata": {},
   "outputs": [],
   "source": []
  },
  {
   "cell_type": "code",
   "execution_count": null,
   "id": "85fd31e4",
   "metadata": {},
   "outputs": [],
   "source": []
  },
  {
   "cell_type": "code",
   "execution_count": null,
   "id": "268b6392",
   "metadata": {},
   "outputs": [],
   "source": []
  },
  {
   "cell_type": "code",
   "execution_count": null,
   "id": "32bd2f91",
   "metadata": {},
   "outputs": [],
   "source": []
  },
  {
   "cell_type": "code",
   "execution_count": null,
   "id": "b8b1b2b4",
   "metadata": {},
   "outputs": [],
   "source": []
  },
  {
   "cell_type": "code",
   "execution_count": 32,
   "id": "2e634238",
   "metadata": {},
   "outputs": [
    {
     "data": {
      "text/plain": [
       "True"
      ]
     },
     "execution_count": 32,
     "metadata": {},
     "output_type": "execute_result"
    }
   ],
   "source": [
    "os.path.exists(record_path_local)"
   ]
  },
  {
   "cell_type": "code",
   "execution_count": 27,
   "id": "21dd7373",
   "metadata": {},
   "outputs": [
    {
     "data": {
      "text/plain": [
       "'../../../2_data/records_mimic3.csv'"
      ]
     },
     "execution_count": 27,
     "metadata": {},
     "output_type": "execute_result"
    }
   ],
   "source": [
    "records_path_local"
   ]
  },
  {
   "cell_type": "code",
   "execution_count": 31,
   "id": "13652bed",
   "metadata": {},
   "outputs": [
    {
     "name": "stdout",
     "output_type": "stream",
     "text": [
      "ls: ../../../2_data/records_mimic3.csv: No such file or directory\r\n"
     ]
    }
   ],
   "source": [
    "!ls -l $records_path_local"
   ]
  },
  {
   "cell_type": "code",
   "execution_count": null,
   "id": "12e23002",
   "metadata": {},
   "outputs": [],
   "source": [
    "../../../2_data/record_path_mimic3.csv"
   ]
  },
  {
   "cell_type": "code",
   "execution_count": null,
   "id": "68a1317c",
   "metadata": {},
   "outputs": [],
   "source": []
  },
  {
   "cell_type": "code",
   "execution_count": null,
   "id": "4219a5a0",
   "metadata": {},
   "outputs": [],
   "source": []
  },
  {
   "cell_type": "code",
   "execution_count": null,
   "id": "9ec26a8c",
   "metadata": {},
   "outputs": [],
   "source": []
  },
  {
   "cell_type": "code",
   "execution_count": 13,
   "id": "7f945ea7",
   "metadata": {},
   "outputs": [
    {
     "data": {
      "text/plain": [
       "'https://archive.physionet.org/physiobank/database/mimic3wdb/RECORDS'"
      ]
     },
     "execution_count": 13,
     "metadata": {},
     "output_type": "execute_result"
    }
   ],
   "source": [
    "target_url"
   ]
  },
  {
   "cell_type": "code",
   "execution_count": 14,
   "id": "02bf7638",
   "metadata": {},
   "outputs": [],
   "source": [
    "record_path_list = get_info(target_url)"
   ]
  },
  {
   "cell_type": "code",
   "execution_count": 17,
   "id": "41a1544f",
   "metadata": {},
   "outputs": [
    {
     "data": {
      "text/plain": [
       "['30/3000003/', '30/3000031/', '30/3000051/', '30/3000060/', '30/3000063/']"
      ]
     },
     "execution_count": 17,
     "metadata": {},
     "output_type": "execute_result"
    }
   ],
   "source": [
    "record_path_list[:5]"
   ]
  },
  {
   "cell_type": "code",
   "execution_count": 23,
   "id": "c8cb9bb7",
   "metadata": {},
   "outputs": [],
   "source": [
    "pd.DataFrame(record_path_list).to_csv(record_path_local, header=None, index=None)"
   ]
  },
  {
   "cell_type": "code",
   "execution_count": 24,
   "id": "b68b7359",
   "metadata": {},
   "outputs": [
    {
     "data": {
      "text/html": [
       "<div>\n",
       "<style scoped>\n",
       "    .dataframe tbody tr th:only-of-type {\n",
       "        vertical-align: middle;\n",
       "    }\n",
       "\n",
       "    .dataframe tbody tr th {\n",
       "        vertical-align: top;\n",
       "    }\n",
       "\n",
       "    .dataframe thead th {\n",
       "        text-align: right;\n",
       "    }\n",
       "</style>\n",
       "<table border=\"1\" class=\"dataframe\">\n",
       "  <thead>\n",
       "    <tr style=\"text-align: right;\">\n",
       "      <th></th>\n",
       "      <th>0</th>\n",
       "    </tr>\n",
       "  </thead>\n",
       "  <tbody>\n",
       "    <tr>\n",
       "      <th>0</th>\n",
       "      <td>30/3000003/</td>\n",
       "    </tr>\n",
       "    <tr>\n",
       "      <th>1</th>\n",
       "      <td>30/3000031/</td>\n",
       "    </tr>\n",
       "    <tr>\n",
       "      <th>2</th>\n",
       "      <td>30/3000051/</td>\n",
       "    </tr>\n",
       "    <tr>\n",
       "      <th>3</th>\n",
       "      <td>30/3000060/</td>\n",
       "    </tr>\n",
       "    <tr>\n",
       "      <th>4</th>\n",
       "      <td>30/3000063/</td>\n",
       "    </tr>\n",
       "    <tr>\n",
       "      <th>...</th>\n",
       "      <td>...</td>\n",
       "    </tr>\n",
       "    <tr>\n",
       "      <th>67825</th>\n",
       "      <td>39/3999944/</td>\n",
       "    </tr>\n",
       "    <tr>\n",
       "      <th>67826</th>\n",
       "      <td>39/3999953/</td>\n",
       "    </tr>\n",
       "    <tr>\n",
       "      <th>67827</th>\n",
       "      <td>39/3999968/</td>\n",
       "    </tr>\n",
       "    <tr>\n",
       "      <th>67828</th>\n",
       "      <td>39/3999986/</td>\n",
       "    </tr>\n",
       "    <tr>\n",
       "      <th>67829</th>\n",
       "      <td>39/3999988/</td>\n",
       "    </tr>\n",
       "  </tbody>\n",
       "</table>\n",
       "<p>67830 rows × 1 columns</p>\n",
       "</div>"
      ],
      "text/plain": [
       "                 0\n",
       "0      30/3000003/\n",
       "1      30/3000031/\n",
       "2      30/3000051/\n",
       "3      30/3000060/\n",
       "4      30/3000063/\n",
       "...            ...\n",
       "67825  39/3999944/\n",
       "67826  39/3999953/\n",
       "67827  39/3999968/\n",
       "67828  39/3999986/\n",
       "67829  39/3999988/\n",
       "\n",
       "[67830 rows x 1 columns]"
      ]
     },
     "execution_count": 24,
     "metadata": {},
     "output_type": "execute_result"
    }
   ],
   "source": [
    "pd.DataFrame(record_path_list)"
   ]
  },
  {
   "cell_type": "code",
   "execution_count": 22,
   "id": "e35639e1",
   "metadata": {},
   "outputs": [
    {
     "ename": "TypeError",
     "evalue": "Mismatch between array dtype ('<U11') and format specifier ('%.18e')",
     "output_type": "error",
     "traceback": [
      "\u001b[0;31m---------------------------------------------------------------------------\u001b[0m",
      "\u001b[0;31mTypeError\u001b[0m                                 Traceback (most recent call last)",
      "\u001b[0;32m~/opt/anaconda3/envs/machineLearning/lib/python3.9/site-packages/numpy/lib/npyio.py\u001b[0m in \u001b[0;36msavetxt\u001b[0;34m(fname, X, fmt, delimiter, newline, header, footer, comments, encoding)\u001b[0m\n\u001b[1;32m   1434\u001b[0m                 \u001b[0;32mtry\u001b[0m\u001b[0;34m:\u001b[0m\u001b[0;34m\u001b[0m\u001b[0;34m\u001b[0m\u001b[0m\n\u001b[0;32m-> 1435\u001b[0;31m                     \u001b[0mv\u001b[0m \u001b[0;34m=\u001b[0m \u001b[0mformat\u001b[0m \u001b[0;34m%\u001b[0m \u001b[0mtuple\u001b[0m\u001b[0;34m(\u001b[0m\u001b[0mrow\u001b[0m\u001b[0;34m)\u001b[0m \u001b[0;34m+\u001b[0m \u001b[0mnewline\u001b[0m\u001b[0;34m\u001b[0m\u001b[0;34m\u001b[0m\u001b[0m\n\u001b[0m\u001b[1;32m   1436\u001b[0m                 \u001b[0;32mexcept\u001b[0m \u001b[0mTypeError\u001b[0m \u001b[0;32mas\u001b[0m \u001b[0me\u001b[0m\u001b[0;34m:\u001b[0m\u001b[0;34m\u001b[0m\u001b[0;34m\u001b[0m\u001b[0m\n",
      "\u001b[0;31mTypeError\u001b[0m: must be real number, not numpy.str_",
      "\nThe above exception was the direct cause of the following exception:\n",
      "\u001b[0;31mTypeError\u001b[0m                                 Traceback (most recent call last)",
      "\u001b[0;32m/var/folders/nz/sb00j4qn77zgd_s3v803w9ym0000gn/T/ipykernel_41595/3299988164.py\u001b[0m in \u001b[0;36m<module>\u001b[0;34m\u001b[0m\n\u001b[0;32m----> 1\u001b[0;31m \u001b[0mnp\u001b[0m\u001b[0;34m.\u001b[0m\u001b[0msavetxt\u001b[0m\u001b[0;34m(\u001b[0m\u001b[0mrecord_path_local\u001b[0m\u001b[0;34m,\u001b[0m \u001b[0mrecord_path_list\u001b[0m\u001b[0;34m,\u001b[0m \u001b[0mdelimiter\u001b[0m \u001b[0;34m=\u001b[0m\u001b[0;34m\", \"\u001b[0m \u001b[0;34m)\u001b[0m \u001b[0;31m#, fmt ='% s')\u001b[0m\u001b[0;34m\u001b[0m\u001b[0;34m\u001b[0m\u001b[0m\n\u001b[0m",
      "\u001b[0;32m<__array_function__ internals>\u001b[0m in \u001b[0;36msavetxt\u001b[0;34m(*args, **kwargs)\u001b[0m\n",
      "\u001b[0;32m~/opt/anaconda3/envs/machineLearning/lib/python3.9/site-packages/numpy/lib/npyio.py\u001b[0m in \u001b[0;36msavetxt\u001b[0;34m(fname, X, fmt, delimiter, newline, header, footer, comments, encoding)\u001b[0m\n\u001b[1;32m   1435\u001b[0m                     \u001b[0mv\u001b[0m \u001b[0;34m=\u001b[0m \u001b[0mformat\u001b[0m \u001b[0;34m%\u001b[0m \u001b[0mtuple\u001b[0m\u001b[0;34m(\u001b[0m\u001b[0mrow\u001b[0m\u001b[0;34m)\u001b[0m \u001b[0;34m+\u001b[0m \u001b[0mnewline\u001b[0m\u001b[0;34m\u001b[0m\u001b[0;34m\u001b[0m\u001b[0m\n\u001b[1;32m   1436\u001b[0m                 \u001b[0;32mexcept\u001b[0m \u001b[0mTypeError\u001b[0m \u001b[0;32mas\u001b[0m \u001b[0me\u001b[0m\u001b[0;34m:\u001b[0m\u001b[0;34m\u001b[0m\u001b[0;34m\u001b[0m\u001b[0m\n\u001b[0;32m-> 1437\u001b[0;31m                     raise TypeError(\"Mismatch between array dtype ('%s') and \"\n\u001b[0m\u001b[1;32m   1438\u001b[0m                                     \u001b[0;34m\"format specifier ('%s')\"\u001b[0m\u001b[0;34m\u001b[0m\u001b[0;34m\u001b[0m\u001b[0m\n\u001b[1;32m   1439\u001b[0m                                     % (str(X.dtype), format)) from e\n",
      "\u001b[0;31mTypeError\u001b[0m: Mismatch between array dtype ('<U11') and format specifier ('%.18e')"
     ]
    }
   ],
   "source": [
    "np.savetxt(record_path_local, record_path_list, delimiter =\", \" ) #, fmt ='% s')"
   ]
  },
  {
   "cell_type": "code",
   "execution_count": null,
   "id": "a1377766",
   "metadata": {},
   "outputs": [],
   "source": []
  }
 ],
 "metadata": {
  "kernelspec": {
   "display_name": "Python 3 (ipykernel)",
   "language": "python",
   "name": "python3"
  },
  "language_info": {
   "codemirror_mode": {
    "name": "ipython",
    "version": 3
   },
   "file_extension": ".py",
   "mimetype": "text/x-python",
   "name": "python",
   "nbconvert_exporter": "python",
   "pygments_lexer": "ipython3",
   "version": "3.9.7"
  }
 },
 "nbformat": 4,
 "nbformat_minor": 5
}

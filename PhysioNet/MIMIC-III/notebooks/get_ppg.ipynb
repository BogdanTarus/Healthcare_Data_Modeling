{
 "cells": [
  {
   "cell_type": "code",
   "execution_count": 15,
   "id": "b30cb4f3",
   "metadata": {},
   "outputs": [],
   "source": [
    "import numpy as np\n",
    "import pandas as pd\n",
    "import os.path\n",
    "import urllib3"
   ]
  },
  {
   "cell_type": "code",
   "execution_count": 16,
   "id": "0e8ad6a5",
   "metadata": {},
   "outputs": [
    {
     "name": "stdout",
     "output_type": "stream",
     "text": [
      "total 0\r\n"
     ]
    }
   ],
   "source": [
    "!ls -l ../../../2_data/"
   ]
  },
  {
   "cell_type": "code",
   "execution_count": 22,
   "id": "892332cb",
   "metadata": {},
   "outputs": [],
   "source": [
    "records_local_path = '../../../2_data/records_mimic3.csv'\n",
    "records_url_path = 'https://archive.physionet.org/physiobank/database/mimic3wdb/RECORDS'\n",
    "\n",
    "if os.path.exists(records_local_path):\n",
    "    records = pd.read_csv(records_local_path, header=None)\n",
    "else:\n",
    "    target_url = records_url_path\n",
    "    http       = urllib3.PoolManager()\n",
    "    response   = http.request('GET', target_url)\n",
    "    data       = response.data.decode('utf-8')\n",
    "    records    = pd.DataFrame(data.splitlines())\n",
    "    records.to_csv(records_local_path, header=None, index=None)"
   ]
  },
  {
   "cell_type": "code",
   "execution_count": 23,
   "id": "6782fcd5",
   "metadata": {},
   "outputs": [
    {
     "name": "stdout",
     "output_type": "stream",
     "text": [
      "<class 'pandas.core.frame.DataFrame'>\n",
      "(67830, 1)\n",
      "             0\n",
      "0  30/3000003/\n",
      "1  30/3000031/\n",
      "2  30/3000051/\n",
      "3  30/3000060/\n",
      "4  30/3000063/\n",
      "                 0\n",
      "67825  39/3999944/\n",
      "67826  39/3999953/\n",
      "67827  39/3999968/\n",
      "67828  39/3999986/\n",
      "67829  39/3999988/\n"
     ]
    }
   ],
   "source": [
    "print(type(records))\n",
    "print(records.shape)\n",
    "print(records.head())\n",
    "print(records.tail())\n",
    "#print(records.iloc[:5,:])\n",
    "#print(records.iloc[-5:,:])"
   ]
  },
  {
   "cell_type": "code",
   "execution_count": 24,
   "id": "4a4a75c1",
   "metadata": {},
   "outputs": [
    {
     "name": "stdout",
     "output_type": "stream",
     "text": [
      "0    30/3000003/\n",
      "Name: 0, dtype: object\n"
     ]
    }
   ],
   "source": [
    "print(records.iloc[0,:])"
   ]
  },
  {
   "cell_type": "code",
   "execution_count": 25,
   "id": "b9728b5e",
   "metadata": {},
   "outputs": [
    {
     "name": "stdout",
     "output_type": "stream",
     "text": [
      "0    39/3999988/\n",
      "Name: 67829, dtype: object\n"
     ]
    }
   ],
   "source": [
    "print(records.iloc[-1,:])"
   ]
  },
  {
   "cell_type": "code",
   "execution_count": null,
   "id": "7cc03f42",
   "metadata": {},
   "outputs": [],
   "source": []
  }
 ],
 "metadata": {
  "kernelspec": {
   "display_name": "Python 3 (ipykernel)",
   "language": "python",
   "name": "python3"
  },
  "language_info": {
   "codemirror_mode": {
    "name": "ipython",
    "version": 3
   },
   "file_extension": ".py",
   "mimetype": "text/x-python",
   "name": "python",
   "nbconvert_exporter": "python",
   "pygments_lexer": "ipython3",
   "version": "3.9.7"
  }
 },
 "nbformat": 4,
 "nbformat_minor": 5
}

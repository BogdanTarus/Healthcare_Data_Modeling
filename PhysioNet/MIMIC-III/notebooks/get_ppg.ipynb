{
 "cells": [
  {
   "cell_type": "code",
   "execution_count": 2,
   "id": "b30cb4f3",
   "metadata": {},
   "outputs": [],
   "source": [
    "import numpy as np\n",
    "import pandas as pd\n",
    "import os.path\n",
    "import urllib3"
   ]
  },
  {
   "cell_type": "code",
   "execution_count": 3,
   "id": "892332cb",
   "metadata": {},
   "outputs": [],
   "source": [
    "if os.path.exists('records.csv'):\n",
    "    records = pd.read_csv('records.csv')\n",
    "else:\n",
    "    target_url = 'https://archive.physionet.org/physiobank/database/mimic3wdb/RECORDS'\n",
    "    http       = urllib3.PoolManager()\n",
    "    response   = http.request('GET', target_url)\n",
    "    data       = response.data.decode('utf-8')\n",
    "    records    = pd.DataFrame(data.splitlines())\n",
    "    pd.to_csv('records.csv', header=None, index=None)"
   ]
  },
  {
   "cell_type": "code",
   "execution_count": 7,
   "id": "6782fcd5",
   "metadata": {},
   "outputs": [
    {
     "name": "stdout",
     "output_type": "stream",
     "text": [
      "(67829, 1)\n",
      "<class 'pandas.core.frame.DataFrame'>\n",
      "   30/3000003/\n",
      "0  30/3000031/\n",
      "1  30/3000051/\n",
      "2  30/3000060/\n",
      "3  30/3000063/\n",
      "4  30/3000065/\n"
     ]
    }
   ],
   "source": [
    "print(records.shape)\n",
    "print(type(records))\n",
    "print(records.iloc[:5,:])\n",
    "#print(records.iloc[-5:,:])"
   ]
  },
  {
   "cell_type": "code",
   "execution_count": null,
   "id": "4a4a75c1",
   "metadata": {},
   "outputs": [],
   "source": []
  }
 ],
 "metadata": {
  "kernelspec": {
   "display_name": "Python 3 (ipykernel)",
   "language": "python",
   "name": "python3"
  },
  "language_info": {
   "codemirror_mode": {
    "name": "ipython",
    "version": 3
   },
   "file_extension": ".py",
   "mimetype": "text/x-python",
   "name": "python",
   "nbconvert_exporter": "python",
   "pygments_lexer": "ipython3",
   "version": "3.9.7"
  }
 },
 "nbformat": 4,
 "nbformat_minor": 5
}

{
 "cells": [
  {
   "cell_type": "code",
   "execution_count": null,
   "id": "16a0568c",
   "metadata": {},
   "outputs": [],
   "source": [
    "import numpy as np\n",
    "import pandas as pd\n",
    "import os.path\n",
    "import urllib3"
   ]
  },
  {
   "cell_type": "code",
   "execution_count": null,
   "id": "90865f64",
   "metadata": {},
   "outputs": [],
   "source": [
    "records_path_local = '../../../2_data/records_mimic3.csv'\n",
    "records_root_url = 'https://archive.physionet.org/physiobank/database/mimic3wdb'\n",
    "records_path_url = records_root_url + '/RECORDS'"
   ]
  }
 ],
 "metadata": {
  "kernelspec": {
   "display_name": "Python 3 (ipykernel)",
   "language": "python",
   "name": "python3"
  },
  "language_info": {
   "codemirror_mode": {
    "name": "ipython",
    "version": 3
   },
   "file_extension": ".py",
   "mimetype": "text/x-python",
   "name": "python",
   "nbconvert_exporter": "python",
   "pygments_lexer": "ipython3",
   "version": "3.9.7"
  }
 },
 "nbformat": 4,
 "nbformat_minor": 5
}

{
 "cells": [
  {
   "cell_type": "code",
   "execution_count": 1,
   "id": "b80d4c57",
   "metadata": {},
   "outputs": [],
   "source": [
    "import numpy as np\n",
    "import pandas as pd\n",
    "import os.path\n",
    "import urllib3"
   ]
  },
  {
   "cell_type": "code",
   "execution_count": 3,
   "id": "61fcd774",
   "metadata": {},
   "outputs": [
    {
     "name": "stdout",
     "output_type": "stream",
     "text": [
      "record_path_local: ../../../2_data/record_path_mimic3.csv\n",
      "record_root_url: https://archive.physionet.org/physiobank/database/mimic3wdb\n",
      "record_path_url: https://archive.physionet.org/physiobank/database/mimic3wdb/RECORDS\n"
     ]
    }
   ],
   "source": [
    "record_path_local = '../../../2_data/record_path_mimic3.csv'\n",
    "record_root_url = 'https://archive.physionet.org/physiobank/database/mimic3wdb'\n",
    "record_path_url = record_root_url + '/RECORDS'\n",
    "\n",
    "print('record_path_local: {}'.format(record_path_local))\n",
    "print('record_root_url: {}'.format(record_root_url))\n",
    "print('record_path_url: {}'.format(record_path_url))"
   ]
  },
  {
   "cell_type": "code",
   "execution_count": 4,
   "id": "fe4c4d0a",
   "metadata": {},
   "outputs": [],
   "source": [
    "def get_info(target_url):\n",
    "    http       = urllib3.PoolManager()\n",
    "    response   = http.request('GET', target_url)\n",
    "    data       = response.data.decode('utf-8')\n",
    "    return data.splitlines()"
   ]
  },
  {
   "cell_type": "code",
   "execution_count": 5,
   "id": "2a8d2f4b",
   "metadata": {},
   "outputs": [
    {
     "name": "stdout",
     "output_type": "stream",
     "text": [
      "baubau_1\n"
     ]
    }
   ],
   "source": [
    "if os.path.exists(record_path_local):\n",
    "    record_path_list = pd.read_csv(record_path_local, header=None)\n",
    "    record_path_list = list(record_path_list.iloc[:,0])\n",
    "    print('baubau_1')\n",
    "else:\n",
    "    target_url = record_path_url\n",
    "    record_path_list = get_info(target_url)\n",
    "    pd.DataFrame(record_path_list).to_csv(record_path_local, header=None, index=None)\n",
    "    print('baubau_2')"
   ]
  },
  {
   "cell_type": "code",
   "execution_count": 13,
   "id": "3f1f02e1",
   "metadata": {},
   "outputs": [
    {
     "name": "stdout",
     "output_type": "stream",
     "text": [
      "0\n",
      "30/3000003/\n",
      "30\n",
      "3000003\n",
      "target_url: https://archive.physionet.org/physiobank/database/mimic3wdb/30/3000003/RECORDS\n",
      "1111111111111111\n"
     ]
    }
   ],
   "source": [
    "last_record = -1\n",
    "for i in range(last_record + 1, 1):\n",
    "    print(i)\n",
    "    record_path = record_path_list[i]\n",
    "    print(record_path)\n",
    "        \n",
    "    intermediate_directory = str(record_path.split(\"/\")[0])\n",
    "    print(intermediate_directory)\n",
    "    record_directory = str(record_path.split(\"/\")[1])\n",
    "    print(record_directory)\n",
    "    \n",
    "    target_url = record_root_url + '/' + record_path + 'RECORDS'\n",
    "    print('target_url: {}'.format(target_url))\n",
    "    #record_segments_path_list = get_info(target_url)\n",
    "    \n",
    "    #print('record_segments_path_url: {}'.format(record_segments_path_url))\n",
    "    \n",
    "    print('1111111111111111')\n"
   ]
  },
  {
   "cell_type": "code",
   "execution_count": 12,
   "id": "f39852c3",
   "metadata": {},
   "outputs": [
    {
     "data": {
      "text/plain": [
       "'30/3000003/'"
      ]
     },
     "execution_count": 12,
     "metadata": {},
     "output_type": "execute_result"
    }
   ],
   "source": [
    "record_path"
   ]
  },
  {
   "cell_type": "code",
   "execution_count": 11,
   "id": "a87ffd33",
   "metadata": {},
   "outputs": [
    {
     "data": {
      "text/plain": [
       "'https://archive.physionet.org/physiobank/database/mimic3wdb/30/3000003//RECORDS'"
      ]
     },
     "execution_count": 11,
     "metadata": {},
     "output_type": "execute_result"
    }
   ],
   "source": [
    "target_url"
   ]
  },
  {
   "cell_type": "code",
   "execution_count": null,
   "id": "ac723073",
   "metadata": {},
   "outputs": [],
   "source": []
  }
 ],
 "metadata": {
  "kernelspec": {
   "display_name": "Python 3 (ipykernel)",
   "language": "python",
   "name": "python3"
  },
  "language_info": {
   "codemirror_mode": {
    "name": "ipython",
    "version": 3
   },
   "file_extension": ".py",
   "mimetype": "text/x-python",
   "name": "python",
   "nbconvert_exporter": "python",
   "pygments_lexer": "ipython3",
   "version": "3.9.7"
  }
 },
 "nbformat": 4,
 "nbformat_minor": 5
}

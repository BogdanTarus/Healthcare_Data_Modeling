{
 "cells": [
  {
   "cell_type": "code",
   "execution_count": 2,
   "id": "9569cc04",
   "metadata": {},
   "outputs": [],
   "source": [
    "from urllib.request import Request, urlopen, urlretrieve\n",
    "from bs4 import BeautifulSoup"
   ]
  },
  {
   "cell_type": "code",
   "execution_count": 3,
   "id": "ae3b9e81",
   "metadata": {},
   "outputs": [],
   "source": [
    "def read_url(url):\n",
    "    url = url.replace(\" \",\"%20\")\n",
    "    req = Request(url)\n",
    "    a = urlopen(req).read()\n",
    "    soup = BeautifulSoup(a, 'html.parser')\n",
    "    x = (soup.find_all('a'))\n",
    "    for i in x:\n",
    "        file_name = i.extract().get_text()\n",
    "        url_new = url + file_name\n",
    "        url_new = url_new.replace(\" \",\"%20\")\n",
    "        if(file_name[-1]=='/' and file_name[0]!='.'):\n",
    "            read_url(url_new)\n",
    "        print(url_new)"
   ]
  },
  {
   "cell_type": "code",
   "execution_count": 6,
   "id": "a70e065d",
   "metadata": {},
   "outputs": [
    {
     "ename": "IndexError",
     "evalue": "string index out of range",
     "output_type": "error",
     "traceback": [
      "\u001b[0;31m---------------------------------------------------------------------------\u001b[0m",
      "\u001b[0;31mIndexError\u001b[0m                                Traceback (most recent call last)",
      "\u001b[0;32m/var/folders/nz/sb00j4qn77zgd_s3v803w9ym0000gn/T/ipykernel_44278/2720322640.py\u001b[0m in \u001b[0;36m<module>\u001b[0;34m\u001b[0m\n\u001b[0;32m----> 1\u001b[0;31m \u001b[0mread_url\u001b[0m\u001b[0;34m(\u001b[0m\u001b[0;34m\"https://www.iana.org/domains/reserved\"\u001b[0m\u001b[0;34m)\u001b[0m\u001b[0;34m\u001b[0m\u001b[0;34m\u001b[0m\u001b[0m\n\u001b[0m",
      "\u001b[0;32m/var/folders/nz/sb00j4qn77zgd_s3v803w9ym0000gn/T/ipykernel_44278/2645208856.py\u001b[0m in \u001b[0;36mread_url\u001b[0;34m(url)\u001b[0m\n\u001b[1;32m      9\u001b[0m         \u001b[0murl_new\u001b[0m \u001b[0;34m=\u001b[0m \u001b[0murl\u001b[0m \u001b[0;34m+\u001b[0m \u001b[0mfile_name\u001b[0m\u001b[0;34m\u001b[0m\u001b[0;34m\u001b[0m\u001b[0m\n\u001b[1;32m     10\u001b[0m         \u001b[0murl_new\u001b[0m \u001b[0;34m=\u001b[0m \u001b[0murl_new\u001b[0m\u001b[0;34m.\u001b[0m\u001b[0mreplace\u001b[0m\u001b[0;34m(\u001b[0m\u001b[0;34m\" \"\u001b[0m\u001b[0;34m,\u001b[0m\u001b[0;34m\"%20\"\u001b[0m\u001b[0;34m)\u001b[0m\u001b[0;34m\u001b[0m\u001b[0;34m\u001b[0m\u001b[0m\n\u001b[0;32m---> 11\u001b[0;31m         \u001b[0;32mif\u001b[0m\u001b[0;34m(\u001b[0m\u001b[0mfile_name\u001b[0m\u001b[0;34m[\u001b[0m\u001b[0;34m-\u001b[0m\u001b[0;36m1\u001b[0m\u001b[0;34m]\u001b[0m\u001b[0;34m==\u001b[0m\u001b[0;34m'/'\u001b[0m \u001b[0;32mand\u001b[0m \u001b[0mfile_name\u001b[0m\u001b[0;34m[\u001b[0m\u001b[0;36m0\u001b[0m\u001b[0;34m]\u001b[0m\u001b[0;34m!=\u001b[0m\u001b[0;34m'.'\u001b[0m\u001b[0;34m)\u001b[0m\u001b[0;34m:\u001b[0m\u001b[0;34m\u001b[0m\u001b[0;34m\u001b[0m\u001b[0m\n\u001b[0m\u001b[1;32m     12\u001b[0m             \u001b[0mread_url\u001b[0m\u001b[0;34m(\u001b[0m\u001b[0murl_new\u001b[0m\u001b[0;34m)\u001b[0m\u001b[0;34m\u001b[0m\u001b[0;34m\u001b[0m\u001b[0m\n\u001b[1;32m     13\u001b[0m         \u001b[0mprint\u001b[0m\u001b[0;34m(\u001b[0m\u001b[0murl_new\u001b[0m\u001b[0;34m)\u001b[0m\u001b[0;34m\u001b[0m\u001b[0;34m\u001b[0m\u001b[0m\n",
      "\u001b[0;31mIndexError\u001b[0m: string index out of range"
     ]
    }
   ],
   "source": [
    "read_url(\"https://www.iana.org/domains/reserved\")"
   ]
  },
  {
   "cell_type": "code",
   "execution_count": 8,
   "id": "47d50a15",
   "metadata": {},
   "outputs": [
    {
     "data": {
      "text/plain": [
       "1240"
      ]
     },
     "execution_count": 8,
     "metadata": {},
     "output_type": "execute_result"
    }
   ],
   "source": [
    "5*248\n"
   ]
  },
  {
   "cell_type": "code",
   "execution_count": 9,
   "id": "d5d3bb9e",
   "metadata": {},
   "outputs": [],
   "source": [
    "details={'Name' : \"Alice\",\n",
    "         'Age' : 21,\n",
    "         'Degree' : \"Bachelor Cse\",\n",
    "         'University' : \"Northeastern Univ\"}\n"
   ]
  },
  {
   "cell_type": "code",
   "execution_count": 10,
   "id": "882323bd",
   "metadata": {},
   "outputs": [
    {
     "data": {
      "text/plain": [
       "{'Name': 'Alice',\n",
       " 'Age': 21,\n",
       " 'Degree': 'Bachelor Cse',\n",
       " 'University': 'Northeastern Univ'}"
      ]
     },
     "execution_count": 10,
     "metadata": {},
     "output_type": "execute_result"
    }
   ],
   "source": [
    "details"
   ]
  },
  {
   "cell_type": "code",
   "execution_count": 23,
   "id": "a838645c",
   "metadata": {},
   "outputs": [
    {
     "data": {
      "text/plain": [
       "{'Name': ['Alice', 'Julia'],\n",
       " 'Age': [21, 23],\n",
       " 'Degree': 'Bachelor Cse',\n",
       " 'University': 'Northeastern Univ',\n",
       " 'EEG': [[1, 2, 3, 4, 5, 1, 2, 3], [1, 3, 2, 4]]}"
      ]
     },
     "execution_count": 23,
     "metadata": {},
     "output_type": "execute_result"
    }
   ],
   "source": [
    "details={'Name' : [\"Alice\",\"Julia\"],\n",
    "         'Age' : [21,23],\n",
    "         'Degree' : \"Bachelor Cse\",\n",
    "         'University' : \"Northeastern Univ\",\n",
    "         'EEG': [[1,2,3,4,5,1,2,3],[1,3,2,4]]}\n",
    "details"
   ]
  },
  {
   "cell_type": "code",
   "execution_count": 24,
   "id": "a208e463",
   "metadata": {},
   "outputs": [
    {
     "data": {
      "text/plain": [
       "list"
      ]
     },
     "execution_count": 24,
     "metadata": {},
     "output_type": "execute_result"
    }
   ],
   "source": [
    "type(details['Name'])"
   ]
  },
  {
   "cell_type": "code",
   "execution_count": 22,
   "id": "7bae073d",
   "metadata": {},
   "outputs": [
    {
     "data": {
      "text/plain": [
       "'Alice'"
      ]
     },
     "execution_count": 22,
     "metadata": {},
     "output_type": "execute_result"
    }
   ],
   "source": [
    "details['Name'][0]"
   ]
  },
  {
   "cell_type": "code",
   "execution_count": 43,
   "id": "d2248505",
   "metadata": {},
   "outputs": [
    {
     "name": "stdout",
     "output_type": "stream",
     "text": [
      "y: -1.5342\n",
      "z: 0.1773800065233173\n",
      "z0: 0.47502081252106\n"
     ]
    }
   ],
   "source": [
    "import math\n",
    "x=-0.1\n",
    "y=0.042*x - 1.53\n",
    "print('y: {}'.format(y))\n",
    "z = 1/(1+math.exp(-y))\n",
    "print('z: {}'.format(z))\n",
    "\n",
    "z0 = 1/(1+math.exp(-x))\n",
    "print('z0: {}'.format(z0))"
   ]
  },
  {
   "cell_type": "code",
   "execution_count": 35,
   "id": "41e8d55f",
   "metadata": {},
   "outputs": [
    {
     "data": {
      "text/plain": [
       "0.2478708885604298"
      ]
     },
     "execution_count": 35,
     "metadata": {},
     "output_type": "execute_result"
    }
   ],
   "source": [
    "1/(1+math.exp(--1.11))\n"
   ]
  },
  {
   "cell_type": "code",
   "execution_count": null,
   "id": "5d7e75b0",
   "metadata": {},
   "outputs": [],
   "source": [
    "\n",
    "z = 1/(1+math.exp(-y))\n",
    "print('z: {}'.format(z))"
   ]
  }
 ],
 "metadata": {
  "kernelspec": {
   "display_name": "Python 3 (ipykernel)",
   "language": "python",
   "name": "python3"
  },
  "language_info": {
   "codemirror_mode": {
    "name": "ipython",
    "version": 3
   },
   "file_extension": ".py",
   "mimetype": "text/x-python",
   "name": "python",
   "nbconvert_exporter": "python",
   "pygments_lexer": "ipython3",
   "version": "3.9.7"
  }
 },
 "nbformat": 4,
 "nbformat_minor": 5
}

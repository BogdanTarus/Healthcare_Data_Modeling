{
 "cells": [
  {
   "cell_type": "code",
   "execution_count": 1,
   "id": "b02ae2ef",
   "metadata": {},
   "outputs": [],
   "source": [
    "import numpy as np\n",
    "import pandas as pd\n",
    "from datetime import datetime\n",
    "import matplotlib.pyplot as plt\n",
    "import os.path\n",
    "from bs4 import BeautifulSoup\n",
    "import requests"
   ]
  },
  {
   "cell_type": "code",
   "execution_count": 2,
   "id": "f1f60468",
   "metadata": {},
   "outputs": [],
   "source": [
    "record_segment_good_length_path = '../../../2_data/'"
   ]
  },
  {
   "cell_type": "code",
   "execution_count": 3,
   "id": "3ce0a365",
   "metadata": {},
   "outputs": [
    {
     "name": "stdout",
     "output_type": "stream",
     "text": [
      "total 15048\r\n",
      "-rw-r--r--  1 tarus  staff   813960 Jan 16 13:33 record_path_mimic3.csv\r\n",
      "-rw-r--r--  1 tarus  staff   825729 Jan 31 16:13 record_path_mimic3_matched.csv\r\n",
      "-rw-r--r--  1 tarus  staff   149932 Feb  1 12:24 record_segment_good_length_0_1999.csv\r\n",
      "-rw-r--r--  1 tarus  staff  1354163 Feb  1 19:44 record_segment_good_length_10000_14999.csv\r\n",
      "-rw-r--r--  1 tarus  staff  1299122 Feb  1 21:11 record_segment_good_length_15000_19999.csv\r\n",
      "-rw-r--r--  1 tarus  staff   250686 Feb  1 21:51 record_segment_good_length_20000_22317.csv\r\n",
      "-rw-r--r--  1 tarus  staff   196239 Feb  1 13:34 record_segment_good_length_2000_3999.csv\r\n",
      "-rw-r--r--  1 tarus  staff   217590 Feb  1 16:42 record_segment_good_length_4000_5999.csv\r\n",
      "-rw-r--r--  1 tarus  staff   461693 Feb  1 17:20 record_segment_good_length_6000_7999.csv\r\n",
      "-rw-r--r--  1 tarus  staff   437469 Feb  1 17:56 record_segment_good_length_8000_9999.csv\r\n"
     ]
    }
   ],
   "source": [
    "!ls -l $record_segment_good_length_path"
   ]
  },
  {
   "cell_type": "code",
   "execution_count": 7,
   "id": "b72d4769",
   "metadata": {},
   "outputs": [
    {
     "name": "stdout",
     "output_type": "stream",
     "text": [
      "record_list_file: ../../../2_data/record_segment_good_length_0_1999.csv\n"
     ]
    }
   ],
   "source": [
    "first_record = 0\n",
    "last_record = 1999\n",
    "record_list_file = record_segment_good_length_path + 'record_segment_good_length_' + str(first_record) + '_' + str(last_record) + '.csv'\n",
    "print('record_list_file: {}'.format(record_list_file))"
   ]
  },
  {
   "cell_type": "code",
   "execution_count": 8,
   "id": "c1e8dd5b",
   "metadata": {},
   "outputs": [
    {
     "name": "stdout",
     "output_type": "stream",
     "text": [
      "-rw-r--r--  1 tarus  staff  149932 Feb  1 12:24 ../../../2_data/record_segment_good_length_0_1999.csv\r\n"
     ]
    }
   ],
   "source": [
    "!ls -l $record_list_file"
   ]
  },
  {
   "cell_type": "code",
   "execution_count": 12,
   "id": "bb89b847",
   "metadata": {},
   "outputs": [],
   "source": [
    "segment_list_1 = pd.read_csv(record_list_file, header=None)"
   ]
  },
  {
   "cell_type": "code",
   "execution_count": 13,
   "id": "a0c2c68a",
   "metadata": {},
   "outputs": [
    {
     "data": {
      "text/html": [
       "<div>\n",
       "<style scoped>\n",
       "    .dataframe tbody tr th:only-of-type {\n",
       "        vertical-align: middle;\n",
       "    }\n",
       "\n",
       "    .dataframe tbody tr th {\n",
       "        vertical-align: top;\n",
       "    }\n",
       "\n",
       "    .dataframe thead th {\n",
       "        text-align: right;\n",
       "    }\n",
       "</style>\n",
       "<table border=\"1\" class=\"dataframe\">\n",
       "  <thead>\n",
       "    <tr style=\"text-align: right;\">\n",
       "      <th></th>\n",
       "      <th>0</th>\n",
       "      <th>1</th>\n",
       "      <th>2</th>\n",
       "    </tr>\n",
       "  </thead>\n",
       "  <tbody>\n",
       "    <tr>\n",
       "      <th>0</th>\n",
       "      <td>1</td>\n",
       "      <td>10</td>\n",
       "      <td>p00/p000107/3860035_0001</td>\n",
       "    </tr>\n",
       "    <tr>\n",
       "      <th>1</th>\n",
       "      <td>1</td>\n",
       "      <td>10</td>\n",
       "      <td>p00/p000107/3860035_0004</td>\n",
       "    </tr>\n",
       "    <tr>\n",
       "      <th>2</th>\n",
       "      <td>1</td>\n",
       "      <td>10</td>\n",
       "      <td>p00/p000107/3860035_0006</td>\n",
       "    </tr>\n",
       "    <tr>\n",
       "      <th>3</th>\n",
       "      <td>1</td>\n",
       "      <td>10</td>\n",
       "      <td>p00/p000107/3860035_0009</td>\n",
       "    </tr>\n",
       "    <tr>\n",
       "      <th>4</th>\n",
       "      <td>1</td>\n",
       "      <td>10</td>\n",
       "      <td>p00/p000107/3860035_0010</td>\n",
       "    </tr>\n",
       "    <tr>\n",
       "      <th>...</th>\n",
       "      <td>...</td>\n",
       "      <td>...</td>\n",
       "      <td>...</td>\n",
       "    </tr>\n",
       "    <tr>\n",
       "      <th>4526</th>\n",
       "      <td>332</td>\n",
       "      <td>1996</td>\n",
       "      <td>p00/p008061/3145453_0015</td>\n",
       "    </tr>\n",
       "    <tr>\n",
       "      <th>4527</th>\n",
       "      <td>332</td>\n",
       "      <td>1996</td>\n",
       "      <td>p00/p008061/3145453_0016</td>\n",
       "    </tr>\n",
       "    <tr>\n",
       "      <th>4528</th>\n",
       "      <td>332</td>\n",
       "      <td>1996</td>\n",
       "      <td>p00/p008061/3145453_0017</td>\n",
       "    </tr>\n",
       "    <tr>\n",
       "      <th>4529</th>\n",
       "      <td>332</td>\n",
       "      <td>1996</td>\n",
       "      <td>p00/p008061/3145453_0019</td>\n",
       "    </tr>\n",
       "    <tr>\n",
       "      <th>4530</th>\n",
       "      <td>332</td>\n",
       "      <td>1996</td>\n",
       "      <td>p00/p008061/3145453_0020</td>\n",
       "    </tr>\n",
       "  </tbody>\n",
       "</table>\n",
       "<p>4531 rows × 3 columns</p>\n",
       "</div>"
      ],
      "text/plain": [
       "        0     1                         2\n",
       "0       1    10  p00/p000107/3860035_0001\n",
       "1       1    10  p00/p000107/3860035_0004\n",
       "2       1    10  p00/p000107/3860035_0006\n",
       "3       1    10  p00/p000107/3860035_0009\n",
       "4       1    10  p00/p000107/3860035_0010\n",
       "...   ...   ...                       ...\n",
       "4526  332  1996  p00/p008061/3145453_0015\n",
       "4527  332  1996  p00/p008061/3145453_0016\n",
       "4528  332  1996  p00/p008061/3145453_0017\n",
       "4529  332  1996  p00/p008061/3145453_0019\n",
       "4530  332  1996  p00/p008061/3145453_0020\n",
       "\n",
       "[4531 rows x 3 columns]"
      ]
     },
     "execution_count": 13,
     "metadata": {},
     "output_type": "execute_result"
    }
   ],
   "source": [
    "segment_list_1"
   ]
  },
  {
   "cell_type": "code",
   "execution_count": 35,
   "id": "e03229e8",
   "metadata": {},
   "outputs": [
    {
     "data": {
      "text/html": [
       "<div>\n",
       "<style scoped>\n",
       "    .dataframe tbody tr th:only-of-type {\n",
       "        vertical-align: middle;\n",
       "    }\n",
       "\n",
       "    .dataframe tbody tr th {\n",
       "        vertical-align: top;\n",
       "    }\n",
       "\n",
       "    .dataframe thead th {\n",
       "        text-align: right;\n",
       "    }\n",
       "</style>\n",
       "<table border=\"1\" class=\"dataframe\">\n",
       "  <thead>\n",
       "    <tr style=\"text-align: right;\">\n",
       "      <th></th>\n",
       "      <th>record_selected_count</th>\n",
       "      <th>record_index_all</th>\n",
       "      <th>root</th>\n",
       "    </tr>\n",
       "  </thead>\n",
       "  <tbody>\n",
       "    <tr>\n",
       "      <th>0</th>\n",
       "      <td>1</td>\n",
       "      <td>10</td>\n",
       "      <td>p00/p000107/3860035_0001</td>\n",
       "    </tr>\n",
       "    <tr>\n",
       "      <th>1</th>\n",
       "      <td>1</td>\n",
       "      <td>10</td>\n",
       "      <td>p00/p000107/3860035_0004</td>\n",
       "    </tr>\n",
       "    <tr>\n",
       "      <th>2</th>\n",
       "      <td>1</td>\n",
       "      <td>10</td>\n",
       "      <td>p00/p000107/3860035_0006</td>\n",
       "    </tr>\n",
       "    <tr>\n",
       "      <th>3</th>\n",
       "      <td>1</td>\n",
       "      <td>10</td>\n",
       "      <td>p00/p000107/3860035_0009</td>\n",
       "    </tr>\n",
       "    <tr>\n",
       "      <th>4</th>\n",
       "      <td>1</td>\n",
       "      <td>10</td>\n",
       "      <td>p00/p000107/3860035_0010</td>\n",
       "    </tr>\n",
       "    <tr>\n",
       "      <th>5</th>\n",
       "      <td>1</td>\n",
       "      <td>10</td>\n",
       "      <td>p00/p000107/3860035_0011</td>\n",
       "    </tr>\n",
       "    <tr>\n",
       "      <th>6</th>\n",
       "      <td>1</td>\n",
       "      <td>10</td>\n",
       "      <td>p00/p000107/3860035_0012</td>\n",
       "    </tr>\n",
       "    <tr>\n",
       "      <th>7</th>\n",
       "      <td>1</td>\n",
       "      <td>10</td>\n",
       "      <td>p00/p000107/3860035_0014</td>\n",
       "    </tr>\n",
       "    <tr>\n",
       "      <th>8</th>\n",
       "      <td>1</td>\n",
       "      <td>10</td>\n",
       "      <td>p00/p000107/3860035_0016</td>\n",
       "    </tr>\n",
       "    <tr>\n",
       "      <th>9</th>\n",
       "      <td>1</td>\n",
       "      <td>10</td>\n",
       "      <td>p00/p000107/3860035_0022</td>\n",
       "    </tr>\n",
       "    <tr>\n",
       "      <th>10</th>\n",
       "      <td>1</td>\n",
       "      <td>10</td>\n",
       "      <td>p00/p000107/3860035_0024</td>\n",
       "    </tr>\n",
       "    <tr>\n",
       "      <th>11</th>\n",
       "      <td>1</td>\n",
       "      <td>10</td>\n",
       "      <td>p00/p000107/3860035_0029</td>\n",
       "    </tr>\n",
       "    <tr>\n",
       "      <th>12</th>\n",
       "      <td>1</td>\n",
       "      <td>10</td>\n",
       "      <td>p00/p000107/3860035_0031</td>\n",
       "    </tr>\n",
       "    <tr>\n",
       "      <th>13</th>\n",
       "      <td>1</td>\n",
       "      <td>10</td>\n",
       "      <td>p00/p000107/3860035_0032</td>\n",
       "    </tr>\n",
       "    <tr>\n",
       "      <th>14</th>\n",
       "      <td>1</td>\n",
       "      <td>10</td>\n",
       "      <td>p00/p000107/3860035_0034</td>\n",
       "    </tr>\n",
       "    <tr>\n",
       "      <th>15</th>\n",
       "      <td>1</td>\n",
       "      <td>10</td>\n",
       "      <td>p00/p000107/3860035_0037</td>\n",
       "    </tr>\n",
       "    <tr>\n",
       "      <th>16</th>\n",
       "      <td>1</td>\n",
       "      <td>10</td>\n",
       "      <td>p00/p000107/3860035_0040</td>\n",
       "    </tr>\n",
       "    <tr>\n",
       "      <th>17</th>\n",
       "      <td>1</td>\n",
       "      <td>10</td>\n",
       "      <td>p00/p000107/3860035_0044</td>\n",
       "    </tr>\n",
       "    <tr>\n",
       "      <th>18</th>\n",
       "      <td>2</td>\n",
       "      <td>11</td>\n",
       "      <td>p00/p000107/3746356_0006</td>\n",
       "    </tr>\n",
       "    <tr>\n",
       "      <th>19</th>\n",
       "      <td>2</td>\n",
       "      <td>11</td>\n",
       "      <td>p00/p000107/3746356_0008</td>\n",
       "    </tr>\n",
       "    <tr>\n",
       "      <th>20</th>\n",
       "      <td>2</td>\n",
       "      <td>11</td>\n",
       "      <td>p00/p000107/3746356_0012</td>\n",
       "    </tr>\n",
       "    <tr>\n",
       "      <th>21</th>\n",
       "      <td>2</td>\n",
       "      <td>11</td>\n",
       "      <td>p00/p000107/3746356_0016</td>\n",
       "    </tr>\n",
       "    <tr>\n",
       "      <th>22</th>\n",
       "      <td>2</td>\n",
       "      <td>11</td>\n",
       "      <td>p00/p000107/3746356_0018</td>\n",
       "    </tr>\n",
       "    <tr>\n",
       "      <th>23</th>\n",
       "      <td>2</td>\n",
       "      <td>11</td>\n",
       "      <td>p00/p000107/3746356_0021</td>\n",
       "    </tr>\n",
       "    <tr>\n",
       "      <th>24</th>\n",
       "      <td>2</td>\n",
       "      <td>11</td>\n",
       "      <td>p00/p000107/3746356_0028</td>\n",
       "    </tr>\n",
       "    <tr>\n",
       "      <th>25</th>\n",
       "      <td>2</td>\n",
       "      <td>11</td>\n",
       "      <td>p00/p000107/3746356_0030</td>\n",
       "    </tr>\n",
       "    <tr>\n",
       "      <th>26</th>\n",
       "      <td>3</td>\n",
       "      <td>27</td>\n",
       "      <td>p00/p000124/3931528_0006</td>\n",
       "    </tr>\n",
       "    <tr>\n",
       "      <th>27</th>\n",
       "      <td>3</td>\n",
       "      <td>27</td>\n",
       "      <td>p00/p000124/3931528_0008</td>\n",
       "    </tr>\n",
       "    <tr>\n",
       "      <th>28</th>\n",
       "      <td>3</td>\n",
       "      <td>27</td>\n",
       "      <td>p00/p000124/3931528_0010</td>\n",
       "    </tr>\n",
       "    <tr>\n",
       "      <th>29</th>\n",
       "      <td>3</td>\n",
       "      <td>27</td>\n",
       "      <td>p00/p000124/3931528_0011</td>\n",
       "    </tr>\n",
       "  </tbody>\n",
       "</table>\n",
       "</div>"
      ],
      "text/plain": [
       "    record_selected_count  record_index_all                      root\n",
       "0                       1                10  p00/p000107/3860035_0001\n",
       "1                       1                10  p00/p000107/3860035_0004\n",
       "2                       1                10  p00/p000107/3860035_0006\n",
       "3                       1                10  p00/p000107/3860035_0009\n",
       "4                       1                10  p00/p000107/3860035_0010\n",
       "5                       1                10  p00/p000107/3860035_0011\n",
       "6                       1                10  p00/p000107/3860035_0012\n",
       "7                       1                10  p00/p000107/3860035_0014\n",
       "8                       1                10  p00/p000107/3860035_0016\n",
       "9                       1                10  p00/p000107/3860035_0022\n",
       "10                      1                10  p00/p000107/3860035_0024\n",
       "11                      1                10  p00/p000107/3860035_0029\n",
       "12                      1                10  p00/p000107/3860035_0031\n",
       "13                      1                10  p00/p000107/3860035_0032\n",
       "14                      1                10  p00/p000107/3860035_0034\n",
       "15                      1                10  p00/p000107/3860035_0037\n",
       "16                      1                10  p00/p000107/3860035_0040\n",
       "17                      1                10  p00/p000107/3860035_0044\n",
       "18                      2                11  p00/p000107/3746356_0006\n",
       "19                      2                11  p00/p000107/3746356_0008\n",
       "20                      2                11  p00/p000107/3746356_0012\n",
       "21                      2                11  p00/p000107/3746356_0016\n",
       "22                      2                11  p00/p000107/3746356_0018\n",
       "23                      2                11  p00/p000107/3746356_0021\n",
       "24                      2                11  p00/p000107/3746356_0028\n",
       "25                      2                11  p00/p000107/3746356_0030\n",
       "26                      3                27  p00/p000124/3931528_0006\n",
       "27                      3                27  p00/p000124/3931528_0008\n",
       "28                      3                27  p00/p000124/3931528_0010\n",
       "29                      3                27  p00/p000124/3931528_0011"
      ]
     },
     "execution_count": 35,
     "metadata": {},
     "output_type": "execute_result"
    }
   ],
   "source": [
    "segment_list_1.head(30)"
   ]
  },
  {
   "cell_type": "code",
   "execution_count": 27,
   "id": "fbf1dc32",
   "metadata": {},
   "outputs": [],
   "source": [
    "segment_list_1.columns = ['record_selected_count','record_index_all','root']"
   ]
  },
  {
   "cell_type": "code",
   "execution_count": 28,
   "id": "26f2209a",
   "metadata": {},
   "outputs": [
    {
     "data": {
      "text/plain": [
       "Index(['record_selected_count', 'record_index_all', 'root'], dtype='object')"
      ]
     },
     "execution_count": 28,
     "metadata": {},
     "output_type": "execute_result"
    }
   ],
   "source": [
    "segment_list_1.columns"
   ]
  },
  {
   "cell_type": "code",
   "execution_count": 20,
   "id": "2327b36a",
   "metadata": {},
   "outputs": [
    {
     "data": {
      "text/plain": [
       "'p00/p000107/3860035_0001'"
      ]
     },
     "execution_count": 20,
     "metadata": {},
     "output_type": "execute_result"
    }
   ],
   "source": [
    "segment_list_1.iloc[0,2]"
   ]
  },
  {
   "cell_type": "code",
   "execution_count": 44,
   "id": "862e67f2",
   "metadata": {},
   "outputs": [
    {
     "data": {
      "text/plain": [
       "['p00/p000107/3860035_0001',\n",
       " 'p00/p000107/3860035_0004',\n",
       " 'p00/p000107/3860035_0006',\n",
       " 'p00/p000107/3860035_0009',\n",
       " 'p00/p000107/3860035_0010',\n",
       " 'p00/p000107/3860035_0011',\n",
       " 'p00/p000107/3860035_0012',\n",
       " 'p00/p000107/3860035_0014',\n",
       " 'p00/p000107/3860035_0016',\n",
       " 'p00/p000107/3860035_0022',\n",
       " 'p00/p000107/3860035_0024',\n",
       " 'p00/p000107/3860035_0029',\n",
       " 'p00/p000107/3860035_0031',\n",
       " 'p00/p000107/3860035_0032',\n",
       " 'p00/p000107/3860035_0034',\n",
       " 'p00/p000107/3860035_0037',\n",
       " 'p00/p000107/3860035_0040',\n",
       " 'p00/p000107/3860035_0044']"
      ]
     },
     "execution_count": 44,
     "metadata": {},
     "output_type": "execute_result"
    }
   ],
   "source": [
    "segment_list_1.groupby('record_selected_count',as_index=False).agg(list)['root'][0]"
   ]
  },
  {
   "cell_type": "code",
   "execution_count": null,
   "id": "09877245",
   "metadata": {},
   "outputs": [],
   "source": []
  }
 ],
 "metadata": {
  "kernelspec": {
   "display_name": "Python 3 (ipykernel)",
   "language": "python",
   "name": "python3"
  },
  "language_info": {
   "codemirror_mode": {
    "name": "ipython",
    "version": 3
   },
   "file_extension": ".py",
   "mimetype": "text/x-python",
   "name": "python",
   "nbconvert_exporter": "python",
   "pygments_lexer": "ipython3",
   "version": "3.9.7"
  }
 },
 "nbformat": 4,
 "nbformat_minor": 5
}

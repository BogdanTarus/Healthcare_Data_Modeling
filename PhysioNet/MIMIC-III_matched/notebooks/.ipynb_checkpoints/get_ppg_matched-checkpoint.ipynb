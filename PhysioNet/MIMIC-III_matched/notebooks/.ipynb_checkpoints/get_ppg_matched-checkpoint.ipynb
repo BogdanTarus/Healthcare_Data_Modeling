{
 "cells": [
  {
   "cell_type": "markdown",
   "id": "ce255f93",
   "metadata": {},
   "source": [
    "**This notebook will collect PPG good segments from the MIMIC-III waveform database that is matched with the MIMIC-III clininical database. The matched MIMIC-III waveform database is a subset of the MIMIC-III waveform database.**"
   ]
  },
  {
   "cell_type": "markdown",
   "id": "d12a6112",
   "metadata": {},
   "source": [
    "### Import necessary libraries"
   ]
  },
  {
   "cell_type": "code",
   "execution_count": 1,
   "id": "0f6872da",
   "metadata": {},
   "outputs": [],
   "source": [
    "import numpy as np\n",
    "import pandas as pd\n",
    "import matplotlib.pyplot as plt\n",
    "import os.path\n",
    "import urllib3\n",
    "import wfdb"
   ]
  },
  {
   "cell_type": "code",
   "execution_count": 4,
   "id": "7c9c6d94",
   "metadata": {},
   "outputs": [
    {
     "name": "stdout",
     "output_type": "stream",
     "text": [
      "record_path_local: ../../../2_data/record_path_mimic3_matched.csv\n",
      "record_root_url: https://physionet.org/content/mimic3wdb/1.0/matched\n",
      "record_path_url: https://physionet.org/content/mimic3wdb/1.0/matched/RECORDS\n"
     ]
    }
   ],
   "source": [
    "record_path_local = '../../../2_data/record_path_mimic3_matched.csv'\n",
    "record_root_url = 'https://physionet.org/content/mimic3wdb/1.0/matched'\n",
    "record_path_url = record_root_url + '/RECORDS'\n",
    "\n",
    "print('record_path_local: {}'.format(record_path_local))\n",
    "print('record_root_url: {}'.format(record_root_url))\n",
    "print('record_path_url: {}'.format(record_path_url))"
   ]
  },
  {
   "cell_type": "code",
   "execution_count": 5,
   "id": "fc0ee6b7",
   "metadata": {},
   "outputs": [],
   "source": [
    "def get_info(target_url):\n",
    "    http       = urllib3.PoolManager()\n",
    "    response   = http.request('GET', target_url)\n",
    "    data       = response.data.decode('utf-8')\n",
    "    return data.splitlines()"
   ]
  },
  {
   "cell_type": "code",
   "execution_count": 6,
   "id": "aeb513c5",
   "metadata": {},
   "outputs": [
    {
     "name": "stdout",
     "output_type": "stream",
     "text": [
      "baubau_2\n"
     ]
    }
   ],
   "source": [
    "if os.path.exists(record_path_local):\n",
    "    record_path_list = pd.read_csv(record_path_local, header=None)\n",
    "    record_path_list = list(record_path_list.iloc[:,0])\n",
    "    print('baubau_1')\n",
    "else:\n",
    "    target_url = record_path_url\n",
    "    record_path_list = get_info(target_url)\n",
    "    pd.DataFrame(record_path_list).to_csv(record_path_local, header=None, index=None)\n",
    "    print('baubau_2')"
   ]
  },
  {
   "cell_type": "code",
   "execution_count": null,
   "id": "7b56c717",
   "metadata": {},
   "outputs": [],
   "source": []
  }
 ],
 "metadata": {
  "kernelspec": {
   "display_name": "Python 3 (ipykernel)",
   "language": "python",
   "name": "python3"
  },
  "language_info": {
   "codemirror_mode": {
    "name": "ipython",
    "version": 3
   },
   "file_extension": ".py",
   "mimetype": "text/x-python",
   "name": "python",
   "nbconvert_exporter": "python",
   "pygments_lexer": "ipython3",
   "version": "3.9.7"
  }
 },
 "nbformat": 4,
 "nbformat_minor": 5
}

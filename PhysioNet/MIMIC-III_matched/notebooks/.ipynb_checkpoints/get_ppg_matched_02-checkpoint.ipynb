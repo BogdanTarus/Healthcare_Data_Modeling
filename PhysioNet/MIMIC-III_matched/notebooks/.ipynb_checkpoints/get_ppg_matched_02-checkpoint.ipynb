{
 "cells": [
  {
   "cell_type": "code",
   "execution_count": 22,
   "id": "93f30aaa",
   "metadata": {},
   "outputs": [],
   "source": [
    "from bs4 import BeautifulSoup\n",
    "import requests"
   ]
  },
  {
   "cell_type": "code",
   "execution_count": 21,
   "id": "68cf8505",
   "metadata": {},
   "outputs": [
    {
     "name": "stdout",
     "output_type": "stream",
     "text": [
      "record_path_local: ../../../2_data/record_path_mimic3_matched.csv\n",
      "record_root_url: https://physionet.org/content/mimic3wdb/1.0/matched\n",
      "record_path_url: https://physionet.org/content/mimic3wdb/1.0/matched/RECORDS-waveforms\n"
     ]
    }
   ],
   "source": [
    "record_path_local = '../../../2_data/record_path_mimic3_matched.csv'\n",
    "record_root_url = 'https://physionet.org/content/mimic3wdb/1.0/matched'\n",
    "record_path_url = record_root_url + '/RECORDS-waveforms'\n",
    "\n",
    "# https://physionet.org/content/mimic3wdb/1.0/matched/RECORDS-waveforms\n",
    "\n",
    "print('record_path_local: {}'.format(record_path_local))\n",
    "print('record_root_url: {}'.format(record_root_url))\n",
    "print('record_path_url: {}'.format(record_path_url))"
   ]
  },
  {
   "cell_type": "markdown",
   "id": "a79c70cf",
   "metadata": {},
   "source": [
    "Use BeatrifulSoup to extract the names of the records. \n",
    "\n",
    "See https://hackersandslackers.com/scraping-urls-with-beautifulsoup/ for useful information"
   ]
  },
  {
   "cell_type": "code",
   "execution_count": 14,
   "id": "f11f0a38",
   "metadata": {},
   "outputs": [],
   "source": [
    "headers = {\n",
    "    'Access-Control-Allow-Origin': '*',\n",
    "    'Access-Control-Allow-Methods': 'GET',\n",
    "    'Access-Control-Allow-Headers': 'Content-Type',\n",
    "    'Access-Control-Max-Age': '3600',\n",
    "    'User-Agent': 'Mozilla/5.0 (X11; Ubuntu; Linux x86_64; rv:52.0) Gecko/20100101 Firefox/52.0'\n",
    "    }"
   ]
  },
  {
   "cell_type": "code",
   "execution_count": 31,
   "id": "37ff1e2d",
   "metadata": {},
   "outputs": [],
   "source": [
    "url = record_path_url\n",
    "req = requests.get(url, headers)\n",
    "soup = BeautifulSoup(req.content, 'html.parser')\n",
    "records = soup.pre.getText()\n",
    "records = records.splitlines()"
   ]
  },
  {
   "cell_type": "code",
   "execution_count": 32,
   "id": "27e41fa3",
   "metadata": {},
   "outputs": [
    {
     "data": {
      "text/plain": [
       "list"
      ]
     },
     "execution_count": 32,
     "metadata": {},
     "output_type": "execute_result"
    }
   ],
   "source": [
    "type(records)"
   ]
  },
  {
   "cell_type": "code",
   "execution_count": 34,
   "id": "43ab4208",
   "metadata": {},
   "outputs": [
    {
     "data": {
      "text/plain": [
       "['p00/p000020/p000020-2183-04-28-17-47',\n",
       " 'p00/p000030/p000030-2172-10-16-12-22',\n",
       " 'p00/p000033/p000033-2116-12-24-12-35',\n",
       " 'p00/p000033/p000033-2116-12-25-13-11',\n",
       " 'p00/p000052/p000052-2191-01-10-02-21']"
      ]
     },
     "execution_count": 34,
     "metadata": {},
     "output_type": "execute_result"
    }
   ],
   "source": [
    "records[:5]"
   ]
  },
  {
   "cell_type": "code",
   "execution_count": null,
   "id": "bc55668b",
   "metadata": {},
   "outputs": [],
   "source": []
  }
 ],
 "metadata": {
  "kernelspec": {
   "display_name": "Python 3 (ipykernel)",
   "language": "python",
   "name": "python3"
  },
  "language_info": {
   "codemirror_mode": {
    "name": "ipython",
    "version": 3
   },
   "file_extension": ".py",
   "mimetype": "text/x-python",
   "name": "python",
   "nbconvert_exporter": "python",
   "pygments_lexer": "ipython3",
   "version": "3.9.7"
  }
 },
 "nbformat": 4,
 "nbformat_minor": 5
}

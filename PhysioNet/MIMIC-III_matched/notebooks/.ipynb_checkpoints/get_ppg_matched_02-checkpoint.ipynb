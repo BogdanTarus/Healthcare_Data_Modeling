{
 "cells": [
  {
   "cell_type": "code",
   "execution_count": 169,
   "id": "8592b93e",
   "metadata": {},
   "outputs": [],
   "source": [
    "import numpy as np\n",
    "import pandas as pd\n",
    "import matplotlib.pyplot as plt\n",
    "import os.path\n",
    "from bs4 import BeautifulSoup\n",
    "import requests"
   ]
  },
  {
   "cell_type": "code",
   "execution_count": 167,
   "id": "2787af3e",
   "metadata": {},
   "outputs": [
    {
     "name": "stdout",
     "output_type": "stream",
     "text": [
      "record_path_local: ../../../2_data/record_path_mimic3_matched.csv\n",
      "record_root_url: https://physionet.org/content/mimic3wdb/1.0/matched\n",
      "record_path_url: https://physionet.org/content/mimic3wdb/1.0/matched/RECORDS-waveforms\n"
     ]
    }
   ],
   "source": [
    "record_path_local = '../../../2_data/record_path_mimic3_matched.csv'\n",
    "record_root_url = 'https://physionet.org/content/mimic3wdb/1.0/matched'\n",
    "record_path_url = record_root_url + '/RECORDS-waveforms'\n",
    "\n",
    "#record_root_url = 'https://archive.physionet.org/physiobank/database/mimic3wdb'\n",
    "#record_path_url = record_root_url + '/RECORDS'\n",
    "\n",
    "print('record_path_local: {}'.format(record_path_local))\n",
    "print('record_root_url: {}'.format(record_root_url))\n",
    "print('record_path_url: {}'.format(record_path_url))"
   ]
  },
  {
   "cell_type": "code",
   "execution_count": 162,
   "id": "63c8758b",
   "metadata": {},
   "outputs": [],
   "source": [
    "def get_url_content(url, tag=None):\n",
    "    \n",
    "    '''\n",
    "    This function scrape a list of useful information from a given PhysioNet URL.\n",
    "    If the URL address points to an HTML document, the information to be extracted is define by a tag.\n",
    "    I found this address (https://hackersandslackers.com/scraping-urls-with-beautifulsoup/) usefull\n",
    "      for details on how to scrape a web page\n",
    "    '''\n",
    "    \n",
    "    headers = {\n",
    "        'Access-Control-Allow-Origin': '*',\n",
    "        'Access-Control-Allow-Methods': 'GET',\n",
    "        'Access-Control-Allow-Headers': 'Content-Type',\n",
    "        'Access-Control-Max-Age': '3600',\n",
    "        'User-Agent': 'Mozilla/5.0 (X11; Ubuntu; Linux x86_64; rv:52.0) Gecko/20100101 Firefox/52.0'\n",
    "    }    \n",
    "    \n",
    "    req = requests.get(url, headers)\n",
    "    soup = BeautifulSoup(req.content, 'html.parser')\n",
    "    if 'DOCTYPE' in str(soup):\n",
    "        content = getattr(soup, str(tag)).getText()\n",
    "        content = soup.pre.getText()\n",
    "    else:\n",
    "        content = soup.getText()\n",
    "    return content.splitlines()"
   ]
  },
  {
   "cell_type": "code",
   "execution_count": 172,
   "id": "4ea15f47",
   "metadata": {},
   "outputs": [
    {
     "name": "stdout",
     "output_type": "stream",
     "text": [
      "baubau_1\n"
     ]
    }
   ],
   "source": [
    "if os.path.exists(record_path_local):\n",
    "    record_path_list = pd.read_csv(record_path_local, header=None)\n",
    "    record_path_list = list(record_path_list.iloc[:,0])\n",
    "    print('baubau_1')\n",
    "else:\n",
    "    target_url = record_path_url\n",
    "    record_path_list = get_url_content(target_url, tag)\n",
    "    pd.DataFrame(record_path_list).to_csv(record_path_local, header=None, index=None)\n",
    "    print('baubau_2')"
   ]
  },
  {
   "cell_type": "code",
   "execution_count": 174,
   "id": "fd65480d",
   "metadata": {},
   "outputs": [
    {
     "data": {
      "text/plain": [
       "22317"
      ]
     },
     "execution_count": 174,
     "metadata": {},
     "output_type": "execute_result"
    }
   ],
   "source": [
    "len(record_path_list)"
   ]
  },
  {
   "cell_type": "code",
   "execution_count": 177,
   "id": "3f39b229",
   "metadata": {},
   "outputs": [
    {
     "name": "stdout",
     "output_type": "stream",
     "text": [
      "0\n",
      "p00/p000020/p000020-2183-04-28-17-47\n",
      "index_of_last_record_processed: 0\n",
      "p00\n"
     ]
    },
    {
     "ename": "ValueError",
     "evalue": "invalid literal for int() with base 10: 'p000020'",
     "output_type": "error",
     "traceback": [
      "\u001b[0;31m---------------------------------------------------------------------------\u001b[0m",
      "\u001b[0;31mValueError\u001b[0m                                Traceback (most recent call last)",
      "\u001b[0;32m/var/folders/nz/sb00j4qn77zgd_s3v803w9ym0000gn/T/ipykernel_22329/3083376054.py\u001b[0m in \u001b[0;36m<module>\u001b[0;34m\u001b[0m\n\u001b[1;32m     12\u001b[0m     \u001b[0mintermediate_directory\u001b[0m \u001b[0;34m=\u001b[0m \u001b[0mstr\u001b[0m\u001b[0;34m(\u001b[0m\u001b[0mrecord_path\u001b[0m\u001b[0;34m.\u001b[0m\u001b[0msplit\u001b[0m\u001b[0;34m(\u001b[0m\u001b[0;34m\"/\"\u001b[0m\u001b[0;34m)\u001b[0m\u001b[0;34m[\u001b[0m\u001b[0;36m0\u001b[0m\u001b[0;34m]\u001b[0m\u001b[0;34m)\u001b[0m\u001b[0;34m\u001b[0m\u001b[0;34m\u001b[0m\u001b[0m\n\u001b[1;32m     13\u001b[0m     \u001b[0mprint\u001b[0m\u001b[0;34m(\u001b[0m\u001b[0mintermediate_directory\u001b[0m\u001b[0;34m)\u001b[0m\u001b[0;34m\u001b[0m\u001b[0;34m\u001b[0m\u001b[0m\n\u001b[0;32m---> 14\u001b[0;31m     \u001b[0msubject_id\u001b[0m \u001b[0;34m=\u001b[0m \u001b[0mint\u001b[0m\u001b[0;34m(\u001b[0m\u001b[0mrecord_path\u001b[0m\u001b[0;34m.\u001b[0m\u001b[0msplit\u001b[0m\u001b[0;34m(\u001b[0m\u001b[0;34m\"/\"\u001b[0m\u001b[0;34m)\u001b[0m\u001b[0;34m[\u001b[0m\u001b[0;36m1\u001b[0m\u001b[0;34m]\u001b[0m\u001b[0;34m)\u001b[0m\u001b[0;34m\u001b[0m\u001b[0;34m\u001b[0m\u001b[0m\n\u001b[0m\u001b[1;32m     15\u001b[0m     \u001b[0;31m#record_directory = str(record_path.split(\"/\")[1])\u001b[0m\u001b[0;34m\u001b[0m\u001b[0;34m\u001b[0m\u001b[0m\n\u001b[1;32m     16\u001b[0m     \u001b[0;31m#print(record_directory)\u001b[0m\u001b[0;34m\u001b[0m\u001b[0;34m\u001b[0m\u001b[0m\n",
      "\u001b[0;31mValueError\u001b[0m: invalid literal for int() with base 10: 'p000020'"
     ]
    }
   ],
   "source": [
    "# we have to decide whether the index_of_last_record_processed is 0 or 1 based \n",
    "#  (i.e. it starts from zero or from one)\n",
    "index_of_last_record_processed = -1\n",
    "for i in range(index_of_last_record_processed + 1, 10):\n",
    "    print(i)\n",
    "    record_path = record_path_list[i]\n",
    "    print(record_path)\n",
    "    \n",
    "    index_of_last_record_processed = index_of_last_record_processed + 1\n",
    "    print('index_of_last_record_processed: {}'.format(index_of_last_record_processed))\n",
    "    \n",
    "    intermediate_directory = str(record_path.split(\"/\")[0])\n",
    "    print(intermediate_directory)\n",
    "    subject_id = record_path.split(\"/\")[1]\n",
    "    #record_directory = str(record_path.split(\"/\")[1])\n",
    "    #print(record_directory)\n"
   ]
  },
  {
   "cell_type": "code",
   "execution_count": null,
   "id": "d51bf20a",
   "metadata": {},
   "outputs": [],
   "source": []
  }
 ],
 "metadata": {
  "kernelspec": {
   "display_name": "Python 3 (ipykernel)",
   "language": "python",
   "name": "python3"
  },
  "language_info": {
   "codemirror_mode": {
    "name": "ipython",
    "version": 3
   },
   "file_extension": ".py",
   "mimetype": "text/x-python",
   "name": "python",
   "nbconvert_exporter": "python",
   "pygments_lexer": "ipython3",
   "version": "3.9.7"
  }
 },
 "nbformat": 4,
 "nbformat_minor": 5
}

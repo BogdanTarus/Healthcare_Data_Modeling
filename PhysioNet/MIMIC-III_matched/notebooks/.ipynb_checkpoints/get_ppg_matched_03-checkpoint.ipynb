{
 "cells": [
  {
   "cell_type": "code",
   "execution_count": 2,
   "id": "aaa7ffb7",
   "metadata": {},
   "outputs": [],
   "source": [
    "import numpy as np\n",
    "import pandas as pd\n",
    "import matplotlib.pyplot as plt\n",
    "import os.path\n",
    "from bs4 import BeautifulSoup\n",
    "import requests"
   ]
  },
  {
   "cell_type": "code",
   "execution_count": 33,
   "id": "98a48c67",
   "metadata": {},
   "outputs": [
    {
     "name": "stdout",
     "output_type": "stream",
     "text": [
      "record_path_local: ../../../2_data/record_path_mimic3_matched.csv\n",
      "record_root_url: https://physionet.org/content/mimic3wdb/1.0/matched\n",
      "record_path_url: https://physionet.org/content/mimic3wdb/1.0/matched/RECORDS-waveforms\n"
     ]
    }
   ],
   "source": [
    "record_path_local = '../../../2_data/record_path_mimic3_matched.csv'\n",
    "record_root_url = 'https://physionet.org/content/mimic3wdb/1.0/matched'\n",
    "record_path_url = record_root_url + '/RECORDS-waveforms'\n",
    "\n",
    "signal_extract_name = 'PLETH'\n",
    "signal_extract_minimum_length = 5 # the minimum length of the signal segment, in minutes\n",
    "\n",
    "#record_root_url = 'https://archive.physionet.org/physiobank/database/mimic3wdb'\n",
    "#record_path_url = record_root_url + '/RECORDS'\n",
    "\n",
    "print('record_path_local: {}'.format(record_path_local))\n",
    "print('record_root_url: {}'.format(record_root_url))\n",
    "print('record_path_url: {}'.format(record_path_url))"
   ]
  },
  {
   "cell_type": "code",
   "execution_count": 4,
   "id": "a58c8162",
   "metadata": {},
   "outputs": [
    {
     "name": "stdout",
     "output_type": "stream",
     "text": [
      "https://physionet.org/content/mimic3wdb/1.0/matched/RECORDS-waveforms\n"
     ]
    },
    {
     "data": {
      "text/plain": [
       "'\\np00/p000033/p000033-2116-12-24-12-35\\n'"
      ]
     },
     "execution_count": 4,
     "metadata": {},
     "output_type": "execute_result"
    }
   ],
   "source": [
    "print('https://physionet.org/content/mimic3wdb/1.0/matched/RECORDS-waveforms')\n",
    "'''\n",
    "p00/p000033/p000033-2116-12-24-12-35\n",
    "'''"
   ]
  },
  {
   "cell_type": "code",
   "execution_count": 5,
   "id": "3abacd9a",
   "metadata": {},
   "outputs": [
    {
     "name": "stdout",
     "output_type": "stream",
     "text": [
      "https://physionet.org/content/mimic3wdb/1.0/matched/p00/p000033/p000033-2116-12-24-12-35.hea\n"
     ]
    },
    {
     "data": {
      "text/plain": [
       "'\\np000033-2116-12-24-12-35/6 2 125 10102500 12:35:06.147 24/12/2116\\n3713820_layout 0\\n3713820_0001 15000\\n~ 219\\n3713820_0002 3379563\\n3713820_0003 6700437\\n~ 7281\\n'"
      ]
     },
     "execution_count": 5,
     "metadata": {},
     "output_type": "execute_result"
    }
   ],
   "source": [
    "print('https://physionet.org/content/mimic3wdb/1.0/matched/p00/p000033/p000033-2116-12-24-12-35.hea')\n",
    "'''\n",
    "p000033-2116-12-24-12-35/6 2 125 10102500 12:35:06.147 24/12/2116\n",
    "3713820_layout 0\n",
    "3713820_0001 15000\n",
    "~ 219\n",
    "3713820_0002 3379563\n",
    "3713820_0003 6700437\n",
    "~ 7281\n",
    "'''"
   ]
  },
  {
   "cell_type": "code",
   "execution_count": 6,
   "id": "2c7cd6b5",
   "metadata": {},
   "outputs": [
    {
     "name": "stdout",
     "output_type": "stream",
     "text": [
      "https://physionet.org/content/mimic3wdb/1.0/matched/p00/p000033/3713820_0001.hea\n"
     ]
    },
    {
     "data": {
      "text/plain": [
       "'\\n3713820_0001 2 125 15000 12:35:06.147\\n3713820_0001.dat 80 24/mV 8 0 0 9875 0 II\\n3713820_0001.dat 80 24/mV 8 0 0 -1750 0 MCL1\\n'"
      ]
     },
     "execution_count": 6,
     "metadata": {},
     "output_type": "execute_result"
    }
   ],
   "source": [
    "print('https://physionet.org/content/mimic3wdb/1.0/matched/p00/p000033/3713820_0001.hea')\n",
    "'''\n",
    "3713820_0001 2 125 15000 12:35:06.147\n",
    "3713820_0001.dat 80 24/mV 8 0 0 9875 0 II\n",
    "3713820_0001.dat 80 24/mV 8 0 0 -1750 0 MCL1\n",
    "'''"
   ]
  },
  {
   "cell_type": "code",
   "execution_count": 7,
   "id": "5bbde66f",
   "metadata": {},
   "outputs": [],
   "source": [
    "def get_url_content(url, tag=None):\n",
    "    \n",
    "    '''\n",
    "    This function scrape a list of useful information from a given PhysioNet URL.\n",
    "    If the URL address points to an HTML document, the information to be extracted is define by a tag.\n",
    "    I found this address (https://hackersandslackers.com/scraping-urls-with-beautifulsoup/) usefull\n",
    "      for details on how to scrape a web page\n",
    "    '''\n",
    "    \n",
    "    headers = {\n",
    "        'Access-Control-Allow-Origin': '*',\n",
    "        'Access-Control-Allow-Methods': 'GET',\n",
    "        'Access-Control-Allow-Headers': 'Content-Type',\n",
    "        'Access-Control-Max-Age': '3600',\n",
    "        'User-Agent': 'Mozilla/5.0 (X11; Ubuntu; Linux x86_64; rv:52.0) Gecko/20100101 Firefox/52.0'\n",
    "    }    \n",
    "    \n",
    "    req = requests.get(url, headers)\n",
    "    soup = BeautifulSoup(req.content, 'html.parser')\n",
    "    if '<!DOCTYPE html>' in str(soup):\n",
    "        content = getattr(soup, str(tag)).getText()\n",
    "        #content = soup.pre.getText()\n",
    "    else:\n",
    "        content = soup.getText()\n",
    "    return content.splitlines()"
   ]
  },
  {
   "cell_type": "code",
   "execution_count": 10,
   "id": "3d68953c",
   "metadata": {},
   "outputs": [
    {
     "name": "stdout",
     "output_type": "stream",
     "text": [
      "baubau_2\n"
     ]
    }
   ],
   "source": [
    "tag = 'pre'\n",
    "if os.path.exists(record_path_local):\n",
    "    record_path_list = pd.read_csv(record_path_local, header=None)\n",
    "    record_path_list = list(record_path_list.iloc[:,0])\n",
    "    print('baubau_1')\n",
    "else:\n",
    "    target_url = record_path_url\n",
    "    record_path_list = get_url_content(target_url, tag)\n",
    "    pd.DataFrame(record_path_list).to_csv(record_path_local, header=None, index=None)\n",
    "    print('baubau_2')"
   ]
  },
  {
   "cell_type": "code",
   "execution_count": 39,
   "id": "cd0e089d",
   "metadata": {},
   "outputs": [
    {
     "name": "stdout",
     "output_type": "stream",
     "text": [
      "0\n",
      "record_path: p00/p000020/p000020-2183-04-28-17-47\n",
      "directory: p00/p000020\n",
      "intermediate_directory: p00\n",
      "subject_id: 20\n",
      "master_waveform_header: https://physionet.org/content/mimic3wdb/1.0/matched/p00/p000020/p000020-2183-04-28-17-47.hea\n",
      "master_waveform_content: ['p000020-2183-04-28-17-47/10 4 125 9862593 17:47:59.486 28/04/2183', '3544749_layout 0', '~ 93', '3544749_0001 3811', '3544749_0002 124', '3544749_0003 8', '3544749_0004 380', '3544749_0005 7098177', '3544749_0006 15000', '3544749_0007 30000', '3544749_0008 2715000']\n",
      "       ...........\n",
      "\n",
      "record_length (s): 78900.744\n",
      "       ...........\n",
      "\n",
      "waveform_layout_header: https://physionet.org/content/mimic3wdb/1.0/matched/p00/p000020/3544749_layout.hea\n",
      "waveform_layout_content: ['3544749_layout 4 125 0 17:47:59.486', '~ 0 43/mV 14 0 -8192 0 0 II', '~ 0 50/mV 14 0 -8192 0 0 AVF', '~ 0 1.25/mmHg 9 0 -256 0 0 ABP', '~ 0 2.5/mmHg 10 0 -512 0 0 PAP']\n",
      "signal_names: ['II', 'AVF', 'ABP']\n",
      "       ...........\n",
      "\n",
      "index_of_last_record_processed: 0\n",
      "--------------------------------------\n"
     ]
    }
   ],
   "source": [
    "# TO DO:\n",
    "# we have to decide whether the index_of_last_record_processed is 0 or 1 based \n",
    "#  (i.e. it starts from zero or from one)\n",
    "\n",
    "tag = 'pre'\n",
    "index_of_last_record_processed = -1\n",
    "for i in range(index_of_last_record_processed + 1, 1):\n",
    "    print(i)\n",
    "    record_path = record_path_list[i]\n",
    "    print('record_path: {}'.format(record_path))\n",
    "    \n",
    "    #directory p04/p044083.\n",
    "    directory = str(record_path.split(\"/\")[0]) + '/' + str(record_path.split(\"/\")[1])\n",
    "    print('directory: {}'.format(directory))\n",
    "    \n",
    "    intermediate_directory = str(record_path.split(\"/\")[0])\n",
    "    print('intermediate_directory: {}'.format(intermediate_directory))\n",
    "    subject_id = record_path.split(\"/\")[1]\n",
    "    subject_id = int(subject_id[1:])\n",
    "    print('subject_id: {}'.format(subject_id))\n",
    "    #record_directory = str(record_path.split(\"/\")[1])\n",
    "    #print(record_directory)\n",
    "    \n",
    "    #print('https://physionet.org/content/mimic3wdb/1.0/matched/p00/p000033/p000033-2116-12-24-12-35.hea')\n",
    "    #print(record_root_url + '/' + record_path + '.hea')\n",
    "    #print('https://physionet.org/content/mimic3wdb/1.0/matched/p00/p000020/p000020-2183-04-28-17-47.hea')\n",
    "    #print('https://physionet.org/content/mimic3wdb-matched/1.0/p00/p000020/p000020-2183-04-28-17-47.hea')\n",
    "    \n",
    "    master_waveform_header = record_root_url + '/' + record_path + '.hea'\n",
    "    print('master_waveform_header: {}'.format(master_waveform_header))\n",
    "    \n",
    "    target_url = master_waveform_header\n",
    "    master_waveform_content = get_url_content(target_url, tag)\n",
    "    print('master_waveform_content: {}'.format(master_waveform_content))\n",
    "    \n",
    "    print('       ...........\\n')\n",
    "    \n",
    "    master_waveform_content_first_line = master_waveform_content[0].split(' ')\n",
    "    record_length = int(master_waveform_content_first_line[3]) / int(master_waveform_content_first_line[2])\n",
    "    print('record_length (s): {}'.format(record_length))\n",
    "    \n",
    "    print('       ...........\\n')    \n",
    "        \n",
    "    waveform_layout_header = master_waveform_content[1].split(' ')[0]\n",
    "    waveform_layout_header = waveform_layout_header + '.hea'\n",
    "    waveform_layout_header = record_root_url + '/' + directory + '/' + waveform_layout_header\n",
    "    print('waveform_layout_header: {}'.format(waveform_layout_header))    \n",
    "    target_url = waveform_layout_header\n",
    "    waveform_layout_content = get_url_content(target_url, tag)\n",
    "    print('waveform_layout_content: {}'.format(waveform_layout_content))\n",
    "        \n",
    "    signal_names = [x.split(' ')[-1] for x in waveform_layout_content[1:-1]]\n",
    "    print('signal_names: {}'.format(signal_names))\n",
    "    \n",
    "    if signal_extract_name in signal_names and record_length > 60 * signal_extract_minimum_length: # and len(record_segments_path_list):\n",
    "        #for record_segment in record_segments_path_list:\n",
    "        #    print('record_segment: {}'.format(record_segment))\n",
    "        break\n",
    "\n",
    "    \n",
    "    # https://physionet.org/content/mimic3wdb/1.0/matched/p00/p000107/p000107-2121-11-30-20-03.hea\n",
    "    \n",
    "    \n",
    "    print('       ...........\\n')\n",
    "    index_of_last_record_processed = index_of_last_record_processed + 1\n",
    "    print('index_of_last_record_processed: {}'.format(index_of_last_record_processed))    \n",
    "    print('--------------------------------------')\n",
    "\n",
    "    \n",
    "    \n",
    "\n"
   ]
  },
  {
   "cell_type": "code",
   "execution_count": 42,
   "id": "e51f5f68",
   "metadata": {},
   "outputs": [
    {
     "data": {
      "text/plain": [
       "['p000020-2183-04-28-17-47/10 4 125 9862593 17:47:59.486 28/04/2183',\n",
       " '3544749_layout 0',\n",
       " '~ 93',\n",
       " '3544749_0001 3811',\n",
       " '3544749_0002 124',\n",
       " '3544749_0003 8',\n",
       " '3544749_0004 380',\n",
       " '3544749_0005 7098177',\n",
       " '3544749_0006 15000',\n",
       " '3544749_0007 30000',\n",
       " '3544749_0008 2715000']"
      ]
     },
     "execution_count": 42,
     "metadata": {},
     "output_type": "execute_result"
    }
   ],
   "source": [
    "master_waveform_content"
   ]
  },
  {
   "cell_type": "code",
   "execution_count": 115,
   "id": "e6a57806",
   "metadata": {},
   "outputs": [
    {
     "data": {
      "text/plain": [
       "'3544749'"
      ]
     },
     "execution_count": 115,
     "metadata": {},
     "output_type": "execute_result"
    }
   ],
   "source": [
    "# get the waveform record name\n",
    "waveform_record_name = [i.split(' ')[0].split('_') for i in master_waveform_content if '3' == i[0]][0][0]\n",
    "waveform_record_name"
   ]
  },
  {
   "cell_type": "code",
   "execution_count": 119,
   "id": "9f4eb468",
   "metadata": {},
   "outputs": [
    {
     "name": "stdout",
     "output_type": "stream",
     "text": [
      "[False, False, False, True, True, True, True, True, True, True, True]\n"
     ]
    }
   ],
   "source": [
    "# get the waveform_record_state\n",
    "waveform_record_state = [(waveform_record_name + '_' in x) and not (waveform_record_name + '_layout' in x) \n",
    "                for x in master_waveform_content]\n",
    "print(waveform_record_state)"
   ]
  },
  {
   "cell_type": "code",
   "execution_count": 121,
   "id": "8d6c08b3",
   "metadata": {},
   "outputs": [
    {
     "data": {
      "text/plain": [
       "[['3544749_0001', '3811'],\n",
       " ['3544749_0002', '124'],\n",
       " ['3544749_0003', '8'],\n",
       " ['3544749_0004', '380'],\n",
       " ['3544749_0005', '7098177'],\n",
       " ['3544749_0006', '15000'],\n",
       " ['3544749_0007', '30000'],\n",
       " ['3544749_0008', '2715000']]"
      ]
     },
     "execution_count": 121,
     "metadata": {},
     "output_type": "execute_result"
    }
   ],
   "source": [
    "# get the waveform_record_segment\n",
    "waveform_record_segment = [master_waveform_content[i].split(' ') for i, j in enumerate(waveform_record_state) if j]\n",
    "waveform_record_segment"
   ]
  },
  {
   "cell_type": "code",
   "execution_count": 104,
   "id": "e23c8e58",
   "metadata": {},
   "outputs": [
    {
     "data": {
      "text/plain": [
       "['3544749_0005', '3544749_0008']"
      ]
     },
     "execution_count": 104,
     "metadata": {},
     "output_type": "execute_result"
    }
   ],
   "source": [
    "[j[0] for j in record_segment if \n",
    " int(j[1]) / int(master_waveform_content_first_line[2]) > 60 * signal_extract_minimum_length]"
   ]
  },
  {
   "cell_type": "code",
   "execution_count": null,
   "id": "b6570924",
   "metadata": {},
   "outputs": [],
   "source": []
  },
  {
   "cell_type": "code",
   "execution_count": 90,
   "id": "7f20e902",
   "metadata": {},
   "outputs": [
    {
     "data": {
      "text/plain": [
       "['3544749_0001 3811',\n",
       " '3544749_0002 124',\n",
       " '3544749_0003 8',\n",
       " '3544749_0004 380',\n",
       " '3544749_0005 7098177',\n",
       " '3544749_0006 15000',\n",
       " '3544749_0007 30000',\n",
       " '3544749_0008 2715000']"
      ]
     },
     "execution_count": 90,
     "metadata": {},
     "output_type": "execute_result"
    }
   ],
   "source": [
    "[record_segment_info for index, record_segment_info in enumerate(record_segment)  ]"
   ]
  },
  {
   "cell_type": "code",
   "execution_count": 70,
   "id": "d4df972d",
   "metadata": {},
   "outputs": [
    {
     "name": "stdout",
     "output_type": "stream",
     "text": [
      "3544749_0005\n",
      "3544749_0008\n"
     ]
    }
   ],
   "source": [
    "for index, i in zip(range(len(record_state)), record_state):\n",
    "    if i:\n",
    "        record_segment = master_waveform_content[index]\n",
    "        #print(index, i, record_segment)\n",
    "        segment_length = int(record_segment.split(' ')[1]) / int(master_waveform_content_first_line[2])\n",
    "        if  segment_length > 60 * signal_extract_minimum_length:\n",
    "            #print('bingo')\n",
    "            print(record_segment.split(' ')[0])"
   ]
  },
  {
   "cell_type": "code",
   "execution_count": 67,
   "id": "f7edc7d2",
   "metadata": {},
   "outputs": [
    {
     "data": {
      "text/plain": [
       "125"
      ]
     },
     "execution_count": 67,
     "metadata": {},
     "output_type": "execute_result"
    }
   ],
   "source": [
    "int(master_waveform_content_first_line[2])"
   ]
  },
  {
   "cell_type": "code",
   "execution_count": null,
   "id": "84ccc8d8",
   "metadata": {},
   "outputs": [],
   "source": []
  },
  {
   "cell_type": "code",
   "execution_count": null,
   "id": "b9c15b34",
   "metadata": {},
   "outputs": [],
   "source": []
  },
  {
   "cell_type": "code",
   "execution_count": 66,
   "id": "bf636df2",
   "metadata": {},
   "outputs": [
    {
     "data": {
      "text/plain": [
       "'3544749_0008 2715000'"
      ]
     },
     "execution_count": 66,
     "metadata": {},
     "output_type": "execute_result"
    }
   ],
   "source": [
    "record_segment"
   ]
  },
  {
   "cell_type": "code",
   "execution_count": null,
   "id": "2a88aa54",
   "metadata": {},
   "outputs": [],
   "source": []
  },
  {
   "cell_type": "code",
   "execution_count": null,
   "id": "e4867953",
   "metadata": {},
   "outputs": [],
   "source": []
  },
  {
   "cell_type": "code",
   "execution_count": 63,
   "id": "d417aa46",
   "metadata": {},
   "outputs": [],
   "source": [
    "record_segment = [index, i in zip(range(len(record_state)), record_state)]"
   ]
  },
  {
   "cell_type": "code",
   "execution_count": 64,
   "id": "d3124ff7",
   "metadata": {},
   "outputs": [
    {
     "data": {
      "text/plain": [
       "[10, False]"
      ]
     },
     "execution_count": 64,
     "metadata": {},
     "output_type": "execute_result"
    }
   ],
   "source": [
    "record_segment"
   ]
  },
  {
   "cell_type": "code",
   "execution_count": null,
   "id": "00ec4909",
   "metadata": {},
   "outputs": [],
   "source": []
  },
  {
   "cell_type": "code",
   "execution_count": 55,
   "id": "6b36495e",
   "metadata": {},
   "outputs": [
    {
     "name": "stdout",
     "output_type": "stream",
     "text": [
      "Original list is : [1, 4, 5, 6, 7]\n",
      "List index-value are : \n",
      "0 1\n",
      "1 4\n",
      "2 5\n",
      "3 6\n",
      "4 7\n"
     ]
    }
   ],
   "source": [
    "# initializing list\n",
    "test_list = [1, 4, 5, 6, 7]\n",
    " \n",
    "# Printing list\n",
    "print(\"Original list is : \" + str(test_list))\n",
    " \n",
    "# using zip() to\n",
    "# get index and value\n",
    "print(\"List index-value are : \")\n",
    "for index, value in zip(range(len(test_list)), test_list):\n",
    "    print(index, value)"
   ]
  },
  {
   "cell_type": "code",
   "execution_count": null,
   "id": "470ef9dc",
   "metadata": {},
   "outputs": [],
   "source": []
  },
  {
   "cell_type": "code",
   "execution_count": null,
   "id": "0f226125",
   "metadata": {},
   "outputs": [],
   "source": []
  },
  {
   "cell_type": "code",
   "execution_count": null,
   "id": "5f934718",
   "metadata": {},
   "outputs": [],
   "source": []
  },
  {
   "cell_type": "code",
   "execution_count": 52,
   "id": "c75b8954",
   "metadata": {},
   "outputs": [
    {
     "data": {
      "text/plain": [
       "0"
      ]
     },
     "execution_count": 52,
     "metadata": {},
     "output_type": "execute_result"
    }
   ],
   "source": [
    "# res_list = [test_list[i] for i in index_list]\n",
    "int(False)"
   ]
  },
  {
   "cell_type": "code",
   "execution_count": 49,
   "id": "bd8da52b",
   "metadata": {},
   "outputs": [
    {
     "ename": "TypeError",
     "evalue": "list indices must be integers or slices, not tuple",
     "output_type": "error",
     "traceback": [
      "\u001b[0;31m---------------------------------------------------------------------------\u001b[0m",
      "\u001b[0;31mTypeError\u001b[0m                                 Traceback (most recent call last)",
      "\u001b[0;32m/var/folders/nz/sb00j4qn77zgd_s3v803w9ym0000gn/T/ipykernel_57347/1362823214.py\u001b[0m in \u001b[0;36m<module>\u001b[0;34m\u001b[0m\n\u001b[0;32m----> 1\u001b[0;31m \u001b[0mmaster_waveform_content\u001b[0m\u001b[0;34m[\u001b[0m\u001b[0;36m0\u001b[0m\u001b[0;34m,\u001b[0m\u001b[0;36m1\u001b[0m\u001b[0;34m]\u001b[0m\u001b[0;34m\u001b[0m\u001b[0;34m\u001b[0m\u001b[0m\n\u001b[0m",
      "\u001b[0;31mTypeError\u001b[0m: list indices must be integers or slices, not tuple"
     ]
    }
   ],
   "source": [
    "master_waveform_content[0,1]"
   ]
  },
  {
   "cell_type": "code",
   "execution_count": null,
   "id": "07467d8c",
   "metadata": {},
   "outputs": [],
   "source": []
  },
  {
   "cell_type": "code",
   "execution_count": null,
   "id": "03c5f699",
   "metadata": {},
   "outputs": [],
   "source": []
  },
  {
   "cell_type": "code",
   "execution_count": null,
   "id": "ede7d0ff",
   "metadata": {},
   "outputs": [],
   "source": []
  },
  {
   "cell_type": "code",
   "execution_count": null,
   "id": "cca93672",
   "metadata": {},
   "outputs": [],
   "source": []
  },
  {
   "cell_type": "code",
   "execution_count": null,
   "id": "b57fc82b",
   "metadata": {},
   "outputs": [],
   "source": []
  },
  {
   "cell_type": "code",
   "execution_count": null,
   "id": "4dda41ec",
   "metadata": {},
   "outputs": [],
   "source": []
  },
  {
   "cell_type": "code",
   "execution_count": 37,
   "id": "2424c3b1",
   "metadata": {},
   "outputs": [
    {
     "name": "stdout",
     "output_type": "stream",
     "text": [
      "https://physionet.org/content/mimic3wdb/1.0/matched/p00/p000107/3168852_0001.hea\n",
      "3168852_0001 3 125 6250 05:53:26\n",
      "3168852_0001.dat 80 128(-65)/mV 8 0 -61 2696 0 II\n",
      "3168852_0001.dat 80 128(-65)/mV 8 0 -26 -31263 0 V\n",
      "3168852_0001.dat 80 1.28(-109)/mmHg 8 0 -109 -25890 0 ABP\n"
     ]
    }
   ],
   "source": [
    "print('https://physionet.org/content/mimic3wdb/1.0/matched/p00/p000107/3168852_0001.hea')\n",
    "print('3168852_0001 3 125 6250 05:53:26')\n",
    "print('3168852_0001.dat 80 128(-65)/mV 8 0 -61 2696 0 II')\n",
    "print('3168852_0001.dat 80 128(-65)/mV 8 0 -26 -31263 0 V')\n",
    "print('3168852_0001.dat 80 1.28(-109)/mmHg 8 0 -109 -25890 0 ABP')"
   ]
  },
  {
   "cell_type": "code",
   "execution_count": 21,
   "id": "39eb91f0",
   "metadata": {},
   "outputs": [
    {
     "data": {
      "text/plain": [
       "['p000020-2183-04-28-17-47/10 4 125 9862593 17:47:59.486 28/04/2183',\n",
       " '3544749_layout 0',\n",
       " '~ 93',\n",
       " '3544749_0001 3811',\n",
       " '3544749_0002 124',\n",
       " '3544749_0003 8',\n",
       " '3544749_0004 380',\n",
       " '3544749_0005 7098177',\n",
       " '3544749_0006 15000',\n",
       " '3544749_0007 30000',\n",
       " '3544749_0008 2715000']"
      ]
     },
     "execution_count": 21,
     "metadata": {},
     "output_type": "execute_result"
    }
   ],
   "source": [
    "master_waveform_content"
   ]
  },
  {
   "cell_type": "code",
   "execution_count": 38,
   "id": "cb441d5c",
   "metadata": {},
   "outputs": [
    {
     "data": {
      "text/plain": [
       "['p000107-2122-05-14-21-01/46 5 125 20101375 21:01:58.000 14/05/2122',\n",
       " '3860035_layout 0',\n",
       " '3860035_0001 739500',\n",
       " '3860035_0002 750',\n",
       " '3860035_0003 125',\n",
       " '3860035_0004 1928625',\n",
       " '3860035_0005 125',\n",
       " '3860035_0006 2815000',\n",
       " '3860035_0007 9875',\n",
       " '3860035_0008 32500',\n",
       " '3860035_0009 157250',\n",
       " '3860035_0010 53875',\n",
       " '3860035_0011 47125',\n",
       " '3860035_0012 172875',\n",
       " '3860035_0013 10125',\n",
       " '3860035_0014 96750',\n",
       " '3860035_0015 7625',\n",
       " '3860035_0016 45375',\n",
       " '3860035_0017 2000',\n",
       " '3860035_0018 4750',\n",
       " '3860035_0019 13000',\n",
       " '3860035_0020 26250',\n",
       " '3860035_0021 1625',\n",
       " '3860035_0022 291250',\n",
       " '3860035_0023 6000',\n",
       " '3860035_0024 138000',\n",
       " '3860035_0025 1875',\n",
       " '3860035_0026 1500',\n",
       " '3860035_0027 36000',\n",
       " '3860035_0028 1875',\n",
       " '3860035_0029 1186875',\n",
       " '3860035_0030 10125',\n",
       " '3860035_0031 2558375',\n",
       " '3860035_0032 1354750',\n",
       " '3860035_0033 882',\n",
       " '3860035_0034 238243',\n",
       " '3860035_0035 750',\n",
       " '3860035_0036 250',\n",
       " '3860035_0037 141685',\n",
       " '3860035_0038 565',\n",
       " '3860035_0039 125',\n",
       " '3860035_0040 3399625',\n",
       " '~ 108875',\n",
       " '3860035_0041 3625',\n",
       " '3860035_0042 6125',\n",
       " '3860035_0043 8250',\n",
       " '3860035_0044 4440625',\n",
       " '# Location: micu']"
      ]
     },
     "execution_count": 38,
     "metadata": {},
     "output_type": "execute_result"
    }
   ],
   "source": [
    "master_waveform_content"
   ]
  },
  {
   "cell_type": "code",
   "execution_count": null,
   "id": "ab4095ab",
   "metadata": {},
   "outputs": [],
   "source": []
  }
 ],
 "metadata": {
  "kernelspec": {
   "display_name": "Python 3 (ipykernel)",
   "language": "python",
   "name": "python3"
  },
  "language_info": {
   "codemirror_mode": {
    "name": "ipython",
    "version": 3
   },
   "file_extension": ".py",
   "mimetype": "text/x-python",
   "name": "python",
   "nbconvert_exporter": "python",
   "pygments_lexer": "ipython3",
   "version": "3.9.7"
  }
 },
 "nbformat": 4,
 "nbformat_minor": 5
}

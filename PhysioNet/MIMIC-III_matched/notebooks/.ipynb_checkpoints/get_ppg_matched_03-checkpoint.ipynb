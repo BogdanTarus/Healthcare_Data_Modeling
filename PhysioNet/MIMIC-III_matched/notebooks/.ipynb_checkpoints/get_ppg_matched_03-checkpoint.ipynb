{
 "cells": [
  {
   "cell_type": "code",
   "execution_count": 2,
   "id": "4faa4cc7",
   "metadata": {},
   "outputs": [],
   "source": [
    "import numpy as np\n",
    "import pandas as pd\n",
    "import matplotlib.pyplot as plt\n",
    "import os.path\n",
    "from bs4 import BeautifulSoup\n",
    "import requests"
   ]
  },
  {
   "cell_type": "code",
   "execution_count": 3,
   "id": "07cc53ab",
   "metadata": {},
   "outputs": [
    {
     "name": "stdout",
     "output_type": "stream",
     "text": [
      "record_path_local: ../../../2_data/record_path_mimic3_matched.csv\n",
      "record_root_url: https://physionet.org/content/mimic3wdb/1.0/matched\n",
      "record_path_url: https://physionet.org/content/mimic3wdb/1.0/matched/RECORDS-waveforms\n"
     ]
    }
   ],
   "source": [
    "record_path_local = '../../../2_data/record_path_mimic3_matched.csv'\n",
    "record_root_url = 'https://physionet.org/content/mimic3wdb/1.0/matched'\n",
    "record_path_url = record_root_url + '/RECORDS-waveforms'\n",
    "\n",
    "#record_root_url = 'https://archive.physionet.org/physiobank/database/mimic3wdb'\n",
    "#record_path_url = record_root_url + '/RECORDS'\n",
    "\n",
    "print('record_path_local: {}'.format(record_path_local))\n",
    "print('record_root_url: {}'.format(record_root_url))\n",
    "print('record_path_url: {}'.format(record_path_url))"
   ]
  },
  {
   "cell_type": "code",
   "execution_count": 4,
   "id": "af9d624c",
   "metadata": {},
   "outputs": [
    {
     "name": "stdout",
     "output_type": "stream",
     "text": [
      "https://physionet.org/content/mimic3wdb/1.0/matched/RECORDS-waveforms\n"
     ]
    },
    {
     "data": {
      "text/plain": [
       "'\\np00/p000033/p000033-2116-12-24-12-35\\n'"
      ]
     },
     "execution_count": 4,
     "metadata": {},
     "output_type": "execute_result"
    }
   ],
   "source": [
    "print('https://physionet.org/content/mimic3wdb/1.0/matched/RECORDS-waveforms')\n",
    "'''\n",
    "p00/p000033/p000033-2116-12-24-12-35\n",
    "'''"
   ]
  },
  {
   "cell_type": "code",
   "execution_count": 5,
   "id": "a616b97d",
   "metadata": {},
   "outputs": [
    {
     "name": "stdout",
     "output_type": "stream",
     "text": [
      "https://physionet.org/content/mimic3wdb/1.0/matched/p00/p000033/p000033-2116-12-24-12-35.hea\n"
     ]
    },
    {
     "data": {
      "text/plain": [
       "'\\np000033-2116-12-24-12-35/6 2 125 10102500 12:35:06.147 24/12/2116\\n3713820_layout 0\\n3713820_0001 15000\\n~ 219\\n3713820_0002 3379563\\n3713820_0003 6700437\\n~ 7281\\n'"
      ]
     },
     "execution_count": 5,
     "metadata": {},
     "output_type": "execute_result"
    }
   ],
   "source": [
    "print('https://physionet.org/content/mimic3wdb/1.0/matched/p00/p000033/p000033-2116-12-24-12-35.hea')\n",
    "'''\n",
    "p000033-2116-12-24-12-35/6 2 125 10102500 12:35:06.147 24/12/2116\n",
    "3713820_layout 0\n",
    "3713820_0001 15000\n",
    "~ 219\n",
    "3713820_0002 3379563\n",
    "3713820_0003 6700437\n",
    "~ 7281\n",
    "'''"
   ]
  },
  {
   "cell_type": "code",
   "execution_count": 6,
   "id": "8a79d1bc",
   "metadata": {},
   "outputs": [
    {
     "name": "stdout",
     "output_type": "stream",
     "text": [
      "https://physionet.org/content/mimic3wdb/1.0/matched/p00/p000033/3713820_0001.hea\n"
     ]
    },
    {
     "data": {
      "text/plain": [
       "'\\n3713820_0001 2 125 15000 12:35:06.147\\n3713820_0001.dat 80 24/mV 8 0 0 9875 0 II\\n3713820_0001.dat 80 24/mV 8 0 0 -1750 0 MCL1\\n'"
      ]
     },
     "execution_count": 6,
     "metadata": {},
     "output_type": "execute_result"
    }
   ],
   "source": [
    "print('https://physionet.org/content/mimic3wdb/1.0/matched/p00/p000033/3713820_0001.hea')\n",
    "'''\n",
    "3713820_0001 2 125 15000 12:35:06.147\n",
    "3713820_0001.dat 80 24/mV 8 0 0 9875 0 II\n",
    "3713820_0001.dat 80 24/mV 8 0 0 -1750 0 MCL1\n",
    "'''"
   ]
  },
  {
   "cell_type": "code",
   "execution_count": 7,
   "id": "49b37019",
   "metadata": {},
   "outputs": [],
   "source": [
    "def get_url_content(url, tag=None):\n",
    "    \n",
    "    '''\n",
    "    This function scrape a list of useful information from a given PhysioNet URL.\n",
    "    If the URL address points to an HTML document, the information to be extracted is define by a tag.\n",
    "    I found this address (https://hackersandslackers.com/scraping-urls-with-beautifulsoup/) usefull\n",
    "      for details on how to scrape a web page\n",
    "    '''\n",
    "    \n",
    "    headers = {\n",
    "        'Access-Control-Allow-Origin': '*',\n",
    "        'Access-Control-Allow-Methods': 'GET',\n",
    "        'Access-Control-Allow-Headers': 'Content-Type',\n",
    "        'Access-Control-Max-Age': '3600',\n",
    "        'User-Agent': 'Mozilla/5.0 (X11; Ubuntu; Linux x86_64; rv:52.0) Gecko/20100101 Firefox/52.0'\n",
    "    }    \n",
    "    \n",
    "    req = requests.get(url, headers)\n",
    "    soup = BeautifulSoup(req.content, 'html.parser')\n",
    "    if '<!DOCTYPE html>' in str(soup):\n",
    "        content = getattr(soup, str(tag)).getText()\n",
    "        #content = soup.pre.getText()\n",
    "    else:\n",
    "        content = soup.getText()\n",
    "    return content.splitlines()"
   ]
  },
  {
   "cell_type": "code",
   "execution_count": 10,
   "id": "3eabfb0b",
   "metadata": {},
   "outputs": [
    {
     "name": "stdout",
     "output_type": "stream",
     "text": [
      "baubau_2\n"
     ]
    }
   ],
   "source": [
    "tag = 'pre'\n",
    "if os.path.exists(record_path_local):\n",
    "    record_path_list = pd.read_csv(record_path_local, header=None)\n",
    "    record_path_list = list(record_path_list.iloc[:,0])\n",
    "    print('baubau_1')\n",
    "else:\n",
    "    target_url = record_path_url\n",
    "    record_path_list = get_url_content(target_url, tag)\n",
    "    pd.DataFrame(record_path_list).to_csv(record_path_local, header=None, index=None)\n",
    "    print('baubau_2')"
   ]
  },
  {
   "cell_type": "code",
   "execution_count": 26,
   "id": "e3a34e02",
   "metadata": {},
   "outputs": [
    {
     "name": "stdout",
     "output_type": "stream",
     "text": [
      "0\n",
      "record_path: p00/p000020/p000020-2183-04-28-17-47\n",
      "directory: p00/p000020\n",
      "intermediate_directory: p00\n",
      "subject_id: 20\n",
      "master_waveform_header: https://physionet.org/content/mimic3wdb/1.0/matched/p00/p000020/p000020-2183-04-28-17-47.hea\n",
      "master_waveform_content: ['p000020-2183-04-28-17-47/10 4 125 9862593 17:47:59.486 28/04/2183', '3544749_layout 0', '~ 93', '3544749_0001 3811', '3544749_0002 124', '3544749_0003 8', '3544749_0004 380', '3544749_0005 7098177', '3544749_0006 15000', '3544749_0007 30000', '3544749_0008 2715000']\n",
      "waveform_layout_header: https://physionet.org/content/mimic3wdb/1.0/matched/p00/p000020/3544749_layout.hea\n",
      "waveform_layout_content: ['3544749_layout 4 125 0 17:47:59.486', '~ 0 43/mV 14 0 -8192 0 0 II', '~ 0 50/mV 14 0 -8192 0 0 AVF', '~ 0 1.25/mmHg 9 0 -256 0 0 ABP', '~ 0 2.5/mmHg 10 0 -512 0 0 PAP']\n",
      "signal_names: ['II', 'AVF', 'ABP']\n",
      "       ...........\n",
      "\n",
      "index_of_last_record_processed: 0\n",
      "--------------------------------------\n"
     ]
    }
   ],
   "source": [
    "# TO DO:\n",
    "# we have to decide whether the index_of_last_record_processed is 0 or 1 based \n",
    "#  (i.e. it starts from zero or from one)\n",
    "\n",
    "tag = 'pre'\n",
    "index_of_last_record_processed = -1\n",
    "for i in range(index_of_last_record_processed + 1, 1):\n",
    "    print(i)\n",
    "    record_path = record_path_list[i]\n",
    "    print('record_path: {}'.format(record_path))\n",
    "    \n",
    "    #directory p04/p044083.\n",
    "    directory = str(record_path.split(\"/\")[0]) + '/' + str(record_path.split(\"/\")[1])\n",
    "    print('directory: {}'.format(directory))\n",
    "    \n",
    "    intermediate_directory = str(record_path.split(\"/\")[0])\n",
    "    print('intermediate_directory: {}'.format(intermediate_directory))\n",
    "    subject_id = record_path.split(\"/\")[1]\n",
    "    subject_id = int(subject_id[1:])\n",
    "    print('subject_id: {}'.format(subject_id))\n",
    "    #record_directory = str(record_path.split(\"/\")[1])\n",
    "    #print(record_directory)\n",
    "    \n",
    "    #print('https://physionet.org/content/mimic3wdb/1.0/matched/p00/p000033/p000033-2116-12-24-12-35.hea')\n",
    "    #print(record_root_url + '/' + record_path + '.hea')\n",
    "    #print('https://physionet.org/content/mimic3wdb/1.0/matched/p00/p000020/p000020-2183-04-28-17-47.hea')\n",
    "    #print('https://physionet.org/content/mimic3wdb-matched/1.0/p00/p000020/p000020-2183-04-28-17-47.hea')\n",
    "    \n",
    "    master_waveform_header = record_root_url + '/' + record_path + '.hea'\n",
    "    print('master_waveform_header: {}'.format(master_waveform_header))\n",
    "    \n",
    "    target_url = master_waveform_header\n",
    "    master_waveform_content = get_url_content(target_url, tag)\n",
    "    print('master_waveform_content: {}'.format(master_waveform_content))\n",
    "    \n",
    "    waveform_layout_header = master_waveform_content[1].split(' ')[0]\n",
    "    waveform_layout_header = waveform_layout_header + '.hea'\n",
    "    waveform_layout_header = record_root_url + '/' + directory + '/' + waveform_layout_header\n",
    "    print('waveform_layout_header: {}'.format(waveform_layout_header))    \n",
    "    target_url = waveform_layout_header\n",
    "    waveform_layout_content = get_url_content(target_url, tag)\n",
    "    print('waveform_layout_content: {}'.format(waveform_layout_content))\n",
    "    \n",
    "    signal_names = [x.split(' ')[-1] for x in waveform_layout_content[1:-1]]\n",
    "    print('signal_names: {}'.format(signal_names))\n",
    "\n",
    "    \n",
    "    #master_waveform_layout_header = record_root_url + '/' + record_path + '_layout.hea'\n",
    "    #print('master_waveform_layout_header: {}'.format(master_waveform_layout_header))\n",
    "    \n",
    "    print('       ...........\\n')\n",
    "    index_of_last_record_processed = index_of_last_record_processed + 1\n",
    "    print('index_of_last_record_processed: {}'.format(index_of_last_record_processed))    \n",
    "    print('--------------------------------------')\n",
    "    \n",
    "    \n",
    "\n"
   ]
  },
  {
   "cell_type": "code",
   "execution_count": 21,
   "id": "be54c1d8",
   "metadata": {},
   "outputs": [
    {
     "data": {
      "text/plain": [
       "['p000020-2183-04-28-17-47/10 4 125 9862593 17:47:59.486 28/04/2183',\n",
       " '3544749_layout 0',\n",
       " '~ 93',\n",
       " '3544749_0001 3811',\n",
       " '3544749_0002 124',\n",
       " '3544749_0003 8',\n",
       " '3544749_0004 380',\n",
       " '3544749_0005 7098177',\n",
       " '3544749_0006 15000',\n",
       " '3544749_0007 30000',\n",
       " '3544749_0008 2715000']"
      ]
     },
     "execution_count": 21,
     "metadata": {},
     "output_type": "execute_result"
    }
   ],
   "source": [
    "master_waveform_content"
   ]
  },
  {
   "cell_type": "code",
   "execution_count": null,
   "id": "9ca2392a",
   "metadata": {},
   "outputs": [],
   "source": []
  }
 ],
 "metadata": {
  "kernelspec": {
   "display_name": "Python 3 (ipykernel)",
   "language": "python",
   "name": "python3"
  },
  "language_info": {
   "codemirror_mode": {
    "name": "ipython",
    "version": 3
   },
   "file_extension": ".py",
   "mimetype": "text/x-python",
   "name": "python",
   "nbconvert_exporter": "python",
   "pygments_lexer": "ipython3",
   "version": "3.9.7"
  }
 },
 "nbformat": 4,
 "nbformat_minor": 5
}

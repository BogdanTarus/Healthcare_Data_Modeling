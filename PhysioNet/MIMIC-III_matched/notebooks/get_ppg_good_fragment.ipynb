{
 "cells": [
  {
   "cell_type": "code",
   "execution_count": 1,
   "id": "a3daac86",
   "metadata": {},
   "outputs": [],
   "source": [
    "import numpy as np\n",
    "import pandas as pd\n",
    "import random\n",
    "from datetime import datetime\n",
    "import matplotlib.pyplot as plt\n",
    "import os.path\n",
    "from bs4 import BeautifulSoup\n",
    "import requests\n",
    "import wfdb"
   ]
  },
  {
   "cell_type": "code",
   "execution_count": 2,
   "id": "2615cbcc",
   "metadata": {},
   "outputs": [],
   "source": [
    "record_segment_good_length_path = '../../../2_data/'"
   ]
  },
  {
   "cell_type": "code",
   "execution_count": 3,
   "id": "171071cc",
   "metadata": {},
   "outputs": [
    {
     "name": "stdout",
     "output_type": "stream",
     "text": [
      "total 1216\r\n",
      "-rw-r--r--   1 tarus  staff  286811 Feb  3 23:19 record_segment_good_length_0_1774.csv\r\n",
      "-rw-r--r--   1 tarus  staff  286811 Feb  3 23:12 record_segment_good_length_0_9999.csv\r\n",
      "drwxr-xr-x  14 tarus  staff     448 Feb  3 20:05 \u001b[1m\u001b[36mxold_01\u001b[m\u001b[m\r\n"
     ]
    }
   ],
   "source": [
    "!ls -l $record_segment_good_length_path"
   ]
  },
  {
   "cell_type": "code",
   "execution_count": 4,
   "id": "cae71e33",
   "metadata": {},
   "outputs": [
    {
     "name": "stdout",
     "output_type": "stream",
     "text": [
      "record_list_file: ../../../2_data/record_segment_good_length_0_1774.csv\n"
     ]
    }
   ],
   "source": [
    "first_record = 0\n",
    "last_record = 1774\n",
    "record_list_file = record_segment_good_length_path + 'record_segment_good_length_' + str(first_record) + '_' + str(last_record) + '.csv'\n",
    "print('record_list_file: {}'.format(record_list_file))"
   ]
  },
  {
   "cell_type": "code",
   "execution_count": 5,
   "id": "2de42587",
   "metadata": {},
   "outputs": [
    {
     "name": "stdout",
     "output_type": "stream",
     "text": [
      "-rw-r--r--  1 tarus  staff  286811 Feb  3 23:19 ../../../2_data/record_segment_good_length_0_1774.csv\r\n"
     ]
    }
   ],
   "source": [
    "!ls -l $record_list_file"
   ]
  },
  {
   "cell_type": "code",
   "execution_count": 6,
   "id": "c270dbb6",
   "metadata": {},
   "outputs": [],
   "source": [
    "segment_list_1 = pd.read_csv(record_list_file, header=None)"
   ]
  },
  {
   "cell_type": "code",
   "execution_count": 7,
   "id": "4b2d80f2",
   "metadata": {},
   "outputs": [
    {
     "data": {
      "text/html": [
       "<div>\n",
       "<style scoped>\n",
       "    .dataframe tbody tr th:only-of-type {\n",
       "        vertical-align: middle;\n",
       "    }\n",
       "\n",
       "    .dataframe tbody tr th {\n",
       "        vertical-align: top;\n",
       "    }\n",
       "\n",
       "    .dataframe thead th {\n",
       "        text-align: right;\n",
       "    }\n",
       "</style>\n",
       "<table border=\"1\" class=\"dataframe\">\n",
       "  <thead>\n",
       "    <tr style=\"text-align: right;\">\n",
       "      <th></th>\n",
       "      <th>0</th>\n",
       "      <th>1</th>\n",
       "      <th>2</th>\n",
       "    </tr>\n",
       "  </thead>\n",
       "  <tbody>\n",
       "    <tr>\n",
       "      <th>0</th>\n",
       "      <td>4</td>\n",
       "      <td>p00/p000052/p000052-2191-01-10-02-21</td>\n",
       "      <td>3238451_0005</td>\n",
       "    </tr>\n",
       "    <tr>\n",
       "      <th>1</th>\n",
       "      <td>5</td>\n",
       "      <td>p00/p000052/p000052-2191-01-10-12-15</td>\n",
       "      <td>3533390_0001</td>\n",
       "    </tr>\n",
       "    <tr>\n",
       "      <th>2</th>\n",
       "      <td>5</td>\n",
       "      <td>p00/p000052/p000052-2191-01-10-12-15</td>\n",
       "      <td>3533390_0003</td>\n",
       "    </tr>\n",
       "    <tr>\n",
       "      <th>3</th>\n",
       "      <td>5</td>\n",
       "      <td>p00/p000052/p000052-2191-01-10-12-15</td>\n",
       "      <td>3533390_0004</td>\n",
       "    </tr>\n",
       "    <tr>\n",
       "      <th>4</th>\n",
       "      <td>5</td>\n",
       "      <td>p00/p000052/p000052-2191-01-10-12-15</td>\n",
       "      <td>3533390_0007</td>\n",
       "    </tr>\n",
       "  </tbody>\n",
       "</table>\n",
       "</div>"
      ],
      "text/plain": [
       "   0                                     1             2\n",
       "0  4  p00/p000052/p000052-2191-01-10-02-21  3238451_0005\n",
       "1  5  p00/p000052/p000052-2191-01-10-12-15  3533390_0001\n",
       "2  5  p00/p000052/p000052-2191-01-10-12-15  3533390_0003\n",
       "3  5  p00/p000052/p000052-2191-01-10-12-15  3533390_0004\n",
       "4  5  p00/p000052/p000052-2191-01-10-12-15  3533390_0007"
      ]
     },
     "execution_count": 7,
     "metadata": {},
     "output_type": "execute_result"
    }
   ],
   "source": [
    "segment_list_1.head()"
   ]
  },
  {
   "cell_type": "code",
   "execution_count": 23,
   "id": "b16a00be",
   "metadata": {},
   "outputs": [],
   "source": [
    "directory = [y[0] + '/' + y[1] + '/' for y in [x.split('/') for x in segment_list_1.iloc[:,1]]]\n",
    "#directory"
   ]
  },
  {
   "cell_type": "code",
   "execution_count": 24,
   "id": "bd71dc7d",
   "metadata": {},
   "outputs": [],
   "source": [
    "matched_record = [y[2] for y in [x.split('/') for x in segment_list_1.iloc[:,1]]]\n",
    "#matched_record"
   ]
  },
  {
   "cell_type": "code",
   "execution_count": 25,
   "id": "7013de55",
   "metadata": {},
   "outputs": [],
   "source": [
    "segment_list_1.insert(loc=1, column='directory', value=directory)"
   ]
  },
  {
   "cell_type": "code",
   "execution_count": 26,
   "id": "d7ddbd9f",
   "metadata": {},
   "outputs": [
    {
     "data": {
      "text/html": [
       "<div>\n",
       "<style scoped>\n",
       "    .dataframe tbody tr th:only-of-type {\n",
       "        vertical-align: middle;\n",
       "    }\n",
       "\n",
       "    .dataframe tbody tr th {\n",
       "        vertical-align: top;\n",
       "    }\n",
       "\n",
       "    .dataframe thead th {\n",
       "        text-align: right;\n",
       "    }\n",
       "</style>\n",
       "<table border=\"1\" class=\"dataframe\">\n",
       "  <thead>\n",
       "    <tr style=\"text-align: right;\">\n",
       "      <th></th>\n",
       "      <th>0</th>\n",
       "      <th>directory</th>\n",
       "      <th>1</th>\n",
       "      <th>2</th>\n",
       "    </tr>\n",
       "  </thead>\n",
       "  <tbody>\n",
       "    <tr>\n",
       "      <th>0</th>\n",
       "      <td>4</td>\n",
       "      <td>p00/p000052/</td>\n",
       "      <td>p00/p000052/p000052-2191-01-10-02-21</td>\n",
       "      <td>3238451_0005</td>\n",
       "    </tr>\n",
       "    <tr>\n",
       "      <th>1</th>\n",
       "      <td>5</td>\n",
       "      <td>p00/p000052/</td>\n",
       "      <td>p00/p000052/p000052-2191-01-10-12-15</td>\n",
       "      <td>3533390_0001</td>\n",
       "    </tr>\n",
       "    <tr>\n",
       "      <th>2</th>\n",
       "      <td>5</td>\n",
       "      <td>p00/p000052/</td>\n",
       "      <td>p00/p000052/p000052-2191-01-10-12-15</td>\n",
       "      <td>3533390_0003</td>\n",
       "    </tr>\n",
       "    <tr>\n",
       "      <th>3</th>\n",
       "      <td>5</td>\n",
       "      <td>p00/p000052/</td>\n",
       "      <td>p00/p000052/p000052-2191-01-10-12-15</td>\n",
       "      <td>3533390_0004</td>\n",
       "    </tr>\n",
       "    <tr>\n",
       "      <th>4</th>\n",
       "      <td>5</td>\n",
       "      <td>p00/p000052/</td>\n",
       "      <td>p00/p000052/p000052-2191-01-10-12-15</td>\n",
       "      <td>3533390_0007</td>\n",
       "    </tr>\n",
       "  </tbody>\n",
       "</table>\n",
       "</div>"
      ],
      "text/plain": [
       "   0     directory                                     1             2\n",
       "0  4  p00/p000052/  p00/p000052/p000052-2191-01-10-02-21  3238451_0005\n",
       "1  5  p00/p000052/  p00/p000052/p000052-2191-01-10-12-15  3533390_0001\n",
       "2  5  p00/p000052/  p00/p000052/p000052-2191-01-10-12-15  3533390_0003\n",
       "3  5  p00/p000052/  p00/p000052/p000052-2191-01-10-12-15  3533390_0004\n",
       "4  5  p00/p000052/  p00/p000052/p000052-2191-01-10-12-15  3533390_0007"
      ]
     },
     "execution_count": 26,
     "metadata": {},
     "output_type": "execute_result"
    }
   ],
   "source": [
    "segment_list_1.head()"
   ]
  },
  {
   "cell_type": "code",
   "execution_count": 27,
   "id": "ce1227ab",
   "metadata": {},
   "outputs": [],
   "source": [
    "segment_list_1.insert(loc=2, column='matched_record', value=matched_record)"
   ]
  },
  {
   "cell_type": "code",
   "execution_count": 28,
   "id": "f841b029",
   "metadata": {},
   "outputs": [
    {
     "data": {
      "text/html": [
       "<div>\n",
       "<style scoped>\n",
       "    .dataframe tbody tr th:only-of-type {\n",
       "        vertical-align: middle;\n",
       "    }\n",
       "\n",
       "    .dataframe tbody tr th {\n",
       "        vertical-align: top;\n",
       "    }\n",
       "\n",
       "    .dataframe thead th {\n",
       "        text-align: right;\n",
       "    }\n",
       "</style>\n",
       "<table border=\"1\" class=\"dataframe\">\n",
       "  <thead>\n",
       "    <tr style=\"text-align: right;\">\n",
       "      <th></th>\n",
       "      <th>0</th>\n",
       "      <th>directory</th>\n",
       "      <th>matched_record</th>\n",
       "      <th>1</th>\n",
       "      <th>2</th>\n",
       "    </tr>\n",
       "  </thead>\n",
       "  <tbody>\n",
       "    <tr>\n",
       "      <th>0</th>\n",
       "      <td>4</td>\n",
       "      <td>p00/p000052/</td>\n",
       "      <td>p000052-2191-01-10-02-21</td>\n",
       "      <td>p00/p000052/p000052-2191-01-10-02-21</td>\n",
       "      <td>3238451_0005</td>\n",
       "    </tr>\n",
       "    <tr>\n",
       "      <th>1</th>\n",
       "      <td>5</td>\n",
       "      <td>p00/p000052/</td>\n",
       "      <td>p000052-2191-01-10-12-15</td>\n",
       "      <td>p00/p000052/p000052-2191-01-10-12-15</td>\n",
       "      <td>3533390_0001</td>\n",
       "    </tr>\n",
       "    <tr>\n",
       "      <th>2</th>\n",
       "      <td>5</td>\n",
       "      <td>p00/p000052/</td>\n",
       "      <td>p000052-2191-01-10-12-15</td>\n",
       "      <td>p00/p000052/p000052-2191-01-10-12-15</td>\n",
       "      <td>3533390_0003</td>\n",
       "    </tr>\n",
       "    <tr>\n",
       "      <th>3</th>\n",
       "      <td>5</td>\n",
       "      <td>p00/p000052/</td>\n",
       "      <td>p000052-2191-01-10-12-15</td>\n",
       "      <td>p00/p000052/p000052-2191-01-10-12-15</td>\n",
       "      <td>3533390_0004</td>\n",
       "    </tr>\n",
       "    <tr>\n",
       "      <th>4</th>\n",
       "      <td>5</td>\n",
       "      <td>p00/p000052/</td>\n",
       "      <td>p000052-2191-01-10-12-15</td>\n",
       "      <td>p00/p000052/p000052-2191-01-10-12-15</td>\n",
       "      <td>3533390_0007</td>\n",
       "    </tr>\n",
       "  </tbody>\n",
       "</table>\n",
       "</div>"
      ],
      "text/plain": [
       "   0     directory            matched_record  \\\n",
       "0  4  p00/p000052/  p000052-2191-01-10-02-21   \n",
       "1  5  p00/p000052/  p000052-2191-01-10-12-15   \n",
       "2  5  p00/p000052/  p000052-2191-01-10-12-15   \n",
       "3  5  p00/p000052/  p000052-2191-01-10-12-15   \n",
       "4  5  p00/p000052/  p000052-2191-01-10-12-15   \n",
       "\n",
       "                                      1             2  \n",
       "0  p00/p000052/p000052-2191-01-10-02-21  3238451_0005  \n",
       "1  p00/p000052/p000052-2191-01-10-12-15  3533390_0001  \n",
       "2  p00/p000052/p000052-2191-01-10-12-15  3533390_0003  \n",
       "3  p00/p000052/p000052-2191-01-10-12-15  3533390_0004  \n",
       "4  p00/p000052/p000052-2191-01-10-12-15  3533390_0007  "
      ]
     },
     "execution_count": 28,
     "metadata": {},
     "output_type": "execute_result"
    }
   ],
   "source": [
    "segment_list_1.head()"
   ]
  },
  {
   "cell_type": "code",
   "execution_count": null,
   "id": "20ebd413",
   "metadata": {},
   "outputs": [],
   "source": []
  },
  {
   "cell_type": "code",
   "execution_count": null,
   "id": "59eeb17a",
   "metadata": {},
   "outputs": [],
   "source": []
  },
  {
   "cell_type": "code",
   "execution_count": null,
   "id": "40f88712",
   "metadata": {},
   "outputs": [],
   "source": []
  },
  {
   "cell_type": "code",
   "execution_count": 13,
   "id": "1a8d005b",
   "metadata": {},
   "outputs": [
    {
     "data": {
      "text/plain": [
       "['p00', 'p000052', 'p000052-2191-01-10-02-21']"
      ]
     },
     "execution_count": 13,
     "metadata": {},
     "output_type": "execute_result"
    }
   ],
   "source": [
    "segment_list_1.iloc[0,1].split('/')"
   ]
  },
  {
   "cell_type": "code",
   "execution_count": 73,
   "id": "c2bb3eaa",
   "metadata": {},
   "outputs": [],
   "source": [
    "# drop the first column\n",
    "#segment_list_1.drop(segment_list_1.columns[[0]], axis=1, inplace=True)"
   ]
  },
  {
   "cell_type": "code",
   "execution_count": 8,
   "id": "2f2de5e6",
   "metadata": {},
   "outputs": [],
   "source": [
    "#segment_list_1.head()"
   ]
  },
  {
   "cell_type": "code",
   "execution_count": 9,
   "id": "d183b832",
   "metadata": {},
   "outputs": [],
   "source": [
    "record_list_1 = segment_list_1.groupby(segment_list_1.iloc[:,0],as_index=False).agg(list)"
   ]
  },
  {
   "cell_type": "code",
   "execution_count": 10,
   "id": "f94d29ca",
   "metadata": {},
   "outputs": [
    {
     "data": {
      "text/html": [
       "<div>\n",
       "<style scoped>\n",
       "    .dataframe tbody tr th:only-of-type {\n",
       "        vertical-align: middle;\n",
       "    }\n",
       "\n",
       "    .dataframe tbody tr th {\n",
       "        vertical-align: top;\n",
       "    }\n",
       "\n",
       "    .dataframe thead th {\n",
       "        text-align: right;\n",
       "    }\n",
       "</style>\n",
       "<table border=\"1\" class=\"dataframe\">\n",
       "  <thead>\n",
       "    <tr style=\"text-align: right;\">\n",
       "      <th></th>\n",
       "      <th>0</th>\n",
       "      <th>1</th>\n",
       "      <th>2</th>\n",
       "    </tr>\n",
       "  </thead>\n",
       "  <tbody>\n",
       "    <tr>\n",
       "      <th>0</th>\n",
       "      <td>[4]</td>\n",
       "      <td>[p00/p000052/p000052-2191-01-10-02-21]</td>\n",
       "      <td>[3238451_0005]</td>\n",
       "    </tr>\n",
       "    <tr>\n",
       "      <th>1</th>\n",
       "      <td>[5, 5, 5, 5, 5, 5, 5, 5, 5]</td>\n",
       "      <td>[p00/p000052/p000052-2191-01-10-12-15, p00/p00...</td>\n",
       "      <td>[3533390_0001, 3533390_0003, 3533390_0004, 353...</td>\n",
       "    </tr>\n",
       "    <tr>\n",
       "      <th>2</th>\n",
       "      <td>[9, 9, 9, 9, 9, 9, 9, 9, 9, 9, 9, 9, 9, 9, 9, ...</td>\n",
       "      <td>[p00/p000107/p000107-2121-11-30-20-03, p00/p00...</td>\n",
       "      <td>[3805787_0005, 3805787_0008, 3805787_0011, 380...</td>\n",
       "    </tr>\n",
       "    <tr>\n",
       "      <th>3</th>\n",
       "      <td>[10, 10, 10, 10, 10, 10, 10, 10, 10, 10, 10, 1...</td>\n",
       "      <td>[p00/p000107/p000107-2122-05-14-21-01, p00/p00...</td>\n",
       "      <td>[3860035_0001, 3860035_0004, 3860035_0006, 386...</td>\n",
       "    </tr>\n",
       "    <tr>\n",
       "      <th>4</th>\n",
       "      <td>[11, 11, 11, 11, 11, 11, 11]</td>\n",
       "      <td>[p00/p000107/p000107-2123-07-26-03-10, p00/p00...</td>\n",
       "      <td>[3746356_0006, 3746356_0008, 3746356_0012, 374...</td>\n",
       "    </tr>\n",
       "  </tbody>\n",
       "</table>\n",
       "</div>"
      ],
      "text/plain": [
       "                                                   0  \\\n",
       "0                                                [4]   \n",
       "1                        [5, 5, 5, 5, 5, 5, 5, 5, 5]   \n",
       "2  [9, 9, 9, 9, 9, 9, 9, 9, 9, 9, 9, 9, 9, 9, 9, ...   \n",
       "3  [10, 10, 10, 10, 10, 10, 10, 10, 10, 10, 10, 1...   \n",
       "4                       [11, 11, 11, 11, 11, 11, 11]   \n",
       "\n",
       "                                                   1  \\\n",
       "0             [p00/p000052/p000052-2191-01-10-02-21]   \n",
       "1  [p00/p000052/p000052-2191-01-10-12-15, p00/p00...   \n",
       "2  [p00/p000107/p000107-2121-11-30-20-03, p00/p00...   \n",
       "3  [p00/p000107/p000107-2122-05-14-21-01, p00/p00...   \n",
       "4  [p00/p000107/p000107-2123-07-26-03-10, p00/p00...   \n",
       "\n",
       "                                                   2  \n",
       "0                                     [3238451_0005]  \n",
       "1  [3533390_0001, 3533390_0003, 3533390_0004, 353...  \n",
       "2  [3805787_0005, 3805787_0008, 3805787_0011, 380...  \n",
       "3  [3860035_0001, 3860035_0004, 3860035_0006, 386...  \n",
       "4  [3746356_0006, 3746356_0008, 3746356_0012, 374...  "
      ]
     },
     "execution_count": 10,
     "metadata": {},
     "output_type": "execute_result"
    }
   ],
   "source": [
    "record_list_1.head()"
   ]
  },
  {
   "cell_type": "code",
   "execution_count": 85,
   "id": "7da796e2",
   "metadata": {},
   "outputs": [
    {
     "data": {
      "text/plain": [
       "(332, 2)"
      ]
     },
     "execution_count": 85,
     "metadata": {},
     "output_type": "execute_result"
    }
   ],
   "source": [
    "record_list_1.shape"
   ]
  },
  {
   "cell_type": "code",
   "execution_count": 88,
   "id": "4f34fa2d",
   "metadata": {},
   "outputs": [
    {
     "data": {
      "text/plain": [
       "10"
      ]
     },
     "execution_count": 88,
     "metadata": {},
     "output_type": "execute_result"
    }
   ],
   "source": [
    "record_list_1.iloc[0,0][0]"
   ]
  },
  {
   "cell_type": "code",
   "execution_count": 90,
   "id": "7ce1a914",
   "metadata": {},
   "outputs": [
    {
     "name": "stdout",
     "output_type": "stream",
     "text": [
      "p00/p000107/3860035_0001\n",
      "p00/p000107/3860035_0004\n",
      "p00/p000107/3860035_0006\n",
      "p00/p000107/3860035_0009\n",
      "p00/p000107/3860035_0010\n",
      "p00/p000107/3860035_0011\n",
      "p00/p000107/3860035_0012\n",
      "p00/p000107/3860035_0014\n",
      "p00/p000107/3860035_0016\n",
      "p00/p000107/3860035_0022\n",
      "p00/p000107/3860035_0024\n",
      "p00/p000107/3860035_0029\n",
      "p00/p000107/3860035_0031\n",
      "p00/p000107/3860035_0032\n",
      "p00/p000107/3860035_0034\n",
      "p00/p000107/3860035_0037\n",
      "p00/p000107/3860035_0040\n",
      "p00/p000107/3860035_0044\n"
     ]
    }
   ],
   "source": [
    "for root in record_list_1.iloc[0,1]:\n",
    "    print(root)\n",
    "    "
   ]
  },
  {
   "cell_type": "code",
   "execution_count": 97,
   "id": "101ca449",
   "metadata": {},
   "outputs": [
    {
     "data": {
      "text/plain": [
       "[['p00', 'p000107', '3860035_0001'],\n",
       " ['p00', 'p000107', '3860035_0004'],\n",
       " ['p00', 'p000107', '3860035_0006'],\n",
       " ['p00', 'p000107', '3860035_0009'],\n",
       " ['p00', 'p000107', '3860035_0010'],\n",
       " ['p00', 'p000107', '3860035_0011'],\n",
       " ['p00', 'p000107', '3860035_0012'],\n",
       " ['p00', 'p000107', '3860035_0014'],\n",
       " ['p00', 'p000107', '3860035_0016'],\n",
       " ['p00', 'p000107', '3860035_0022'],\n",
       " ['p00', 'p000107', '3860035_0024'],\n",
       " ['p00', 'p000107', '3860035_0029'],\n",
       " ['p00', 'p000107', '3860035_0031'],\n",
       " ['p00', 'p000107', '3860035_0032'],\n",
       " ['p00', 'p000107', '3860035_0034'],\n",
       " ['p00', 'p000107', '3860035_0037'],\n",
       " ['p00', 'p000107', '3860035_0040'],\n",
       " ['p00', 'p000107', '3860035_0044']]"
      ]
     },
     "execution_count": 97,
     "metadata": {},
     "output_type": "execute_result"
    }
   ],
   "source": [
    "root_list = [x.split('/') for x in record_list_1.iloc[0,1]]\n",
    "root_list"
   ]
  },
  {
   "cell_type": "code",
   "execution_count": 99,
   "id": "1735af8a",
   "metadata": {},
   "outputs": [
    {
     "data": {
      "text/plain": [
       "'p00'"
      ]
     },
     "execution_count": 99,
     "metadata": {},
     "output_type": "execute_result"
    }
   ],
   "source": [
    "# get the Intermediate directory \n",
    "intermediate_directory = root_list[0][0]\n",
    "intermediate_directory"
   ]
  },
  {
   "cell_type": "code",
   "execution_count": 129,
   "id": "4435499d",
   "metadata": {},
   "outputs": [
    {
     "data": {
      "text/plain": [
       "'p00/p000107/'"
      ]
     },
     "execution_count": 129,
     "metadata": {},
     "output_type": "execute_result"
    }
   ],
   "source": [
    "# get the directory\n",
    "directory = root_list[0][0] + '/' + root_list[0][1] + '/'\n",
    "directory"
   ]
  },
  {
   "cell_type": "code",
   "execution_count": 105,
   "id": "1d271e79",
   "metadata": {},
   "outputs": [
    {
     "data": {
      "text/plain": [
       "107"
      ]
     },
     "execution_count": 105,
     "metadata": {},
     "output_type": "execute_result"
    }
   ],
   "source": [
    "# get the user_id\n",
    "user_id = root_list[0][1][1:]\n",
    "int(user_id)"
   ]
  },
  {
   "cell_type": "code",
   "execution_count": 157,
   "id": "c2c555d5",
   "metadata": {},
   "outputs": [
    {
     "data": {
      "text/plain": [
       "['3860035_0001',\n",
       " '3860035_0004',\n",
       " '3860035_0006',\n",
       " '3860035_0009',\n",
       " '3860035_0010',\n",
       " '3860035_0011',\n",
       " '3860035_0012',\n",
       " '3860035_0014',\n",
       " '3860035_0016',\n",
       " '3860035_0022',\n",
       " '3860035_0024',\n",
       " '3860035_0029',\n",
       " '3860035_0031',\n",
       " '3860035_0032',\n",
       " '3860035_0034',\n",
       " '3860035_0037',\n",
       " '3860035_0040',\n",
       " '3860035_0044']"
      ]
     },
     "execution_count": 157,
     "metadata": {},
     "output_type": "execute_result"
    }
   ],
   "source": [
    "record_segment = [x[2] for x in root_list]\n",
    "record_segment"
   ]
  },
  {
   "cell_type": "code",
   "execution_count": 158,
   "id": "0ac59408",
   "metadata": {},
   "outputs": [],
   "source": [
    "random.Random(4).shuffle(record_segment)"
   ]
  },
  {
   "cell_type": "code",
   "execution_count": 159,
   "id": "fd0edb20",
   "metadata": {},
   "outputs": [
    {
     "data": {
      "text/plain": [
       "['3860035_0031',\n",
       " '3860035_0037',\n",
       " '3860035_0011',\n",
       " '3860035_0040',\n",
       " '3860035_0016',\n",
       " '3860035_0034',\n",
       " '3860035_0010',\n",
       " '3860035_0032',\n",
       " '3860035_0001',\n",
       " '3860035_0024',\n",
       " '3860035_0004',\n",
       " '3860035_0006',\n",
       " '3860035_0044',\n",
       " '3860035_0012',\n",
       " '3860035_0029',\n",
       " '3860035_0009',\n",
       " '3860035_0022',\n",
       " '3860035_0014']"
      ]
     },
     "execution_count": 159,
     "metadata": {},
     "output_type": "execute_result"
    }
   ],
   "source": [
    "record_segment"
   ]
  },
  {
   "cell_type": "code",
   "execution_count": 196,
   "id": "7df986cf",
   "metadata": {},
   "outputs": [
    {
     "data": {
      "text/plain": [
       "'3860035_0010'"
      ]
     },
     "execution_count": 196,
     "metadata": {},
     "output_type": "execute_result"
    }
   ],
   "source": [
    "record_name = record_segment[6]\n",
    "record_segment_signal = wfdb.rdsamp(record_name=record_name,\n",
    "                                    pn_dir='mimic3wdb-matched/1.0/' + directory,\n",
    "                                    channel_names=['PLETH'])\n",
    "record_name"
   ]
  },
  {
   "cell_type": "code",
   "execution_count": 197,
   "id": "8e210966",
   "metadata": {},
   "outputs": [
    {
     "data": {
      "text/plain": [
       "(array([[       nan],\n",
       "        [       nan],\n",
       "        [       nan],\n",
       "        ...,\n",
       "        [0.38039216],\n",
       "        [0.38039216],\n",
       "        [0.38039216]]),\n",
       " {'fs': 125,\n",
       "  'sig_len': 53875,\n",
       "  'n_sig': 1,\n",
       "  'base_date': None,\n",
       "  'base_time': datetime.time(9, 39, 48),\n",
       "  'units': ['NU'],\n",
       "  'sig_name': ['PLETH'],\n",
       "  'comments': []})"
      ]
     },
     "execution_count": 197,
     "metadata": {},
     "output_type": "execute_result"
    }
   ],
   "source": [
    "record_segment_signal"
   ]
  },
  {
   "cell_type": "code",
   "execution_count": 198,
   "id": "ec068b91",
   "metadata": {},
   "outputs": [
    {
     "data": {
      "image/png": "[encoded data removed]",
      "text/plain": [
       "<Figure size 432x288 with 1 Axes>"
      ]
     },
     "metadata": {
      "needs_background": "light"
     },
     "output_type": "display_data"
    }
   ],
   "source": [
    "# Plotting the signal\n",
    "plt.figure()\n",
    "plt.plot(record_segment_signal[0][:10000])\n",
    "plt.show()        "
   ]
  },
  {
   "cell_type": "code",
   "execution_count": 199,
   "id": "6b9c0737",
   "metadata": {},
   "outputs": [
    {
     "data": {
      "text/plain": [
       "(array([[       nan],\n",
       "        [       nan],\n",
       "        [       nan],\n",
       "        ...,\n",
       "        [0.38039216],\n",
       "        [0.38039216],\n",
       "        [0.38039216]]),\n",
       " {'fs': 125,\n",
       "  'sig_len': 53875,\n",
       "  'n_sig': 1,\n",
       "  'base_date': None,\n",
       "  'base_time': datetime.time(9, 39, 48),\n",
       "  'units': ['NU'],\n",
       "  'sig_name': ['PLETH'],\n",
       "  'comments': []})"
      ]
     },
     "execution_count": 199,
     "metadata": {},
     "output_type": "execute_result"
    }
   ],
   "source": [
    "record_segment_signal"
   ]
  },
  {
   "cell_type": "code",
   "execution_count": 146,
   "id": "58aa85d4",
   "metadata": {},
   "outputs": [
    {
     "data": {
      "text/plain": [
       "(2558375, 1)"
      ]
     },
     "execution_count": 146,
     "metadata": {},
     "output_type": "execute_result"
    }
   ],
   "source": [
    "record_segment_signal[0].shape"
   ]
  },
  {
   "cell_type": "code",
   "execution_count": 154,
   "id": "ef0f77d5",
   "metadata": {},
   "outputs": [
    {
     "data": {
      "text/plain": [
       "array([[ True],\n",
       "       [ True],\n",
       "       [ True],\n",
       "       ...,\n",
       "       [False],\n",
       "       [False],\n",
       "       [False]])"
      ]
     },
     "execution_count": 154,
     "metadata": {},
     "output_type": "execute_result"
    }
   ],
   "source": [
    "np.isnan(record_segment_signal[0])"
   ]
  },
  {
   "cell_type": "code",
   "execution_count": 151,
   "id": "8fabc9df",
   "metadata": {},
   "outputs": [
    {
     "data": {
      "text/plain": [
       "array([[nan],\n",
       "       [nan],\n",
       "       [nan],\n",
       "       [nan],\n",
       "       [nan],\n",
       "       [nan],\n",
       "       [nan],\n",
       "       [nan],\n",
       "       [nan],\n",
       "       [nan]])"
      ]
     },
     "execution_count": 151,
     "metadata": {},
     "output_type": "execute_result"
    }
   ],
   "source": [
    "record_segment_signal[0][:10]"
   ]
  },
  {
   "cell_type": "code",
   "execution_count": 171,
   "id": "bf9b4b5c",
   "metadata": {},
   "outputs": [
    {
     "data": {
      "text/plain": [
       "(7883, 2)"
      ]
     },
     "execution_count": 171,
     "metadata": {},
     "output_type": "execute_result"
    }
   ],
   "source": [
    "np.argwhere(np.isnan(record_segment_signal[0])).shape"
   ]
  },
  {
   "cell_type": "code",
   "execution_count": 170,
   "id": "2a63f10a",
   "metadata": {},
   "outputs": [
    {
     "data": {
      "text/plain": [
       "array([[       nan],\n",
       "       [       nan],\n",
       "       [       nan],\n",
       "       [       nan],\n",
       "       [       nan],\n",
       "       [       nan],\n",
       "       [       nan],\n",
       "       [       nan],\n",
       "       [       nan],\n",
       "       [0.49019608],\n",
       "       [0.49019608],\n",
       "       [0.49019608],\n",
       "       [0.49019608],\n",
       "       [0.49019608],\n",
       "       [0.49019608],\n",
       "       [0.49019608],\n",
       "       [0.49019608],\n",
       "       [0.49019608],\n",
       "       [0.49019608],\n",
       "       [0.49019608]])"
      ]
     },
     "execution_count": 170,
     "metadata": {},
     "output_type": "execute_result"
    }
   ],
   "source": [
    "record_segment_signal[0][30:50]"
   ]
  },
  {
   "cell_type": "code",
   "execution_count": null,
   "id": "90743be8",
   "metadata": {},
   "outputs": [],
   "source": []
  }
 ],
 "metadata": {
  "kernelspec": {
   "display_name": "Python 3 (ipykernel)",
   "language": "python",
   "name": "python3"
  },
  "language_info": {
   "codemirror_mode": {
    "name": "ipython",
    "version": 3
   },
   "file_extension": ".py",
   "mimetype": "text/x-python",
   "name": "python",
   "nbconvert_exporter": "python",
   "pygments_lexer": "ipython3",
   "version": "3.9.7"
  }
 },
 "nbformat": 4,
 "nbformat_minor": 5
}

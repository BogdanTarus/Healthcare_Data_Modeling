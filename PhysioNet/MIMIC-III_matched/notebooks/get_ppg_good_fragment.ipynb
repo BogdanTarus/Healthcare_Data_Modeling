{
 "cells": [
  {
   "cell_type": "code",
   "execution_count": 4,
   "id": "a3daac86",
   "metadata": {},
   "outputs": [],
   "source": [
    "import numpy as np\n",
    "import pandas as pd\n",
    "import random\n",
    "from datetime import datetime\n",
    "import matplotlib.pyplot as plt\n",
    "import os.path\n",
    "from bs4 import BeautifulSoup\n",
    "import requests\n",
    "import wfdb"
   ]
  },
  {
   "cell_type": "code",
   "execution_count": 12,
   "id": "2615cbcc",
   "metadata": {},
   "outputs": [],
   "source": [
    "record_segment_good_length_path = '../../../2_data/'"
   ]
  },
  {
   "cell_type": "code",
   "execution_count": 13,
   "id": "171071cc",
   "metadata": {},
   "outputs": [
    {
     "name": "stdout",
     "output_type": "stream",
     "text": [
      "total 30936\r\n",
      "-rw-r--r--   1 tarus  staff   286811 Feb  3 23:19 record_segment_good_length_0_1774.csv\r\n",
      "-rw-r--r--   1 tarus  staff  2546376 Feb  5 00:23 record_segment_good_length_0_8858.csv\r\n",
      "-rw-r--r--   1 tarus  staff  3084991 Feb  5 05:24 record_segment_good_length_0_9999.csv\r\n",
      "-rw-r--r--   1 tarus  staff  3511872 Feb  7 20:31 record_segment_good_length_10000_16999.csv\r\n",
      "-rw-r--r--   1 tarus  staff  3752840 Feb  7 10:16 record_segment_good_length_10000_22316.csv\r\n",
      "-rw-r--r--   1 tarus  staff  2638552 Feb  6 15:31 record_segment_good_length_17000_22316.csv\r\n",
      "drwxr-xr-x  14 tarus  staff      448 Feb  3 20:05 \u001b[1m\u001b[36mxold_01\u001b[m\u001b[m\r\n",
      "drwxr-xr-x   6 tarus  staff      192 Feb  5 15:16 \u001b[1m\u001b[36my_backup\u001b[m\u001b[m\r\n"
     ]
    }
   ],
   "source": [
    "!ls -l $record_segment_good_length_path"
   ]
  },
  {
   "cell_type": "code",
   "execution_count": 14,
   "id": "904a3dfd",
   "metadata": {},
   "outputs": [],
   "source": [
    "path_1 = record_segment_good_length_path + 'record_segment_good_length_0_9999.csv'\n",
    "path_2 = record_segment_good_length_path + 'record_segment_good_length_10000_16999.csv'\n",
    "path_3 = record_segment_good_length_path + 'record_segment_good_length_17000_22316.csv'"
   ]
  },
  {
   "cell_type": "code",
   "execution_count": 17,
   "id": "a915f445",
   "metadata": {},
   "outputs": [],
   "source": [
    "df1 = pd.read_csv(path_1)\n",
    "df2 = pd.read_csv(path_2)\n",
    "df3 = pd.read_csv(path_3)"
   ]
  },
  {
   "cell_type": "code",
   "execution_count": 18,
   "id": "945256ac",
   "metadata": {},
   "outputs": [
    {
     "data": {
      "text/html": [
       "<div>\n",
       "<style scoped>\n",
       "    .dataframe tbody tr th:only-of-type {\n",
       "        vertical-align: middle;\n",
       "    }\n",
       "\n",
       "    .dataframe tbody tr th {\n",
       "        vertical-align: top;\n",
       "    }\n",
       "\n",
       "    .dataframe thead th {\n",
       "        text-align: right;\n",
       "    }\n",
       "</style>\n",
       "<table border=\"1\" class=\"dataframe\">\n",
       "  <thead>\n",
       "    <tr style=\"text-align: right;\">\n",
       "      <th></th>\n",
       "      <th>4</th>\n",
       "      <th>p00/p000052/p000052-2191-01-10-02-21</th>\n",
       "      <th>3238451_0005</th>\n",
       "    </tr>\n",
       "  </thead>\n",
       "  <tbody>\n",
       "    <tr>\n",
       "      <th>0</th>\n",
       "      <td>5</td>\n",
       "      <td>p00/p000052/p000052-2191-01-10-12-15</td>\n",
       "      <td>3533390_0001</td>\n",
       "    </tr>\n",
       "    <tr>\n",
       "      <th>1</th>\n",
       "      <td>5</td>\n",
       "      <td>p00/p000052/p000052-2191-01-10-12-15</td>\n",
       "      <td>3533390_0003</td>\n",
       "    </tr>\n",
       "    <tr>\n",
       "      <th>2</th>\n",
       "      <td>5</td>\n",
       "      <td>p00/p000052/p000052-2191-01-10-12-15</td>\n",
       "      <td>3533390_0004</td>\n",
       "    </tr>\n",
       "    <tr>\n",
       "      <th>3</th>\n",
       "      <td>5</td>\n",
       "      <td>p00/p000052/p000052-2191-01-10-12-15</td>\n",
       "      <td>3533390_0007</td>\n",
       "    </tr>\n",
       "    <tr>\n",
       "      <th>4</th>\n",
       "      <td>5</td>\n",
       "      <td>p00/p000052/p000052-2191-01-10-12-15</td>\n",
       "      <td>3533390_0008</td>\n",
       "    </tr>\n",
       "  </tbody>\n",
       "</table>\n",
       "</div>"
      ],
      "text/plain": [
       "   4  p00/p000052/p000052-2191-01-10-02-21  3238451_0005\n",
       "0  5  p00/p000052/p000052-2191-01-10-12-15  3533390_0001\n",
       "1  5  p00/p000052/p000052-2191-01-10-12-15  3533390_0003\n",
       "2  5  p00/p000052/p000052-2191-01-10-12-15  3533390_0004\n",
       "3  5  p00/p000052/p000052-2191-01-10-12-15  3533390_0007\n",
       "4  5  p00/p000052/p000052-2191-01-10-12-15  3533390_0008"
      ]
     },
     "execution_count": 18,
     "metadata": {},
     "output_type": "execute_result"
    }
   ],
   "source": [
    "df1.head()"
   ]
  },
  {
   "cell_type": "code",
   "execution_count": null,
   "id": "e560068a",
   "metadata": {},
   "outputs": [],
   "source": []
  },
  {
   "cell_type": "code",
   "execution_count": null,
   "id": "561cb5a1",
   "metadata": {},
   "outputs": [],
   "source": []
  },
  {
   "cell_type": "code",
   "execution_count": 4,
   "id": "cae71e33",
   "metadata": {},
   "outputs": [
    {
     "name": "stdout",
     "output_type": "stream",
     "text": [
      "record_list_file: ../../../2_data/record_segment_good_length_0_1774.csv\n"
     ]
    }
   ],
   "source": [
    "first_record = 0\n",
    "last_record = 1774\n",
    "record_list_file = record_segment_good_length_path + 'record_segment_good_length_' + str(first_record) + '_' + str(last_record) + '.csv'\n",
    "print('record_list_file: {}'.format(record_list_file))"
   ]
  },
  {
   "cell_type": "code",
   "execution_count": 5,
   "id": "2de42587",
   "metadata": {},
   "outputs": [
    {
     "name": "stdout",
     "output_type": "stream",
     "text": [
      "-rw-r--r--  1 tarus  staff  286811 Feb  3 23:19 ../../../2_data/record_segment_good_length_0_1774.csv\r\n"
     ]
    }
   ],
   "source": [
    "!ls -l $record_list_file"
   ]
  },
  {
   "cell_type": "code",
   "execution_count": 6,
   "id": "c270dbb6",
   "metadata": {},
   "outputs": [],
   "source": [
    "segment_list_1 = pd.read_csv(record_list_file, header=None)\n",
    "# segment_list_1 to be replaced with selected_records"
   ]
  },
  {
   "cell_type": "code",
   "execution_count": 7,
   "id": "4b2d80f2",
   "metadata": {},
   "outputs": [
    {
     "data": {
      "text/html": [
       "<div>\n",
       "<style scoped>\n",
       "    .dataframe tbody tr th:only-of-type {\n",
       "        vertical-align: middle;\n",
       "    }\n",
       "\n",
       "    .dataframe tbody tr th {\n",
       "        vertical-align: top;\n",
       "    }\n",
       "\n",
       "    .dataframe thead th {\n",
       "        text-align: right;\n",
       "    }\n",
       "</style>\n",
       "<table border=\"1\" class=\"dataframe\">\n",
       "  <thead>\n",
       "    <tr style=\"text-align: right;\">\n",
       "      <th></th>\n",
       "      <th>0</th>\n",
       "      <th>1</th>\n",
       "      <th>2</th>\n",
       "    </tr>\n",
       "  </thead>\n",
       "  <tbody>\n",
       "    <tr>\n",
       "      <th>0</th>\n",
       "      <td>4</td>\n",
       "      <td>p00/p000052/p000052-2191-01-10-02-21</td>\n",
       "      <td>3238451_0005</td>\n",
       "    </tr>\n",
       "    <tr>\n",
       "      <th>1</th>\n",
       "      <td>5</td>\n",
       "      <td>p00/p000052/p000052-2191-01-10-12-15</td>\n",
       "      <td>3533390_0001</td>\n",
       "    </tr>\n",
       "    <tr>\n",
       "      <th>2</th>\n",
       "      <td>5</td>\n",
       "      <td>p00/p000052/p000052-2191-01-10-12-15</td>\n",
       "      <td>3533390_0003</td>\n",
       "    </tr>\n",
       "    <tr>\n",
       "      <th>3</th>\n",
       "      <td>5</td>\n",
       "      <td>p00/p000052/p000052-2191-01-10-12-15</td>\n",
       "      <td>3533390_0004</td>\n",
       "    </tr>\n",
       "    <tr>\n",
       "      <th>4</th>\n",
       "      <td>5</td>\n",
       "      <td>p00/p000052/p000052-2191-01-10-12-15</td>\n",
       "      <td>3533390_0007</td>\n",
       "    </tr>\n",
       "  </tbody>\n",
       "</table>\n",
       "</div>"
      ],
      "text/plain": [
       "   0                                     1             2\n",
       "0  4  p00/p000052/p000052-2191-01-10-02-21  3238451_0005\n",
       "1  5  p00/p000052/p000052-2191-01-10-12-15  3533390_0001\n",
       "2  5  p00/p000052/p000052-2191-01-10-12-15  3533390_0003\n",
       "3  5  p00/p000052/p000052-2191-01-10-12-15  3533390_0004\n",
       "4  5  p00/p000052/p000052-2191-01-10-12-15  3533390_0007"
      ]
     },
     "execution_count": 7,
     "metadata": {},
     "output_type": "execute_result"
    }
   ],
   "source": [
    "segment_list_1.head()"
   ]
  },
  {
   "cell_type": "code",
   "execution_count": 23,
   "id": "35ca5f62",
   "metadata": {},
   "outputs": [],
   "source": [
    "directory = [y[0] + '/' + y[1] + '/' for y in [x.split('/') for x in segment_list_1.iloc[:,1]]]\n",
    "#directory"
   ]
  },
  {
   "cell_type": "code",
   "execution_count": 24,
   "id": "ba837323",
   "metadata": {},
   "outputs": [],
   "source": [
    "matched_record = [y[2] for y in [x.split('/') for x in segment_list_1.iloc[:,1]]]\n",
    "#matched_record"
   ]
  },
  {
   "cell_type": "code",
   "execution_count": 32,
   "id": "466d1a65",
   "metadata": {},
   "outputs": [],
   "source": [
    "user_id = [int(y[1][1:]) for y in [x.split('/') for x in segment_list_1.iloc[:,1]]]\n",
    "#user_id"
   ]
  },
  {
   "cell_type": "code",
   "execution_count": 25,
   "id": "85ab1c86",
   "metadata": {},
   "outputs": [],
   "source": [
    "segment_list_1.insert(loc=1, column='directory', value=directory)"
   ]
  },
  {
   "cell_type": "code",
   "execution_count": 26,
   "id": "6ce099e9",
   "metadata": {},
   "outputs": [
    {
     "data": {
      "text/html": [
       "<div>\n",
       "<style scoped>\n",
       "    .dataframe tbody tr th:only-of-type {\n",
       "        vertical-align: middle;\n",
       "    }\n",
       "\n",
       "    .dataframe tbody tr th {\n",
       "        vertical-align: top;\n",
       "    }\n",
       "\n",
       "    .dataframe thead th {\n",
       "        text-align: right;\n",
       "    }\n",
       "</style>\n",
       "<table border=\"1\" class=\"dataframe\">\n",
       "  <thead>\n",
       "    <tr style=\"text-align: right;\">\n",
       "      <th></th>\n",
       "      <th>0</th>\n",
       "      <th>directory</th>\n",
       "      <th>1</th>\n",
       "      <th>2</th>\n",
       "    </tr>\n",
       "  </thead>\n",
       "  <tbody>\n",
       "    <tr>\n",
       "      <th>0</th>\n",
       "      <td>4</td>\n",
       "      <td>p00/p000052/</td>\n",
       "      <td>p00/p000052/p000052-2191-01-10-02-21</td>\n",
       "      <td>3238451_0005</td>\n",
       "    </tr>\n",
       "    <tr>\n",
       "      <th>1</th>\n",
       "      <td>5</td>\n",
       "      <td>p00/p000052/</td>\n",
       "      <td>p00/p000052/p000052-2191-01-10-12-15</td>\n",
       "      <td>3533390_0001</td>\n",
       "    </tr>\n",
       "    <tr>\n",
       "      <th>2</th>\n",
       "      <td>5</td>\n",
       "      <td>p00/p000052/</td>\n",
       "      <td>p00/p000052/p000052-2191-01-10-12-15</td>\n",
       "      <td>3533390_0003</td>\n",
       "    </tr>\n",
       "    <tr>\n",
       "      <th>3</th>\n",
       "      <td>5</td>\n",
       "      <td>p00/p000052/</td>\n",
       "      <td>p00/p000052/p000052-2191-01-10-12-15</td>\n",
       "      <td>3533390_0004</td>\n",
       "    </tr>\n",
       "    <tr>\n",
       "      <th>4</th>\n",
       "      <td>5</td>\n",
       "      <td>p00/p000052/</td>\n",
       "      <td>p00/p000052/p000052-2191-01-10-12-15</td>\n",
       "      <td>3533390_0007</td>\n",
       "    </tr>\n",
       "  </tbody>\n",
       "</table>\n",
       "</div>"
      ],
      "text/plain": [
       "   0     directory                                     1             2\n",
       "0  4  p00/p000052/  p00/p000052/p000052-2191-01-10-02-21  3238451_0005\n",
       "1  5  p00/p000052/  p00/p000052/p000052-2191-01-10-12-15  3533390_0001\n",
       "2  5  p00/p000052/  p00/p000052/p000052-2191-01-10-12-15  3533390_0003\n",
       "3  5  p00/p000052/  p00/p000052/p000052-2191-01-10-12-15  3533390_0004\n",
       "4  5  p00/p000052/  p00/p000052/p000052-2191-01-10-12-15  3533390_0007"
      ]
     },
     "execution_count": 26,
     "metadata": {},
     "output_type": "execute_result"
    }
   ],
   "source": [
    "segment_list_1.head()"
   ]
  },
  {
   "cell_type": "code",
   "execution_count": 27,
   "id": "aae66b91",
   "metadata": {},
   "outputs": [],
   "source": [
    "segment_list_1.insert(loc=2, column='matched_record', value=matched_record)"
   ]
  },
  {
   "cell_type": "code",
   "execution_count": 34,
   "id": "f0b807e2",
   "metadata": {},
   "outputs": [
    {
     "data": {
      "text/html": [
       "<div>\n",
       "<style scoped>\n",
       "    .dataframe tbody tr th:only-of-type {\n",
       "        vertical-align: middle;\n",
       "    }\n",
       "\n",
       "    .dataframe tbody tr th {\n",
       "        vertical-align: top;\n",
       "    }\n",
       "\n",
       "    .dataframe thead th {\n",
       "        text-align: right;\n",
       "    }\n",
       "</style>\n",
       "<table border=\"1\" class=\"dataframe\">\n",
       "  <thead>\n",
       "    <tr style=\"text-align: right;\">\n",
       "      <th></th>\n",
       "      <th>0</th>\n",
       "      <th>directory</th>\n",
       "      <th>matched_record</th>\n",
       "      <th>1</th>\n",
       "      <th>2</th>\n",
       "    </tr>\n",
       "  </thead>\n",
       "  <tbody>\n",
       "    <tr>\n",
       "      <th>0</th>\n",
       "      <td>4</td>\n",
       "      <td>p00/p000052/</td>\n",
       "      <td>p000052-2191-01-10-02-21</td>\n",
       "      <td>p00/p000052/p000052-2191-01-10-02-21</td>\n",
       "      <td>3238451_0005</td>\n",
       "    </tr>\n",
       "    <tr>\n",
       "      <th>1</th>\n",
       "      <td>5</td>\n",
       "      <td>p00/p000052/</td>\n",
       "      <td>p000052-2191-01-10-12-15</td>\n",
       "      <td>p00/p000052/p000052-2191-01-10-12-15</td>\n",
       "      <td>3533390_0001</td>\n",
       "    </tr>\n",
       "    <tr>\n",
       "      <th>2</th>\n",
       "      <td>5</td>\n",
       "      <td>p00/p000052/</td>\n",
       "      <td>p000052-2191-01-10-12-15</td>\n",
       "      <td>p00/p000052/p000052-2191-01-10-12-15</td>\n",
       "      <td>3533390_0003</td>\n",
       "    </tr>\n",
       "    <tr>\n",
       "      <th>3</th>\n",
       "      <td>5</td>\n",
       "      <td>p00/p000052/</td>\n",
       "      <td>p000052-2191-01-10-12-15</td>\n",
       "      <td>p00/p000052/p000052-2191-01-10-12-15</td>\n",
       "      <td>3533390_0004</td>\n",
       "    </tr>\n",
       "    <tr>\n",
       "      <th>4</th>\n",
       "      <td>5</td>\n",
       "      <td>p00/p000052/</td>\n",
       "      <td>p000052-2191-01-10-12-15</td>\n",
       "      <td>p00/p000052/p000052-2191-01-10-12-15</td>\n",
       "      <td>3533390_0007</td>\n",
       "    </tr>\n",
       "  </tbody>\n",
       "</table>\n",
       "</div>"
      ],
      "text/plain": [
       "   0     directory            matched_record  \\\n",
       "0  4  p00/p000052/  p000052-2191-01-10-02-21   \n",
       "1  5  p00/p000052/  p000052-2191-01-10-12-15   \n",
       "2  5  p00/p000052/  p000052-2191-01-10-12-15   \n",
       "3  5  p00/p000052/  p000052-2191-01-10-12-15   \n",
       "4  5  p00/p000052/  p000052-2191-01-10-12-15   \n",
       "\n",
       "                                      1             2  \n",
       "0  p00/p000052/p000052-2191-01-10-02-21  3238451_0005  \n",
       "1  p00/p000052/p000052-2191-01-10-12-15  3533390_0001  \n",
       "2  p00/p000052/p000052-2191-01-10-12-15  3533390_0003  \n",
       "3  p00/p000052/p000052-2191-01-10-12-15  3533390_0004  \n",
       "4  p00/p000052/p000052-2191-01-10-12-15  3533390_0007  "
      ]
     },
     "execution_count": 34,
     "metadata": {},
     "output_type": "execute_result"
    }
   ],
   "source": [
    "segment_list_1.head()"
   ]
  },
  {
   "cell_type": "code",
   "execution_count": 35,
   "id": "abaf6d8b",
   "metadata": {},
   "outputs": [],
   "source": [
    "segment_list_1.insert(loc=1, column='user_id', value=user_id)"
   ]
  },
  {
   "cell_type": "code",
   "execution_count": 36,
   "id": "1170bd71",
   "metadata": {},
   "outputs": [
    {
     "data": {
      "text/html": [
       "<div>\n",
       "<style scoped>\n",
       "    .dataframe tbody tr th:only-of-type {\n",
       "        vertical-align: middle;\n",
       "    }\n",
       "\n",
       "    .dataframe tbody tr th {\n",
       "        vertical-align: top;\n",
       "    }\n",
       "\n",
       "    .dataframe thead th {\n",
       "        text-align: right;\n",
       "    }\n",
       "</style>\n",
       "<table border=\"1\" class=\"dataframe\">\n",
       "  <thead>\n",
       "    <tr style=\"text-align: right;\">\n",
       "      <th></th>\n",
       "      <th>0</th>\n",
       "      <th>user_id</th>\n",
       "      <th>directory</th>\n",
       "      <th>matched_record</th>\n",
       "      <th>1</th>\n",
       "      <th>2</th>\n",
       "    </tr>\n",
       "  </thead>\n",
       "  <tbody>\n",
       "    <tr>\n",
       "      <th>0</th>\n",
       "      <td>4</td>\n",
       "      <td>52</td>\n",
       "      <td>p00/p000052/</td>\n",
       "      <td>p000052-2191-01-10-02-21</td>\n",
       "      <td>p00/p000052/p000052-2191-01-10-02-21</td>\n",
       "      <td>3238451_0005</td>\n",
       "    </tr>\n",
       "    <tr>\n",
       "      <th>1</th>\n",
       "      <td>5</td>\n",
       "      <td>52</td>\n",
       "      <td>p00/p000052/</td>\n",
       "      <td>p000052-2191-01-10-12-15</td>\n",
       "      <td>p00/p000052/p000052-2191-01-10-12-15</td>\n",
       "      <td>3533390_0001</td>\n",
       "    </tr>\n",
       "    <tr>\n",
       "      <th>2</th>\n",
       "      <td>5</td>\n",
       "      <td>52</td>\n",
       "      <td>p00/p000052/</td>\n",
       "      <td>p000052-2191-01-10-12-15</td>\n",
       "      <td>p00/p000052/p000052-2191-01-10-12-15</td>\n",
       "      <td>3533390_0003</td>\n",
       "    </tr>\n",
       "    <tr>\n",
       "      <th>3</th>\n",
       "      <td>5</td>\n",
       "      <td>52</td>\n",
       "      <td>p00/p000052/</td>\n",
       "      <td>p000052-2191-01-10-12-15</td>\n",
       "      <td>p00/p000052/p000052-2191-01-10-12-15</td>\n",
       "      <td>3533390_0004</td>\n",
       "    </tr>\n",
       "    <tr>\n",
       "      <th>4</th>\n",
       "      <td>5</td>\n",
       "      <td>52</td>\n",
       "      <td>p00/p000052/</td>\n",
       "      <td>p000052-2191-01-10-12-15</td>\n",
       "      <td>p00/p000052/p000052-2191-01-10-12-15</td>\n",
       "      <td>3533390_0007</td>\n",
       "    </tr>\n",
       "  </tbody>\n",
       "</table>\n",
       "</div>"
      ],
      "text/plain": [
       "   0  user_id     directory            matched_record  \\\n",
       "0  4       52  p00/p000052/  p000052-2191-01-10-02-21   \n",
       "1  5       52  p00/p000052/  p000052-2191-01-10-12-15   \n",
       "2  5       52  p00/p000052/  p000052-2191-01-10-12-15   \n",
       "3  5       52  p00/p000052/  p000052-2191-01-10-12-15   \n",
       "4  5       52  p00/p000052/  p000052-2191-01-10-12-15   \n",
       "\n",
       "                                      1             2  \n",
       "0  p00/p000052/p000052-2191-01-10-02-21  3238451_0005  \n",
       "1  p00/p000052/p000052-2191-01-10-12-15  3533390_0001  \n",
       "2  p00/p000052/p000052-2191-01-10-12-15  3533390_0003  \n",
       "3  p00/p000052/p000052-2191-01-10-12-15  3533390_0004  \n",
       "4  p00/p000052/p000052-2191-01-10-12-15  3533390_0007  "
      ]
     },
     "execution_count": 36,
     "metadata": {},
     "output_type": "execute_result"
    }
   ],
   "source": [
    "segment_list_1.head()"
   ]
  },
  {
   "cell_type": "code",
   "execution_count": 39,
   "id": "61c2e9de",
   "metadata": {},
   "outputs": [],
   "source": [
    "# drop the 'record_path' column (fifth column here)\n",
    "segment_list_1.drop(segment_list_1.columns[[0,4]], axis=1, inplace=True)"
   ]
  },
  {
   "cell_type": "code",
   "execution_count": 40,
   "id": "db3800b7",
   "metadata": {},
   "outputs": [
    {
     "data": {
      "text/html": [
       "<div>\n",
       "<style scoped>\n",
       "    .dataframe tbody tr th:only-of-type {\n",
       "        vertical-align: middle;\n",
       "    }\n",
       "\n",
       "    .dataframe tbody tr th {\n",
       "        vertical-align: top;\n",
       "    }\n",
       "\n",
       "    .dataframe thead th {\n",
       "        text-align: right;\n",
       "    }\n",
       "</style>\n",
       "<table border=\"1\" class=\"dataframe\">\n",
       "  <thead>\n",
       "    <tr style=\"text-align: right;\">\n",
       "      <th></th>\n",
       "      <th>user_id</th>\n",
       "      <th>directory</th>\n",
       "      <th>matched_record</th>\n",
       "      <th>2</th>\n",
       "    </tr>\n",
       "  </thead>\n",
       "  <tbody>\n",
       "    <tr>\n",
       "      <th>0</th>\n",
       "      <td>52</td>\n",
       "      <td>p00/p000052/</td>\n",
       "      <td>p000052-2191-01-10-02-21</td>\n",
       "      <td>3238451_0005</td>\n",
       "    </tr>\n",
       "    <tr>\n",
       "      <th>1</th>\n",
       "      <td>52</td>\n",
       "      <td>p00/p000052/</td>\n",
       "      <td>p000052-2191-01-10-12-15</td>\n",
       "      <td>3533390_0001</td>\n",
       "    </tr>\n",
       "    <tr>\n",
       "      <th>2</th>\n",
       "      <td>52</td>\n",
       "      <td>p00/p000052/</td>\n",
       "      <td>p000052-2191-01-10-12-15</td>\n",
       "      <td>3533390_0003</td>\n",
       "    </tr>\n",
       "    <tr>\n",
       "      <th>3</th>\n",
       "      <td>52</td>\n",
       "      <td>p00/p000052/</td>\n",
       "      <td>p000052-2191-01-10-12-15</td>\n",
       "      <td>3533390_0004</td>\n",
       "    </tr>\n",
       "    <tr>\n",
       "      <th>4</th>\n",
       "      <td>52</td>\n",
       "      <td>p00/p000052/</td>\n",
       "      <td>p000052-2191-01-10-12-15</td>\n",
       "      <td>3533390_0007</td>\n",
       "    </tr>\n",
       "  </tbody>\n",
       "</table>\n",
       "</div>"
      ],
      "text/plain": [
       "   user_id     directory            matched_record             2\n",
       "0       52  p00/p000052/  p000052-2191-01-10-02-21  3238451_0005\n",
       "1       52  p00/p000052/  p000052-2191-01-10-12-15  3533390_0001\n",
       "2       52  p00/p000052/  p000052-2191-01-10-12-15  3533390_0003\n",
       "3       52  p00/p000052/  p000052-2191-01-10-12-15  3533390_0004\n",
       "4       52  p00/p000052/  p000052-2191-01-10-12-15  3533390_0007"
      ]
     },
     "execution_count": 40,
     "metadata": {},
     "output_type": "execute_result"
    }
   ],
   "source": [
    "segment_list_1.head()"
   ]
  },
  {
   "cell_type": "code",
   "execution_count": 41,
   "id": "ba444f70",
   "metadata": {},
   "outputs": [],
   "source": [
    "segment_list_1.columns = ['user_id', 'directory', 'matched_record', 'record_segment']"
   ]
  },
  {
   "cell_type": "code",
   "execution_count": 42,
   "id": "f3ce67c2",
   "metadata": {},
   "outputs": [
    {
     "data": {
      "text/html": [
       "<div>\n",
       "<style scoped>\n",
       "    .dataframe tbody tr th:only-of-type {\n",
       "        vertical-align: middle;\n",
       "    }\n",
       "\n",
       "    .dataframe tbody tr th {\n",
       "        vertical-align: top;\n",
       "    }\n",
       "\n",
       "    .dataframe thead th {\n",
       "        text-align: right;\n",
       "    }\n",
       "</style>\n",
       "<table border=\"1\" class=\"dataframe\">\n",
       "  <thead>\n",
       "    <tr style=\"text-align: right;\">\n",
       "      <th></th>\n",
       "      <th>user_id</th>\n",
       "      <th>directory</th>\n",
       "      <th>matched_record</th>\n",
       "      <th>record_segment</th>\n",
       "    </tr>\n",
       "  </thead>\n",
       "  <tbody>\n",
       "    <tr>\n",
       "      <th>0</th>\n",
       "      <td>52</td>\n",
       "      <td>p00/p000052/</td>\n",
       "      <td>p000052-2191-01-10-02-21</td>\n",
       "      <td>3238451_0005</td>\n",
       "    </tr>\n",
       "    <tr>\n",
       "      <th>1</th>\n",
       "      <td>52</td>\n",
       "      <td>p00/p000052/</td>\n",
       "      <td>p000052-2191-01-10-12-15</td>\n",
       "      <td>3533390_0001</td>\n",
       "    </tr>\n",
       "    <tr>\n",
       "      <th>2</th>\n",
       "      <td>52</td>\n",
       "      <td>p00/p000052/</td>\n",
       "      <td>p000052-2191-01-10-12-15</td>\n",
       "      <td>3533390_0003</td>\n",
       "    </tr>\n",
       "    <tr>\n",
       "      <th>3</th>\n",
       "      <td>52</td>\n",
       "      <td>p00/p000052/</td>\n",
       "      <td>p000052-2191-01-10-12-15</td>\n",
       "      <td>3533390_0004</td>\n",
       "    </tr>\n",
       "    <tr>\n",
       "      <th>4</th>\n",
       "      <td>52</td>\n",
       "      <td>p00/p000052/</td>\n",
       "      <td>p000052-2191-01-10-12-15</td>\n",
       "      <td>3533390_0007</td>\n",
       "    </tr>\n",
       "  </tbody>\n",
       "</table>\n",
       "</div>"
      ],
      "text/plain": [
       "   user_id     directory            matched_record record_segment\n",
       "0       52  p00/p000052/  p000052-2191-01-10-02-21   3238451_0005\n",
       "1       52  p00/p000052/  p000052-2191-01-10-12-15   3533390_0001\n",
       "2       52  p00/p000052/  p000052-2191-01-10-12-15   3533390_0003\n",
       "3       52  p00/p000052/  p000052-2191-01-10-12-15   3533390_0004\n",
       "4       52  p00/p000052/  p000052-2191-01-10-12-15   3533390_0007"
      ]
     },
     "execution_count": 42,
     "metadata": {},
     "output_type": "execute_result"
    }
   ],
   "source": [
    "segment_list_1.head()"
   ]
  },
  {
   "cell_type": "code",
   "execution_count": 48,
   "id": "cb575e3d",
   "metadata": {},
   "outputs": [],
   "source": [
    "tmp_df = segment_list_1.groupby(segment_list_1.loc[:,'matched_record'],as_index=False).agg(list)"
   ]
  },
  {
   "cell_type": "code",
   "execution_count": 49,
   "id": "4863b696",
   "metadata": {},
   "outputs": [
    {
     "data": {
      "text/html": [
       "<div>\n",
       "<style scoped>\n",
       "    .dataframe tbody tr th:only-of-type {\n",
       "        vertical-align: middle;\n",
       "    }\n",
       "\n",
       "    .dataframe tbody tr th {\n",
       "        vertical-align: top;\n",
       "    }\n",
       "\n",
       "    .dataframe thead th {\n",
       "        text-align: right;\n",
       "    }\n",
       "</style>\n",
       "<table border=\"1\" class=\"dataframe\">\n",
       "  <thead>\n",
       "    <tr style=\"text-align: right;\">\n",
       "      <th></th>\n",
       "      <th>matched_record</th>\n",
       "      <th>user_id</th>\n",
       "      <th>directory</th>\n",
       "      <th>record_segment</th>\n",
       "    </tr>\n",
       "  </thead>\n",
       "  <tbody>\n",
       "    <tr>\n",
       "      <th>0</th>\n",
       "      <td>p000052-2191-01-10-02-21</td>\n",
       "      <td>[52]</td>\n",
       "      <td>[p00/p000052/]</td>\n",
       "      <td>[3238451_0005]</td>\n",
       "    </tr>\n",
       "    <tr>\n",
       "      <th>1</th>\n",
       "      <td>p000052-2191-01-10-12-15</td>\n",
       "      <td>[52, 52, 52, 52, 52, 52, 52, 52, 52]</td>\n",
       "      <td>[p00/p000052/, p00/p000052/, p00/p000052/, p00...</td>\n",
       "      <td>[3533390_0001, 3533390_0003, 3533390_0004, 353...</td>\n",
       "    </tr>\n",
       "    <tr>\n",
       "      <th>2</th>\n",
       "      <td>p000107-2121-11-30-20-03</td>\n",
       "      <td>[107, 107, 107, 107, 107, 107, 107, 107, 107, ...</td>\n",
       "      <td>[p00/p000107/, p00/p000107/, p00/p000107/, p00...</td>\n",
       "      <td>[3805787_0005, 3805787_0008, 3805787_0011, 380...</td>\n",
       "    </tr>\n",
       "    <tr>\n",
       "      <th>3</th>\n",
       "      <td>p000107-2122-05-14-21-01</td>\n",
       "      <td>[107, 107, 107, 107, 107, 107, 107, 107, 107, ...</td>\n",
       "      <td>[p00/p000107/, p00/p000107/, p00/p000107/, p00...</td>\n",
       "      <td>[3860035_0001, 3860035_0004, 3860035_0006, 386...</td>\n",
       "    </tr>\n",
       "    <tr>\n",
       "      <th>4</th>\n",
       "      <td>p000107-2123-07-26-03-10</td>\n",
       "      <td>[107, 107, 107, 107, 107, 107, 107]</td>\n",
       "      <td>[p00/p000107/, p00/p000107/, p00/p000107/, p00...</td>\n",
       "      <td>[3746356_0006, 3746356_0008, 3746356_0012, 374...</td>\n",
       "    </tr>\n",
       "    <tr>\n",
       "      <th>...</th>\n",
       "      <td>...</td>\n",
       "      <td>...</td>\n",
       "      <td>...</td>\n",
       "      <td>...</td>\n",
       "    </tr>\n",
       "    <tr>\n",
       "      <th>547</th>\n",
       "      <td>p007241-2173-08-13-16-36</td>\n",
       "      <td>[7241]</td>\n",
       "      <td>[p00/p007241/]</td>\n",
       "      <td>[3867326_0005]</td>\n",
       "    </tr>\n",
       "    <tr>\n",
       "      <th>548</th>\n",
       "      <td>p007241-2178-03-26-15-36</td>\n",
       "      <td>[7241, 7241, 7241]</td>\n",
       "      <td>[p00/p007241/, p00/p007241/, p00/p007241/]</td>\n",
       "      <td>[3162939_0008, 3162939_0012, 3162939_0016]</td>\n",
       "    </tr>\n",
       "    <tr>\n",
       "      <th>549</th>\n",
       "      <td>p007241-2178-05-06-16-17</td>\n",
       "      <td>[7241, 7241, 7241, 7241, 7241, 7241, 7241, 724...</td>\n",
       "      <td>[p00/p007241/, p00/p007241/, p00/p007241/, p00...</td>\n",
       "      <td>[3192148_0002, 3192148_0008, 3192148_0011, 319...</td>\n",
       "    </tr>\n",
       "    <tr>\n",
       "      <th>550</th>\n",
       "      <td>p007251-2151-01-14-00-40</td>\n",
       "      <td>[7251, 7251, 7251, 7251, 7251, 7251, 7251, 725...</td>\n",
       "      <td>[p00/p007251/, p00/p007251/, p00/p007251/, p00...</td>\n",
       "      <td>[3259702_0001, 3259702_0010, 3259702_0011, 325...</td>\n",
       "    </tr>\n",
       "    <tr>\n",
       "      <th>551</th>\n",
       "      <td>p007251-2151-03-05-02-08</td>\n",
       "      <td>[7251, 7251, 7251, 7251, 7251, 7251, 7251, 725...</td>\n",
       "      <td>[p00/p007251/, p00/p007251/, p00/p007251/, p00...</td>\n",
       "      <td>[3028261_0012, 3028261_0014, 3028261_0017, 302...</td>\n",
       "    </tr>\n",
       "  </tbody>\n",
       "</table>\n",
       "<p>552 rows × 4 columns</p>\n",
       "</div>"
      ],
      "text/plain": [
       "               matched_record  \\\n",
       "0    p000052-2191-01-10-02-21   \n",
       "1    p000052-2191-01-10-12-15   \n",
       "2    p000107-2121-11-30-20-03   \n",
       "3    p000107-2122-05-14-21-01   \n",
       "4    p000107-2123-07-26-03-10   \n",
       "..                        ...   \n",
       "547  p007241-2173-08-13-16-36   \n",
       "548  p007241-2178-03-26-15-36   \n",
       "549  p007241-2178-05-06-16-17   \n",
       "550  p007251-2151-01-14-00-40   \n",
       "551  p007251-2151-03-05-02-08   \n",
       "\n",
       "                                               user_id  \\\n",
       "0                                                 [52]   \n",
       "1                 [52, 52, 52, 52, 52, 52, 52, 52, 52]   \n",
       "2    [107, 107, 107, 107, 107, 107, 107, 107, 107, ...   \n",
       "3    [107, 107, 107, 107, 107, 107, 107, 107, 107, ...   \n",
       "4                  [107, 107, 107, 107, 107, 107, 107]   \n",
       "..                                                 ...   \n",
       "547                                             [7241]   \n",
       "548                                 [7241, 7241, 7241]   \n",
       "549  [7241, 7241, 7241, 7241, 7241, 7241, 7241, 724...   \n",
       "550  [7251, 7251, 7251, 7251, 7251, 7251, 7251, 725...   \n",
       "551  [7251, 7251, 7251, 7251, 7251, 7251, 7251, 725...   \n",
       "\n",
       "                                             directory  \\\n",
       "0                                       [p00/p000052/]   \n",
       "1    [p00/p000052/, p00/p000052/, p00/p000052/, p00...   \n",
       "2    [p00/p000107/, p00/p000107/, p00/p000107/, p00...   \n",
       "3    [p00/p000107/, p00/p000107/, p00/p000107/, p00...   \n",
       "4    [p00/p000107/, p00/p000107/, p00/p000107/, p00...   \n",
       "..                                                 ...   \n",
       "547                                     [p00/p007241/]   \n",
       "548         [p00/p007241/, p00/p007241/, p00/p007241/]   \n",
       "549  [p00/p007241/, p00/p007241/, p00/p007241/, p00...   \n",
       "550  [p00/p007251/, p00/p007251/, p00/p007251/, p00...   \n",
       "551  [p00/p007251/, p00/p007251/, p00/p007251/, p00...   \n",
       "\n",
       "                                        record_segment  \n",
       "0                                       [3238451_0005]  \n",
       "1    [3533390_0001, 3533390_0003, 3533390_0004, 353...  \n",
       "2    [3805787_0005, 3805787_0008, 3805787_0011, 380...  \n",
       "3    [3860035_0001, 3860035_0004, 3860035_0006, 386...  \n",
       "4    [3746356_0006, 3746356_0008, 3746356_0012, 374...  \n",
       "..                                                 ...  \n",
       "547                                     [3867326_0005]  \n",
       "548         [3162939_0008, 3162939_0012, 3162939_0016]  \n",
       "549  [3192148_0002, 3192148_0008, 3192148_0011, 319...  \n",
       "550  [3259702_0001, 3259702_0010, 3259702_0011, 325...  \n",
       "551  [3028261_0012, 3028261_0014, 3028261_0017, 302...  \n",
       "\n",
       "[552 rows x 4 columns]"
      ]
     },
     "execution_count": 49,
     "metadata": {},
     "output_type": "execute_result"
    }
   ],
   "source": [
    "tmp_df"
   ]
  },
  {
   "cell_type": "code",
   "execution_count": 70,
   "id": "9ecbf441",
   "metadata": {},
   "outputs": [
    {
     "data": {
      "text/html": [
       "<div>\n",
       "<style scoped>\n",
       "    .dataframe tbody tr th:only-of-type {\n",
       "        vertical-align: middle;\n",
       "    }\n",
       "\n",
       "    .dataframe tbody tr th {\n",
       "        vertical-align: top;\n",
       "    }\n",
       "\n",
       "    .dataframe thead th {\n",
       "        text-align: right;\n",
       "    }\n",
       "</style>\n",
       "<table border=\"1\" class=\"dataframe\">\n",
       "  <thead>\n",
       "    <tr style=\"text-align: right;\">\n",
       "      <th></th>\n",
       "      <th>matched_record</th>\n",
       "    </tr>\n",
       "  </thead>\n",
       "  <tbody>\n",
       "    <tr>\n",
       "      <th>0</th>\n",
       "      <td>p000052-2191-01-10-02-21</td>\n",
       "    </tr>\n",
       "    <tr>\n",
       "      <th>1</th>\n",
       "      <td>p000052-2191-01-10-12-15</td>\n",
       "    </tr>\n",
       "    <tr>\n",
       "      <th>2</th>\n",
       "      <td>p000107-2121-11-30-20-03</td>\n",
       "    </tr>\n",
       "    <tr>\n",
       "      <th>3</th>\n",
       "      <td>p000107-2122-05-14-21-01</td>\n",
       "    </tr>\n",
       "    <tr>\n",
       "      <th>4</th>\n",
       "      <td>p000107-2123-07-26-03-10</td>\n",
       "    </tr>\n",
       "  </tbody>\n",
       "</table>\n",
       "</div>"
      ],
      "text/plain": [
       "             matched_record\n",
       "0  p000052-2191-01-10-02-21\n",
       "1  p000052-2191-01-10-12-15\n",
       "2  p000107-2121-11-30-20-03\n",
       "3  p000107-2122-05-14-21-01\n",
       "4  p000107-2123-07-26-03-10"
      ]
     },
     "execution_count": 70,
     "metadata": {},
     "output_type": "execute_result"
    }
   ],
   "source": [
    "selected_fragments = tmp_df.loc[:,'matched_record'].to_frame()\n",
    "selected_fragments.head()"
   ]
  },
  {
   "cell_type": "code",
   "execution_count": 71,
   "id": "8c425eeb",
   "metadata": {},
   "outputs": [
    {
     "data": {
      "text/plain": [
       "pandas.core.frame.DataFrame"
      ]
     },
     "execution_count": 71,
     "metadata": {},
     "output_type": "execute_result"
    }
   ],
   "source": [
    "type(selected_fragments)"
   ]
  },
  {
   "cell_type": "code",
   "execution_count": 72,
   "id": "7055bb17",
   "metadata": {},
   "outputs": [
    {
     "data": {
      "text/plain": [
       "[52, 52, 107, 107, 107, 109, 109, 109, 109, 109]"
      ]
     },
     "execution_count": 72,
     "metadata": {},
     "output_type": "execute_result"
    }
   ],
   "source": [
    "user_id = [x[0] for x in tmp_df.loc[:,'user_id']]\n",
    "user_id[:10]"
   ]
  },
  {
   "cell_type": "code",
   "execution_count": 73,
   "id": "aee15765",
   "metadata": {},
   "outputs": [
    {
     "data": {
      "text/plain": [
       "['p00/p000052/',\n",
       " 'p00/p000052/',\n",
       " 'p00/p000107/',\n",
       " 'p00/p000107/',\n",
       " 'p00/p000107/',\n",
       " 'p00/p000109/',\n",
       " 'p00/p000109/',\n",
       " 'p00/p000109/',\n",
       " 'p00/p000109/',\n",
       " 'p00/p000109/']"
      ]
     },
     "execution_count": 73,
     "metadata": {},
     "output_type": "execute_result"
    }
   ],
   "source": [
    "directory = [x[0] for x in tmp_df.loc[:,'directory']]\n",
    "directory[:10]"
   ]
  },
  {
   "cell_type": "code",
   "execution_count": 74,
   "id": "6c93baa4",
   "metadata": {},
   "outputs": [
    {
     "data": {
      "text/plain": [
       "0                                       [3238451_0005]\n",
       "1    [3533390_0001, 3533390_0003, 3533390_0004, 353...\n",
       "2    [3805787_0005, 3805787_0008, 3805787_0011, 380...\n",
       "3    [3860035_0001, 3860035_0004, 3860035_0006, 386...\n",
       "4    [3746356_0006, 3746356_0008, 3746356_0012, 374...\n",
       "5    [3034224_0006, 3034224_0008, 3034224_0010, 303...\n",
       "6    [3407610_0004, 3407610_0006, 3407610_0009, 340...\n",
       "7    [3943625_0004, 3943625_0006, 3943625_0009, 394...\n",
       "8                         [3002540_0001, 3002540_0004]\n",
       "9                                       [3924895_0003]\n",
       "Name: record_segment, dtype: object"
      ]
     },
     "execution_count": 74,
     "metadata": {},
     "output_type": "execute_result"
    }
   ],
   "source": [
    "record_segment = tmp_df.loc[:,'record_segment']\n",
    "record_segment[:10]"
   ]
  },
  {
   "cell_type": "code",
   "execution_count": 75,
   "id": "e2635596",
   "metadata": {},
   "outputs": [
    {
     "data": {
      "text/html": [
       "<div>\n",
       "<style scoped>\n",
       "    .dataframe tbody tr th:only-of-type {\n",
       "        vertical-align: middle;\n",
       "    }\n",
       "\n",
       "    .dataframe tbody tr th {\n",
       "        vertical-align: top;\n",
       "    }\n",
       "\n",
       "    .dataframe thead th {\n",
       "        text-align: right;\n",
       "    }\n",
       "</style>\n",
       "<table border=\"1\" class=\"dataframe\">\n",
       "  <thead>\n",
       "    <tr style=\"text-align: right;\">\n",
       "      <th></th>\n",
       "      <th>user_id</th>\n",
       "      <th>matched_record</th>\n",
       "    </tr>\n",
       "  </thead>\n",
       "  <tbody>\n",
       "    <tr>\n",
       "      <th>0</th>\n",
       "      <td>52</td>\n",
       "      <td>p000052-2191-01-10-02-21</td>\n",
       "    </tr>\n",
       "    <tr>\n",
       "      <th>1</th>\n",
       "      <td>52</td>\n",
       "      <td>p000052-2191-01-10-12-15</td>\n",
       "    </tr>\n",
       "    <tr>\n",
       "      <th>2</th>\n",
       "      <td>107</td>\n",
       "      <td>p000107-2121-11-30-20-03</td>\n",
       "    </tr>\n",
       "    <tr>\n",
       "      <th>3</th>\n",
       "      <td>107</td>\n",
       "      <td>p000107-2122-05-14-21-01</td>\n",
       "    </tr>\n",
       "    <tr>\n",
       "      <th>4</th>\n",
       "      <td>107</td>\n",
       "      <td>p000107-2123-07-26-03-10</td>\n",
       "    </tr>\n",
       "  </tbody>\n",
       "</table>\n",
       "</div>"
      ],
      "text/plain": [
       "   user_id            matched_record\n",
       "0       52  p000052-2191-01-10-02-21\n",
       "1       52  p000052-2191-01-10-12-15\n",
       "2      107  p000107-2121-11-30-20-03\n",
       "3      107  p000107-2122-05-14-21-01\n",
       "4      107  p000107-2123-07-26-03-10"
      ]
     },
     "execution_count": 75,
     "metadata": {},
     "output_type": "execute_result"
    }
   ],
   "source": [
    "selected_fragments.insert(loc=0, column='user_id', value=user_id)\n",
    "selected_fragments.head()"
   ]
  },
  {
   "cell_type": "code",
   "execution_count": 76,
   "id": "585a7102",
   "metadata": {},
   "outputs": [
    {
     "data": {
      "text/html": [
       "<div>\n",
       "<style scoped>\n",
       "    .dataframe tbody tr th:only-of-type {\n",
       "        vertical-align: middle;\n",
       "    }\n",
       "\n",
       "    .dataframe tbody tr th {\n",
       "        vertical-align: top;\n",
       "    }\n",
       "\n",
       "    .dataframe thead th {\n",
       "        text-align: right;\n",
       "    }\n",
       "</style>\n",
       "<table border=\"1\" class=\"dataframe\">\n",
       "  <thead>\n",
       "    <tr style=\"text-align: right;\">\n",
       "      <th></th>\n",
       "      <th>user_id</th>\n",
       "      <th>directory</th>\n",
       "      <th>matched_record</th>\n",
       "    </tr>\n",
       "  </thead>\n",
       "  <tbody>\n",
       "    <tr>\n",
       "      <th>0</th>\n",
       "      <td>52</td>\n",
       "      <td>p00/p000052/</td>\n",
       "      <td>p000052-2191-01-10-02-21</td>\n",
       "    </tr>\n",
       "    <tr>\n",
       "      <th>1</th>\n",
       "      <td>52</td>\n",
       "      <td>p00/p000052/</td>\n",
       "      <td>p000052-2191-01-10-12-15</td>\n",
       "    </tr>\n",
       "    <tr>\n",
       "      <th>2</th>\n",
       "      <td>107</td>\n",
       "      <td>p00/p000107/</td>\n",
       "      <td>p000107-2121-11-30-20-03</td>\n",
       "    </tr>\n",
       "    <tr>\n",
       "      <th>3</th>\n",
       "      <td>107</td>\n",
       "      <td>p00/p000107/</td>\n",
       "      <td>p000107-2122-05-14-21-01</td>\n",
       "    </tr>\n",
       "    <tr>\n",
       "      <th>4</th>\n",
       "      <td>107</td>\n",
       "      <td>p00/p000107/</td>\n",
       "      <td>p000107-2123-07-26-03-10</td>\n",
       "    </tr>\n",
       "  </tbody>\n",
       "</table>\n",
       "</div>"
      ],
      "text/plain": [
       "   user_id     directory            matched_record\n",
       "0       52  p00/p000052/  p000052-2191-01-10-02-21\n",
       "1       52  p00/p000052/  p000052-2191-01-10-12-15\n",
       "2      107  p00/p000107/  p000107-2121-11-30-20-03\n",
       "3      107  p00/p000107/  p000107-2122-05-14-21-01\n",
       "4      107  p00/p000107/  p000107-2123-07-26-03-10"
      ]
     },
     "execution_count": 76,
     "metadata": {},
     "output_type": "execute_result"
    }
   ],
   "source": [
    "selected_fragments.insert(loc=1, column='directory', value=directory)\n",
    "selected_fragments.head()"
   ]
  },
  {
   "cell_type": "code",
   "execution_count": 77,
   "id": "00e09f38",
   "metadata": {},
   "outputs": [
    {
     "data": {
      "text/html": [
       "<div>\n",
       "<style scoped>\n",
       "    .dataframe tbody tr th:only-of-type {\n",
       "        vertical-align: middle;\n",
       "    }\n",
       "\n",
       "    .dataframe tbody tr th {\n",
       "        vertical-align: top;\n",
       "    }\n",
       "\n",
       "    .dataframe thead th {\n",
       "        text-align: right;\n",
       "    }\n",
       "</style>\n",
       "<table border=\"1\" class=\"dataframe\">\n",
       "  <thead>\n",
       "    <tr style=\"text-align: right;\">\n",
       "      <th></th>\n",
       "      <th>user_id</th>\n",
       "      <th>directory</th>\n",
       "      <th>matched_record</th>\n",
       "      <th>record_segment</th>\n",
       "    </tr>\n",
       "  </thead>\n",
       "  <tbody>\n",
       "    <tr>\n",
       "      <th>0</th>\n",
       "      <td>52</td>\n",
       "      <td>p00/p000052/</td>\n",
       "      <td>p000052-2191-01-10-02-21</td>\n",
       "      <td>[3238451_0005]</td>\n",
       "    </tr>\n",
       "    <tr>\n",
       "      <th>1</th>\n",
       "      <td>52</td>\n",
       "      <td>p00/p000052/</td>\n",
       "      <td>p000052-2191-01-10-12-15</td>\n",
       "      <td>[3533390_0001, 3533390_0003, 3533390_0004, 353...</td>\n",
       "    </tr>\n",
       "    <tr>\n",
       "      <th>2</th>\n",
       "      <td>107</td>\n",
       "      <td>p00/p000107/</td>\n",
       "      <td>p000107-2121-11-30-20-03</td>\n",
       "      <td>[3805787_0005, 3805787_0008, 3805787_0011, 380...</td>\n",
       "    </tr>\n",
       "    <tr>\n",
       "      <th>3</th>\n",
       "      <td>107</td>\n",
       "      <td>p00/p000107/</td>\n",
       "      <td>p000107-2122-05-14-21-01</td>\n",
       "      <td>[3860035_0001, 3860035_0004, 3860035_0006, 386...</td>\n",
       "    </tr>\n",
       "    <tr>\n",
       "      <th>4</th>\n",
       "      <td>107</td>\n",
       "      <td>p00/p000107/</td>\n",
       "      <td>p000107-2123-07-26-03-10</td>\n",
       "      <td>[3746356_0006, 3746356_0008, 3746356_0012, 374...</td>\n",
       "    </tr>\n",
       "  </tbody>\n",
       "</table>\n",
       "</div>"
      ],
      "text/plain": [
       "   user_id     directory            matched_record  \\\n",
       "0       52  p00/p000052/  p000052-2191-01-10-02-21   \n",
       "1       52  p00/p000052/  p000052-2191-01-10-12-15   \n",
       "2      107  p00/p000107/  p000107-2121-11-30-20-03   \n",
       "3      107  p00/p000107/  p000107-2122-05-14-21-01   \n",
       "4      107  p00/p000107/  p000107-2123-07-26-03-10   \n",
       "\n",
       "                                      record_segment  \n",
       "0                                     [3238451_0005]  \n",
       "1  [3533390_0001, 3533390_0003, 3533390_0004, 353...  \n",
       "2  [3805787_0005, 3805787_0008, 3805787_0011, 380...  \n",
       "3  [3860035_0001, 3860035_0004, 3860035_0006, 386...  \n",
       "4  [3746356_0006, 3746356_0008, 3746356_0012, 374...  "
      ]
     },
     "execution_count": 77,
     "metadata": {},
     "output_type": "execute_result"
    }
   ],
   "source": [
    "selected_fragments.insert(loc=3, column='record_segment', value=record_segment)\n",
    "selected_fragments.head()"
   ]
  },
  {
   "cell_type": "code",
   "execution_count": 86,
   "id": "092b8bf3",
   "metadata": {},
   "outputs": [
    {
     "data": {
      "text/plain": [
       "'p00/p000052/'"
      ]
     },
     "execution_count": 86,
     "metadata": {},
     "output_type": "execute_result"
    }
   ],
   "source": [
    "directory = selected_fragments['directory'][0]\n",
    "directory"
   ]
  },
  {
   "cell_type": "code",
   "execution_count": 84,
   "id": "746ccfd5",
   "metadata": {},
   "outputs": [
    {
     "data": {
      "text/plain": [
       "'3238451_0005'"
      ]
     },
     "execution_count": 84,
     "metadata": {},
     "output_type": "execute_result"
    }
   ],
   "source": [
    "record_name = selected_fragments['record_segment'][0][0]\n",
    "record_name"
   ]
  },
  {
   "cell_type": "code",
   "execution_count": 87,
   "id": "f0ed67af",
   "metadata": {},
   "outputs": [],
   "source": [
    "record_segment_signal = wfdb.rdsamp(record_name=record_name,\n",
    "                                    pn_dir='mimic3wdb-matched/1.0/' + directory,\n",
    "                                    channel_names=['PLETH'])"
   ]
  },
  {
   "cell_type": "code",
   "execution_count": 88,
   "id": "9542fe8a",
   "metadata": {},
   "outputs": [
    {
     "data": {
      "text/plain": [
       "(array([[0.52492669],\n",
       "        [0.514174  ],\n",
       "        [0.49755621],\n",
       "        ...,\n",
       "        [0.4056696 ],\n",
       "        [0.38807429],\n",
       "        [0.3714565 ]]),\n",
       " {'fs': 125,\n",
       "  'sig_len': 3869120,\n",
       "  'n_sig': 1,\n",
       "  'base_date': None,\n",
       "  'base_time': datetime.time(2, 21, 42, 248000),\n",
       "  'units': ['NU'],\n",
       "  'sig_name': ['PLETH'],\n",
       "  'comments': []})"
      ]
     },
     "execution_count": 88,
     "metadata": {},
     "output_type": "execute_result"
    }
   ],
   "source": [
    "record_segment_signal"
   ]
  },
  {
   "cell_type": "code",
   "execution_count": 93,
   "id": "cac7f073",
   "metadata": {},
   "outputs": [
    {
     "data": {
      "image/png": "[encoded data removed]",
      "text/plain": [
       "<Figure size 432x288 with 1 Axes>"
      ]
     },
     "metadata": {
      "needs_background": "light"
     },
     "output_type": "display_data"
    }
   ],
   "source": [
    "# Plotting the signal\n",
    "plt.figure()\n",
    "plt.plot(record_segment_signal[0][6500:7000])\n",
    "plt.show()        "
   ]
  },
  {
   "cell_type": "code",
   "execution_count": 95,
   "id": "53c36438",
   "metadata": {},
   "outputs": [
    {
     "data": {
      "image/png": "[encoded data removed]",
      "text/plain": [
       "<Figure size 432x288 with 1 Axes>"
      ]
     },
     "metadata": {
      "needs_background": "light"
     },
     "output_type": "display_data"
    }
   ],
   "source": [
    "# Plotting the signal\n",
    "plt.figure()\n",
    "plt.plot(record_segment_signal[0][6000:])\n",
    "plt.show() "
   ]
  },
  {
   "cell_type": "code",
   "execution_count": null,
   "id": "6ea72086",
   "metadata": {},
   "outputs": [],
   "source": []
  },
  {
   "cell_type": "code",
   "execution_count": null,
   "id": "8df94290",
   "metadata": {},
   "outputs": [],
   "source": []
  },
  {
   "cell_type": "code",
   "execution_count": null,
   "id": "aabada46",
   "metadata": {},
   "outputs": [],
   "source": []
  },
  {
   "cell_type": "code",
   "execution_count": null,
   "id": "52b3f761",
   "metadata": {},
   "outputs": [],
   "source": []
  },
  {
   "cell_type": "code",
   "execution_count": null,
   "id": "969cd541",
   "metadata": {},
   "outputs": [],
   "source": []
  },
  {
   "cell_type": "code",
   "execution_count": null,
   "id": "109cd210",
   "metadata": {},
   "outputs": [],
   "source": []
  },
  {
   "cell_type": "code",
   "execution_count": null,
   "id": "cd78ab37",
   "metadata": {},
   "outputs": [],
   "source": []
  },
  {
   "cell_type": "code",
   "execution_count": null,
   "id": "4f6c89b5",
   "metadata": {},
   "outputs": [],
   "source": []
  }
 ],
 "metadata": {
  "kernelspec": {
   "display_name": "Python 3 (ipykernel)",
   "language": "python",
   "name": "python3"
  },
  "language_info": {
   "codemirror_mode": {
    "name": "ipython",
    "version": 3
   },
   "file_extension": ".py",
   "mimetype": "text/x-python",
   "name": "python",
   "nbconvert_exporter": "python",
   "pygments_lexer": "ipython3",
   "version": "3.9.7"
  }
 },
 "nbformat": 4,
 "nbformat_minor": 5
}

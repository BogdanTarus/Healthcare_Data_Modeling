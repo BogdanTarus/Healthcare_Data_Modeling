{
 "cells": [
  {
   "cell_type": "code",
   "execution_count": 133,
   "id": "e5b8e9b4",
   "metadata": {},
   "outputs": [],
   "source": [
    "import numpy as np\n",
    "import pandas as pd\n",
    "import random\n",
    "from datetime import datetime\n",
    "import matplotlib.pyplot as plt\n",
    "import os.path\n",
    "from bs4 import BeautifulSoup\n",
    "import requests\n",
    "import wfdb"
   ]
  },
  {
   "cell_type": "code",
   "execution_count": 2,
   "id": "038b5f70",
   "metadata": {},
   "outputs": [],
   "source": [
    "record_segment_good_length_path = '../../../2_data/'"
   ]
  },
  {
   "cell_type": "code",
   "execution_count": 3,
   "id": "870860e5",
   "metadata": {},
   "outputs": [
    {
     "name": "stdout",
     "output_type": "stream",
     "text": [
      "total 15048\r\n",
      "-rw-r--r--  1 tarus  staff   813960 Jan 16 13:33 record_path_mimic3.csv\r\n",
      "-rw-r--r--  1 tarus  staff   825729 Jan 31 16:13 record_path_mimic3_matched.csv\r\n",
      "-rw-r--r--  1 tarus  staff   149932 Feb  1 12:24 record_segment_good_length_0_1999.csv\r\n",
      "-rw-r--r--  1 tarus  staff  1354163 Feb  1 19:44 record_segment_good_length_10000_14999.csv\r\n",
      "-rw-r--r--  1 tarus  staff  1299122 Feb  1 21:11 record_segment_good_length_15000_19999.csv\r\n",
      "-rw-r--r--  1 tarus  staff   250686 Feb  1 21:51 record_segment_good_length_20000_22317.csv\r\n",
      "-rw-r--r--  1 tarus  staff   196239 Feb  1 13:34 record_segment_good_length_2000_3999.csv\r\n",
      "-rw-r--r--  1 tarus  staff   217590 Feb  1 16:42 record_segment_good_length_4000_5999.csv\r\n",
      "-rw-r--r--  1 tarus  staff   461693 Feb  1 17:20 record_segment_good_length_6000_7999.csv\r\n",
      "-rw-r--r--  1 tarus  staff   437469 Feb  1 17:56 record_segment_good_length_8000_9999.csv\r\n"
     ]
    }
   ],
   "source": [
    "!ls -l $record_segment_good_length_path"
   ]
  },
  {
   "cell_type": "code",
   "execution_count": 7,
   "id": "fadfbc58",
   "metadata": {},
   "outputs": [
    {
     "name": "stdout",
     "output_type": "stream",
     "text": [
      "record_list_file: ../../../2_data/record_segment_good_length_0_1999.csv\n"
     ]
    }
   ],
   "source": [
    "first_record = 0\n",
    "last_record = 1999\n",
    "record_list_file = record_segment_good_length_path + 'record_segment_good_length_' + str(first_record) + '_' + str(last_record) + '.csv'\n",
    "print('record_list_file: {}'.format(record_list_file))"
   ]
  },
  {
   "cell_type": "code",
   "execution_count": 8,
   "id": "c3d947b6",
   "metadata": {},
   "outputs": [
    {
     "name": "stdout",
     "output_type": "stream",
     "text": [
      "-rw-r--r--  1 tarus  staff  149932 Feb  1 12:24 ../../../2_data/record_segment_good_length_0_1999.csv\r\n"
     ]
    }
   ],
   "source": [
    "!ls -l $record_list_file"
   ]
  },
  {
   "cell_type": "code",
   "execution_count": 65,
   "id": "342fa04b",
   "metadata": {},
   "outputs": [],
   "source": [
    "segment_list_1 = pd.read_csv(record_list_file, header=None)"
   ]
  },
  {
   "cell_type": "code",
   "execution_count": 74,
   "id": "99c91542",
   "metadata": {},
   "outputs": [
    {
     "data": {
      "text/html": [
       "<div>\n",
       "<style scoped>\n",
       "    .dataframe tbody tr th:only-of-type {\n",
       "        vertical-align: middle;\n",
       "    }\n",
       "\n",
       "    .dataframe tbody tr th {\n",
       "        vertical-align: top;\n",
       "    }\n",
       "\n",
       "    .dataframe thead th {\n",
       "        text-align: right;\n",
       "    }\n",
       "</style>\n",
       "<table border=\"1\" class=\"dataframe\">\n",
       "  <thead>\n",
       "    <tr style=\"text-align: right;\">\n",
       "      <th></th>\n",
       "      <th>1</th>\n",
       "      <th>2</th>\n",
       "    </tr>\n",
       "  </thead>\n",
       "  <tbody>\n",
       "    <tr>\n",
       "      <th>0</th>\n",
       "      <td>10</td>\n",
       "      <td>p00/p000107/3860035_0001</td>\n",
       "    </tr>\n",
       "    <tr>\n",
       "      <th>1</th>\n",
       "      <td>10</td>\n",
       "      <td>p00/p000107/3860035_0004</td>\n",
       "    </tr>\n",
       "    <tr>\n",
       "      <th>2</th>\n",
       "      <td>10</td>\n",
       "      <td>p00/p000107/3860035_0006</td>\n",
       "    </tr>\n",
       "    <tr>\n",
       "      <th>3</th>\n",
       "      <td>10</td>\n",
       "      <td>p00/p000107/3860035_0009</td>\n",
       "    </tr>\n",
       "    <tr>\n",
       "      <th>4</th>\n",
       "      <td>10</td>\n",
       "      <td>p00/p000107/3860035_0010</td>\n",
       "    </tr>\n",
       "  </tbody>\n",
       "</table>\n",
       "</div>"
      ],
      "text/plain": [
       "    1                         2\n",
       "0  10  p00/p000107/3860035_0001\n",
       "1  10  p00/p000107/3860035_0004\n",
       "2  10  p00/p000107/3860035_0006\n",
       "3  10  p00/p000107/3860035_0009\n",
       "4  10  p00/p000107/3860035_0010"
      ]
     },
     "execution_count": 74,
     "metadata": {},
     "output_type": "execute_result"
    }
   ],
   "source": [
    "segment_list_1.head()"
   ]
  },
  {
   "cell_type": "code",
   "execution_count": 73,
   "id": "4a18c1c3",
   "metadata": {},
   "outputs": [],
   "source": [
    "# drop the first column\n",
    "segment_list_1.drop(segment_list_1.columns[[0]], axis=1, inplace=True)"
   ]
  },
  {
   "cell_type": "code",
   "execution_count": 80,
   "id": "7674a9b9",
   "metadata": {},
   "outputs": [
    {
     "data": {
      "text/html": [
       "<div>\n",
       "<style scoped>\n",
       "    .dataframe tbody tr th:only-of-type {\n",
       "        vertical-align: middle;\n",
       "    }\n",
       "\n",
       "    .dataframe tbody tr th {\n",
       "        vertical-align: top;\n",
       "    }\n",
       "\n",
       "    .dataframe thead th {\n",
       "        text-align: right;\n",
       "    }\n",
       "</style>\n",
       "<table border=\"1\" class=\"dataframe\">\n",
       "  <thead>\n",
       "    <tr style=\"text-align: right;\">\n",
       "      <th></th>\n",
       "      <th>1</th>\n",
       "      <th>2</th>\n",
       "    </tr>\n",
       "  </thead>\n",
       "  <tbody>\n",
       "    <tr>\n",
       "      <th>0</th>\n",
       "      <td>10</td>\n",
       "      <td>p00/p000107/3860035_0001</td>\n",
       "    </tr>\n",
       "    <tr>\n",
       "      <th>1</th>\n",
       "      <td>10</td>\n",
       "      <td>p00/p000107/3860035_0004</td>\n",
       "    </tr>\n",
       "    <tr>\n",
       "      <th>2</th>\n",
       "      <td>10</td>\n",
       "      <td>p00/p000107/3860035_0006</td>\n",
       "    </tr>\n",
       "    <tr>\n",
       "      <th>3</th>\n",
       "      <td>10</td>\n",
       "      <td>p00/p000107/3860035_0009</td>\n",
       "    </tr>\n",
       "    <tr>\n",
       "      <th>4</th>\n",
       "      <td>10</td>\n",
       "      <td>p00/p000107/3860035_0010</td>\n",
       "    </tr>\n",
       "  </tbody>\n",
       "</table>\n",
       "</div>"
      ],
      "text/plain": [
       "    1                         2\n",
       "0  10  p00/p000107/3860035_0001\n",
       "1  10  p00/p000107/3860035_0004\n",
       "2  10  p00/p000107/3860035_0006\n",
       "3  10  p00/p000107/3860035_0009\n",
       "4  10  p00/p000107/3860035_0010"
      ]
     },
     "execution_count": 80,
     "metadata": {},
     "output_type": "execute_result"
    }
   ],
   "source": [
    "segment_list_1.head()"
   ]
  },
  {
   "cell_type": "code",
   "execution_count": 83,
   "id": "e3890cae",
   "metadata": {},
   "outputs": [],
   "source": [
    "record_list_1 = segment_list_1.groupby(segment_list_1.iloc[:,0],as_index=False).agg(list)"
   ]
  },
  {
   "cell_type": "code",
   "execution_count": 84,
   "id": "5014d1e0",
   "metadata": {},
   "outputs": [
    {
     "data": {
      "text/html": [
       "<div>\n",
       "<style scoped>\n",
       "    .dataframe tbody tr th:only-of-type {\n",
       "        vertical-align: middle;\n",
       "    }\n",
       "\n",
       "    .dataframe tbody tr th {\n",
       "        vertical-align: top;\n",
       "    }\n",
       "\n",
       "    .dataframe thead th {\n",
       "        text-align: right;\n",
       "    }\n",
       "</style>\n",
       "<table border=\"1\" class=\"dataframe\">\n",
       "  <thead>\n",
       "    <tr style=\"text-align: right;\">\n",
       "      <th></th>\n",
       "      <th>1</th>\n",
       "      <th>2</th>\n",
       "    </tr>\n",
       "  </thead>\n",
       "  <tbody>\n",
       "    <tr>\n",
       "      <th>0</th>\n",
       "      <td>[10, 10, 10, 10, 10, 10, 10, 10, 10, 10, 10, 1...</td>\n",
       "      <td>[p00/p000107/3860035_0001, p00/p000107/3860035...</td>\n",
       "    </tr>\n",
       "    <tr>\n",
       "      <th>1</th>\n",
       "      <td>[11, 11, 11, 11, 11, 11, 11, 11]</td>\n",
       "      <td>[p00/p000107/3746356_0006, p00/p000107/3746356...</td>\n",
       "    </tr>\n",
       "    <tr>\n",
       "      <th>2</th>\n",
       "      <td>[27, 27, 27, 27, 27, 27, 27, 27, 27, 27, 27, 2...</td>\n",
       "      <td>[p00/p000124/3931528_0006, p00/p000124/3931528...</td>\n",
       "    </tr>\n",
       "    <tr>\n",
       "      <th>3</th>\n",
       "      <td>[28, 28, 28, 28, 28, 28, 28, 28, 28, 28, 28, 2...</td>\n",
       "      <td>[p00/p000124/3776642_0006, p00/p000124/3776642...</td>\n",
       "    </tr>\n",
       "    <tr>\n",
       "      <th>4</th>\n",
       "      <td>[29, 29, 29, 29, 29, 29, 29, 29, 29, 29, 29, 2...</td>\n",
       "      <td>[p00/p000124/3644535_0001, p00/p000124/3644535...</td>\n",
       "    </tr>\n",
       "  </tbody>\n",
       "</table>\n",
       "</div>"
      ],
      "text/plain": [
       "                                                   1  \\\n",
       "0  [10, 10, 10, 10, 10, 10, 10, 10, 10, 10, 10, 1...   \n",
       "1                   [11, 11, 11, 11, 11, 11, 11, 11]   \n",
       "2  [27, 27, 27, 27, 27, 27, 27, 27, 27, 27, 27, 2...   \n",
       "3  [28, 28, 28, 28, 28, 28, 28, 28, 28, 28, 28, 2...   \n",
       "4  [29, 29, 29, 29, 29, 29, 29, 29, 29, 29, 29, 2...   \n",
       "\n",
       "                                                   2  \n",
       "0  [p00/p000107/3860035_0001, p00/p000107/3860035...  \n",
       "1  [p00/p000107/3746356_0006, p00/p000107/3746356...  \n",
       "2  [p00/p000124/3931528_0006, p00/p000124/3931528...  \n",
       "3  [p00/p000124/3776642_0006, p00/p000124/3776642...  \n",
       "4  [p00/p000124/3644535_0001, p00/p000124/3644535...  "
      ]
     },
     "execution_count": 84,
     "metadata": {},
     "output_type": "execute_result"
    }
   ],
   "source": [
    "record_list_1.head()"
   ]
  },
  {
   "cell_type": "code",
   "execution_count": 85,
   "id": "a59a90ab",
   "metadata": {},
   "outputs": [
    {
     "data": {
      "text/plain": [
       "(332, 2)"
      ]
     },
     "execution_count": 85,
     "metadata": {},
     "output_type": "execute_result"
    }
   ],
   "source": [
    "record_list_1.shape"
   ]
  },
  {
   "cell_type": "code",
   "execution_count": 88,
   "id": "bac076e4",
   "metadata": {},
   "outputs": [
    {
     "data": {
      "text/plain": [
       "10"
      ]
     },
     "execution_count": 88,
     "metadata": {},
     "output_type": "execute_result"
    }
   ],
   "source": [
    "record_list_1.iloc[0,0][0]"
   ]
  },
  {
   "cell_type": "code",
   "execution_count": 90,
   "id": "0908b51f",
   "metadata": {},
   "outputs": [
    {
     "name": "stdout",
     "output_type": "stream",
     "text": [
      "p00/p000107/3860035_0001\n",
      "p00/p000107/3860035_0004\n",
      "p00/p000107/3860035_0006\n",
      "p00/p000107/3860035_0009\n",
      "p00/p000107/3860035_0010\n",
      "p00/p000107/3860035_0011\n",
      "p00/p000107/3860035_0012\n",
      "p00/p000107/3860035_0014\n",
      "p00/p000107/3860035_0016\n",
      "p00/p000107/3860035_0022\n",
      "p00/p000107/3860035_0024\n",
      "p00/p000107/3860035_0029\n",
      "p00/p000107/3860035_0031\n",
      "p00/p000107/3860035_0032\n",
      "p00/p000107/3860035_0034\n",
      "p00/p000107/3860035_0037\n",
      "p00/p000107/3860035_0040\n",
      "p00/p000107/3860035_0044\n"
     ]
    }
   ],
   "source": [
    "for root in record_list_1.iloc[0,1]:\n",
    "    print(root)\n",
    "    "
   ]
  },
  {
   "cell_type": "code",
   "execution_count": 97,
   "id": "43236bc6",
   "metadata": {},
   "outputs": [
    {
     "data": {
      "text/plain": [
       "[['p00', 'p000107', '3860035_0001'],\n",
       " ['p00', 'p000107', '3860035_0004'],\n",
       " ['p00', 'p000107', '3860035_0006'],\n",
       " ['p00', 'p000107', '3860035_0009'],\n",
       " ['p00', 'p000107', '3860035_0010'],\n",
       " ['p00', 'p000107', '3860035_0011'],\n",
       " ['p00', 'p000107', '3860035_0012'],\n",
       " ['p00', 'p000107', '3860035_0014'],\n",
       " ['p00', 'p000107', '3860035_0016'],\n",
       " ['p00', 'p000107', '3860035_0022'],\n",
       " ['p00', 'p000107', '3860035_0024'],\n",
       " ['p00', 'p000107', '3860035_0029'],\n",
       " ['p00', 'p000107', '3860035_0031'],\n",
       " ['p00', 'p000107', '3860035_0032'],\n",
       " ['p00', 'p000107', '3860035_0034'],\n",
       " ['p00', 'p000107', '3860035_0037'],\n",
       " ['p00', 'p000107', '3860035_0040'],\n",
       " ['p00', 'p000107', '3860035_0044']]"
      ]
     },
     "execution_count": 97,
     "metadata": {},
     "output_type": "execute_result"
    }
   ],
   "source": [
    "root_list = [x.split('/') for x in record_list_1.iloc[0,1]]\n",
    "root_list"
   ]
  },
  {
   "cell_type": "code",
   "execution_count": 99,
   "id": "750db4d1",
   "metadata": {},
   "outputs": [
    {
     "data": {
      "text/plain": [
       "'p00'"
      ]
     },
     "execution_count": 99,
     "metadata": {},
     "output_type": "execute_result"
    }
   ],
   "source": [
    "# get the Intermediate directory \n",
    "intermediate_directory = root_list[0][0]\n",
    "intermediate_directory"
   ]
  },
  {
   "cell_type": "code",
   "execution_count": 129,
   "id": "1e0b7fd6",
   "metadata": {},
   "outputs": [
    {
     "data": {
      "text/plain": [
       "'p00/p000107/'"
      ]
     },
     "execution_count": 129,
     "metadata": {},
     "output_type": "execute_result"
    }
   ],
   "source": [
    "# get the directory\n",
    "directory = root_list[0][0] + '/' + root_list[0][1] + '/'\n",
    "directory"
   ]
  },
  {
   "cell_type": "code",
   "execution_count": 105,
   "id": "77498d8f",
   "metadata": {},
   "outputs": [
    {
     "data": {
      "text/plain": [
       "107"
      ]
     },
     "execution_count": 105,
     "metadata": {},
     "output_type": "execute_result"
    }
   ],
   "source": [
    "# get the user_id\n",
    "user_id = root_list[0][1][1:]\n",
    "int(user_id)"
   ]
  },
  {
   "cell_type": "code",
   "execution_count": 134,
   "id": "0401b2b4",
   "metadata": {},
   "outputs": [
    {
     "data": {
      "text/plain": [
       "['3860035_0001',\n",
       " '3860035_0004',\n",
       " '3860035_0006',\n",
       " '3860035_0009',\n",
       " '3860035_0010',\n",
       " '3860035_0011',\n",
       " '3860035_0012',\n",
       " '3860035_0014',\n",
       " '3860035_0016',\n",
       " '3860035_0022',\n",
       " '3860035_0024',\n",
       " '3860035_0029',\n",
       " '3860035_0031',\n",
       " '3860035_0032',\n",
       " '3860035_0034',\n",
       " '3860035_0037',\n",
       " '3860035_0040',\n",
       " '3860035_0044']"
      ]
     },
     "execution_count": 134,
     "metadata": {},
     "output_type": "execute_result"
    }
   ],
   "source": [
    "record_segment = [x[2] for x in root_list]\n",
    "record_segment"
   ]
  },
  {
   "cell_type": "code",
   "execution_count": 135,
   "id": "8f980978",
   "metadata": {},
   "outputs": [
    {
     "data": {
      "text/plain": [
       "['3860035_0031',\n",
       " '3860035_0037',\n",
       " '3860035_0011',\n",
       " '3860035_0040',\n",
       " '3860035_0016',\n",
       " '3860035_0034',\n",
       " '3860035_0010',\n",
       " '3860035_0032',\n",
       " '3860035_0001',\n",
       " '3860035_0024',\n",
       " '3860035_0004',\n",
       " '3860035_0006',\n",
       " '3860035_0044',\n",
       " '3860035_0012',\n",
       " '3860035_0029',\n",
       " '3860035_0009',\n",
       " '3860035_0022',\n",
       " '3860035_0014']"
      ]
     },
     "execution_count": 135,
     "metadata": {},
     "output_type": "execute_result"
    }
   ],
   "source": [
    "random.Random(4).shuffle(record_segment)\n",
    "record_segment"
   ]
  },
  {
   "cell_type": "code",
   "execution_count": 136,
   "id": "e40bf7cf",
   "metadata": {},
   "outputs": [
    {
     "data": {
      "text/plain": [
       "'https://physionet.org/content/mimic3wdb-matched/1.0/p00/p000107/3860035_0031.dat'"
      ]
     },
     "execution_count": 136,
     "metadata": {},
     "output_type": "execute_result"
    }
   ],
   "source": [
    "record_segment_path = 'https://physionet.org/content/mimic3wdb-matched/1.0/' + directory + waveform_record_segment[0] + '.dat'\n",
    "record_segment_path"
   ]
  },
  {
   "cell_type": "code",
   "execution_count": null,
   "id": "c0ae2063",
   "metadata": {},
   "outputs": [],
   "source": []
  },
  {
   "cell_type": "code",
   "execution_count": 139,
   "id": "9bd963ec",
   "metadata": {},
   "outputs": [],
   "source": [
    "record_segment_signal = wfdb.rdsamp(record_name=record_segment[0],\n",
    "                                    pn_dir='mimic3wdb-matched/1.0/' + directory,\n",
    "                                    channel_names=['PLETH'])"
   ]
  },
  {
   "cell_type": "code",
   "execution_count": 140,
   "id": "b005a5f9",
   "metadata": {},
   "outputs": [
    {
     "data": {
      "image/png": "[encoded data removed]",
      "text/plain": [
       "<Figure size 432x288 with 1 Axes>"
      ]
     },
     "metadata": {
      "needs_background": "light"
     },
     "output_type": "display_data"
    }
   ],
   "source": [
    "# Plotting the signal\n",
    "plt.figure()\n",
    "plt.plot(record_segment_signal[0])\n",
    "plt.show()        "
   ]
  },
  {
   "cell_type": "code",
   "execution_count": 141,
   "id": "8a088d9b",
   "metadata": {},
   "outputs": [
    {
     "data": {
      "text/plain": [
       "tuple"
      ]
     },
     "execution_count": 141,
     "metadata": {},
     "output_type": "execute_result"
    }
   ],
   "source": [
    "type(record_segment_signal)"
   ]
  },
  {
   "cell_type": "code",
   "execution_count": 143,
   "id": "7055984a",
   "metadata": {},
   "outputs": [
    {
     "data": {
      "text/plain": [
       "2"
      ]
     },
     "execution_count": 143,
     "metadata": {},
     "output_type": "execute_result"
    }
   ],
   "source": [
    "len(record_segment_signal)"
   ]
  },
  {
   "cell_type": "code",
   "execution_count": 144,
   "id": "8835e7b8",
   "metadata": {},
   "outputs": [
    {
     "data": {
      "text/plain": [
       "(array([[       nan],\n",
       "        [       nan],\n",
       "        [       nan],\n",
       "        ...,\n",
       "        [0.50588235],\n",
       "        [0.52156863],\n",
       "        [0.53333333]]),\n",
       " {'fs': 125,\n",
       "  'sig_len': 2558375,\n",
       "  'n_sig': 1,\n",
       "  'base_date': None,\n",
       "  'base_time': datetime.time(14, 27, 7),\n",
       "  'units': ['NU'],\n",
       "  'sig_name': ['PLETH'],\n",
       "  'comments': []})"
      ]
     },
     "execution_count": 144,
     "metadata": {},
     "output_type": "execute_result"
    }
   ],
   "source": [
    "record_segment_signal"
   ]
  },
  {
   "cell_type": "code",
   "execution_count": null,
   "id": "1ae3e46c",
   "metadata": {},
   "outputs": [],
   "source": []
  }
 ],
 "metadata": {
  "kernelspec": {
   "display_name": "Python 3 (ipykernel)",
   "language": "python",
   "name": "python3"
  },
  "language_info": {
   "codemirror_mode": {
    "name": "ipython",
    "version": 3
   },
   "file_extension": ".py",
   "mimetype": "text/x-python",
   "name": "python",
   "nbconvert_exporter": "python",
   "pygments_lexer": "ipython3",
   "version": "3.9.7"
  }
 },
 "nbformat": 4,
 "nbformat_minor": 5
}

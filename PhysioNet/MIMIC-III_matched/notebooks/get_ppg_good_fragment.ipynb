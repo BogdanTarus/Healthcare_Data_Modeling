{
 "cells": [
  {
   "cell_type": "code",
   "execution_count": 1,
   "id": "a3daac86",
   "metadata": {},
   "outputs": [],
   "source": [
    "import numpy as np\n",
    "import pandas as pd\n",
    "import random\n",
    "from datetime import datetime\n",
    "import matplotlib.pyplot as plt\n",
    "import os.path\n",
    "from bs4 import BeautifulSoup\n",
    "import requests\n",
    "import wfdb"
   ]
  },
  {
   "cell_type": "code",
   "execution_count": 2,
   "id": "2615cbcc",
   "metadata": {},
   "outputs": [],
   "source": [
    "record_segment_good_length_path = '../../../2_data/'"
   ]
  },
  {
   "cell_type": "code",
   "execution_count": 3,
   "id": "171071cc",
   "metadata": {},
   "outputs": [
    {
     "name": "stdout",
     "output_type": "stream",
     "text": [
      "total 30936\r\n",
      "-rw-r--r--   1 tarus  staff   286811 Feb  3 23:19 record_segment_good_length_0_1774.csv\r\n",
      "-rw-r--r--   1 tarus  staff  2546376 Feb  5 00:23 record_segment_good_length_0_8858.csv\r\n",
      "-rw-r--r--   1 tarus  staff  3084991 Feb  5 05:24 record_segment_good_length_0_9999.csv\r\n",
      "-rw-r--r--   1 tarus  staff  3511872 Feb  7 20:31 record_segment_good_length_10000_16999.csv\r\n",
      "-rw-r--r--   1 tarus  staff  3752840 Feb  7 10:16 record_segment_good_length_10000_22316.csv\r\n",
      "-rw-r--r--   1 tarus  staff  2638552 Feb  6 15:31 record_segment_good_length_17000_22316.csv\r\n",
      "drwxr-xr-x  14 tarus  staff      448 Feb  3 20:05 \u001b[1m\u001b[36mxold_01\u001b[m\u001b[m\r\n",
      "drwxr-xr-x   6 tarus  staff      192 Feb  5 15:16 \u001b[1m\u001b[36my_backup\u001b[m\u001b[m\r\n"
     ]
    }
   ],
   "source": [
    "!ls -l $record_segment_good_length_path"
   ]
  },
  {
   "cell_type": "code",
   "execution_count": 4,
   "id": "b64e01a3",
   "metadata": {},
   "outputs": [],
   "source": [
    "path_1 = record_segment_good_length_path + 'record_segment_good_length_0_9999.csv'\n",
    "path_2 = record_segment_good_length_path + 'record_segment_good_length_10000_16999.csv'\n",
    "path_3 = record_segment_good_length_path + 'record_segment_good_length_17000_22316.csv'"
   ]
  },
  {
   "cell_type": "code",
   "execution_count": 5,
   "id": "10e94c02",
   "metadata": {},
   "outputs": [],
   "source": [
    "df1 = pd.read_csv(path_1, header=None)\n",
    "df2 = pd.read_csv(path_2, header=None)\n",
    "df3 = pd.read_csv(path_3, header=None)"
   ]
  },
  {
   "cell_type": "code",
   "execution_count": 6,
   "id": "b0b4dcb5",
   "metadata": {},
   "outputs": [
    {
     "data": {
      "text/html": [
       "<div>\n",
       "<style scoped>\n",
       "    .dataframe tbody tr th:only-of-type {\n",
       "        vertical-align: middle;\n",
       "    }\n",
       "\n",
       "    .dataframe tbody tr th {\n",
       "        vertical-align: top;\n",
       "    }\n",
       "\n",
       "    .dataframe thead th {\n",
       "        text-align: right;\n",
       "    }\n",
       "</style>\n",
       "<table border=\"1\" class=\"dataframe\">\n",
       "  <thead>\n",
       "    <tr style=\"text-align: right;\">\n",
       "      <th></th>\n",
       "      <th>0</th>\n",
       "      <th>1</th>\n",
       "      <th>2</th>\n",
       "    </tr>\n",
       "  </thead>\n",
       "  <tbody>\n",
       "    <tr>\n",
       "      <th>0</th>\n",
       "      <td>4</td>\n",
       "      <td>p00/p000052/p000052-2191-01-10-02-21</td>\n",
       "      <td>3238451_0005</td>\n",
       "    </tr>\n",
       "    <tr>\n",
       "      <th>1</th>\n",
       "      <td>5</td>\n",
       "      <td>p00/p000052/p000052-2191-01-10-12-15</td>\n",
       "      <td>3533390_0001</td>\n",
       "    </tr>\n",
       "    <tr>\n",
       "      <th>2</th>\n",
       "      <td>5</td>\n",
       "      <td>p00/p000052/p000052-2191-01-10-12-15</td>\n",
       "      <td>3533390_0003</td>\n",
       "    </tr>\n",
       "    <tr>\n",
       "      <th>3</th>\n",
       "      <td>5</td>\n",
       "      <td>p00/p000052/p000052-2191-01-10-12-15</td>\n",
       "      <td>3533390_0004</td>\n",
       "    </tr>\n",
       "    <tr>\n",
       "      <th>4</th>\n",
       "      <td>5</td>\n",
       "      <td>p00/p000052/p000052-2191-01-10-12-15</td>\n",
       "      <td>3533390_0007</td>\n",
       "    </tr>\n",
       "  </tbody>\n",
       "</table>\n",
       "</div>"
      ],
      "text/plain": [
       "   0                                     1             2\n",
       "0  4  p00/p000052/p000052-2191-01-10-02-21  3238451_0005\n",
       "1  5  p00/p000052/p000052-2191-01-10-12-15  3533390_0001\n",
       "2  5  p00/p000052/p000052-2191-01-10-12-15  3533390_0003\n",
       "3  5  p00/p000052/p000052-2191-01-10-12-15  3533390_0004\n",
       "4  5  p00/p000052/p000052-2191-01-10-12-15  3533390_0007"
      ]
     },
     "execution_count": 6,
     "metadata": {},
     "output_type": "execute_result"
    }
   ],
   "source": [
    "df1.head()"
   ]
  },
  {
   "cell_type": "code",
   "execution_count": 7,
   "id": "d86c6217",
   "metadata": {},
   "outputs": [
    {
     "name": "stdout",
     "output_type": "stream",
     "text": [
      "df1: (56154, 3), df2: (62712, 3), df3: (47117, 3)\n"
     ]
    }
   ],
   "source": [
    "print('df1: {}, df2: {}, df3: {}'.format(df1.shape, df2.shape, df3.shape))"
   ]
  },
  {
   "cell_type": "code",
   "execution_count": 8,
   "id": "f7c2209c",
   "metadata": {},
   "outputs": [],
   "source": [
    "t1 = df1.head()\n",
    "t2 = df2.head()\n",
    "t3 = df3.head()"
   ]
  },
  {
   "cell_type": "code",
   "execution_count": 9,
   "id": "3f862861",
   "metadata": {},
   "outputs": [
    {
     "name": "stdout",
     "output_type": "stream",
     "text": [
      "   0                                     1             2\n",
      "0  4  p00/p000052/p000052-2191-01-10-02-21  3238451_0005\n",
      "1  5  p00/p000052/p000052-2191-01-10-12-15  3533390_0001\n",
      "2  5  p00/p000052/p000052-2191-01-10-12-15  3533390_0003\n",
      "3  5  p00/p000052/p000052-2191-01-10-12-15  3533390_0004\n",
      "4  5  p00/p000052/p000052-2191-01-10-12-15  3533390_0007\n"
     ]
    }
   ],
   "source": [
    "print(t1)"
   ]
  },
  {
   "cell_type": "code",
   "execution_count": 10,
   "id": "23008e3c",
   "metadata": {},
   "outputs": [
    {
     "name": "stdout",
     "output_type": "stream",
     "text": [
      "       0                                     1             2\n",
      "0  10000  p04/p049022/p049022-2160-12-03-23-50  3198728_0003\n",
      "1  10000  p04/p049022/p049022-2160-12-03-23-50  3198728_0005\n",
      "2  10000  p04/p049022/p049022-2160-12-03-23-50  3198728_0007\n",
      "3  10001  p04/p049023/p049023-2179-09-03-21-42  3708030_0002\n",
      "4  10001  p04/p049023/p049023-2179-09-03-21-42  3708030_0005\n"
     ]
    }
   ],
   "source": [
    "print(t2)"
   ]
  },
  {
   "cell_type": "code",
   "execution_count": 11,
   "id": "34e53204",
   "metadata": {},
   "outputs": [
    {
     "name": "stdout",
     "output_type": "stream",
     "text": [
      "       0                                     1             2\n",
      "0  17000  p07/p077697/p077697-2107-07-26-20-06  3792554_0002\n",
      "1  17000  p07/p077697/p077697-2107-07-26-20-06  3792554_0004\n",
      "2  17000  p07/p077697/p077697-2107-07-26-20-06  3792554_0010\n",
      "3  17000  p07/p077697/p077697-2107-07-26-20-06  3792554_0012\n",
      "4  17001  p07/p077697/p077697-2107-07-28-19-01  3273137_0006\n"
     ]
    }
   ],
   "source": [
    "print(t3)"
   ]
  },
  {
   "cell_type": "code",
   "execution_count": 12,
   "id": "bd7c1064",
   "metadata": {},
   "outputs": [],
   "source": [
    "t = pd.concat([t1,t2], axis=0).reset_index()"
   ]
  },
  {
   "cell_type": "code",
   "execution_count": 13,
   "id": "382decd2",
   "metadata": {},
   "outputs": [
    {
     "data": {
      "text/html": [
       "<div>\n",
       "<style scoped>\n",
       "    .dataframe tbody tr th:only-of-type {\n",
       "        vertical-align: middle;\n",
       "    }\n",
       "\n",
       "    .dataframe tbody tr th {\n",
       "        vertical-align: top;\n",
       "    }\n",
       "\n",
       "    .dataframe thead th {\n",
       "        text-align: right;\n",
       "    }\n",
       "</style>\n",
       "<table border=\"1\" class=\"dataframe\">\n",
       "  <thead>\n",
       "    <tr style=\"text-align: right;\">\n",
       "      <th></th>\n",
       "      <th>index</th>\n",
       "      <th>0</th>\n",
       "      <th>1</th>\n",
       "      <th>2</th>\n",
       "    </tr>\n",
       "  </thead>\n",
       "  <tbody>\n",
       "    <tr>\n",
       "      <th>0</th>\n",
       "      <td>0</td>\n",
       "      <td>4</td>\n",
       "      <td>p00/p000052/p000052-2191-01-10-02-21</td>\n",
       "      <td>3238451_0005</td>\n",
       "    </tr>\n",
       "    <tr>\n",
       "      <th>1</th>\n",
       "      <td>1</td>\n",
       "      <td>5</td>\n",
       "      <td>p00/p000052/p000052-2191-01-10-12-15</td>\n",
       "      <td>3533390_0001</td>\n",
       "    </tr>\n",
       "    <tr>\n",
       "      <th>2</th>\n",
       "      <td>2</td>\n",
       "      <td>5</td>\n",
       "      <td>p00/p000052/p000052-2191-01-10-12-15</td>\n",
       "      <td>3533390_0003</td>\n",
       "    </tr>\n",
       "    <tr>\n",
       "      <th>3</th>\n",
       "      <td>3</td>\n",
       "      <td>5</td>\n",
       "      <td>p00/p000052/p000052-2191-01-10-12-15</td>\n",
       "      <td>3533390_0004</td>\n",
       "    </tr>\n",
       "    <tr>\n",
       "      <th>4</th>\n",
       "      <td>4</td>\n",
       "      <td>5</td>\n",
       "      <td>p00/p000052/p000052-2191-01-10-12-15</td>\n",
       "      <td>3533390_0007</td>\n",
       "    </tr>\n",
       "    <tr>\n",
       "      <th>5</th>\n",
       "      <td>0</td>\n",
       "      <td>10000</td>\n",
       "      <td>p04/p049022/p049022-2160-12-03-23-50</td>\n",
       "      <td>3198728_0003</td>\n",
       "    </tr>\n",
       "    <tr>\n",
       "      <th>6</th>\n",
       "      <td>1</td>\n",
       "      <td>10000</td>\n",
       "      <td>p04/p049022/p049022-2160-12-03-23-50</td>\n",
       "      <td>3198728_0005</td>\n",
       "    </tr>\n",
       "    <tr>\n",
       "      <th>7</th>\n",
       "      <td>2</td>\n",
       "      <td>10000</td>\n",
       "      <td>p04/p049022/p049022-2160-12-03-23-50</td>\n",
       "      <td>3198728_0007</td>\n",
       "    </tr>\n",
       "    <tr>\n",
       "      <th>8</th>\n",
       "      <td>3</td>\n",
       "      <td>10001</td>\n",
       "      <td>p04/p049023/p049023-2179-09-03-21-42</td>\n",
       "      <td>3708030_0002</td>\n",
       "    </tr>\n",
       "    <tr>\n",
       "      <th>9</th>\n",
       "      <td>4</td>\n",
       "      <td>10001</td>\n",
       "      <td>p04/p049023/p049023-2179-09-03-21-42</td>\n",
       "      <td>3708030_0005</td>\n",
       "    </tr>\n",
       "  </tbody>\n",
       "</table>\n",
       "</div>"
      ],
      "text/plain": [
       "   index      0                                     1             2\n",
       "0      0      4  p00/p000052/p000052-2191-01-10-02-21  3238451_0005\n",
       "1      1      5  p00/p000052/p000052-2191-01-10-12-15  3533390_0001\n",
       "2      2      5  p00/p000052/p000052-2191-01-10-12-15  3533390_0003\n",
       "3      3      5  p00/p000052/p000052-2191-01-10-12-15  3533390_0004\n",
       "4      4      5  p00/p000052/p000052-2191-01-10-12-15  3533390_0007\n",
       "5      0  10000  p04/p049022/p049022-2160-12-03-23-50  3198728_0003\n",
       "6      1  10000  p04/p049022/p049022-2160-12-03-23-50  3198728_0005\n",
       "7      2  10000  p04/p049022/p049022-2160-12-03-23-50  3198728_0007\n",
       "8      3  10001  p04/p049023/p049023-2179-09-03-21-42  3708030_0002\n",
       "9      4  10001  p04/p049023/p049023-2179-09-03-21-42  3708030_0005"
      ]
     },
     "execution_count": 13,
     "metadata": {},
     "output_type": "execute_result"
    }
   ],
   "source": [
    "t"
   ]
  },
  {
   "cell_type": "code",
   "execution_count": 14,
   "id": "3cef57e2",
   "metadata": {},
   "outputs": [],
   "source": [
    "t.drop('index', axis=1, inplace=True)"
   ]
  },
  {
   "cell_type": "code",
   "execution_count": 15,
   "id": "2a5ddd2d",
   "metadata": {},
   "outputs": [
    {
     "data": {
      "text/html": [
       "<div>\n",
       "<style scoped>\n",
       "    .dataframe tbody tr th:only-of-type {\n",
       "        vertical-align: middle;\n",
       "    }\n",
       "\n",
       "    .dataframe tbody tr th {\n",
       "        vertical-align: top;\n",
       "    }\n",
       "\n",
       "    .dataframe thead th {\n",
       "        text-align: right;\n",
       "    }\n",
       "</style>\n",
       "<table border=\"1\" class=\"dataframe\">\n",
       "  <thead>\n",
       "    <tr style=\"text-align: right;\">\n",
       "      <th></th>\n",
       "      <th>0</th>\n",
       "      <th>1</th>\n",
       "      <th>2</th>\n",
       "    </tr>\n",
       "  </thead>\n",
       "  <tbody>\n",
       "    <tr>\n",
       "      <th>0</th>\n",
       "      <td>4</td>\n",
       "      <td>p00/p000052/p000052-2191-01-10-02-21</td>\n",
       "      <td>3238451_0005</td>\n",
       "    </tr>\n",
       "    <tr>\n",
       "      <th>1</th>\n",
       "      <td>5</td>\n",
       "      <td>p00/p000052/p000052-2191-01-10-12-15</td>\n",
       "      <td>3533390_0001</td>\n",
       "    </tr>\n",
       "    <tr>\n",
       "      <th>2</th>\n",
       "      <td>5</td>\n",
       "      <td>p00/p000052/p000052-2191-01-10-12-15</td>\n",
       "      <td>3533390_0003</td>\n",
       "    </tr>\n",
       "    <tr>\n",
       "      <th>3</th>\n",
       "      <td>5</td>\n",
       "      <td>p00/p000052/p000052-2191-01-10-12-15</td>\n",
       "      <td>3533390_0004</td>\n",
       "    </tr>\n",
       "    <tr>\n",
       "      <th>4</th>\n",
       "      <td>5</td>\n",
       "      <td>p00/p000052/p000052-2191-01-10-12-15</td>\n",
       "      <td>3533390_0007</td>\n",
       "    </tr>\n",
       "    <tr>\n",
       "      <th>5</th>\n",
       "      <td>10000</td>\n",
       "      <td>p04/p049022/p049022-2160-12-03-23-50</td>\n",
       "      <td>3198728_0003</td>\n",
       "    </tr>\n",
       "    <tr>\n",
       "      <th>6</th>\n",
       "      <td>10000</td>\n",
       "      <td>p04/p049022/p049022-2160-12-03-23-50</td>\n",
       "      <td>3198728_0005</td>\n",
       "    </tr>\n",
       "    <tr>\n",
       "      <th>7</th>\n",
       "      <td>10000</td>\n",
       "      <td>p04/p049022/p049022-2160-12-03-23-50</td>\n",
       "      <td>3198728_0007</td>\n",
       "    </tr>\n",
       "    <tr>\n",
       "      <th>8</th>\n",
       "      <td>10001</td>\n",
       "      <td>p04/p049023/p049023-2179-09-03-21-42</td>\n",
       "      <td>3708030_0002</td>\n",
       "    </tr>\n",
       "    <tr>\n",
       "      <th>9</th>\n",
       "      <td>10001</td>\n",
       "      <td>p04/p049023/p049023-2179-09-03-21-42</td>\n",
       "      <td>3708030_0005</td>\n",
       "    </tr>\n",
       "  </tbody>\n",
       "</table>\n",
       "</div>"
      ],
      "text/plain": [
       "       0                                     1             2\n",
       "0      4  p00/p000052/p000052-2191-01-10-02-21  3238451_0005\n",
       "1      5  p00/p000052/p000052-2191-01-10-12-15  3533390_0001\n",
       "2      5  p00/p000052/p000052-2191-01-10-12-15  3533390_0003\n",
       "3      5  p00/p000052/p000052-2191-01-10-12-15  3533390_0004\n",
       "4      5  p00/p000052/p000052-2191-01-10-12-15  3533390_0007\n",
       "5  10000  p04/p049022/p049022-2160-12-03-23-50  3198728_0003\n",
       "6  10000  p04/p049022/p049022-2160-12-03-23-50  3198728_0005\n",
       "7  10000  p04/p049022/p049022-2160-12-03-23-50  3198728_0007\n",
       "8  10001  p04/p049023/p049023-2179-09-03-21-42  3708030_0002\n",
       "9  10001  p04/p049023/p049023-2179-09-03-21-42  3708030_0005"
      ]
     },
     "execution_count": 15,
     "metadata": {},
     "output_type": "execute_result"
    }
   ],
   "source": [
    "t"
   ]
  },
  {
   "cell_type": "code",
   "execution_count": 16,
   "id": "74390bc1",
   "metadata": {},
   "outputs": [],
   "source": [
    "# del df"
   ]
  },
  {
   "cell_type": "code",
   "execution_count": 17,
   "id": "055301f6",
   "metadata": {},
   "outputs": [],
   "source": [
    "df = pd.concat([df1,df2], axis=0)"
   ]
  },
  {
   "cell_type": "code",
   "execution_count": 18,
   "id": "d259c7df",
   "metadata": {},
   "outputs": [
    {
     "data": {
      "text/html": [
       "<div>\n",
       "<style scoped>\n",
       "    .dataframe tbody tr th:only-of-type {\n",
       "        vertical-align: middle;\n",
       "    }\n",
       "\n",
       "    .dataframe tbody tr th {\n",
       "        vertical-align: top;\n",
       "    }\n",
       "\n",
       "    .dataframe thead th {\n",
       "        text-align: right;\n",
       "    }\n",
       "</style>\n",
       "<table border=\"1\" class=\"dataframe\">\n",
       "  <thead>\n",
       "    <tr style=\"text-align: right;\">\n",
       "      <th></th>\n",
       "      <th>0</th>\n",
       "      <th>1</th>\n",
       "      <th>2</th>\n",
       "    </tr>\n",
       "  </thead>\n",
       "  <tbody>\n",
       "    <tr>\n",
       "      <th>0</th>\n",
       "      <td>4</td>\n",
       "      <td>p00/p000052/p000052-2191-01-10-02-21</td>\n",
       "      <td>3238451_0005</td>\n",
       "    </tr>\n",
       "    <tr>\n",
       "      <th>1</th>\n",
       "      <td>5</td>\n",
       "      <td>p00/p000052/p000052-2191-01-10-12-15</td>\n",
       "      <td>3533390_0001</td>\n",
       "    </tr>\n",
       "    <tr>\n",
       "      <th>2</th>\n",
       "      <td>5</td>\n",
       "      <td>p00/p000052/p000052-2191-01-10-12-15</td>\n",
       "      <td>3533390_0003</td>\n",
       "    </tr>\n",
       "    <tr>\n",
       "      <th>3</th>\n",
       "      <td>5</td>\n",
       "      <td>p00/p000052/p000052-2191-01-10-12-15</td>\n",
       "      <td>3533390_0004</td>\n",
       "    </tr>\n",
       "    <tr>\n",
       "      <th>4</th>\n",
       "      <td>5</td>\n",
       "      <td>p00/p000052/p000052-2191-01-10-12-15</td>\n",
       "      <td>3533390_0007</td>\n",
       "    </tr>\n",
       "    <tr>\n",
       "      <th>...</th>\n",
       "      <td>...</td>\n",
       "      <td>...</td>\n",
       "      <td>...</td>\n",
       "    </tr>\n",
       "    <tr>\n",
       "      <th>62707</th>\n",
       "      <td>16999</td>\n",
       "      <td>p07/p077691/p077691-2176-02-01-18-57</td>\n",
       "      <td>3369085_0014</td>\n",
       "    </tr>\n",
       "    <tr>\n",
       "      <th>62708</th>\n",
       "      <td>16999</td>\n",
       "      <td>p07/p077691/p077691-2176-02-01-18-57</td>\n",
       "      <td>3369085_0017</td>\n",
       "    </tr>\n",
       "    <tr>\n",
       "      <th>62709</th>\n",
       "      <td>16999</td>\n",
       "      <td>p07/p077691/p077691-2176-02-01-18-57</td>\n",
       "      <td>3369085_0019</td>\n",
       "    </tr>\n",
       "    <tr>\n",
       "      <th>62710</th>\n",
       "      <td>16999</td>\n",
       "      <td>p07/p077691/p077691-2176-02-01-18-57</td>\n",
       "      <td>3369085_0022</td>\n",
       "    </tr>\n",
       "    <tr>\n",
       "      <th>62711</th>\n",
       "      <td>16999</td>\n",
       "      <td>p07/p077691/p077691-2176-02-01-18-57</td>\n",
       "      <td>3369085_0023</td>\n",
       "    </tr>\n",
       "  </tbody>\n",
       "</table>\n",
       "<p>118866 rows × 3 columns</p>\n",
       "</div>"
      ],
      "text/plain": [
       "           0                                     1             2\n",
       "0          4  p00/p000052/p000052-2191-01-10-02-21  3238451_0005\n",
       "1          5  p00/p000052/p000052-2191-01-10-12-15  3533390_0001\n",
       "2          5  p00/p000052/p000052-2191-01-10-12-15  3533390_0003\n",
       "3          5  p00/p000052/p000052-2191-01-10-12-15  3533390_0004\n",
       "4          5  p00/p000052/p000052-2191-01-10-12-15  3533390_0007\n",
       "...      ...                                   ...           ...\n",
       "62707  16999  p07/p077691/p077691-2176-02-01-18-57  3369085_0014\n",
       "62708  16999  p07/p077691/p077691-2176-02-01-18-57  3369085_0017\n",
       "62709  16999  p07/p077691/p077691-2176-02-01-18-57  3369085_0019\n",
       "62710  16999  p07/p077691/p077691-2176-02-01-18-57  3369085_0022\n",
       "62711  16999  p07/p077691/p077691-2176-02-01-18-57  3369085_0023\n",
       "\n",
       "[118866 rows x 3 columns]"
      ]
     },
     "execution_count": 18,
     "metadata": {},
     "output_type": "execute_result"
    }
   ],
   "source": [
    "df"
   ]
  },
  {
   "cell_type": "code",
   "execution_count": 19,
   "id": "9a845f1f",
   "metadata": {},
   "outputs": [],
   "source": [
    "df = pd.concat([df, df3], axis=0)"
   ]
  },
  {
   "cell_type": "code",
   "execution_count": 20,
   "id": "a10f3698",
   "metadata": {},
   "outputs": [
    {
     "data": {
      "text/html": [
       "<div>\n",
       "<style scoped>\n",
       "    .dataframe tbody tr th:only-of-type {\n",
       "        vertical-align: middle;\n",
       "    }\n",
       "\n",
       "    .dataframe tbody tr th {\n",
       "        vertical-align: top;\n",
       "    }\n",
       "\n",
       "    .dataframe thead th {\n",
       "        text-align: right;\n",
       "    }\n",
       "</style>\n",
       "<table border=\"1\" class=\"dataframe\">\n",
       "  <thead>\n",
       "    <tr style=\"text-align: right;\">\n",
       "      <th></th>\n",
       "      <th>0</th>\n",
       "      <th>1</th>\n",
       "      <th>2</th>\n",
       "    </tr>\n",
       "  </thead>\n",
       "  <tbody>\n",
       "    <tr>\n",
       "      <th>0</th>\n",
       "      <td>4</td>\n",
       "      <td>p00/p000052/p000052-2191-01-10-02-21</td>\n",
       "      <td>3238451_0005</td>\n",
       "    </tr>\n",
       "    <tr>\n",
       "      <th>1</th>\n",
       "      <td>5</td>\n",
       "      <td>p00/p000052/p000052-2191-01-10-12-15</td>\n",
       "      <td>3533390_0001</td>\n",
       "    </tr>\n",
       "    <tr>\n",
       "      <th>2</th>\n",
       "      <td>5</td>\n",
       "      <td>p00/p000052/p000052-2191-01-10-12-15</td>\n",
       "      <td>3533390_0003</td>\n",
       "    </tr>\n",
       "    <tr>\n",
       "      <th>3</th>\n",
       "      <td>5</td>\n",
       "      <td>p00/p000052/p000052-2191-01-10-12-15</td>\n",
       "      <td>3533390_0004</td>\n",
       "    </tr>\n",
       "    <tr>\n",
       "      <th>4</th>\n",
       "      <td>5</td>\n",
       "      <td>p00/p000052/p000052-2191-01-10-12-15</td>\n",
       "      <td>3533390_0007</td>\n",
       "    </tr>\n",
       "    <tr>\n",
       "      <th>...</th>\n",
       "      <td>...</td>\n",
       "      <td>...</td>\n",
       "      <td>...</td>\n",
       "    </tr>\n",
       "    <tr>\n",
       "      <th>47112</th>\n",
       "      <td>22315</td>\n",
       "      <td>p09/p099992/p099992-2144-07-25-20-39</td>\n",
       "      <td>3301572_0035</td>\n",
       "    </tr>\n",
       "    <tr>\n",
       "      <th>47113</th>\n",
       "      <td>22315</td>\n",
       "      <td>p09/p099992/p099992-2144-07-25-20-39</td>\n",
       "      <td>3301572_0037</td>\n",
       "    </tr>\n",
       "    <tr>\n",
       "      <th>47114</th>\n",
       "      <td>22315</td>\n",
       "      <td>p09/p099992/p099992-2144-07-25-20-39</td>\n",
       "      <td>3301572_0039</td>\n",
       "    </tr>\n",
       "    <tr>\n",
       "      <th>47115</th>\n",
       "      <td>22316</td>\n",
       "      <td>p09/p099999/p099999-2117-12-31-19-07</td>\n",
       "      <td>3772060_0001</td>\n",
       "    </tr>\n",
       "    <tr>\n",
       "      <th>47116</th>\n",
       "      <td>22316</td>\n",
       "      <td>p09/p099999/p099999-2117-12-31-19-07</td>\n",
       "      <td>3772060_0005</td>\n",
       "    </tr>\n",
       "  </tbody>\n",
       "</table>\n",
       "<p>165983 rows × 3 columns</p>\n",
       "</div>"
      ],
      "text/plain": [
       "           0                                     1             2\n",
       "0          4  p00/p000052/p000052-2191-01-10-02-21  3238451_0005\n",
       "1          5  p00/p000052/p000052-2191-01-10-12-15  3533390_0001\n",
       "2          5  p00/p000052/p000052-2191-01-10-12-15  3533390_0003\n",
       "3          5  p00/p000052/p000052-2191-01-10-12-15  3533390_0004\n",
       "4          5  p00/p000052/p000052-2191-01-10-12-15  3533390_0007\n",
       "...      ...                                   ...           ...\n",
       "47112  22315  p09/p099992/p099992-2144-07-25-20-39  3301572_0035\n",
       "47113  22315  p09/p099992/p099992-2144-07-25-20-39  3301572_0037\n",
       "47114  22315  p09/p099992/p099992-2144-07-25-20-39  3301572_0039\n",
       "47115  22316  p09/p099999/p099999-2117-12-31-19-07  3772060_0001\n",
       "47116  22316  p09/p099999/p099999-2117-12-31-19-07  3772060_0005\n",
       "\n",
       "[165983 rows x 3 columns]"
      ]
     },
     "execution_count": 20,
     "metadata": {},
     "output_type": "execute_result"
    }
   ],
   "source": [
    "df"
   ]
  },
  {
   "cell_type": "code",
   "execution_count": 21,
   "id": "7db8be15",
   "metadata": {},
   "outputs": [],
   "source": [
    "df.reset_index(inplace=True)"
   ]
  },
  {
   "cell_type": "code",
   "execution_count": 22,
   "id": "bacdd9e2",
   "metadata": {},
   "outputs": [
    {
     "data": {
      "text/html": [
       "<div>\n",
       "<style scoped>\n",
       "    .dataframe tbody tr th:only-of-type {\n",
       "        vertical-align: middle;\n",
       "    }\n",
       "\n",
       "    .dataframe tbody tr th {\n",
       "        vertical-align: top;\n",
       "    }\n",
       "\n",
       "    .dataframe thead th {\n",
       "        text-align: right;\n",
       "    }\n",
       "</style>\n",
       "<table border=\"1\" class=\"dataframe\">\n",
       "  <thead>\n",
       "    <tr style=\"text-align: right;\">\n",
       "      <th></th>\n",
       "      <th>index</th>\n",
       "      <th>0</th>\n",
       "      <th>1</th>\n",
       "      <th>2</th>\n",
       "    </tr>\n",
       "  </thead>\n",
       "  <tbody>\n",
       "    <tr>\n",
       "      <th>0</th>\n",
       "      <td>0</td>\n",
       "      <td>4</td>\n",
       "      <td>p00/p000052/p000052-2191-01-10-02-21</td>\n",
       "      <td>3238451_0005</td>\n",
       "    </tr>\n",
       "    <tr>\n",
       "      <th>1</th>\n",
       "      <td>1</td>\n",
       "      <td>5</td>\n",
       "      <td>p00/p000052/p000052-2191-01-10-12-15</td>\n",
       "      <td>3533390_0001</td>\n",
       "    </tr>\n",
       "    <tr>\n",
       "      <th>2</th>\n",
       "      <td>2</td>\n",
       "      <td>5</td>\n",
       "      <td>p00/p000052/p000052-2191-01-10-12-15</td>\n",
       "      <td>3533390_0003</td>\n",
       "    </tr>\n",
       "    <tr>\n",
       "      <th>3</th>\n",
       "      <td>3</td>\n",
       "      <td>5</td>\n",
       "      <td>p00/p000052/p000052-2191-01-10-12-15</td>\n",
       "      <td>3533390_0004</td>\n",
       "    </tr>\n",
       "    <tr>\n",
       "      <th>4</th>\n",
       "      <td>4</td>\n",
       "      <td>5</td>\n",
       "      <td>p00/p000052/p000052-2191-01-10-12-15</td>\n",
       "      <td>3533390_0007</td>\n",
       "    </tr>\n",
       "    <tr>\n",
       "      <th>...</th>\n",
       "      <td>...</td>\n",
       "      <td>...</td>\n",
       "      <td>...</td>\n",
       "      <td>...</td>\n",
       "    </tr>\n",
       "    <tr>\n",
       "      <th>165978</th>\n",
       "      <td>47112</td>\n",
       "      <td>22315</td>\n",
       "      <td>p09/p099992/p099992-2144-07-25-20-39</td>\n",
       "      <td>3301572_0035</td>\n",
       "    </tr>\n",
       "    <tr>\n",
       "      <th>165979</th>\n",
       "      <td>47113</td>\n",
       "      <td>22315</td>\n",
       "      <td>p09/p099992/p099992-2144-07-25-20-39</td>\n",
       "      <td>3301572_0037</td>\n",
       "    </tr>\n",
       "    <tr>\n",
       "      <th>165980</th>\n",
       "      <td>47114</td>\n",
       "      <td>22315</td>\n",
       "      <td>p09/p099992/p099992-2144-07-25-20-39</td>\n",
       "      <td>3301572_0039</td>\n",
       "    </tr>\n",
       "    <tr>\n",
       "      <th>165981</th>\n",
       "      <td>47115</td>\n",
       "      <td>22316</td>\n",
       "      <td>p09/p099999/p099999-2117-12-31-19-07</td>\n",
       "      <td>3772060_0001</td>\n",
       "    </tr>\n",
       "    <tr>\n",
       "      <th>165982</th>\n",
       "      <td>47116</td>\n",
       "      <td>22316</td>\n",
       "      <td>p09/p099999/p099999-2117-12-31-19-07</td>\n",
       "      <td>3772060_0005</td>\n",
       "    </tr>\n",
       "  </tbody>\n",
       "</table>\n",
       "<p>165983 rows × 4 columns</p>\n",
       "</div>"
      ],
      "text/plain": [
       "        index      0                                     1             2\n",
       "0           0      4  p00/p000052/p000052-2191-01-10-02-21  3238451_0005\n",
       "1           1      5  p00/p000052/p000052-2191-01-10-12-15  3533390_0001\n",
       "2           2      5  p00/p000052/p000052-2191-01-10-12-15  3533390_0003\n",
       "3           3      5  p00/p000052/p000052-2191-01-10-12-15  3533390_0004\n",
       "4           4      5  p00/p000052/p000052-2191-01-10-12-15  3533390_0007\n",
       "...       ...    ...                                   ...           ...\n",
       "165978  47112  22315  p09/p099992/p099992-2144-07-25-20-39  3301572_0035\n",
       "165979  47113  22315  p09/p099992/p099992-2144-07-25-20-39  3301572_0037\n",
       "165980  47114  22315  p09/p099992/p099992-2144-07-25-20-39  3301572_0039\n",
       "165981  47115  22316  p09/p099999/p099999-2117-12-31-19-07  3772060_0001\n",
       "165982  47116  22316  p09/p099999/p099999-2117-12-31-19-07  3772060_0005\n",
       "\n",
       "[165983 rows x 4 columns]"
      ]
     },
     "execution_count": 22,
     "metadata": {},
     "output_type": "execute_result"
    }
   ],
   "source": [
    "df"
   ]
  },
  {
   "cell_type": "code",
   "execution_count": 23,
   "id": "a76c3a59",
   "metadata": {},
   "outputs": [],
   "source": [
    "df.drop('index', axis=1, inplace=True)"
   ]
  },
  {
   "cell_type": "code",
   "execution_count": 24,
   "id": "5a035bcd",
   "metadata": {},
   "outputs": [
    {
     "data": {
      "text/html": [
       "<div>\n",
       "<style scoped>\n",
       "    .dataframe tbody tr th:only-of-type {\n",
       "        vertical-align: middle;\n",
       "    }\n",
       "\n",
       "    .dataframe tbody tr th {\n",
       "        vertical-align: top;\n",
       "    }\n",
       "\n",
       "    .dataframe thead th {\n",
       "        text-align: right;\n",
       "    }\n",
       "</style>\n",
       "<table border=\"1\" class=\"dataframe\">\n",
       "  <thead>\n",
       "    <tr style=\"text-align: right;\">\n",
       "      <th></th>\n",
       "      <th>0</th>\n",
       "      <th>1</th>\n",
       "      <th>2</th>\n",
       "    </tr>\n",
       "  </thead>\n",
       "  <tbody>\n",
       "    <tr>\n",
       "      <th>0</th>\n",
       "      <td>4</td>\n",
       "      <td>p00/p000052/p000052-2191-01-10-02-21</td>\n",
       "      <td>3238451_0005</td>\n",
       "    </tr>\n",
       "    <tr>\n",
       "      <th>1</th>\n",
       "      <td>5</td>\n",
       "      <td>p00/p000052/p000052-2191-01-10-12-15</td>\n",
       "      <td>3533390_0001</td>\n",
       "    </tr>\n",
       "    <tr>\n",
       "      <th>2</th>\n",
       "      <td>5</td>\n",
       "      <td>p00/p000052/p000052-2191-01-10-12-15</td>\n",
       "      <td>3533390_0003</td>\n",
       "    </tr>\n",
       "    <tr>\n",
       "      <th>3</th>\n",
       "      <td>5</td>\n",
       "      <td>p00/p000052/p000052-2191-01-10-12-15</td>\n",
       "      <td>3533390_0004</td>\n",
       "    </tr>\n",
       "    <tr>\n",
       "      <th>4</th>\n",
       "      <td>5</td>\n",
       "      <td>p00/p000052/p000052-2191-01-10-12-15</td>\n",
       "      <td>3533390_0007</td>\n",
       "    </tr>\n",
       "    <tr>\n",
       "      <th>...</th>\n",
       "      <td>...</td>\n",
       "      <td>...</td>\n",
       "      <td>...</td>\n",
       "    </tr>\n",
       "    <tr>\n",
       "      <th>165978</th>\n",
       "      <td>22315</td>\n",
       "      <td>p09/p099992/p099992-2144-07-25-20-39</td>\n",
       "      <td>3301572_0035</td>\n",
       "    </tr>\n",
       "    <tr>\n",
       "      <th>165979</th>\n",
       "      <td>22315</td>\n",
       "      <td>p09/p099992/p099992-2144-07-25-20-39</td>\n",
       "      <td>3301572_0037</td>\n",
       "    </tr>\n",
       "    <tr>\n",
       "      <th>165980</th>\n",
       "      <td>22315</td>\n",
       "      <td>p09/p099992/p099992-2144-07-25-20-39</td>\n",
       "      <td>3301572_0039</td>\n",
       "    </tr>\n",
       "    <tr>\n",
       "      <th>165981</th>\n",
       "      <td>22316</td>\n",
       "      <td>p09/p099999/p099999-2117-12-31-19-07</td>\n",
       "      <td>3772060_0001</td>\n",
       "    </tr>\n",
       "    <tr>\n",
       "      <th>165982</th>\n",
       "      <td>22316</td>\n",
       "      <td>p09/p099999/p099999-2117-12-31-19-07</td>\n",
       "      <td>3772060_0005</td>\n",
       "    </tr>\n",
       "  </tbody>\n",
       "</table>\n",
       "<p>165983 rows × 3 columns</p>\n",
       "</div>"
      ],
      "text/plain": [
       "            0                                     1             2\n",
       "0           4  p00/p000052/p000052-2191-01-10-02-21  3238451_0005\n",
       "1           5  p00/p000052/p000052-2191-01-10-12-15  3533390_0001\n",
       "2           5  p00/p000052/p000052-2191-01-10-12-15  3533390_0003\n",
       "3           5  p00/p000052/p000052-2191-01-10-12-15  3533390_0004\n",
       "4           5  p00/p000052/p000052-2191-01-10-12-15  3533390_0007\n",
       "...       ...                                   ...           ...\n",
       "165978  22315  p09/p099992/p099992-2144-07-25-20-39  3301572_0035\n",
       "165979  22315  p09/p099992/p099992-2144-07-25-20-39  3301572_0037\n",
       "165980  22315  p09/p099992/p099992-2144-07-25-20-39  3301572_0039\n",
       "165981  22316  p09/p099999/p099999-2117-12-31-19-07  3772060_0001\n",
       "165982  22316  p09/p099999/p099999-2117-12-31-19-07  3772060_0005\n",
       "\n",
       "[165983 rows x 3 columns]"
      ]
     },
     "execution_count": 24,
     "metadata": {},
     "output_type": "execute_result"
    }
   ],
   "source": [
    "df"
   ]
  },
  {
   "cell_type": "code",
   "execution_count": null,
   "id": "f9b51220",
   "metadata": {},
   "outputs": [],
   "source": []
  },
  {
   "cell_type": "code",
   "execution_count": null,
   "id": "36f3f228",
   "metadata": {},
   "outputs": [],
   "source": []
  },
  {
   "cell_type": "code",
   "execution_count": 25,
   "id": "35ca5f62",
   "metadata": {},
   "outputs": [],
   "source": [
    "directory = [y[0] + '/' + y[1] + '/' for y in [x.split('/') for x in df.iloc[:,1]]]\n",
    "#directory"
   ]
  },
  {
   "cell_type": "code",
   "execution_count": 26,
   "id": "ba837323",
   "metadata": {},
   "outputs": [],
   "source": [
    "matched_record = [y[2] for y in [x.split('/') for x in df.iloc[:,1]]]\n",
    "#matched_record"
   ]
  },
  {
   "cell_type": "code",
   "execution_count": 27,
   "id": "466d1a65",
   "metadata": {},
   "outputs": [],
   "source": [
    "user_id = [int(y[1][1:]) for y in [x.split('/') for x in df.iloc[:,1]]]\n",
    "#user_id"
   ]
  },
  {
   "cell_type": "code",
   "execution_count": 28,
   "id": "85ab1c86",
   "metadata": {},
   "outputs": [],
   "source": [
    "df.insert(loc=1, column='directory', value=directory)"
   ]
  },
  {
   "cell_type": "code",
   "execution_count": 29,
   "id": "6ce099e9",
   "metadata": {},
   "outputs": [
    {
     "data": {
      "text/html": [
       "<div>\n",
       "<style scoped>\n",
       "    .dataframe tbody tr th:only-of-type {\n",
       "        vertical-align: middle;\n",
       "    }\n",
       "\n",
       "    .dataframe tbody tr th {\n",
       "        vertical-align: top;\n",
       "    }\n",
       "\n",
       "    .dataframe thead th {\n",
       "        text-align: right;\n",
       "    }\n",
       "</style>\n",
       "<table border=\"1\" class=\"dataframe\">\n",
       "  <thead>\n",
       "    <tr style=\"text-align: right;\">\n",
       "      <th></th>\n",
       "      <th>0</th>\n",
       "      <th>directory</th>\n",
       "      <th>1</th>\n",
       "      <th>2</th>\n",
       "    </tr>\n",
       "  </thead>\n",
       "  <tbody>\n",
       "    <tr>\n",
       "      <th>0</th>\n",
       "      <td>4</td>\n",
       "      <td>p00/p000052/</td>\n",
       "      <td>p00/p000052/p000052-2191-01-10-02-21</td>\n",
       "      <td>3238451_0005</td>\n",
       "    </tr>\n",
       "    <tr>\n",
       "      <th>1</th>\n",
       "      <td>5</td>\n",
       "      <td>p00/p000052/</td>\n",
       "      <td>p00/p000052/p000052-2191-01-10-12-15</td>\n",
       "      <td>3533390_0001</td>\n",
       "    </tr>\n",
       "    <tr>\n",
       "      <th>2</th>\n",
       "      <td>5</td>\n",
       "      <td>p00/p000052/</td>\n",
       "      <td>p00/p000052/p000052-2191-01-10-12-15</td>\n",
       "      <td>3533390_0003</td>\n",
       "    </tr>\n",
       "    <tr>\n",
       "      <th>3</th>\n",
       "      <td>5</td>\n",
       "      <td>p00/p000052/</td>\n",
       "      <td>p00/p000052/p000052-2191-01-10-12-15</td>\n",
       "      <td>3533390_0004</td>\n",
       "    </tr>\n",
       "    <tr>\n",
       "      <th>4</th>\n",
       "      <td>5</td>\n",
       "      <td>p00/p000052/</td>\n",
       "      <td>p00/p000052/p000052-2191-01-10-12-15</td>\n",
       "      <td>3533390_0007</td>\n",
       "    </tr>\n",
       "  </tbody>\n",
       "</table>\n",
       "</div>"
      ],
      "text/plain": [
       "   0     directory                                     1             2\n",
       "0  4  p00/p000052/  p00/p000052/p000052-2191-01-10-02-21  3238451_0005\n",
       "1  5  p00/p000052/  p00/p000052/p000052-2191-01-10-12-15  3533390_0001\n",
       "2  5  p00/p000052/  p00/p000052/p000052-2191-01-10-12-15  3533390_0003\n",
       "3  5  p00/p000052/  p00/p000052/p000052-2191-01-10-12-15  3533390_0004\n",
       "4  5  p00/p000052/  p00/p000052/p000052-2191-01-10-12-15  3533390_0007"
      ]
     },
     "execution_count": 29,
     "metadata": {},
     "output_type": "execute_result"
    }
   ],
   "source": [
    "df.head()"
   ]
  },
  {
   "cell_type": "code",
   "execution_count": 30,
   "id": "aae66b91",
   "metadata": {},
   "outputs": [],
   "source": [
    "df.insert(loc=2, column='matched_record', value=matched_record)"
   ]
  },
  {
   "cell_type": "code",
   "execution_count": 31,
   "id": "f0b807e2",
   "metadata": {},
   "outputs": [
    {
     "data": {
      "text/html": [
       "<div>\n",
       "<style scoped>\n",
       "    .dataframe tbody tr th:only-of-type {\n",
       "        vertical-align: middle;\n",
       "    }\n",
       "\n",
       "    .dataframe tbody tr th {\n",
       "        vertical-align: top;\n",
       "    }\n",
       "\n",
       "    .dataframe thead th {\n",
       "        text-align: right;\n",
       "    }\n",
       "</style>\n",
       "<table border=\"1\" class=\"dataframe\">\n",
       "  <thead>\n",
       "    <tr style=\"text-align: right;\">\n",
       "      <th></th>\n",
       "      <th>0</th>\n",
       "      <th>directory</th>\n",
       "      <th>matched_record</th>\n",
       "      <th>1</th>\n",
       "      <th>2</th>\n",
       "    </tr>\n",
       "  </thead>\n",
       "  <tbody>\n",
       "    <tr>\n",
       "      <th>0</th>\n",
       "      <td>4</td>\n",
       "      <td>p00/p000052/</td>\n",
       "      <td>p000052-2191-01-10-02-21</td>\n",
       "      <td>p00/p000052/p000052-2191-01-10-02-21</td>\n",
       "      <td>3238451_0005</td>\n",
       "    </tr>\n",
       "    <tr>\n",
       "      <th>1</th>\n",
       "      <td>5</td>\n",
       "      <td>p00/p000052/</td>\n",
       "      <td>p000052-2191-01-10-12-15</td>\n",
       "      <td>p00/p000052/p000052-2191-01-10-12-15</td>\n",
       "      <td>3533390_0001</td>\n",
       "    </tr>\n",
       "    <tr>\n",
       "      <th>2</th>\n",
       "      <td>5</td>\n",
       "      <td>p00/p000052/</td>\n",
       "      <td>p000052-2191-01-10-12-15</td>\n",
       "      <td>p00/p000052/p000052-2191-01-10-12-15</td>\n",
       "      <td>3533390_0003</td>\n",
       "    </tr>\n",
       "    <tr>\n",
       "      <th>3</th>\n",
       "      <td>5</td>\n",
       "      <td>p00/p000052/</td>\n",
       "      <td>p000052-2191-01-10-12-15</td>\n",
       "      <td>p00/p000052/p000052-2191-01-10-12-15</td>\n",
       "      <td>3533390_0004</td>\n",
       "    </tr>\n",
       "    <tr>\n",
       "      <th>4</th>\n",
       "      <td>5</td>\n",
       "      <td>p00/p000052/</td>\n",
       "      <td>p000052-2191-01-10-12-15</td>\n",
       "      <td>p00/p000052/p000052-2191-01-10-12-15</td>\n",
       "      <td>3533390_0007</td>\n",
       "    </tr>\n",
       "  </tbody>\n",
       "</table>\n",
       "</div>"
      ],
      "text/plain": [
       "   0     directory            matched_record  \\\n",
       "0  4  p00/p000052/  p000052-2191-01-10-02-21   \n",
       "1  5  p00/p000052/  p000052-2191-01-10-12-15   \n",
       "2  5  p00/p000052/  p000052-2191-01-10-12-15   \n",
       "3  5  p00/p000052/  p000052-2191-01-10-12-15   \n",
       "4  5  p00/p000052/  p000052-2191-01-10-12-15   \n",
       "\n",
       "                                      1             2  \n",
       "0  p00/p000052/p000052-2191-01-10-02-21  3238451_0005  \n",
       "1  p00/p000052/p000052-2191-01-10-12-15  3533390_0001  \n",
       "2  p00/p000052/p000052-2191-01-10-12-15  3533390_0003  \n",
       "3  p00/p000052/p000052-2191-01-10-12-15  3533390_0004  \n",
       "4  p00/p000052/p000052-2191-01-10-12-15  3533390_0007  "
      ]
     },
     "execution_count": 31,
     "metadata": {},
     "output_type": "execute_result"
    }
   ],
   "source": [
    "df.head()"
   ]
  },
  {
   "cell_type": "code",
   "execution_count": 32,
   "id": "abaf6d8b",
   "metadata": {},
   "outputs": [],
   "source": [
    "df.insert(loc=1, column='user_id', value=user_id)"
   ]
  },
  {
   "cell_type": "code",
   "execution_count": 33,
   "id": "1170bd71",
   "metadata": {},
   "outputs": [
    {
     "data": {
      "text/html": [
       "<div>\n",
       "<style scoped>\n",
       "    .dataframe tbody tr th:only-of-type {\n",
       "        vertical-align: middle;\n",
       "    }\n",
       "\n",
       "    .dataframe tbody tr th {\n",
       "        vertical-align: top;\n",
       "    }\n",
       "\n",
       "    .dataframe thead th {\n",
       "        text-align: right;\n",
       "    }\n",
       "</style>\n",
       "<table border=\"1\" class=\"dataframe\">\n",
       "  <thead>\n",
       "    <tr style=\"text-align: right;\">\n",
       "      <th></th>\n",
       "      <th>0</th>\n",
       "      <th>1</th>\n",
       "      <th>2</th>\n",
       "    </tr>\n",
       "  </thead>\n",
       "  <tbody>\n",
       "    <tr>\n",
       "      <th>0</th>\n",
       "      <td>4</td>\n",
       "      <td>p00/p000052/p000052-2191-01-10-02-21</td>\n",
       "      <td>3238451_0005</td>\n",
       "    </tr>\n",
       "    <tr>\n",
       "      <th>1</th>\n",
       "      <td>5</td>\n",
       "      <td>p00/p000052/p000052-2191-01-10-12-15</td>\n",
       "      <td>3533390_0001</td>\n",
       "    </tr>\n",
       "    <tr>\n",
       "      <th>2</th>\n",
       "      <td>5</td>\n",
       "      <td>p00/p000052/p000052-2191-01-10-12-15</td>\n",
       "      <td>3533390_0003</td>\n",
       "    </tr>\n",
       "    <tr>\n",
       "      <th>3</th>\n",
       "      <td>5</td>\n",
       "      <td>p00/p000052/p000052-2191-01-10-12-15</td>\n",
       "      <td>3533390_0004</td>\n",
       "    </tr>\n",
       "    <tr>\n",
       "      <th>4</th>\n",
       "      <td>5</td>\n",
       "      <td>p00/p000052/p000052-2191-01-10-12-15</td>\n",
       "      <td>3533390_0007</td>\n",
       "    </tr>\n",
       "  </tbody>\n",
       "</table>\n",
       "</div>"
      ],
      "text/plain": [
       "   0                                     1             2\n",
       "0  4  p00/p000052/p000052-2191-01-10-02-21  3238451_0005\n",
       "1  5  p00/p000052/p000052-2191-01-10-12-15  3533390_0001\n",
       "2  5  p00/p000052/p000052-2191-01-10-12-15  3533390_0003\n",
       "3  5  p00/p000052/p000052-2191-01-10-12-15  3533390_0004\n",
       "4  5  p00/p000052/p000052-2191-01-10-12-15  3533390_0007"
      ]
     },
     "execution_count": 33,
     "metadata": {},
     "output_type": "execute_result"
    }
   ],
   "source": [
    "df[[0,1,2]].head()"
   ]
  },
  {
   "cell_type": "code",
   "execution_count": 34,
   "id": "61c2e9de",
   "metadata": {},
   "outputs": [],
   "source": [
    "# drop columns withe name 0 and 1 (as integers)\n",
    "df.drop([0,1], axis=1, inplace=True)"
   ]
  },
  {
   "cell_type": "code",
   "execution_count": 35,
   "id": "db3800b7",
   "metadata": {},
   "outputs": [
    {
     "data": {
      "text/html": [
       "<div>\n",
       "<style scoped>\n",
       "    .dataframe tbody tr th:only-of-type {\n",
       "        vertical-align: middle;\n",
       "    }\n",
       "\n",
       "    .dataframe tbody tr th {\n",
       "        vertical-align: top;\n",
       "    }\n",
       "\n",
       "    .dataframe thead th {\n",
       "        text-align: right;\n",
       "    }\n",
       "</style>\n",
       "<table border=\"1\" class=\"dataframe\">\n",
       "  <thead>\n",
       "    <tr style=\"text-align: right;\">\n",
       "      <th></th>\n",
       "      <th>user_id</th>\n",
       "      <th>directory</th>\n",
       "      <th>matched_record</th>\n",
       "      <th>2</th>\n",
       "    </tr>\n",
       "  </thead>\n",
       "  <tbody>\n",
       "    <tr>\n",
       "      <th>0</th>\n",
       "      <td>52</td>\n",
       "      <td>p00/p000052/</td>\n",
       "      <td>p000052-2191-01-10-02-21</td>\n",
       "      <td>3238451_0005</td>\n",
       "    </tr>\n",
       "    <tr>\n",
       "      <th>1</th>\n",
       "      <td>52</td>\n",
       "      <td>p00/p000052/</td>\n",
       "      <td>p000052-2191-01-10-12-15</td>\n",
       "      <td>3533390_0001</td>\n",
       "    </tr>\n",
       "    <tr>\n",
       "      <th>2</th>\n",
       "      <td>52</td>\n",
       "      <td>p00/p000052/</td>\n",
       "      <td>p000052-2191-01-10-12-15</td>\n",
       "      <td>3533390_0003</td>\n",
       "    </tr>\n",
       "    <tr>\n",
       "      <th>3</th>\n",
       "      <td>52</td>\n",
       "      <td>p00/p000052/</td>\n",
       "      <td>p000052-2191-01-10-12-15</td>\n",
       "      <td>3533390_0004</td>\n",
       "    </tr>\n",
       "    <tr>\n",
       "      <th>4</th>\n",
       "      <td>52</td>\n",
       "      <td>p00/p000052/</td>\n",
       "      <td>p000052-2191-01-10-12-15</td>\n",
       "      <td>3533390_0007</td>\n",
       "    </tr>\n",
       "  </tbody>\n",
       "</table>\n",
       "</div>"
      ],
      "text/plain": [
       "   user_id     directory            matched_record             2\n",
       "0       52  p00/p000052/  p000052-2191-01-10-02-21  3238451_0005\n",
       "1       52  p00/p000052/  p000052-2191-01-10-12-15  3533390_0001\n",
       "2       52  p00/p000052/  p000052-2191-01-10-12-15  3533390_0003\n",
       "3       52  p00/p000052/  p000052-2191-01-10-12-15  3533390_0004\n",
       "4       52  p00/p000052/  p000052-2191-01-10-12-15  3533390_0007"
      ]
     },
     "execution_count": 35,
     "metadata": {},
     "output_type": "execute_result"
    }
   ],
   "source": [
    "df.head()"
   ]
  },
  {
   "cell_type": "code",
   "execution_count": 36,
   "id": "ba444f70",
   "metadata": {},
   "outputs": [],
   "source": [
    "df.columns = ['user_id', 'directory', 'matched_record', 'record_segment']"
   ]
  },
  {
   "cell_type": "code",
   "execution_count": 37,
   "id": "f3ce67c2",
   "metadata": {},
   "outputs": [
    {
     "data": {
      "text/html": [
       "<div>\n",
       "<style scoped>\n",
       "    .dataframe tbody tr th:only-of-type {\n",
       "        vertical-align: middle;\n",
       "    }\n",
       "\n",
       "    .dataframe tbody tr th {\n",
       "        vertical-align: top;\n",
       "    }\n",
       "\n",
       "    .dataframe thead th {\n",
       "        text-align: right;\n",
       "    }\n",
       "</style>\n",
       "<table border=\"1\" class=\"dataframe\">\n",
       "  <thead>\n",
       "    <tr style=\"text-align: right;\">\n",
       "      <th></th>\n",
       "      <th>user_id</th>\n",
       "      <th>directory</th>\n",
       "      <th>matched_record</th>\n",
       "      <th>record_segment</th>\n",
       "    </tr>\n",
       "  </thead>\n",
       "  <tbody>\n",
       "    <tr>\n",
       "      <th>0</th>\n",
       "      <td>52</td>\n",
       "      <td>p00/p000052/</td>\n",
       "      <td>p000052-2191-01-10-02-21</td>\n",
       "      <td>3238451_0005</td>\n",
       "    </tr>\n",
       "    <tr>\n",
       "      <th>1</th>\n",
       "      <td>52</td>\n",
       "      <td>p00/p000052/</td>\n",
       "      <td>p000052-2191-01-10-12-15</td>\n",
       "      <td>3533390_0001</td>\n",
       "    </tr>\n",
       "    <tr>\n",
       "      <th>2</th>\n",
       "      <td>52</td>\n",
       "      <td>p00/p000052/</td>\n",
       "      <td>p000052-2191-01-10-12-15</td>\n",
       "      <td>3533390_0003</td>\n",
       "    </tr>\n",
       "    <tr>\n",
       "      <th>3</th>\n",
       "      <td>52</td>\n",
       "      <td>p00/p000052/</td>\n",
       "      <td>p000052-2191-01-10-12-15</td>\n",
       "      <td>3533390_0004</td>\n",
       "    </tr>\n",
       "    <tr>\n",
       "      <th>4</th>\n",
       "      <td>52</td>\n",
       "      <td>p00/p000052/</td>\n",
       "      <td>p000052-2191-01-10-12-15</td>\n",
       "      <td>3533390_0007</td>\n",
       "    </tr>\n",
       "  </tbody>\n",
       "</table>\n",
       "</div>"
      ],
      "text/plain": [
       "   user_id     directory            matched_record record_segment\n",
       "0       52  p00/p000052/  p000052-2191-01-10-02-21   3238451_0005\n",
       "1       52  p00/p000052/  p000052-2191-01-10-12-15   3533390_0001\n",
       "2       52  p00/p000052/  p000052-2191-01-10-12-15   3533390_0003\n",
       "3       52  p00/p000052/  p000052-2191-01-10-12-15   3533390_0004\n",
       "4       52  p00/p000052/  p000052-2191-01-10-12-15   3533390_0007"
      ]
     },
     "execution_count": 37,
     "metadata": {},
     "output_type": "execute_result"
    }
   ],
   "source": [
    "df.head()"
   ]
  },
  {
   "cell_type": "code",
   "execution_count": 38,
   "id": "cb575e3d",
   "metadata": {},
   "outputs": [],
   "source": [
    "df_selections = df.groupby(df.loc[:,'matched_record'],as_index=False).agg(list)"
   ]
  },
  {
   "cell_type": "code",
   "execution_count": 39,
   "id": "4863b696",
   "metadata": {},
   "outputs": [
    {
     "data": {
      "text/html": [
       "<div>\n",
       "<style scoped>\n",
       "    .dataframe tbody tr th:only-of-type {\n",
       "        vertical-align: middle;\n",
       "    }\n",
       "\n",
       "    .dataframe tbody tr th {\n",
       "        vertical-align: top;\n",
       "    }\n",
       "\n",
       "    .dataframe thead th {\n",
       "        text-align: right;\n",
       "    }\n",
       "</style>\n",
       "<table border=\"1\" class=\"dataframe\">\n",
       "  <thead>\n",
       "    <tr style=\"text-align: right;\">\n",
       "      <th></th>\n",
       "      <th>matched_record</th>\n",
       "      <th>user_id</th>\n",
       "      <th>directory</th>\n",
       "      <th>record_segment</th>\n",
       "    </tr>\n",
       "  </thead>\n",
       "  <tbody>\n",
       "    <tr>\n",
       "      <th>0</th>\n",
       "      <td>p000052-2191-01-10-02-21</td>\n",
       "      <td>[52]</td>\n",
       "      <td>[p00/p000052/]</td>\n",
       "      <td>[3238451_0005]</td>\n",
       "    </tr>\n",
       "    <tr>\n",
       "      <th>1</th>\n",
       "      <td>p000052-2191-01-10-12-15</td>\n",
       "      <td>[52, 52, 52, 52, 52, 52, 52, 52, 52]</td>\n",
       "      <td>[p00/p000052/, p00/p000052/, p00/p000052/, p00...</td>\n",
       "      <td>[3533390_0001, 3533390_0003, 3533390_0004, 353...</td>\n",
       "    </tr>\n",
       "    <tr>\n",
       "      <th>2</th>\n",
       "      <td>p000107-2121-11-30-20-03</td>\n",
       "      <td>[107, 107, 107, 107, 107, 107, 107, 107, 107, ...</td>\n",
       "      <td>[p00/p000107/, p00/p000107/, p00/p000107/, p00...</td>\n",
       "      <td>[3805787_0005, 3805787_0008, 3805787_0011, 380...</td>\n",
       "    </tr>\n",
       "    <tr>\n",
       "      <th>3</th>\n",
       "      <td>p000107-2122-05-14-21-01</td>\n",
       "      <td>[107, 107, 107, 107, 107, 107, 107, 107, 107, ...</td>\n",
       "      <td>[p00/p000107/, p00/p000107/, p00/p000107/, p00...</td>\n",
       "      <td>[3860035_0001, 3860035_0004, 3860035_0006, 386...</td>\n",
       "    </tr>\n",
       "    <tr>\n",
       "      <th>4</th>\n",
       "      <td>p000107-2123-07-26-03-10</td>\n",
       "      <td>[107, 107, 107, 107, 107, 107, 107]</td>\n",
       "      <td>[p00/p000107/, p00/p000107/, p00/p000107/, p00...</td>\n",
       "      <td>[3746356_0006, 3746356_0008, 3746356_0012, 374...</td>\n",
       "    </tr>\n",
       "    <tr>\n",
       "      <th>...</th>\n",
       "      <td>...</td>\n",
       "      <td>...</td>\n",
       "      <td>...</td>\n",
       "      <td>...</td>\n",
       "    </tr>\n",
       "    <tr>\n",
       "      <th>13555</th>\n",
       "      <td>p099982-2157-01-06-16-31</td>\n",
       "      <td>[99982, 99982, 99982, 99982, 99982, 99982, 999...</td>\n",
       "      <td>[p09/p099982/, p09/p099982/, p09/p099982/, p09...</td>\n",
       "      <td>[3917821_0009, 3917821_0012, 3917821_0013, 391...</td>\n",
       "    </tr>\n",
       "    <tr>\n",
       "      <th>13556</th>\n",
       "      <td>p099982-2157-02-16-17-37</td>\n",
       "      <td>[99982, 99982, 99982]</td>\n",
       "      <td>[p09/p099982/, p09/p099982/, p09/p099982/]</td>\n",
       "      <td>[3919253_0002, 3919253_0004, 3919253_0006]</td>\n",
       "    </tr>\n",
       "    <tr>\n",
       "      <th>13557</th>\n",
       "      <td>p099983-2193-04-26-12-01</td>\n",
       "      <td>[99983, 99983, 99983, 99983, 99983]</td>\n",
       "      <td>[p09/p099983/, p09/p099983/, p09/p099983/, p09...</td>\n",
       "      <td>[3757366_0004, 3757366_0006, 3757366_0007, 375...</td>\n",
       "    </tr>\n",
       "    <tr>\n",
       "      <th>13558</th>\n",
       "      <td>p099992-2144-07-25-20-39</td>\n",
       "      <td>[99992, 99992, 99992, 99992, 99992, 99992, 999...</td>\n",
       "      <td>[p09/p099992/, p09/p099992/, p09/p099992/, p09...</td>\n",
       "      <td>[3301572_0005, 3301572_0007, 3301572_0024, 330...</td>\n",
       "    </tr>\n",
       "    <tr>\n",
       "      <th>13559</th>\n",
       "      <td>p099999-2117-12-31-19-07</td>\n",
       "      <td>[99999, 99999]</td>\n",
       "      <td>[p09/p099999/, p09/p099999/]</td>\n",
       "      <td>[3772060_0001, 3772060_0005]</td>\n",
       "    </tr>\n",
       "  </tbody>\n",
       "</table>\n",
       "<p>13560 rows × 4 columns</p>\n",
       "</div>"
      ],
      "text/plain": [
       "                 matched_record  \\\n",
       "0      p000052-2191-01-10-02-21   \n",
       "1      p000052-2191-01-10-12-15   \n",
       "2      p000107-2121-11-30-20-03   \n",
       "3      p000107-2122-05-14-21-01   \n",
       "4      p000107-2123-07-26-03-10   \n",
       "...                         ...   \n",
       "13555  p099982-2157-01-06-16-31   \n",
       "13556  p099982-2157-02-16-17-37   \n",
       "13557  p099983-2193-04-26-12-01   \n",
       "13558  p099992-2144-07-25-20-39   \n",
       "13559  p099999-2117-12-31-19-07   \n",
       "\n",
       "                                                 user_id  \\\n",
       "0                                                   [52]   \n",
       "1                   [52, 52, 52, 52, 52, 52, 52, 52, 52]   \n",
       "2      [107, 107, 107, 107, 107, 107, 107, 107, 107, ...   \n",
       "3      [107, 107, 107, 107, 107, 107, 107, 107, 107, ...   \n",
       "4                    [107, 107, 107, 107, 107, 107, 107]   \n",
       "...                                                  ...   \n",
       "13555  [99982, 99982, 99982, 99982, 99982, 99982, 999...   \n",
       "13556                              [99982, 99982, 99982]   \n",
       "13557                [99983, 99983, 99983, 99983, 99983]   \n",
       "13558  [99992, 99992, 99992, 99992, 99992, 99992, 999...   \n",
       "13559                                     [99999, 99999]   \n",
       "\n",
       "                                               directory  \\\n",
       "0                                         [p00/p000052/]   \n",
       "1      [p00/p000052/, p00/p000052/, p00/p000052/, p00...   \n",
       "2      [p00/p000107/, p00/p000107/, p00/p000107/, p00...   \n",
       "3      [p00/p000107/, p00/p000107/, p00/p000107/, p00...   \n",
       "4      [p00/p000107/, p00/p000107/, p00/p000107/, p00...   \n",
       "...                                                  ...   \n",
       "13555  [p09/p099982/, p09/p099982/, p09/p099982/, p09...   \n",
       "13556         [p09/p099982/, p09/p099982/, p09/p099982/]   \n",
       "13557  [p09/p099983/, p09/p099983/, p09/p099983/, p09...   \n",
       "13558  [p09/p099992/, p09/p099992/, p09/p099992/, p09...   \n",
       "13559                       [p09/p099999/, p09/p099999/]   \n",
       "\n",
       "                                          record_segment  \n",
       "0                                         [3238451_0005]  \n",
       "1      [3533390_0001, 3533390_0003, 3533390_0004, 353...  \n",
       "2      [3805787_0005, 3805787_0008, 3805787_0011, 380...  \n",
       "3      [3860035_0001, 3860035_0004, 3860035_0006, 386...  \n",
       "4      [3746356_0006, 3746356_0008, 3746356_0012, 374...  \n",
       "...                                                  ...  \n",
       "13555  [3917821_0009, 3917821_0012, 3917821_0013, 391...  \n",
       "13556         [3919253_0002, 3919253_0004, 3919253_0006]  \n",
       "13557  [3757366_0004, 3757366_0006, 3757366_0007, 375...  \n",
       "13558  [3301572_0005, 3301572_0007, 3301572_0024, 330...  \n",
       "13559                       [3772060_0001, 3772060_0005]  \n",
       "\n",
       "[13560 rows x 4 columns]"
      ]
     },
     "execution_count": 39,
     "metadata": {},
     "output_type": "execute_result"
    }
   ],
   "source": [
    "df_selections"
   ]
  },
  {
   "cell_type": "code",
   "execution_count": 40,
   "id": "ab38b846",
   "metadata": {},
   "outputs": [],
   "source": [
    "df_selections['user_id'] = [x[0] for x in df_selections['user_id']]"
   ]
  },
  {
   "cell_type": "code",
   "execution_count": 41,
   "id": "c171e07f",
   "metadata": {},
   "outputs": [],
   "source": [
    "df_selections['directory'] = [x[0] for x in df_selections['directory']]"
   ]
  },
  {
   "cell_type": "code",
   "execution_count": 42,
   "id": "d2a2ac00",
   "metadata": {},
   "outputs": [
    {
     "data": {
      "text/html": [
       "<div>\n",
       "<style scoped>\n",
       "    .dataframe tbody tr th:only-of-type {\n",
       "        vertical-align: middle;\n",
       "    }\n",
       "\n",
       "    .dataframe tbody tr th {\n",
       "        vertical-align: top;\n",
       "    }\n",
       "\n",
       "    .dataframe thead th {\n",
       "        text-align: right;\n",
       "    }\n",
       "</style>\n",
       "<table border=\"1\" class=\"dataframe\">\n",
       "  <thead>\n",
       "    <tr style=\"text-align: right;\">\n",
       "      <th></th>\n",
       "      <th>matched_record</th>\n",
       "      <th>user_id</th>\n",
       "      <th>directory</th>\n",
       "      <th>record_segment</th>\n",
       "    </tr>\n",
       "  </thead>\n",
       "  <tbody>\n",
       "    <tr>\n",
       "      <th>0</th>\n",
       "      <td>p000052-2191-01-10-02-21</td>\n",
       "      <td>52</td>\n",
       "      <td>p00/p000052/</td>\n",
       "      <td>[3238451_0005]</td>\n",
       "    </tr>\n",
       "    <tr>\n",
       "      <th>1</th>\n",
       "      <td>p000052-2191-01-10-12-15</td>\n",
       "      <td>52</td>\n",
       "      <td>p00/p000052/</td>\n",
       "      <td>[3533390_0001, 3533390_0003, 3533390_0004, 353...</td>\n",
       "    </tr>\n",
       "    <tr>\n",
       "      <th>2</th>\n",
       "      <td>p000107-2121-11-30-20-03</td>\n",
       "      <td>107</td>\n",
       "      <td>p00/p000107/</td>\n",
       "      <td>[3805787_0005, 3805787_0008, 3805787_0011, 380...</td>\n",
       "    </tr>\n",
       "    <tr>\n",
       "      <th>3</th>\n",
       "      <td>p000107-2122-05-14-21-01</td>\n",
       "      <td>107</td>\n",
       "      <td>p00/p000107/</td>\n",
       "      <td>[3860035_0001, 3860035_0004, 3860035_0006, 386...</td>\n",
       "    </tr>\n",
       "    <tr>\n",
       "      <th>4</th>\n",
       "      <td>p000107-2123-07-26-03-10</td>\n",
       "      <td>107</td>\n",
       "      <td>p00/p000107/</td>\n",
       "      <td>[3746356_0006, 3746356_0008, 3746356_0012, 374...</td>\n",
       "    </tr>\n",
       "    <tr>\n",
       "      <th>...</th>\n",
       "      <td>...</td>\n",
       "      <td>...</td>\n",
       "      <td>...</td>\n",
       "      <td>...</td>\n",
       "    </tr>\n",
       "    <tr>\n",
       "      <th>13555</th>\n",
       "      <td>p099982-2157-01-06-16-31</td>\n",
       "      <td>99982</td>\n",
       "      <td>p09/p099982/</td>\n",
       "      <td>[3917821_0009, 3917821_0012, 3917821_0013, 391...</td>\n",
       "    </tr>\n",
       "    <tr>\n",
       "      <th>13556</th>\n",
       "      <td>p099982-2157-02-16-17-37</td>\n",
       "      <td>99982</td>\n",
       "      <td>p09/p099982/</td>\n",
       "      <td>[3919253_0002, 3919253_0004, 3919253_0006]</td>\n",
       "    </tr>\n",
       "    <tr>\n",
       "      <th>13557</th>\n",
       "      <td>p099983-2193-04-26-12-01</td>\n",
       "      <td>99983</td>\n",
       "      <td>p09/p099983/</td>\n",
       "      <td>[3757366_0004, 3757366_0006, 3757366_0007, 375...</td>\n",
       "    </tr>\n",
       "    <tr>\n",
       "      <th>13558</th>\n",
       "      <td>p099992-2144-07-25-20-39</td>\n",
       "      <td>99992</td>\n",
       "      <td>p09/p099992/</td>\n",
       "      <td>[3301572_0005, 3301572_0007, 3301572_0024, 330...</td>\n",
       "    </tr>\n",
       "    <tr>\n",
       "      <th>13559</th>\n",
       "      <td>p099999-2117-12-31-19-07</td>\n",
       "      <td>99999</td>\n",
       "      <td>p09/p099999/</td>\n",
       "      <td>[3772060_0001, 3772060_0005]</td>\n",
       "    </tr>\n",
       "  </tbody>\n",
       "</table>\n",
       "<p>13560 rows × 4 columns</p>\n",
       "</div>"
      ],
      "text/plain": [
       "                 matched_record  user_id     directory  \\\n",
       "0      p000052-2191-01-10-02-21       52  p00/p000052/   \n",
       "1      p000052-2191-01-10-12-15       52  p00/p000052/   \n",
       "2      p000107-2121-11-30-20-03      107  p00/p000107/   \n",
       "3      p000107-2122-05-14-21-01      107  p00/p000107/   \n",
       "4      p000107-2123-07-26-03-10      107  p00/p000107/   \n",
       "...                         ...      ...           ...   \n",
       "13555  p099982-2157-01-06-16-31    99982  p09/p099982/   \n",
       "13556  p099982-2157-02-16-17-37    99982  p09/p099982/   \n",
       "13557  p099983-2193-04-26-12-01    99983  p09/p099983/   \n",
       "13558  p099992-2144-07-25-20-39    99992  p09/p099992/   \n",
       "13559  p099999-2117-12-31-19-07    99999  p09/p099999/   \n",
       "\n",
       "                                          record_segment  \n",
       "0                                         [3238451_0005]  \n",
       "1      [3533390_0001, 3533390_0003, 3533390_0004, 353...  \n",
       "2      [3805787_0005, 3805787_0008, 3805787_0011, 380...  \n",
       "3      [3860035_0001, 3860035_0004, 3860035_0006, 386...  \n",
       "4      [3746356_0006, 3746356_0008, 3746356_0012, 374...  \n",
       "...                                                  ...  \n",
       "13555  [3917821_0009, 3917821_0012, 3917821_0013, 391...  \n",
       "13556         [3919253_0002, 3919253_0004, 3919253_0006]  \n",
       "13557  [3757366_0004, 3757366_0006, 3757366_0007, 375...  \n",
       "13558  [3301572_0005, 3301572_0007, 3301572_0024, 330...  \n",
       "13559                       [3772060_0001, 3772060_0005]  \n",
       "\n",
       "[13560 rows x 4 columns]"
      ]
     },
     "execution_count": 42,
     "metadata": {},
     "output_type": "execute_result"
    }
   ],
   "source": [
    "df_selections"
   ]
  },
  {
   "cell_type": "code",
   "execution_count": 43,
   "id": "a6a5a298",
   "metadata": {},
   "outputs": [
    {
     "data": {
      "text/plain": [
       "6988"
      ]
     },
     "execution_count": 43,
     "metadata": {},
     "output_type": "execute_result"
    }
   ],
   "source": [
    "len(df_selections['user_id'].unique())"
   ]
  },
  {
   "cell_type": "code",
   "execution_count": 44,
   "id": "ceffe3b0",
   "metadata": {},
   "outputs": [
    {
     "data": {
      "text/html": [
       "<div>\n",
       "<style scoped>\n",
       "    .dataframe tbody tr th:only-of-type {\n",
       "        vertical-align: middle;\n",
       "    }\n",
       "\n",
       "    .dataframe tbody tr th {\n",
       "        vertical-align: top;\n",
       "    }\n",
       "\n",
       "    .dataframe thead th {\n",
       "        text-align: right;\n",
       "    }\n",
       "</style>\n",
       "<table border=\"1\" class=\"dataframe\">\n",
       "  <thead>\n",
       "    <tr style=\"text-align: right;\">\n",
       "      <th></th>\n",
       "      <th>matched_record</th>\n",
       "      <th>user_id</th>\n",
       "      <th>directory</th>\n",
       "      <th>record_segment</th>\n",
       "    </tr>\n",
       "  </thead>\n",
       "  <tbody>\n",
       "    <tr>\n",
       "      <th>0</th>\n",
       "      <td>p000052-2191-01-10-02-21</td>\n",
       "      <td>52</td>\n",
       "      <td>p00/p000052/</td>\n",
       "      <td>[3238451_0005]</td>\n",
       "    </tr>\n",
       "    <tr>\n",
       "      <th>1</th>\n",
       "      <td>p000052-2191-01-10-12-15</td>\n",
       "      <td>52</td>\n",
       "      <td>p00/p000052/</td>\n",
       "      <td>[3533390_0001, 3533390_0003, 3533390_0004, 353...</td>\n",
       "    </tr>\n",
       "    <tr>\n",
       "      <th>2</th>\n",
       "      <td>p000107-2121-11-30-20-03</td>\n",
       "      <td>107</td>\n",
       "      <td>p00/p000107/</td>\n",
       "      <td>[3805787_0005, 3805787_0008, 3805787_0011, 380...</td>\n",
       "    </tr>\n",
       "    <tr>\n",
       "      <th>3</th>\n",
       "      <td>p000107-2122-05-14-21-01</td>\n",
       "      <td>107</td>\n",
       "      <td>p00/p000107/</td>\n",
       "      <td>[3860035_0001, 3860035_0004, 3860035_0006, 386...</td>\n",
       "    </tr>\n",
       "    <tr>\n",
       "      <th>4</th>\n",
       "      <td>p000107-2123-07-26-03-10</td>\n",
       "      <td>107</td>\n",
       "      <td>p00/p000107/</td>\n",
       "      <td>[3746356_0006, 3746356_0008, 3746356_0012, 374...</td>\n",
       "    </tr>\n",
       "    <tr>\n",
       "      <th>5</th>\n",
       "      <td>p000109-2141-10-21-02-00</td>\n",
       "      <td>109</td>\n",
       "      <td>p00/p000109/</td>\n",
       "      <td>[3034224_0006, 3034224_0008, 3034224_0010, 303...</td>\n",
       "    </tr>\n",
       "    <tr>\n",
       "      <th>6</th>\n",
       "      <td>p000109-2142-01-14-18-53</td>\n",
       "      <td>109</td>\n",
       "      <td>p00/p000109/</td>\n",
       "      <td>[3407610_0004, 3407610_0006, 3407610_0009, 340...</td>\n",
       "    </tr>\n",
       "    <tr>\n",
       "      <th>7</th>\n",
       "      <td>p000109-2142-01-14-18-57</td>\n",
       "      <td>109</td>\n",
       "      <td>p00/p000109/</td>\n",
       "      <td>[3943625_0004, 3943625_0006, 3943625_0009, 394...</td>\n",
       "    </tr>\n",
       "    <tr>\n",
       "      <th>8</th>\n",
       "      <td>p000109-2142-01-18-10-43</td>\n",
       "      <td>109</td>\n",
       "      <td>p00/p000109/</td>\n",
       "      <td>[3002540_0001, 3002540_0004]</td>\n",
       "    </tr>\n",
       "    <tr>\n",
       "      <th>9</th>\n",
       "      <td>p000109-2142-01-18-16-05</td>\n",
       "      <td>109</td>\n",
       "      <td>p00/p000109/</td>\n",
       "      <td>[3924895_0003]</td>\n",
       "    </tr>\n",
       "  </tbody>\n",
       "</table>\n",
       "</div>"
      ],
      "text/plain": [
       "             matched_record  user_id     directory  \\\n",
       "0  p000052-2191-01-10-02-21       52  p00/p000052/   \n",
       "1  p000052-2191-01-10-12-15       52  p00/p000052/   \n",
       "2  p000107-2121-11-30-20-03      107  p00/p000107/   \n",
       "3  p000107-2122-05-14-21-01      107  p00/p000107/   \n",
       "4  p000107-2123-07-26-03-10      107  p00/p000107/   \n",
       "5  p000109-2141-10-21-02-00      109  p00/p000109/   \n",
       "6  p000109-2142-01-14-18-53      109  p00/p000109/   \n",
       "7  p000109-2142-01-14-18-57      109  p00/p000109/   \n",
       "8  p000109-2142-01-18-10-43      109  p00/p000109/   \n",
       "9  p000109-2142-01-18-16-05      109  p00/p000109/   \n",
       "\n",
       "                                      record_segment  \n",
       "0                                     [3238451_0005]  \n",
       "1  [3533390_0001, 3533390_0003, 3533390_0004, 353...  \n",
       "2  [3805787_0005, 3805787_0008, 3805787_0011, 380...  \n",
       "3  [3860035_0001, 3860035_0004, 3860035_0006, 386...  \n",
       "4  [3746356_0006, 3746356_0008, 3746356_0012, 374...  \n",
       "5  [3034224_0006, 3034224_0008, 3034224_0010, 303...  \n",
       "6  [3407610_0004, 3407610_0006, 3407610_0009, 340...  \n",
       "7  [3943625_0004, 3943625_0006, 3943625_0009, 394...  \n",
       "8                       [3002540_0001, 3002540_0004]  \n",
       "9                                     [3924895_0003]  "
      ]
     },
     "execution_count": 44,
     "metadata": {},
     "output_type": "execute_result"
    }
   ],
   "source": [
    "df_selections.head(10)"
   ]
  },
  {
   "cell_type": "code",
   "execution_count": 53,
   "id": "fc14fdcb",
   "metadata": {},
   "outputs": [
    {
     "data": {
      "text/plain": [
       "'p00/p000052/'"
      ]
     },
     "execution_count": 53,
     "metadata": {},
     "output_type": "execute_result"
    }
   ],
   "source": [
    "directory = df_selections['directory'][0]\n",
    "directory"
   ]
  },
  {
   "cell_type": "code",
   "execution_count": 54,
   "id": "546fc553",
   "metadata": {},
   "outputs": [
    {
     "data": {
      "text/plain": [
       "'3238451_0005'"
      ]
     },
     "execution_count": 54,
     "metadata": {},
     "output_type": "execute_result"
    }
   ],
   "source": [
    "record_inspected = df_selections['record_segment'][0][0]\n",
    "record_inspected"
   ]
  },
  {
   "cell_type": "code",
   "execution_count": 55,
   "id": "74e52954",
   "metadata": {},
   "outputs": [],
   "source": [
    "record_signal = wfdb.rdsamp(record_name=record_inspected,\n",
    "                                    pn_dir='mimic3wdb-matched/1.0/' + directory,\n",
    "                                    channel_names=['PLETH'])"
   ]
  },
  {
   "cell_type": "code",
   "execution_count": 57,
   "id": "95274f1f",
   "metadata": {},
   "outputs": [
    {
     "data": {
      "text/plain": [
       "(array([[0.52492669],\n",
       "        [0.514174  ],\n",
       "        [0.49755621],\n",
       "        ...,\n",
       "        [0.4056696 ],\n",
       "        [0.38807429],\n",
       "        [0.3714565 ]]),\n",
       " {'fs': 125,\n",
       "  'sig_len': 3869120,\n",
       "  'n_sig': 1,\n",
       "  'base_date': None,\n",
       "  'base_time': datetime.time(2, 21, 42, 248000),\n",
       "  'units': ['NU'],\n",
       "  'sig_name': ['PLETH'],\n",
       "  'comments': []})"
      ]
     },
     "execution_count": 57,
     "metadata": {},
     "output_type": "execute_result"
    }
   ],
   "source": [
    "record_signal"
   ]
  },
  {
   "cell_type": "code",
   "execution_count": 58,
   "id": "9415acb2",
   "metadata": {},
   "outputs": [
    {
     "data": {
      "image/png": "[encoded data removed]",
      "text/plain": [
       "<Figure size 432x288 with 1 Axes>"
      ]
     },
     "metadata": {
      "needs_background": "light"
     },
     "output_type": "display_data"
    }
   ],
   "source": [
    "# Plotting the signal\n",
    "plt.figure()\n",
    "plt.plot(record_signal[0][6500:7000])\n",
    "plt.show() "
   ]
  },
  {
   "cell_type": "code",
   "execution_count": 59,
   "id": "532799c5",
   "metadata": {},
   "outputs": [],
   "source": [
    "signal_1 = record_signal[0][6500:7000]"
   ]
  },
  {
   "cell_type": "code",
   "execution_count": 60,
   "id": "c3c6b88d",
   "metadata": {},
   "outputs": [
    {
     "data": {
      "image/png": "[encoded data removed]",
      "text/plain": [
       "<Figure size 432x288 with 1 Axes>"
      ]
     },
     "metadata": {
      "needs_background": "light"
     },
     "output_type": "display_data"
    }
   ],
   "source": [
    "# Plotting the signal\n",
    "plt.figure()\n",
    "plt.plot(signal_1)\n",
    "plt.show() "
   ]
  },
  {
   "cell_type": "code",
   "execution_count": 61,
   "id": "a7bf3538",
   "metadata": {},
   "outputs": [],
   "source": [
    "import torch\n",
    "import torch_geometric.data as data\n",
    "import networkx as nx"
   ]
  },
  {
   "cell_type": "code",
   "execution_count": 75,
   "id": "bf61d3fe",
   "metadata": {},
   "outputs": [],
   "source": [
    "# Define the PPG signal as a 1D tensor\n",
    "ppg_signal = torch.tensor(list(signal_1[:,0]))"
   ]
  },
  {
   "cell_type": "code",
   "execution_count": 78,
   "id": "dd341856",
   "metadata": {},
   "outputs": [],
   "source": [
    "#ppg_signal"
   ]
  },
  {
   "cell_type": "code",
   "execution_count": 79,
   "id": "6a9337d7",
   "metadata": {},
   "outputs": [
    {
     "data": {
      "image/png": "[encoded data removed]",
      "text/plain": [
       "<Figure size 432x288 with 1 Axes>"
      ]
     },
     "metadata": {
      "needs_background": "light"
     },
     "output_type": "display_data"
    }
   ],
   "source": [
    "# Plotting the signal\n",
    "plt.figure()\n",
    "plt.plot(ppg_signal)\n",
    "plt.show() "
   ]
  },
  {
   "cell_type": "code",
   "execution_count": null,
   "id": "da4589a3",
   "metadata": {},
   "outputs": [],
   "source": []
  },
  {
   "cell_type": "code",
   "execution_count": null,
   "id": "2305b0bd",
   "metadata": {},
   "outputs": [],
   "source": []
  },
  {
   "cell_type": "code",
   "execution_count": null,
   "id": "8146a82b",
   "metadata": {},
   "outputs": [],
   "source": []
  },
  {
   "cell_type": "code",
   "execution_count": null,
   "id": "ecdecd34",
   "metadata": {},
   "outputs": [],
   "source": []
  },
  {
   "cell_type": "code",
   "execution_count": null,
   "id": "4e2cdde2",
   "metadata": {},
   "outputs": [],
   "source": []
  },
  {
   "cell_type": "code",
   "execution_count": null,
   "id": "7ad0406f",
   "metadata": {},
   "outputs": [],
   "source": []
  },
  {
   "cell_type": "code",
   "execution_count": null,
   "id": "ac484617",
   "metadata": {},
   "outputs": [],
   "source": [
    "import torch\n",
    "import torch_geometric.data as data\n",
    "import networkx as nx\n",
    "i"
   ]
  },
  {
   "cell_type": "code",
   "execution_count": null,
   "id": "7d8396f4",
   "metadata": {},
   "outputs": [],
   "source": []
  },
  {
   "cell_type": "code",
   "execution_count": 51,
   "id": "3a0ecfa8",
   "metadata": {},
   "outputs": [
    {
     "data": {
      "image/png": "[encoded data removed]",
      "text/plain": [
       "<Figure size 432x288 with 1 Axes>"
      ]
     },
     "metadata": {
      "needs_background": "light"
     },
     "output_type": "display_data"
    }
   ],
   "source": [
    "index_directory = 2\n",
    "index_segment = 0\n",
    "directory = df_selections['directory'][index_directory]\n",
    "record_inspected = df_selections['record_segment'][index_directory][index_segment]\n",
    "record_signal = wfdb.rdsamp(record_name=record_inspected,\n",
    "                                    pn_dir='mimic3wdb-matched/1.0/' + directory,\n",
    "                                    channel_names=['PLETH'])\n",
    "# Plotting the signal\n",
    "plt.figure()\n",
    "plt.plot(record_signal[0][20000:22500])\n",
    "plt.show() "
   ]
  },
  {
   "cell_type": "code",
   "execution_count": null,
   "id": "0e341604",
   "metadata": {},
   "outputs": [],
   "source": []
  },
  {
   "cell_type": "code",
   "execution_count": null,
   "id": "657d0dbe",
   "metadata": {},
   "outputs": [],
   "source": []
  },
  {
   "cell_type": "code",
   "execution_count": null,
   "id": "ac3c6de2",
   "metadata": {},
   "outputs": [],
   "source": []
  }
 ],
 "metadata": {
  "kernelspec": {
   "display_name": "Python 3 (ipykernel)",
   "language": "python",
   "name": "python3"
  },
  "language_info": {
   "codemirror_mode": {
    "name": "ipython",
    "version": 3
   },
   "file_extension": ".py",
   "mimetype": "text/x-python",
   "name": "python",
   "nbconvert_exporter": "python",
   "pygments_lexer": "ipython3",
   "version": "3.9.12"
  }
 },
 "nbformat": 4,
 "nbformat_minor": 5
}

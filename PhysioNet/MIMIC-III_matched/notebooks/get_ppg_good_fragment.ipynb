{
 "cells": [
  {
   "cell_type": "code",
   "execution_count": 1,
   "id": "0ee73043",
   "metadata": {},
   "outputs": [],
   "source": [
    "import numpy as np\n",
    "import pandas as pd\n",
    "from datetime import datetime\n",
    "import matplotlib.pyplot as plt\n",
    "import os.path\n",
    "from bs4 import BeautifulSoup\n",
    "import requests"
   ]
  },
  {
   "cell_type": "code",
   "execution_count": 2,
   "id": "e16e640c",
   "metadata": {},
   "outputs": [],
   "source": [
    "record_segment_good_length_path = '../../../2_data/'"
   ]
  },
  {
   "cell_type": "code",
   "execution_count": 3,
   "id": "eae4dc54",
   "metadata": {},
   "outputs": [
    {
     "name": "stdout",
     "output_type": "stream",
     "text": [
      "total 15048\r\n",
      "-rw-r--r--  1 tarus  staff   813960 Jan 16 13:33 record_path_mimic3.csv\r\n",
      "-rw-r--r--  1 tarus  staff   825729 Jan 31 16:13 record_path_mimic3_matched.csv\r\n",
      "-rw-r--r--  1 tarus  staff   149932 Feb  1 12:24 record_segment_good_length_0_1999.csv\r\n",
      "-rw-r--r--  1 tarus  staff  1354163 Feb  1 19:44 record_segment_good_length_10000_14999.csv\r\n",
      "-rw-r--r--  1 tarus  staff  1299122 Feb  1 21:11 record_segment_good_length_15000_19999.csv\r\n",
      "-rw-r--r--  1 tarus  staff   250686 Feb  1 21:51 record_segment_good_length_20000_22317.csv\r\n",
      "-rw-r--r--  1 tarus  staff   196239 Feb  1 13:34 record_segment_good_length_2000_3999.csv\r\n",
      "-rw-r--r--  1 tarus  staff   217590 Feb  1 16:42 record_segment_good_length_4000_5999.csv\r\n",
      "-rw-r--r--  1 tarus  staff   461693 Feb  1 17:20 record_segment_good_length_6000_7999.csv\r\n",
      "-rw-r--r--  1 tarus  staff   437469 Feb  1 17:56 record_segment_good_length_8000_9999.csv\r\n"
     ]
    }
   ],
   "source": [
    "!ls -l $record_segment_good_length_path"
   ]
  },
  {
   "cell_type": "code",
   "execution_count": 7,
   "id": "87fac452",
   "metadata": {},
   "outputs": [
    {
     "name": "stdout",
     "output_type": "stream",
     "text": [
      "record_list_file: ../../../2_data/record_segment_good_length_0_1999.csv\n"
     ]
    }
   ],
   "source": [
    "first_record = 0\n",
    "last_record = 1999\n",
    "record_list_file = record_segment_good_length_path + 'record_segment_good_length_' + str(first_record) + '_' + str(last_record) + '.csv'\n",
    "print('record_list_file: {}'.format(record_list_file))"
   ]
  },
  {
   "cell_type": "code",
   "execution_count": 8,
   "id": "799b734a",
   "metadata": {},
   "outputs": [
    {
     "name": "stdout",
     "output_type": "stream",
     "text": [
      "-rw-r--r--  1 tarus  staff  149932 Feb  1 12:24 ../../../2_data/record_segment_good_length_0_1999.csv\r\n"
     ]
    }
   ],
   "source": [
    "!ls -l $record_list_file"
   ]
  },
  {
   "cell_type": "code",
   "execution_count": 12,
   "id": "850938dd",
   "metadata": {},
   "outputs": [],
   "source": [
    "segment_list_1 = pd.read_csv(record_list_file, header=None)"
   ]
  },
  {
   "cell_type": "code",
   "execution_count": 13,
   "id": "0c4761f4",
   "metadata": {},
   "outputs": [
    {
     "data": {
      "text/html": [
       "<div>\n",
       "<style scoped>\n",
       "    .dataframe tbody tr th:only-of-type {\n",
       "        vertical-align: middle;\n",
       "    }\n",
       "\n",
       "    .dataframe tbody tr th {\n",
       "        vertical-align: top;\n",
       "    }\n",
       "\n",
       "    .dataframe thead th {\n",
       "        text-align: right;\n",
       "    }\n",
       "</style>\n",
       "<table border=\"1\" class=\"dataframe\">\n",
       "  <thead>\n",
       "    <tr style=\"text-align: right;\">\n",
       "      <th></th>\n",
       "      <th>0</th>\n",
       "      <th>1</th>\n",
       "      <th>2</th>\n",
       "    </tr>\n",
       "  </thead>\n",
       "  <tbody>\n",
       "    <tr>\n",
       "      <th>0</th>\n",
       "      <td>1</td>\n",
       "      <td>10</td>\n",
       "      <td>p00/p000107/3860035_0001</td>\n",
       "    </tr>\n",
       "    <tr>\n",
       "      <th>1</th>\n",
       "      <td>1</td>\n",
       "      <td>10</td>\n",
       "      <td>p00/p000107/3860035_0004</td>\n",
       "    </tr>\n",
       "    <tr>\n",
       "      <th>2</th>\n",
       "      <td>1</td>\n",
       "      <td>10</td>\n",
       "      <td>p00/p000107/3860035_0006</td>\n",
       "    </tr>\n",
       "    <tr>\n",
       "      <th>3</th>\n",
       "      <td>1</td>\n",
       "      <td>10</td>\n",
       "      <td>p00/p000107/3860035_0009</td>\n",
       "    </tr>\n",
       "    <tr>\n",
       "      <th>4</th>\n",
       "      <td>1</td>\n",
       "      <td>10</td>\n",
       "      <td>p00/p000107/3860035_0010</td>\n",
       "    </tr>\n",
       "    <tr>\n",
       "      <th>...</th>\n",
       "      <td>...</td>\n",
       "      <td>...</td>\n",
       "      <td>...</td>\n",
       "    </tr>\n",
       "    <tr>\n",
       "      <th>4526</th>\n",
       "      <td>332</td>\n",
       "      <td>1996</td>\n",
       "      <td>p00/p008061/3145453_0015</td>\n",
       "    </tr>\n",
       "    <tr>\n",
       "      <th>4527</th>\n",
       "      <td>332</td>\n",
       "      <td>1996</td>\n",
       "      <td>p00/p008061/3145453_0016</td>\n",
       "    </tr>\n",
       "    <tr>\n",
       "      <th>4528</th>\n",
       "      <td>332</td>\n",
       "      <td>1996</td>\n",
       "      <td>p00/p008061/3145453_0017</td>\n",
       "    </tr>\n",
       "    <tr>\n",
       "      <th>4529</th>\n",
       "      <td>332</td>\n",
       "      <td>1996</td>\n",
       "      <td>p00/p008061/3145453_0019</td>\n",
       "    </tr>\n",
       "    <tr>\n",
       "      <th>4530</th>\n",
       "      <td>332</td>\n",
       "      <td>1996</td>\n",
       "      <td>p00/p008061/3145453_0020</td>\n",
       "    </tr>\n",
       "  </tbody>\n",
       "</table>\n",
       "<p>4531 rows × 3 columns</p>\n",
       "</div>"
      ],
      "text/plain": [
       "        0     1                         2\n",
       "0       1    10  p00/p000107/3860035_0001\n",
       "1       1    10  p00/p000107/3860035_0004\n",
       "2       1    10  p00/p000107/3860035_0006\n",
       "3       1    10  p00/p000107/3860035_0009\n",
       "4       1    10  p00/p000107/3860035_0010\n",
       "...   ...   ...                       ...\n",
       "4526  332  1996  p00/p008061/3145453_0015\n",
       "4527  332  1996  p00/p008061/3145453_0016\n",
       "4528  332  1996  p00/p008061/3145453_0017\n",
       "4529  332  1996  p00/p008061/3145453_0019\n",
       "4530  332  1996  p00/p008061/3145453_0020\n",
       "\n",
       "[4531 rows x 3 columns]"
      ]
     },
     "execution_count": 13,
     "metadata": {},
     "output_type": "execute_result"
    }
   ],
   "source": [
    "segment_list_1"
   ]
  },
  {
   "cell_type": "code",
   "execution_count": null,
   "id": "b262139a",
   "metadata": {},
   "outputs": [],
   "source": []
  }
 ],
 "metadata": {
  "kernelspec": {
   "display_name": "Python 3 (ipykernel)",
   "language": "python",
   "name": "python3"
  },
  "language_info": {
   "codemirror_mode": {
    "name": "ipython",
    "version": 3
   },
   "file_extension": ".py",
   "mimetype": "text/x-python",
   "name": "python",
   "nbconvert_exporter": "python",
   "pygments_lexer": "ipython3",
   "version": "3.9.7"
  }
 },
 "nbformat": 4,
 "nbformat_minor": 5
}

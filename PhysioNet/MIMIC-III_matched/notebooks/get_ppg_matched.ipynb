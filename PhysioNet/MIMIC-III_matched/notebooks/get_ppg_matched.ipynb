{
 "cells": [
  {
   "cell_type": "markdown",
   "id": "7225abe2",
   "metadata": {},
   "source": [
    "**This notebook will collect PPG good segments from the MIMIC-III waveform database that is matched with the MIMIC-III clininical database. The matched MIMIC-III waveform database is a subset of the MIMIC-III waveform database.**"
   ]
  },
  {
   "cell_type": "markdown",
   "id": "321fd649",
   "metadata": {},
   "source": [
    "### Import necessary libraries"
   ]
  },
  {
   "cell_type": "code",
   "execution_count": null,
   "id": "bb5dc77d",
   "metadata": {},
   "outputs": [],
   "source": []
  }
 ],
 "metadata": {
  "kernelspec": {
   "display_name": "Python 3 (ipykernel)",
   "language": "python",
   "name": "python3"
  },
  "language_info": {
   "codemirror_mode": {
    "name": "ipython",
    "version": 3
   },
   "file_extension": ".py",
   "mimetype": "text/x-python",
   "name": "python",
   "nbconvert_exporter": "python",
   "pygments_lexer": "ipython3",
   "version": "3.9.7"
  }
 },
 "nbformat": 4,
 "nbformat_minor": 5
}

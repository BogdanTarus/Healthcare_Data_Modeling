{
 "cells": [
  {
   "cell_type": "code",
   "execution_count": 169,
   "id": "c700d710",
   "metadata": {},
   "outputs": [],
   "source": [
    "import numpy as np\n",
    "import pandas as pd\n",
    "import matplotlib.pyplot as plt\n",
    "import os.path\n",
    "from bs4 import BeautifulSoup\n",
    "import requests"
   ]
  },
  {
   "cell_type": "code",
   "execution_count": 167,
   "id": "b3687b03",
   "metadata": {},
   "outputs": [
    {
     "name": "stdout",
     "output_type": "stream",
     "text": [
      "record_path_local: ../../../2_data/record_path_mimic3_matched.csv\n",
      "record_root_url: https://physionet.org/content/mimic3wdb/1.0/matched\n",
      "record_path_url: https://physionet.org/content/mimic3wdb/1.0/matched/RECORDS-waveforms\n"
     ]
    }
   ],
   "source": [
    "record_path_local = '../../../2_data/record_path_mimic3_matched.csv'\n",
    "record_root_url = 'https://physionet.org/content/mimic3wdb/1.0/matched'\n",
    "record_path_url = record_root_url + '/RECORDS-waveforms'\n",
    "\n",
    "#record_root_url = 'https://archive.physionet.org/physiobank/database/mimic3wdb'\n",
    "#record_path_url = record_root_url + '/RECORDS'\n",
    "\n",
    "print('record_path_local: {}'.format(record_path_local))\n",
    "print('record_root_url: {}'.format(record_root_url))\n",
    "print('record_path_url: {}'.format(record_path_url))"
   ]
  },
  {
   "cell_type": "code",
   "execution_count": 162,
   "id": "c4b55c07",
   "metadata": {},
   "outputs": [],
   "source": [
    "def get_url_content(url, tag=None):\n",
    "    \n",
    "    '''\n",
    "    This function scrape a list of useful information from a given PhysioNet URL.\n",
    "    If the URL address points to an HTML document, the information to be extracted is define by a tag.\n",
    "    I found this address (https://hackersandslackers.com/scraping-urls-with-beautifulsoup/) usefull\n",
    "      for details on how to scrape a web page\n",
    "    '''\n",
    "    \n",
    "    headers = {\n",
    "        'Access-Control-Allow-Origin': '*',\n",
    "        'Access-Control-Allow-Methods': 'GET',\n",
    "        'Access-Control-Allow-Headers': 'Content-Type',\n",
    "        'Access-Control-Max-Age': '3600',\n",
    "        'User-Agent': 'Mozilla/5.0 (X11; Ubuntu; Linux x86_64; rv:52.0) Gecko/20100101 Firefox/52.0'\n",
    "    }    \n",
    "    \n",
    "    req = requests.get(url, headers)\n",
    "    soup = BeautifulSoup(req.content, 'html.parser')\n",
    "    if 'DOCTYPE' in str(soup):\n",
    "        content = getattr(soup, str(tag)).getText()\n",
    "        content = soup.pre.getText()\n",
    "    else:\n",
    "        content = soup.getText()\n",
    "    return content.splitlines()"
   ]
  },
  {
   "cell_type": "code",
   "execution_count": 172,
   "id": "5ec9e0fd",
   "metadata": {},
   "outputs": [
    {
     "name": "stdout",
     "output_type": "stream",
     "text": [
      "baubau_1\n"
     ]
    }
   ],
   "source": [
    "if os.path.exists(record_path_local):\n",
    "    record_path_list = pd.read_csv(record_path_local, header=None)\n",
    "    record_path_list = list(record_path_list.iloc[:,0])\n",
    "    print('baubau_1')\n",
    "else:\n",
    "    target_url = record_path_url\n",
    "    record_path_list = get_url_content(target_url, tag)\n",
    "    pd.DataFrame(record_path_list).to_csv(record_path_local, header=None, index=None)\n",
    "    print('baubau_2')"
   ]
  },
  {
   "cell_type": "code",
   "execution_count": 174,
   "id": "3eec61d6",
   "metadata": {},
   "outputs": [
    {
     "data": {
      "text/plain": [
       "22317"
      ]
     },
     "execution_count": 174,
     "metadata": {},
     "output_type": "execute_result"
    }
   ],
   "source": [
    "len(record_path_list)"
   ]
  },
  {
   "cell_type": "code",
   "execution_count": 185,
   "id": "ddba674e",
   "metadata": {},
   "outputs": [
    {
     "name": "stdout",
     "output_type": "stream",
     "text": [
      "0\n",
      "p00/p000020/p000020-2183-04-28-17-47\n",
      "index_of_last_record_processed: 0\n",
      "p00\n",
      "subject_id: 20\n",
      "1\n",
      "p00/p000030/p000030-2172-10-16-12-22\n",
      "index_of_last_record_processed: 1\n",
      "p00\n",
      "subject_id: 30\n",
      "2\n",
      "p00/p000033/p000033-2116-12-24-12-35\n",
      "index_of_last_record_processed: 2\n",
      "p00\n",
      "subject_id: 33\n",
      "3\n",
      "p00/p000033/p000033-2116-12-25-13-11\n",
      "index_of_last_record_processed: 3\n",
      "p00\n",
      "subject_id: 33\n",
      "4\n",
      "p00/p000052/p000052-2191-01-10-02-21\n",
      "index_of_last_record_processed: 4\n",
      "p00\n",
      "subject_id: 52\n",
      "5\n",
      "p00/p000052/p000052-2191-01-10-12-15\n",
      "index_of_last_record_processed: 5\n",
      "p00\n",
      "subject_id: 52\n",
      "6\n",
      "p00/p000079/p000079-2175-09-26-01-25\n",
      "index_of_last_record_processed: 6\n",
      "p00\n",
      "subject_id: 79\n",
      "7\n",
      "p00/p000079/p000079-2175-09-26-12-28\n",
      "index_of_last_record_processed: 7\n",
      "p00\n",
      "subject_id: 79\n",
      "8\n",
      "p00/p000085/p000085-2167-07-25-21-11\n",
      "index_of_last_record_processed: 8\n",
      "p00\n",
      "subject_id: 85\n",
      "9\n",
      "p00/p000107/p000107-2121-11-30-20-03\n",
      "index_of_last_record_processed: 9\n",
      "p00\n",
      "subject_id: 107\n"
     ]
    }
   ],
   "source": [
    "# we have to decide whether the index_of_last_record_processed is 0 or 1 based \n",
    "#  (i.e. it starts from zero or from one)\n",
    "index_of_last_record_processed = -1\n",
    "for i in range(index_of_last_record_processed + 1, 10):\n",
    "    print(i)\n",
    "    record_path = record_path_list[i]\n",
    "    print(record_path)\n",
    "    \n",
    "    index_of_last_record_processed = index_of_last_record_processed + 1\n",
    "    print('index_of_last_record_processed: {}'.format(index_of_last_record_processed))\n",
    "    \n",
    "    intermediate_directory = str(record_path.split(\"/\")[0])\n",
    "    print(intermediate_directory)\n",
    "    subject_id = record_path.split(\"/\")[1]\n",
    "    subject_id = int(subject_id[1:])\n",
    "    print('subject_id: {}'.format(subject_id))\n",
    "    #record_directory = str(record_path.split(\"/\")[1])\n",
    "    #print(record_directory)\n"
   ]
  },
  {
   "cell_type": "code",
   "execution_count": 181,
   "id": "06c828cb",
   "metadata": {},
   "outputs": [
    {
     "data": {
      "text/plain": [
       "str"
      ]
     },
     "execution_count": 181,
     "metadata": {},
     "output_type": "execute_result"
    }
   ],
   "source": [
    "type(subject_id)"
   ]
  },
  {
   "cell_type": "code",
   "execution_count": 183,
   "id": "42a5b95c",
   "metadata": {},
   "outputs": [
    {
     "data": {
      "text/plain": [
       "'000107'"
      ]
     },
     "execution_count": 183,
     "metadata": {},
     "output_type": "execute_result"
    }
   ],
   "source": [
    "subject_id[1:]"
   ]
  },
  {
   "cell_type": "code",
   "execution_count": 184,
   "id": "45cc493b",
   "metadata": {},
   "outputs": [
    {
     "data": {
      "text/plain": [
       "107"
      ]
     },
     "execution_count": 184,
     "metadata": {},
     "output_type": "execute_result"
    }
   ],
   "source": [
    "int(subject_id[1:])"
   ]
  },
  {
   "cell_type": "code",
   "execution_count": null,
   "id": "82b1850b",
   "metadata": {},
   "outputs": [],
   "source": []
  }
 ],
 "metadata": {
  "kernelspec": {
   "display_name": "Python 3 (ipykernel)",
   "language": "python",
   "name": "python3"
  },
  "language_info": {
   "codemirror_mode": {
    "name": "ipython",
    "version": 3
   },
   "file_extension": ".py",
   "mimetype": "text/x-python",
   "name": "python",
   "nbconvert_exporter": "python",
   "pygments_lexer": "ipython3",
   "version": "3.9.7"
  }
 },
 "nbformat": 4,
 "nbformat_minor": 5
}

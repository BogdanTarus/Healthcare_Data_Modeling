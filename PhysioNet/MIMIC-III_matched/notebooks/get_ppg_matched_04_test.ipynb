{
 "cells": [
  {
   "cell_type": "code",
   "execution_count": 1,
   "id": "c40a1541",
   "metadata": {},
   "outputs": [],
   "source": [
    "import numpy as np\n",
    "import pandas as pd\n",
    "from datetime import datetime\n",
    "import matplotlib.pyplot as plt\n",
    "import os.path\n",
    "from bs4 import BeautifulSoup\n",
    "import requests"
   ]
  },
  {
   "cell_type": "code",
   "execution_count": 2,
   "id": "44959ded",
   "metadata": {},
   "outputs": [],
   "source": [
    "first_record = 10\n",
    "last_record = 11\n",
    "record_segment_file_name = '../../../2_data/' + 'record_segment_good_length_' + str(first_record) + '_' + str(last_record - 1) +'.csv'"
   ]
  },
  {
   "cell_type": "code",
   "execution_count": 3,
   "id": "99aa8685",
   "metadata": {},
   "outputs": [
    {
     "data": {
      "text/plain": [
       "'../../../2_data/record_segment_good_length_10_10.csv'"
      ]
     },
     "execution_count": 3,
     "metadata": {},
     "output_type": "execute_result"
    }
   ],
   "source": [
    "record_segment_file_name"
   ]
  },
  {
   "cell_type": "code",
   "execution_count": 4,
   "id": "365f53d7",
   "metadata": {},
   "outputs": [
    {
     "name": "stdout",
     "output_type": "stream",
     "text": [
      "record_path_local: ../../../2_data/record_path_mimic3_matched.csv\n",
      "record_root_url: https://physionet.org/content/mimic3wdb/1.0/matched\n",
      "record_path_url: https://physionet.org/content/mimic3wdb/1.0/matched/RECORDS-waveforms\n"
     ]
    }
   ],
   "source": [
    "record_path_local = '../../../2_data/record_path_mimic3_matched.csv'\n",
    "record_root_url = 'https://physionet.org/content/mimic3wdb/1.0/matched'\n",
    "record_path_url = record_root_url + '/RECORDS-waveforms'\n",
    "\n",
    "signal_extract_name = 'PLETH'\n",
    "sampling_frequency = 125 # Hz\n",
    "signal_extract_minimum_length = 5 # the minimum length of the signal segment, in minutes\n",
    "\n",
    "print('record_path_local: {}'.format(record_path_local))\n",
    "print('record_root_url: {}'.format(record_root_url))\n",
    "print('record_path_url: {}'.format(record_path_url))"
   ]
  },
  {
   "cell_type": "code",
   "execution_count": 5,
   "id": "d8eae102",
   "metadata": {},
   "outputs": [],
   "source": [
    "def get_url_content(url, tag=None):\n",
    "    \n",
    "    '''\n",
    "    This function scrapes a list of useful information from a given PhysioNet URL.\n",
    "    If the URL address points to an HTML document, the information to be extracted is define by a tag.\n",
    "    I found this address (https://hackersandslackers.com/scraping-urls-with-beautifulsoup/) usefull\n",
    "      for details on how to scrape a web page\n",
    "    '''\n",
    "    \n",
    "    headers = {\n",
    "        'Access-Control-Allow-Origin': '*',\n",
    "        'Access-Control-Allow-Methods': 'GET',\n",
    "        'Access-Control-Allow-Headers': 'Content-Type',\n",
    "        'Access-Control-Max-Age': '3600',\n",
    "        'User-Agent': 'Mozilla/5.0 (X11; Ubuntu; Linux x86_64; rv:52.0) Gecko/20100101 Firefox/52.0'\n",
    "    }    \n",
    "    \n",
    "    req = requests.get(url, headers)\n",
    "    soup = BeautifulSoup(req.content, 'html.parser')\n",
    "    if '<!DOCTYPE html>' in str(soup):\n",
    "        content = getattr(soup, str(tag)).getText()\n",
    "        #content = soup.pre.getText()\n",
    "    else:\n",
    "        content = soup.getText()\n",
    "    return content.splitlines()"
   ]
  },
  {
   "cell_type": "code",
   "execution_count": null,
   "id": "5748e98e",
   "metadata": {},
   "outputs": [],
   "source": [
    " \n",
    "    segment_header_content = get_url_content(segment_header, tag)\n",
    "            print('segment_header_content: {}\\n'.format(segment_header_content))\n",
    "            \n",
    "            segment_signal_names = [x.split(' ')[-1] for x in segment_header_content[1:]]\n",
    "            print('segment_signal_names: {}\\n'.format(segment_signal_names))\n",
    " "
   ]
  },
  {
   "cell_type": "code",
   "execution_count": null,
   "id": "ecaece1f",
   "metadata": {},
   "outputs": [],
   "source": []
  },
  {
   "cell_type": "code",
   "execution_count": null,
   "id": "d11d05d8",
   "metadata": {},
   "outputs": [],
   "source": []
  },
  {
   "cell_type": "code",
   "execution_count": null,
   "id": "b88d8d82",
   "metadata": {},
   "outputs": [],
   "source": []
  },
  {
   "cell_type": "code",
   "execution_count": null,
   "id": "db359a13",
   "metadata": {},
   "outputs": [],
   "source": []
  },
  {
   "cell_type": "code",
   "execution_count": 6,
   "id": "6a3f67e5",
   "metadata": {},
   "outputs": [
    {
     "name": "stdout",
     "output_type": "stream",
     "text": [
      "22317\n",
      "record_path: p00/p000020/p000020-2183-04-28-17-47\n",
      "record_path: p00/p000030/p000030-2172-10-16-12-22\n",
      "record_path: p00/p000033/p000033-2116-12-24-12-35\n",
      "record_path: p00/p000033/p000033-2116-12-25-13-11\n",
      "record_path: p00/p000052/p000052-2191-01-10-02-21\n"
     ]
    }
   ],
   "source": [
    "tag = 'pre'\n",
    "record_path_list = get_url_content(record_path_url, tag)\n",
    "print(len(record_path_list))\n",
    "for i in range(5):\n",
    "    print('record_path: {}'.format(record_path_list[i]))"
   ]
  },
  {
   "cell_type": "code",
   "execution_count": 30,
   "id": "7f83a4f4",
   "metadata": {},
   "outputs": [
    {
     "name": "stdout",
     "output_type": "stream",
     "text": [
      "processing record #: 10, record_path_short: p000107-2122-05-14-21-01\n",
      "directory: p00/p000107\n",
      "master_waveform_header: https://physionet.org/content/mimic3wdb/1.0/matched/p00/p000107/p000107-2122-05-14-21-01.hea\n",
      "master_waveform_content: ['p000107-2122-05-14-21-01/46 5 125 20101375 21:01:58.000 14/05/2122', '3860035_layout 0', '3860035_0001 739500', '3860035_0002 750', '3860035_0003 125', '3860035_0004 1928625', '3860035_0005 125', '3860035_0006 2815000', '3860035_0007 9875', '3860035_0008 32500', '3860035_0009 157250', '3860035_0010 53875', '3860035_0011 47125', '3860035_0012 172875', '3860035_0013 10125', '3860035_0014 96750', '3860035_0015 7625', '3860035_0016 45375', '3860035_0017 2000', '3860035_0018 4750', '3860035_0019 13000', '3860035_0020 26250', '3860035_0021 1625', '3860035_0022 291250', '3860035_0023 6000', '3860035_0024 138000', '3860035_0025 1875', '3860035_0026 1500', '3860035_0027 36000', '3860035_0028 1875', '3860035_0029 1186875', '3860035_0030 10125', '3860035_0031 2558375', '3860035_0032 1354750', '3860035_0033 882', '3860035_0034 238243', '3860035_0035 750', '3860035_0036 250', '3860035_0037 141685', '3860035_0038 565', '3860035_0039 125', '3860035_0040 3399625', '~ 108875', '3860035_0041 3625', '3860035_0042 6125', '3860035_0043 8250', '3860035_0044 4440625', '# Location: micu']\n",
      "       ...........\n",
      "\n",
      "record_length (s): 160811.0\n",
      "       ...........\n",
      "\n",
      "1. waveform_layout_header: 3860035_layout\n",
      "\n",
      "2. waveform_layout_header: 3860035_layout.hea\n",
      "\n",
      "record_root_url: https://physionet.org/content/mimic3wdb/1.0/matched\n",
      "directory: p00/p000107\n",
      "3. waveform_layout_header: https://physionet.org/content/mimic3wdb/1.0/matched/p00/p000107/3860035_layout.hea\n",
      "\n",
      "waveform_layout_header: https://physionet.org/content/mimic3wdb/1.0/matched/p00/p000107/3860035_layout.hea\n",
      "\n",
      "waveform_layout_content: ['3860035_layout 5 125 0 21:01:58', '~ 0 128/mV 9 0 -256 0 0 II', '~ 0 128(-65)/mV 8 0 -128 0 0 V', '~ 0 255(-128)/NU 8 0 -128 0 0 PLETH', '~ 0 1.28(-109)/mmHg 8 0 -128 0 0 ABP', '~ 0 128/mV 9 0 -256 0 0 I']\n",
      "record_signal_names: ['II', 'V', 'PLETH', 'ABP', 'I']\n"
     ]
    }
   ],
   "source": [
    "tag = 'pre'\n",
    "#last_record = len(record_path_list) + 1\n",
    "for process_record_index in range(first_record, last_record):\n",
    "        \n",
    "    #print(process_record_index)\n",
    "    record_path = record_path_list[process_record_index]\n",
    "    record_path_short = record_path.split('/')[2]\n",
    "    print('processing record #: {}, record_path_short: {}'.format(process_record_index, record_path_short))\n",
    "    \n",
    "    directory = str(record_path.split(\"/\")[0]) + '/' + str(record_path.split(\"/\")[1])\n",
    "    print('directory: {}'.format(directory))\n",
    "            \n",
    "    master_waveform_header = record_root_url + '/' + record_path + '.hea'\n",
    "    print('master_waveform_header: {}'.format(master_waveform_header))\n",
    "    \n",
    "    target_url = master_waveform_header\n",
    "    master_waveform_content = get_url_content(target_url, tag)\n",
    "    print('master_waveform_content: {}'.format(master_waveform_content))\n",
    "    \n",
    "    print('       ...........\\n')\n",
    "    \n",
    "    master_waveform_content_first_line = master_waveform_content[0].split(' ')\n",
    "    record_length = int(master_waveform_content_first_line[3]) / sampling_frequency\n",
    "    print('record_length (s): {}'.format(record_length))\n",
    "    \n",
    "    print('       ...........\\n')\n",
    "        \n",
    "    waveform_layout_header = master_waveform_content[1].split(' ')[0]\n",
    "    print('1. waveform_layout_header: {}\\n'.format(waveform_layout_header))\n",
    "    \n",
    "    waveform_layout_header = waveform_layout_header + '.hea'\n",
    "    print('2. waveform_layout_header: {}\\n'.format(waveform_layout_header))\n",
    "    \n",
    "    waveform_layout_header = record_root_url + '/' + directory + '/' + waveform_layout_header\n",
    "    print('record_root_url: {}'.format(record_root_url))\n",
    "    print('directory: {}'.format(directory))\n",
    "    print('3. waveform_layout_header: {}\\n'.format(waveform_layout_header))\n",
    "    print('waveform_layout_header: {}\\n'.format(waveform_layout_header))\n",
    "    \n",
    "    target_url = waveform_layout_header\n",
    "    waveform_layout_content = get_url_content(target_url, tag)\n",
    "    print('waveform_layout_content: {}'.format(waveform_layout_content))\n",
    "        \n",
    "    record_signal_names = [x.split(' ')[-1] for x in waveform_layout_content[1:]]\n",
    "    print('record_signal_names: {}'.format(record_signal_names))\n",
    "    \n",
    "    if signal_extract_name in record_signal_names and record_length > 60 * signal_extract_minimum_length: # and len(record_segments_path_list):      \n",
    "        \n",
    "        # Open the record_segment_file_name file with access mode 'a'\n",
    "        record_segment_file_object = open(record_segment_file_name, 'a')\n",
    "\n",
    "        # get the waveform record name\n",
    "        waveform_record_id = [x.split(' ')[0].split('_') for x in master_waveform_content if '3' == x[0]][0][0]\n",
    "        print('waveform_record_id: {}\\n'.format(waveform_record_id))\n",
    "        \n",
    "        # get the waveform_record_state\n",
    "        waveform_record_state = [(waveform_record_id + '_' in x) and not (waveform_record_id + '_layout' in x) \n",
    "                for x in master_waveform_content]\n",
    "        print('waveform_record_state: {}\\n'.format(waveform_record_state))\n",
    "\n",
    "        # get the waveform_record_segment\n",
    "        waveform_record_segment = [master_waveform_content[x].split(' ') for x, y in enumerate(waveform_record_state) if y]\n",
    "        print('waveform_record_segment: {}\\n'.format(waveform_record_segment))\n",
    "      \n",
    "        for segment_index in range(len(waveform_record_segment)):\n",
    "            # number of samples: int(waveform_record_segment[segment_index][1])\n",
    "            # sampling frequency: int(master_waveform_content_first_line[2])\n",
    "            # length (in seconds) of the record segment: number of samples / sampling frequency\n",
    "            \n",
    "            # https://physionet.org/content/mimic3wdb/1.0/matched/p00/p000107/3168852_0001.hea\n",
    "            \n",
    "            segment_header = record_root_url + '/' + directory + '/' + waveform_record_segment[segment_index][0] + '.hea'\n",
    "            print(segment_header)\n",
    "            \n",
    "            segment_header_content = get_url_content(segment_header, tag)\n",
    "            print('segment_header_content: {}\\n'.format(segment_header_content))\n",
    "            \n",
    "            segment_signal_names = [x.split(' ')[-1] for x in segment_header_content[1:]]\n",
    "            print('segment_signal_names: {}\\n'.format(segment_signal_names))\n",
    "            \n",
    "            break\n",
    "           \n",
    "            waveform_record_segment_length = int(waveform_record_segment[segment_index][1]) / sampling_frequency\n",
    "            print('waveform_record_segment_length: {}\\n'.format(waveform_record_segment_length))\n",
    "            \n",
    "            if signal_extract_name in segment_signal_names and waveform_record_segment_length > 60 * signal_extract_minimum_length:\n",
    "                \n",
    "                waveform_record_segment_good_length_root = directory + '/' +  waveform_record_segment[segment_index][0]\n",
    "                print('  ' + str(process_record_index) + ',' + record_path + ',' + waveform_record_segment_good_length_root)\n",
    "                \n",
    "                # Append the waveform_record_segment_good_length_root at the end of file record_segment_file_name\n",
    "                record_segment_file_object.write(str(process_record_index) + ',' + record_path + ',' + waveform_record_segment_good_length_root + '\\n')\n",
    "\n",
    "            print('       ...........\\n')    \n",
    "        print('baubau_1')\n",
    "        \n",
    "        # Close the file record_segment_file_name\n",
    "        record_segment_file_object.close()\n",
    "        #break\n",
    "        \n",
    "    \n",
    "    \n",
    "    #print('       ...........\\n')\n",
    "    #index_of_last_record_processed = index_of_last_record_processed + 1\n",
    "    print('  \\nindex of last record processed successfully: {}'.format(process_record_index))  \n",
    "    print('--------------------------------------')\n",
    "\n",
    "    \n",
    "    \n"
   ]
  },
  {
   "cell_type": "code",
   "execution_count": null,
   "id": "2829390c",
   "metadata": {},
   "outputs": [],
   "source": [
    "# [x.split(' ')[-1] for x in segment_header_content[1:]]"
   ]
  },
  {
   "cell_type": "code",
   "execution_count": 24,
   "id": "5cdd56f8",
   "metadata": {},
   "outputs": [
    {
     "data": {
      "text/plain": [
       "['3860035_0001 3 125 739500 21:01:58',\n",
       " '3860035_0001.dat 80 128(-65)/mV 8 0 -128 -1859 0 II',\n",
       " '3860035_0001.dat 80 128(-65)/mV 8 0 -128 -10516 0 V',\n",
       " '3860035_0001.dat 80 255(-128)/NU 8 0 0 21461 0 PLETH']"
      ]
     },
     "execution_count": 24,
     "metadata": {},
     "output_type": "execute_result"
    }
   ],
   "source": [
    "segment_header_content"
   ]
  },
  {
   "cell_type": "code",
   "execution_count": 27,
   "id": "cccd549e",
   "metadata": {},
   "outputs": [
    {
     "data": {
      "text/plain": [
       "['II', 'V', 'PLETH']"
      ]
     },
     "execution_count": 27,
     "metadata": {},
     "output_type": "execute_result"
    }
   ],
   "source": [
    "[x.split(' ')[-1] for x in segment_header_content[1:]]"
   ]
  },
  {
   "cell_type": "code",
   "execution_count": null,
   "id": "c6c28cd8",
   "metadata": {},
   "outputs": [],
   "source": []
  },
  {
   "cell_type": "code",
   "execution_count": null,
   "id": "948e109d",
   "metadata": {},
   "outputs": [],
   "source": []
  },
  {
   "cell_type": "code",
   "execution_count": null,
   "id": "7ecf2917",
   "metadata": {},
   "outputs": [],
   "source": []
  },
  {
   "cell_type": "code",
   "execution_count": null,
   "id": "53d707ff",
   "metadata": {},
   "outputs": [],
   "source": []
  },
  {
   "cell_type": "code",
   "execution_count": null,
   "id": "367665b3",
   "metadata": {},
   "outputs": [],
   "source": [
    "waveform_record_segment[segment_index][0]"
   ]
  },
  {
   "cell_type": "code",
   "execution_count": null,
   "id": "b679b8c9",
   "metadata": {},
   "outputs": [],
   "source": []
  },
  {
   "cell_type": "code",
   "execution_count": null,
   "id": "510ae5f9",
   "metadata": {},
   "outputs": [],
   "source": [
    "waveform_record_segment[segment_index][1]"
   ]
  },
  {
   "cell_type": "code",
   "execution_count": null,
   "id": "28c2f249",
   "metadata": {},
   "outputs": [],
   "source": [
    "master_waveform_content_first_line"
   ]
  },
  {
   "cell_type": "code",
   "execution_count": null,
   "id": "587ae2f5",
   "metadata": {},
   "outputs": [],
   "source": [
    "master_waveform_content_first_line[2]"
   ]
  },
  {
   "cell_type": "code",
   "execution_count": null,
   "id": "409e49c5",
   "metadata": {},
   "outputs": [],
   "source": [
    "int(master_waveform_content_first_line[2])"
   ]
  },
  {
   "cell_type": "code",
   "execution_count": null,
   "id": "927b91e0",
   "metadata": {},
   "outputs": [],
   "source": []
  },
  {
   "cell_type": "code",
   "execution_count": null,
   "id": "2a247f48",
   "metadata": {},
   "outputs": [],
   "source": []
  }
 ],
 "metadata": {
  "kernelspec": {
   "display_name": "Python 3 (ipykernel)",
   "language": "python",
   "name": "python3"
  },
  "language_info": {
   "codemirror_mode": {
    "name": "ipython",
    "version": 3
   },
   "file_extension": ".py",
   "mimetype": "text/x-python",
   "name": "python",
   "nbconvert_exporter": "python",
   "pygments_lexer": "ipython3",
   "version": "3.9.7"
  }
 },
 "nbformat": 4,
 "nbformat_minor": 5
}
